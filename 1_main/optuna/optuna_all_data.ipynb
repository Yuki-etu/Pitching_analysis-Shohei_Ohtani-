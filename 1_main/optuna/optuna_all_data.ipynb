{
 "cells": [
  {
   "cell_type": "markdown",
   "metadata": {},
   "source": [
    "### <font color=\"orange\">ライブラリ読み込み</font>"
   ]
  },
  {
   "cell_type": "code",
   "execution_count": 1,
   "metadata": {},
   "outputs": [],
   "source": [
    "import numpy as np\n",
    "import pandas as pd\n",
    "import matplotlib.pyplot as plt"
   ]
  },
  {
   "cell_type": "code",
   "execution_count": 2,
   "metadata": {},
   "outputs": [],
   "source": [
    "pd.set_option('display.max_rows', 50)\n",
    "pd.set_option('display.max_columns', 50)"
   ]
  },
  {
   "cell_type": "code",
   "execution_count": 3,
   "metadata": {},
   "outputs": [],
   "source": [
    "# データフレームを水平に表示する。\n",
    "def show_many_dfs(*dfs, n=10):\n",
    "    class HorizontalDisplay:\n",
    "        def _repr_html_(self):\n",
    "            template = '<div style=\"float: left; padding: 5px;\">{}</div>'\n",
    "            return  ''.join(template.format(df.head(n)._repr_html_()) for df in dfs)\n",
    "    return HorizontalDisplay()"
   ]
  },
  {
   "cell_type": "markdown",
   "metadata": {},
   "source": [
    "### <font color=\"orange\">データ読み込み</font>"
   ]
  },
  {
   "cell_type": "code",
   "execution_count": 4,
   "metadata": {},
   "outputs": [],
   "source": [
    "data_path = \"./make_data_for_mainmodel/maked_data.csv\""
   ]
  },
  {
   "cell_type": "code",
   "execution_count": 5,
   "metadata": {},
   "outputs": [
    {
     "data": {
      "text/html": [
       "<div>\n",
       "<style scoped>\n",
       "    .dataframe tbody tr th:only-of-type {\n",
       "        vertical-align: middle;\n",
       "    }\n",
       "\n",
       "    .dataframe tbody tr th {\n",
       "        vertical-align: top;\n",
       "    }\n",
       "\n",
       "    .dataframe thead th {\n",
       "        text-align: right;\n",
       "    }\n",
       "</style>\n",
       "<table border=\"1\" class=\"dataframe\">\n",
       "  <thead>\n",
       "    <tr style=\"text-align: right;\">\n",
       "      <th></th>\n",
       "      <th>pitch_name</th>\n",
       "      <th>game_year</th>\n",
       "      <th>game_month</th>\n",
       "      <th>game_day</th>\n",
       "      <th>home_team</th>\n",
       "      <th>LAA_score</th>\n",
       "      <th>ENEMY_score</th>\n",
       "      <th>score_difference</th>\n",
       "      <th>is_LAA_score_is_higher</th>\n",
       "      <th>stand</th>\n",
       "      <th>on_3b</th>\n",
       "      <th>on_2b</th>\n",
       "      <th>on_1b</th>\n",
       "      <th>count_runner</th>\n",
       "      <th>inning</th>\n",
       "      <th>pitch_number</th>\n",
       "      <th>pitch_count_per_inning</th>\n",
       "      <th>pitch_count_per_game</th>\n",
       "      <th>outs_when_up</th>\n",
       "      <th>balls</th>\n",
       "      <th>strikes</th>\n",
       "      <th>sz_top</th>\n",
       "      <th>sz_bot</th>\n",
       "      <th>is_first_pitch_number</th>\n",
       "      <th>release_speed</th>\n",
       "      <th>release_pos_x</th>\n",
       "      <th>release_pos_y</th>\n",
       "      <th>is_incourse_ball</th>\n",
       "      <th>is_high_ball</th>\n",
       "      <th>release_pos_z</th>\n",
       "      <th>release_spin_rate</th>\n",
       "      <th>release_extension</th>\n",
       "      <th>plate_x</th>\n",
       "      <th>plate_z</th>\n",
       "      <th>events</th>\n",
       "      <th>description</th>\n",
       "      <th>zone</th>\n",
       "      <th>type</th>\n",
       "      <th>hc_x</th>\n",
       "      <th>hc_y</th>\n",
       "      <th>one_pitch_ago</th>\n",
       "      <th>two_pitches_ago</th>\n",
       "      <th>three_pitches_ago</th>\n",
       "    </tr>\n",
       "  </thead>\n",
       "  <tbody>\n",
       "    <tr>\n",
       "      <th>0</th>\n",
       "      <td>1</td>\n",
       "      <td>2018</td>\n",
       "      <td>4</td>\n",
       "      <td>1</td>\n",
       "      <td>1</td>\n",
       "      <td>0</td>\n",
       "      <td>0</td>\n",
       "      <td>0</td>\n",
       "      <td>0</td>\n",
       "      <td>0</td>\n",
       "      <td>0</td>\n",
       "      <td>0</td>\n",
       "      <td>0</td>\n",
       "      <td>0</td>\n",
       "      <td>1</td>\n",
       "      <td>1</td>\n",
       "      <td>1</td>\n",
       "      <td>1</td>\n",
       "      <td>0</td>\n",
       "      <td>0</td>\n",
       "      <td>0</td>\n",
       "      <td>3.54</td>\n",
       "      <td>1.60</td>\n",
       "      <td>1</td>\n",
       "      <td>NaN</td>\n",
       "      <td>NaN</td>\n",
       "      <td>NaN</td>\n",
       "      <td>NaN</td>\n",
       "      <td>NaN</td>\n",
       "      <td>NaN</td>\n",
       "      <td>NaN</td>\n",
       "      <td>NaN</td>\n",
       "      <td>NaN</td>\n",
       "      <td>NaN</td>\n",
       "      <td>NaN</td>\n",
       "      <td>NaN</td>\n",
       "      <td>NaN</td>\n",
       "      <td>NaN</td>\n",
       "      <td>NaN</td>\n",
       "      <td>NaN</td>\n",
       "      <td>NaN</td>\n",
       "      <td>NaN</td>\n",
       "      <td>NaN</td>\n",
       "    </tr>\n",
       "    <tr>\n",
       "      <th>1</th>\n",
       "      <td>0</td>\n",
       "      <td>2018</td>\n",
       "      <td>4</td>\n",
       "      <td>1</td>\n",
       "      <td>1</td>\n",
       "      <td>0</td>\n",
       "      <td>0</td>\n",
       "      <td>0</td>\n",
       "      <td>0</td>\n",
       "      <td>0</td>\n",
       "      <td>0</td>\n",
       "      <td>0</td>\n",
       "      <td>0</td>\n",
       "      <td>0</td>\n",
       "      <td>1</td>\n",
       "      <td>2</td>\n",
       "      <td>2</td>\n",
       "      <td>2</td>\n",
       "      <td>0</td>\n",
       "      <td>0</td>\n",
       "      <td>1</td>\n",
       "      <td>3.33</td>\n",
       "      <td>1.46</td>\n",
       "      <td>0</td>\n",
       "      <td>96.4</td>\n",
       "      <td>-2.16</td>\n",
       "      <td>54.05</td>\n",
       "      <td>1.0</td>\n",
       "      <td>0.0</td>\n",
       "      <td>6.20</td>\n",
       "      <td>2107.0</td>\n",
       "      <td>6.4</td>\n",
       "      <td>-0.36</td>\n",
       "      <td>2.81</td>\n",
       "      <td>19.0</td>\n",
       "      <td>2.0</td>\n",
       "      <td>4.0</td>\n",
       "      <td>0.0</td>\n",
       "      <td>0.0</td>\n",
       "      <td>0.0</td>\n",
       "      <td>4-Seam Fastball</td>\n",
       "      <td>NaN</td>\n",
       "      <td>NaN</td>\n",
       "    </tr>\n",
       "    <tr>\n",
       "      <th>2</th>\n",
       "      <td>0</td>\n",
       "      <td>2018</td>\n",
       "      <td>4</td>\n",
       "      <td>1</td>\n",
       "      <td>1</td>\n",
       "      <td>0</td>\n",
       "      <td>0</td>\n",
       "      <td>0</td>\n",
       "      <td>0</td>\n",
       "      <td>0</td>\n",
       "      <td>0</td>\n",
       "      <td>0</td>\n",
       "      <td>0</td>\n",
       "      <td>0</td>\n",
       "      <td>1</td>\n",
       "      <td>3</td>\n",
       "      <td>3</td>\n",
       "      <td>3</td>\n",
       "      <td>0</td>\n",
       "      <td>0</td>\n",
       "      <td>2</td>\n",
       "      <td>3.59</td>\n",
       "      <td>1.66</td>\n",
       "      <td>0</td>\n",
       "      <td>81.5</td>\n",
       "      <td>-2.36</td>\n",
       "      <td>54.42</td>\n",
       "      <td>0.0</td>\n",
       "      <td>1.0</td>\n",
       "      <td>6.03</td>\n",
       "      <td>2355.0</td>\n",
       "      <td>6.1</td>\n",
       "      <td>0.21</td>\n",
       "      <td>3.43</td>\n",
       "      <td>19.0</td>\n",
       "      <td>9.0</td>\n",
       "      <td>2.0</td>\n",
       "      <td>0.0</td>\n",
       "      <td>0.0</td>\n",
       "      <td>0.0</td>\n",
       "      <td>Sweeper</td>\n",
       "      <td>4-Seam Fastball</td>\n",
       "      <td>NaN</td>\n",
       "    </tr>\n",
       "    <tr>\n",
       "      <th>3</th>\n",
       "      <td>0</td>\n",
       "      <td>2018</td>\n",
       "      <td>4</td>\n",
       "      <td>1</td>\n",
       "      <td>1</td>\n",
       "      <td>0</td>\n",
       "      <td>0</td>\n",
       "      <td>0</td>\n",
       "      <td>0</td>\n",
       "      <td>0</td>\n",
       "      <td>0</td>\n",
       "      <td>0</td>\n",
       "      <td>0</td>\n",
       "      <td>0</td>\n",
       "      <td>1</td>\n",
       "      <td>4</td>\n",
       "      <td>4</td>\n",
       "      <td>4</td>\n",
       "      <td>0</td>\n",
       "      <td>1</td>\n",
       "      <td>2</td>\n",
       "      <td>3.33</td>\n",
       "      <td>1.46</td>\n",
       "      <td>0</td>\n",
       "      <td>83.6</td>\n",
       "      <td>-2.36</td>\n",
       "      <td>54.43</td>\n",
       "      <td>0.0</td>\n",
       "      <td>1.0</td>\n",
       "      <td>6.01</td>\n",
       "      <td>2368.0</td>\n",
       "      <td>6.1</td>\n",
       "      <td>0.24</td>\n",
       "      <td>3.67</td>\n",
       "      <td>19.0</td>\n",
       "      <td>0.0</td>\n",
       "      <td>2.0</td>\n",
       "      <td>1.0</td>\n",
       "      <td>0.0</td>\n",
       "      <td>0.0</td>\n",
       "      <td>Sweeper</td>\n",
       "      <td>Sweeper</td>\n",
       "      <td>4-Seam Fastball</td>\n",
       "    </tr>\n",
       "    <tr>\n",
       "      <th>4</th>\n",
       "      <td>1</td>\n",
       "      <td>2018</td>\n",
       "      <td>4</td>\n",
       "      <td>1</td>\n",
       "      <td>1</td>\n",
       "      <td>0</td>\n",
       "      <td>0</td>\n",
       "      <td>0</td>\n",
       "      <td>0</td>\n",
       "      <td>1</td>\n",
       "      <td>0</td>\n",
       "      <td>0</td>\n",
       "      <td>0</td>\n",
       "      <td>0</td>\n",
       "      <td>1</td>\n",
       "      <td>1</td>\n",
       "      <td>5</td>\n",
       "      <td>5</td>\n",
       "      <td>1</td>\n",
       "      <td>0</td>\n",
       "      <td>0</td>\n",
       "      <td>3.22</td>\n",
       "      <td>1.40</td>\n",
       "      <td>1</td>\n",
       "      <td>NaN</td>\n",
       "      <td>NaN</td>\n",
       "      <td>NaN</td>\n",
       "      <td>NaN</td>\n",
       "      <td>NaN</td>\n",
       "      <td>NaN</td>\n",
       "      <td>NaN</td>\n",
       "      <td>NaN</td>\n",
       "      <td>NaN</td>\n",
       "      <td>NaN</td>\n",
       "      <td>NaN</td>\n",
       "      <td>NaN</td>\n",
       "      <td>NaN</td>\n",
       "      <td>NaN</td>\n",
       "      <td>NaN</td>\n",
       "      <td>NaN</td>\n",
       "      <td>NaN</td>\n",
       "      <td>NaN</td>\n",
       "      <td>NaN</td>\n",
       "    </tr>\n",
       "  </tbody>\n",
       "</table>\n",
       "</div>"
      ],
      "text/plain": [
       "   pitch_name  game_year  game_month  game_day  home_team  LAA_score  \\\n",
       "0           1       2018           4         1          1          0   \n",
       "1           0       2018           4         1          1          0   \n",
       "2           0       2018           4         1          1          0   \n",
       "3           0       2018           4         1          1          0   \n",
       "4           1       2018           4         1          1          0   \n",
       "\n",
       "   ENEMY_score  score_difference  is_LAA_score_is_higher  stand  on_3b  on_2b  \\\n",
       "0            0                 0                       0      0      0      0   \n",
       "1            0                 0                       0      0      0      0   \n",
       "2            0                 0                       0      0      0      0   \n",
       "3            0                 0                       0      0      0      0   \n",
       "4            0                 0                       0      1      0      0   \n",
       "\n",
       "   on_1b  count_runner  inning  pitch_number  pitch_count_per_inning  \\\n",
       "0      0             0       1             1                       1   \n",
       "1      0             0       1             2                       2   \n",
       "2      0             0       1             3                       3   \n",
       "3      0             0       1             4                       4   \n",
       "4      0             0       1             1                       5   \n",
       "\n",
       "   pitch_count_per_game  outs_when_up  balls  strikes  sz_top  sz_bot  \\\n",
       "0                     1             0      0        0    3.54    1.60   \n",
       "1                     2             0      0        1    3.33    1.46   \n",
       "2                     3             0      0        2    3.59    1.66   \n",
       "3                     4             0      1        2    3.33    1.46   \n",
       "4                     5             1      0        0    3.22    1.40   \n",
       "\n",
       "   is_first_pitch_number  release_speed  release_pos_x  release_pos_y  \\\n",
       "0                      1            NaN            NaN            NaN   \n",
       "1                      0           96.4          -2.16          54.05   \n",
       "2                      0           81.5          -2.36          54.42   \n",
       "3                      0           83.6          -2.36          54.43   \n",
       "4                      1            NaN            NaN            NaN   \n",
       "\n",
       "   is_incourse_ball  is_high_ball  release_pos_z  release_spin_rate  \\\n",
       "0               NaN           NaN            NaN                NaN   \n",
       "1               1.0           0.0           6.20             2107.0   \n",
       "2               0.0           1.0           6.03             2355.0   \n",
       "3               0.0           1.0           6.01             2368.0   \n",
       "4               NaN           NaN            NaN                NaN   \n",
       "\n",
       "   release_extension  plate_x  plate_z  events  description  zone  type  hc_x  \\\n",
       "0                NaN      NaN      NaN     NaN          NaN   NaN   NaN   NaN   \n",
       "1                6.4    -0.36     2.81    19.0          2.0   4.0   0.0   0.0   \n",
       "2                6.1     0.21     3.43    19.0          9.0   2.0   0.0   0.0   \n",
       "3                6.1     0.24     3.67    19.0          0.0   2.0   1.0   0.0   \n",
       "4                NaN      NaN      NaN     NaN          NaN   NaN   NaN   NaN   \n",
       "\n",
       "   hc_y    one_pitch_ago  two_pitches_ago three_pitches_ago  \n",
       "0   NaN              NaN              NaN               NaN  \n",
       "1   0.0  4-Seam Fastball              NaN               NaN  \n",
       "2   0.0          Sweeper  4-Seam Fastball               NaN  \n",
       "3   0.0          Sweeper          Sweeper   4-Seam Fastball  \n",
       "4   NaN              NaN              NaN               NaN  "
      ]
     },
     "execution_count": 5,
     "metadata": {},
     "output_type": "execute_result"
    }
   ],
   "source": [
    "data = pd.read_csv(data_path)\n",
    "data.head()"
   ]
  },
  {
   "cell_type": "code",
   "execution_count": 6,
   "metadata": {},
   "outputs": [
    {
     "name": "stdout",
     "output_type": "stream",
     "text": [
      "2022年 : (7593, 43)\n"
     ]
    }
   ],
   "source": [
    "print(f\"2022年 : {data[data['game_year'].isin([2018, 2021, 2022, 2023])].shape}\")"
   ]
  },
  {
   "cell_type": "markdown",
   "metadata": {},
   "source": [
    "### <font color=\"orange\">データタイプ確認</font>"
   ]
  },
  {
   "cell_type": "code",
   "execution_count": 7,
   "metadata": {},
   "outputs": [
    {
     "data": {
      "text/plain": [
       "['one_pitch_ago', 'two_pitches_ago', 'three_pitches_ago']"
      ]
     },
     "execution_count": 7,
     "metadata": {},
     "output_type": "execute_result"
    }
   ],
   "source": [
    "# int, float以外のカラムがあるか確認\n",
    "data.select_dtypes(exclude=[\"int\", \"float\"]).columns.to_list()"
   ]
  },
  {
   "cell_type": "markdown",
   "metadata": {},
   "source": [
    "### <font color=\"orange\">train_data, test_dataに分割</font>"
   ]
  },
  {
   "cell_type": "code",
   "execution_count": 8,
   "metadata": {},
   "outputs": [
    {
     "data": {
      "text/plain": [
       "((6074, 39), (1519, 39))"
      ]
     },
     "execution_count": 8,
     "metadata": {},
     "output_type": "execute_result"
    }
   ],
   "source": [
    "def make_train_test_data(select_game_year):\n",
    "    \n",
    "    data = pd.read_csv(data_path)\n",
    "    \n",
    "    categolical_list = [\n",
    "        \"outs_when_up\",\n",
    "        \"balls\",\n",
    "        \"strikes\",\n",
    "        \"events\",\n",
    "        \"description\",\n",
    "        \"zone\",\n",
    "        \"type\",\n",
    "        \"one_pitch_ago\",\n",
    "        \"two_pitches_ago\",\n",
    "        \"three_pitches_ago\",\n",
    "    ]\n",
    "    \n",
    "    data[categolical_list] = data[categolical_list].astype(\"category\")\n",
    "    \n",
    "    # 対象年度の抽出\n",
    "    data = data[data[\"game_year\"].isin(select_game_year)]\n",
    "    del data[\"game_year\"]\n",
    "    del data[\"game_month\"]\n",
    "    del data[\"game_day\"]\n",
    "    \n",
    "    X = data.drop(\"pitch_name\", axis=1)\n",
    "    y = data[\"pitch_name\"]\n",
    "    \n",
    "    # データを前半80%（train_data）と後半20%（test_data）に分割\n",
    "    split_index = int(len(data) * 0.8)\n",
    "    X_train = X.iloc[: split_index]\n",
    "    y_train = y.iloc[: split_index]\n",
    "    X_test = X.iloc[split_index : ]\n",
    "    y_test = y.iloc[split_index : ]\n",
    "\n",
    "    \n",
    "    if y_train.nunique() != y_test.nunique():\n",
    "        raise ValueError(\"train_dataとtest_dataの要素が一致していません。\")\n",
    "    \n",
    "    \n",
    "    return X_train, y_train, X_test, y_test\n",
    "\n",
    "X_train, y_train, X_test, y_test = make_train_test_data(select_game_year=[2018, 2021, 2022, 2023])\n",
    "\n",
    "# 確認\n",
    "X_train.shape, X_test.shape"
   ]
  },
  {
   "cell_type": "code",
   "execution_count": 9,
   "metadata": {},
   "outputs": [
    {
     "data": {
      "text/plain": [
       "Index(['outs_when_up', 'balls', 'strikes', 'events', 'description', 'zone',\n",
       "       'type', 'one_pitch_ago', 'two_pitches_ago', 'three_pitches_ago'],\n",
       "      dtype='object')"
      ]
     },
     "execution_count": 9,
     "metadata": {},
     "output_type": "execute_result"
    }
   ],
   "source": [
    "# カテゴリー変数の確認\n",
    "X_train.select_dtypes(include=\"category\").columns"
   ]
  },
  {
   "cell_type": "markdown",
   "metadata": {},
   "source": [
    "### <font color=\"orange\">モデル学習、予測</font>"
   ]
  },
  {
   "cell_type": "code",
   "execution_count": 10,
   "metadata": {},
   "outputs": [],
   "source": [
    "# カスタムメトリック定義\n",
    "from sklearn.metrics import f1_score, accuracy_score, log_loss\n",
    "\n",
    "def custom_f1(y_pred, dataset):\n",
    "    y_true = dataset.get_label()\n",
    "    score = f1_score(y_true=y_true, y_pred=np.round(y_pred), average=\"macro\")\n",
    "    return \"f1\", score, True\n",
    "\n",
    "def custom_accuracy(y_pred, dataset):\n",
    "    y_true = dataset.get_label()\n",
    "    auc_score = accuracy_score(y_true=y_true, y_pred=np.round(y_pred))\n",
    "    return \"acu\", auc_score, True\n",
    "\n",
    "def custom_multi_logloss(y_pred, dataset):\n",
    "    y_true = dataset.get_label()\n",
    "    multi_logloss = log_loss(y_true=y_true, y_pred=y_pred)\n",
    "    return \"multi_logloss\", multi_logloss, False"
   ]
  },
  {
   "cell_type": "code",
   "execution_count": 11,
   "metadata": {},
   "outputs": [],
   "source": [
    "import lightgbm as lgb\n",
    "\n",
    "num_boost_round = 500\n",
    "\n",
    "# data作成\n",
    "select_game_year = [2023]\n",
    "X_train, y_train, X_test, y_test = make_train_test_data(select_game_year=select_game_year)\n",
    "\n",
    "# train_dataをtrain_data（前半80%）とvalid_data（後半20%）に分割\n",
    "split_index = int(len(X_train) * 0.8)\n",
    "X_valid = X_train.iloc[split_index : ].copy()\n",
    "y_valid = y_train.iloc[split_index : ].copy()\n",
    "X_train = X_train.iloc[ : split_index].copy()\n",
    "y_train = y_train.iloc[ : split_index].copy()\n",
    "\n",
    "def objective(trial):\n",
    "    \n",
    "    params = {\n",
    "        \"boosting\" : \"gbdt\",\n",
    "        \"objective\" : \"binary\",\n",
    "        \"metric\" : \"None\",\n",
    "        \"seed\" : 42,\n",
    "        \"verbose\" : -1,\n",
    "        \"num_threads\" : 2,\n",
    "        \n",
    "        \"learning_rate\" : trial.suggest_float(\"learning_rate\", 0.0001, 0.01),\n",
    "        \"is_unbalance\" : True,\n",
    "        \"extra_trees\" : True\n",
    "    }\n",
    "\n",
    "    lgb_train = lgb.Dataset(X_train, y_train)\n",
    "    lgb_eval = lgb.Dataset(X_valid, y_valid, reference=lgb_train)\n",
    "\n",
    "    # 誤差プロットの格納用データ\n",
    "    evals_result = {}\n",
    "\n",
    "    model = lgb.train(params=params,\n",
    "                      train_set=lgb_train,\n",
    "                      num_boost_round=num_boost_round,\n",
    "                      valid_sets=[lgb_train, lgb_eval],\n",
    "                      valid_names=[\"train\", \"valid\"],\n",
    "                      feval= [custom_f1, custom_accuracy, custom_multi_logloss],\n",
    "                      callbacks=[lgb.record_evaluation(evals_result)]\n",
    "                      )\n",
    "\n",
    "    # 予測\n",
    "    best_iteration = np.array(evals_result[\"valid\"][\"f1\"]).argmax() + 1\n",
    "    # y_valid_pred_proba = model.predict(X_valid, num_iteration=best_iteration)\n",
    "    y_valid_pred_proba = model.predict(X_valid, num_iteration=model.best_iteration)\n",
    "    y_valid_pred = np.round(y_valid_pred_proba)\n",
    "    f1 = f1_score(y_pred=y_valid_pred, y_true=y_valid, average=\"macro\")\n",
    "    \n",
    "    return f1\n"
   ]
  },
  {
   "cell_type": "code",
   "execution_count": 12,
   "metadata": {},
   "outputs": [
    {
     "name": "stderr",
     "output_type": "stream",
     "text": [
      "[I 2024-05-09 16:28:23,018] A new study created in memory with name: no-name-9ad90ec2-c85f-48d3-8a6e-a447d5fc00d7\n",
      "[I 2024-05-09 16:28:25,329] Trial 0 finished with value: 0.558285250155589 and parameters: {'learning_rate': 0.003807947176588889}. Best is trial 0 with value: 0.558285250155589.\n",
      "[I 2024-05-09 16:28:27,612] Trial 1 finished with value: 0.5540336656509777 and parameters: {'learning_rate': 0.00951207163345817}. Best is trial 0 with value: 0.558285250155589.\n",
      "[I 2024-05-09 16:28:29,889] Trial 2 finished with value: 0.5600054889045715 and parameters: {'learning_rate': 0.007346740023932911}. Best is trial 2 with value: 0.5600054889045715.\n",
      "[I 2024-05-09 16:28:32,122] Trial 3 finished with value: 0.5779963518729403 and parameters: {'learning_rate': 0.006026718993550663}. Best is trial 3 with value: 0.5779963518729403.\n",
      "[I 2024-05-09 16:28:34,336] Trial 4 finished with value: 0.41742132450501745 and parameters: {'learning_rate': 0.0016445845403801217}. Best is trial 3 with value: 0.5779963518729403.\n",
      "[I 2024-05-09 16:28:36,559] Trial 5 finished with value: 0.41742132450501745 and parameters: {'learning_rate': 0.0016443457513284064}. Best is trial 3 with value: 0.5779963518729403.\n",
      "[I 2024-05-09 16:28:38,803] Trial 6 finished with value: 0.375 and parameters: {'learning_rate': 0.0006750277604651748}. Best is trial 3 with value: 0.5779963518729403.\n",
      "[I 2024-05-09 16:28:41,043] Trial 7 finished with value: 0.5564229249011857 and parameters: {'learning_rate': 0.008675143843171858}. Best is trial 3 with value: 0.5779963518729403.\n",
      "[I 2024-05-09 16:28:43,266] Trial 8 finished with value: 0.5678534571723426 and parameters: {'learning_rate': 0.006051038616257768}. Best is trial 3 with value: 0.5779963518729403.\n",
      "[I 2024-05-09 16:28:45,500] Trial 9 finished with value: 0.5593159531212628 and parameters: {'learning_rate': 0.007109918520180851}. Best is trial 3 with value: 0.5779963518729403.\n",
      "[I 2024-05-09 16:28:47,774] Trial 10 finished with value: 0.375 and parameters: {'learning_rate': 0.00030378649352844425}. Best is trial 3 with value: 0.5779963518729403.\n",
      "[I 2024-05-09 16:28:50,011] Trial 11 finished with value: 0.5540336656509777 and parameters: {'learning_rate': 0.009702107536403744}. Best is trial 3 with value: 0.5779963518729403.\n",
      "[I 2024-05-09 16:28:52,245] Trial 12 finished with value: 0.5797067356700384 and parameters: {'learning_rate': 0.008341182143924175}. Best is trial 12 with value: 0.5797067356700384.\n",
      "[I 2024-05-09 16:28:54,471] Trial 13 finished with value: 0.48959653877019343 and parameters: {'learning_rate': 0.002202157195714934}. Best is trial 12 with value: 0.5797067356700384.\n",
      "[I 2024-05-09 16:28:56,682] Trial 14 finished with value: 0.46629901960784315 and parameters: {'learning_rate': 0.0019000671753502962}. Best is trial 12 with value: 0.5797067356700384.\n",
      "[I 2024-05-09 16:28:58,906] Trial 15 finished with value: 0.4533722310126582 and parameters: {'learning_rate': 0.001915704647548995}. Best is trial 12 with value: 0.5797067356700384.\n",
      "[I 2024-05-09 16:29:01,125] Trial 16 finished with value: 0.5334412955465587 and parameters: {'learning_rate': 0.0031119982052994237}. Best is trial 12 with value: 0.5797067356700384.\n",
      "[I 2024-05-09 16:29:03,362] Trial 17 finished with value: 0.5780192095732956 and parameters: {'learning_rate': 0.005295088673159155}. Best is trial 12 with value: 0.5797067356700384.\n",
      "[I 2024-05-09 16:29:05,590] Trial 18 finished with value: 0.5674495818986719 and parameters: {'learning_rate': 0.004376255684556947}. Best is trial 12 with value: 0.5797067356700384.\n",
      "[I 2024-05-09 16:29:07,812] Trial 19 finished with value: 0.525475069735007 and parameters: {'learning_rate': 0.002983168487960615}. Best is trial 12 with value: 0.5797067356700384.\n",
      "[I 2024-05-09 16:29:10,042] Trial 20 finished with value: 0.5593159531212628 and parameters: {'learning_rate': 0.006157343657751557}. Best is trial 12 with value: 0.5797067356700384.\n",
      "[I 2024-05-09 16:29:12,254] Trial 21 finished with value: 0.4073457963667089 and parameters: {'learning_rate': 0.0014809892204552142}. Best is trial 12 with value: 0.5797067356700384.\n",
      "[I 2024-05-09 16:29:14,473] Trial 22 finished with value: 0.5479082321187584 and parameters: {'learning_rate': 0.0029922320204986597}. Best is trial 12 with value: 0.5797067356700384.\n",
      "[I 2024-05-09 16:29:16,688] Trial 23 finished with value: 0.5607133490689746 and parameters: {'learning_rate': 0.003726982248607548}. Best is trial 12 with value: 0.5797067356700384.\n",
      "[I 2024-05-09 16:29:18,917] Trial 24 finished with value: 0.5895979507740283 and parameters: {'learning_rate': 0.004615092843748656}. Best is trial 24 with value: 0.5895979507740283.\n",
      "[I 2024-05-09 16:29:21,148] Trial 25 finished with value: 0.5569355913326239 and parameters: {'learning_rate': 0.007873242017790836}. Best is trial 24 with value: 0.5895979507740283.\n",
      "[I 2024-05-09 16:29:23,365] Trial 26 finished with value: 0.4733273327332733 and parameters: {'learning_rate': 0.0020767704433677613}. Best is trial 24 with value: 0.5895979507740283.\n",
      "[I 2024-05-09 16:29:25,590] Trial 27 finished with value: 0.5736363636363636 and parameters: {'learning_rate': 0.005190920940294755}. Best is trial 24 with value: 0.5895979507740283.\n",
      "[I 2024-05-09 16:29:27,807] Trial 28 finished with value: 0.5745018655235373 and parameters: {'learning_rate': 0.005964904231734221}. Best is trial 24 with value: 0.5895979507740283.\n",
      "[I 2024-05-09 16:29:30,015] Trial 29 finished with value: 0.375 and parameters: {'learning_rate': 0.0005598590859279775}. Best is trial 24 with value: 0.5895979507740283.\n",
      "[I 2024-05-09 16:29:32,289] Trial 30 finished with value: 0.5745018655235373 and parameters: {'learning_rate': 0.006114694033824241}. Best is trial 24 with value: 0.5895979507740283.\n",
      "[I 2024-05-09 16:29:34,513] Trial 31 finished with value: 0.42986689697216013 and parameters: {'learning_rate': 0.0017881888245041863}. Best is trial 24 with value: 0.5895979507740283.\n",
      "[I 2024-05-09 16:29:36,727] Trial 32 finished with value: 0.375 and parameters: {'learning_rate': 0.0007440107705542673}. Best is trial 24 with value: 0.5895979507740283.\n",
      "[I 2024-05-09 16:29:38,959] Trial 33 finished with value: 0.5588133361059124 and parameters: {'learning_rate': 0.009493966818808}. Best is trial 24 with value: 0.5895979507740283.\n",
      "[I 2024-05-09 16:29:41,181] Trial 34 finished with value: 0.5483146067415731 and parameters: {'learning_rate': 0.009659757127438138}. Best is trial 24 with value: 0.5895979507740283.\n",
      "[I 2024-05-09 16:29:43,527] Trial 35 finished with value: 0.5772560528246515 and parameters: {'learning_rate': 0.008103133746352966}. Best is trial 24 with value: 0.5895979507740283.\n",
      "[I 2024-05-09 16:29:45,746] Trial 36 finished with value: 0.525475069735007 and parameters: {'learning_rate': 0.00311567631481637}. Best is trial 24 with value: 0.5895979507740283.\n",
      "[I 2024-05-09 16:29:48,007] Trial 37 finished with value: 0.375 and parameters: {'learning_rate': 0.0010669539286632004}. Best is trial 24 with value: 0.5895979507740283.\n",
      "[I 2024-05-09 16:29:50,239] Trial 38 finished with value: 0.5731396534148827 and parameters: {'learning_rate': 0.006873906962470354}. Best is trial 24 with value: 0.5895979507740283.\n",
      "[I 2024-05-09 16:29:52,506] Trial 39 finished with value: 0.562734540708109 and parameters: {'learning_rate': 0.0044575096880220535}. Best is trial 24 with value: 0.5895979507740283.\n",
      "[I 2024-05-09 16:29:54,720] Trial 40 finished with value: 0.3885529039991283 and parameters: {'learning_rate': 0.0013081785249633106}. Best is trial 24 with value: 0.5895979507740283.\n",
      "[I 2024-05-09 16:29:56,945] Trial 41 finished with value: 0.5671966714478998 and parameters: {'learning_rate': 0.005002251410101575}. Best is trial 24 with value: 0.5895979507740283.\n",
      "[I 2024-05-09 16:29:59,158] Trial 42 finished with value: 0.375 and parameters: {'learning_rate': 0.00044044635904066216}. Best is trial 24 with value: 0.5895979507740283.\n",
      "[I 2024-05-09 16:30:01,391] Trial 43 finished with value: 0.5426778365955942 and parameters: {'learning_rate': 0.009102271980579942}. Best is trial 24 with value: 0.5895979507740283.\n",
      "[I 2024-05-09 16:30:03,614] Trial 44 finished with value: 0.5087976539589443 and parameters: {'learning_rate': 0.0026619218178401674}. Best is trial 24 with value: 0.5895979507740283.\n",
      "[I 2024-05-09 16:30:05,912] Trial 45 finished with value: 0.5696640316205533 and parameters: {'learning_rate': 0.006658970615104422}. Best is trial 24 with value: 0.5895979507740283.\n",
      "[I 2024-05-09 16:30:08,150] Trial 46 finished with value: 0.5456600361663653 and parameters: {'learning_rate': 0.0031859396532851686}. Best is trial 24 with value: 0.5895979507740283.\n",
      "[I 2024-05-09 16:30:10,385] Trial 47 finished with value: 0.5835860820795338 and parameters: {'learning_rate': 0.005248673409660328}. Best is trial 24 with value: 0.5895979507740283.\n",
      "[I 2024-05-09 16:30:12,620] Trial 48 finished with value: 0.5707879564381806 and parameters: {'learning_rate': 0.005512431765498469}. Best is trial 24 with value: 0.5895979507740283.\n",
      "[I 2024-05-09 16:30:14,835] Trial 49 finished with value: 0.44851840766237655 and parameters: {'learning_rate': 0.0019300591097027179}. Best is trial 24 with value: 0.5895979507740283.\n",
      "[I 2024-05-09 16:30:17,075] Trial 50 finished with value: 0.5521789501826931 and parameters: {'learning_rate': 0.00969888781486913}. Best is trial 24 with value: 0.5895979507740283.\n",
      "[I 2024-05-09 16:30:19,321] Trial 51 finished with value: 0.5641477133773539 and parameters: {'learning_rate': 0.007773814951275035}. Best is trial 24 with value: 0.5895979507740283.\n",
      "[I 2024-05-09 16:30:21,559] Trial 52 finished with value: 0.5617238147309225 and parameters: {'learning_rate': 0.009401039521485473}. Best is trial 24 with value: 0.5895979507740283.\n",
      "[I 2024-05-09 16:30:23,801] Trial 53 finished with value: 0.5545566404699531 and parameters: {'learning_rate': 0.008958790769233723}. Best is trial 24 with value: 0.5895979507740283.\n",
      "[I 2024-05-09 16:30:26,108] Trial 54 finished with value: 0.5635982140193514 and parameters: {'learning_rate': 0.006019209790229744}. Best is trial 24 with value: 0.5895979507740283.\n",
      "[I 2024-05-09 16:30:28,383] Trial 55 finished with value: 0.5665725711597271 and parameters: {'learning_rate': 0.009226554926728857}. Best is trial 24 with value: 0.5895979507740283.\n",
      "[I 2024-05-09 16:30:30,617] Trial 56 finished with value: 0.375 and parameters: {'learning_rate': 0.0009760757703140031}. Best is trial 24 with value: 0.5895979507740283.\n",
      "[I 2024-05-09 16:30:32,848] Trial 57 finished with value: 0.4516240199879383 and parameters: {'learning_rate': 0.0020402303379495374}. Best is trial 24 with value: 0.5895979507740283.\n",
      "[I 2024-05-09 16:30:35,070] Trial 58 finished with value: 0.375 and parameters: {'learning_rate': 0.0005477501602143269}. Best is trial 24 with value: 0.5895979507740283.\n",
      "[I 2024-05-09 16:30:37,307] Trial 59 finished with value: 0.5384482907086885 and parameters: {'learning_rate': 0.003320770274556317}. Best is trial 24 with value: 0.5895979507740283.\n",
      "[I 2024-05-09 16:30:39,552] Trial 60 finished with value: 0.5698112819880626 and parameters: {'learning_rate': 0.003947905167925873}. Best is trial 24 with value: 0.5895979507740283.\n",
      "[I 2024-05-09 16:30:41,797] Trial 61 finished with value: 0.514121854275307 and parameters: {'learning_rate': 0.0027863554145615694}. Best is trial 24 with value: 0.5895979507740283.\n",
      "[I 2024-05-09 16:30:44,059] Trial 62 finished with value: 0.5606405743080003 and parameters: {'learning_rate': 0.008304501340604101}. Best is trial 24 with value: 0.5895979507740283.\n",
      "[I 2024-05-09 16:30:46,349] Trial 63 finished with value: 0.5583988952125879 and parameters: {'learning_rate': 0.003631857934266534}. Best is trial 24 with value: 0.5895979507740283.\n",
      "[I 2024-05-09 16:30:48,634] Trial 64 finished with value: 0.5151315789473684 and parameters: {'learning_rate': 0.0028812516459050695}. Best is trial 24 with value: 0.5895979507740283.\n",
      "[I 2024-05-09 16:30:50,922] Trial 65 finished with value: 0.5644922351328745 and parameters: {'learning_rate': 0.00547269122326666}. Best is trial 24 with value: 0.5895979507740283.\n",
      "[I 2024-05-09 16:30:53,163] Trial 66 finished with value: 0.4073457963667089 and parameters: {'learning_rate': 0.0014951498272501504}. Best is trial 24 with value: 0.5895979507740283.\n",
      "[I 2024-05-09 16:30:55,434] Trial 67 finished with value: 0.5492580116086072 and parameters: {'learning_rate': 0.008041750109464993}. Best is trial 24 with value: 0.5895979507740283.\n",
      "[I 2024-05-09 16:30:57,680] Trial 68 finished with value: 0.375 and parameters: {'learning_rate': 0.0008380513724297313}. Best is trial 24 with value: 0.5895979507740283.\n",
      "[I 2024-05-09 16:31:00,029] Trial 69 finished with value: 0.5540336656509777 and parameters: {'learning_rate': 0.009870180672345122}. Best is trial 24 with value: 0.5895979507740283.\n",
      "[I 2024-05-09 16:31:02,316] Trial 70 finished with value: 0.5887390616866854 and parameters: {'learning_rate': 0.00774522321603691}. Best is trial 24 with value: 0.5895979507740283.\n",
      "[I 2024-05-09 16:31:04,570] Trial 71 finished with value: 0.48136813681368135 and parameters: {'learning_rate': 0.002067285247188307}. Best is trial 24 with value: 0.5895979507740283.\n",
      "[I 2024-05-09 16:31:06,837] Trial 72 finished with value: 0.375 and parameters: {'learning_rate': 0.00015466895952366376}. Best is trial 24 with value: 0.5895979507740283.\n",
      "[I 2024-05-09 16:31:09,136] Trial 73 finished with value: 0.5502729686458965 and parameters: {'learning_rate': 0.008173068141702858}. Best is trial 24 with value: 0.5895979507740283.\n",
      "[I 2024-05-09 16:31:11,426] Trial 74 finished with value: 0.5714257597228782 and parameters: {'learning_rate': 0.00709788770409141}. Best is trial 24 with value: 0.5895979507740283.\n",
      "[I 2024-05-09 16:31:13,722] Trial 75 finished with value: 0.5748066859329845 and parameters: {'learning_rate': 0.0073171709636057755}. Best is trial 24 with value: 0.5895979507740283.\n",
      "[I 2024-05-09 16:31:16,012] Trial 76 finished with value: 0.5696640316205533 and parameters: {'learning_rate': 0.007735576432190864}. Best is trial 24 with value: 0.5895979507740283.\n",
      "[I 2024-05-09 16:31:18,277] Trial 77 finished with value: 0.375 and parameters: {'learning_rate': 0.0008330420521674947}. Best is trial 24 with value: 0.5895979507740283.\n",
      "[I 2024-05-09 16:31:20,579] Trial 78 finished with value: 0.5300155061655467 and parameters: {'learning_rate': 0.003648810712588299}. Best is trial 24 with value: 0.5895979507740283.\n",
      "[I 2024-05-09 16:31:22,857] Trial 79 finished with value: 0.38983306172197035 and parameters: {'learning_rate': 0.0012471036892987843}. Best is trial 24 with value: 0.5895979507740283.\n",
      "[I 2024-05-09 16:31:25,165] Trial 80 finished with value: 0.5534384066494158 and parameters: {'learning_rate': 0.008644723916168376}. Best is trial 24 with value: 0.5895979507740283.\n",
      "[I 2024-05-09 16:31:27,452] Trial 81 finished with value: 0.5688545688545689 and parameters: {'learning_rate': 0.006270651455592824}. Best is trial 24 with value: 0.5895979507740283.\n",
      "[I 2024-05-09 16:31:29,746] Trial 82 finished with value: 0.5466561762391817 and parameters: {'learning_rate': 0.003375890446041227}. Best is trial 24 with value: 0.5895979507740283.\n",
      "[I 2024-05-09 16:31:32,037] Trial 83 finished with value: 0.375 and parameters: {'learning_rate': 0.0007292276678316341}. Best is trial 24 with value: 0.5895979507740283.\n",
      "[I 2024-05-09 16:31:34,329] Trial 84 finished with value: 0.529034889086831 and parameters: {'learning_rate': 0.0031787249849850557}. Best is trial 24 with value: 0.5895979507740283.\n",
      "[I 2024-05-09 16:31:36,645] Trial 85 finished with value: 0.538936721825689 and parameters: {'learning_rate': 0.003319314888064796}. Best is trial 24 with value: 0.5895979507740283.\n",
      "[I 2024-05-09 16:31:38,963] Trial 86 finished with value: 0.5665725711597271 and parameters: {'learning_rate': 0.007323101165546835}. Best is trial 24 with value: 0.5895979507740283.\n",
      "[I 2024-05-09 16:31:41,277] Trial 87 finished with value: 0.5702608367060789 and parameters: {'learning_rate': 0.0064118189664166105}. Best is trial 24 with value: 0.5895979507740283.\n",
      "[I 2024-05-09 16:31:43,578] Trial 88 finished with value: 0.5714257597228782 and parameters: {'learning_rate': 0.008883406151505633}. Best is trial 24 with value: 0.5895979507740283.\n",
      "[I 2024-05-09 16:31:45,975] Trial 89 finished with value: 0.5648290979946415 and parameters: {'learning_rate': 0.0047749277591032984}. Best is trial 24 with value: 0.5895979507740283.\n",
      "[I 2024-05-09 16:31:48,538] Trial 90 finished with value: 0.3885529039991283 and parameters: {'learning_rate': 0.001283983034789187}. Best is trial 24 with value: 0.5895979507740283.\n",
      "[I 2024-05-09 16:31:50,890] Trial 91 finished with value: 0.5527718498163144 and parameters: {'learning_rate': 0.007161123393507651}. Best is trial 24 with value: 0.5895979507740283.\n",
      "[I 2024-05-09 16:31:53,234] Trial 92 finished with value: 0.5582388600220438 and parameters: {'learning_rate': 0.007631771981307285}. Best is trial 24 with value: 0.5895979507740283.\n",
      "[I 2024-05-09 16:31:55,670] Trial 93 finished with value: 0.5597455884270824 and parameters: {'learning_rate': 0.005656644255938014}. Best is trial 24 with value: 0.5895979507740283.\n",
      "[I 2024-05-09 16:31:58,048] Trial 94 finished with value: 0.5600054889045715 and parameters: {'learning_rate': 0.007732575081550155}. Best is trial 24 with value: 0.5895979507740283.\n",
      "[I 2024-05-09 16:32:00,391] Trial 95 finished with value: 0.5577401767628415 and parameters: {'learning_rate': 0.004988576404007469}. Best is trial 24 with value: 0.5895979507740283.\n",
      "[I 2024-05-09 16:32:02,774] Trial 96 finished with value: 0.5712442935029074 and parameters: {'learning_rate': 0.0052750550108817415}. Best is trial 24 with value: 0.5895979507740283.\n",
      "[I 2024-05-09 16:32:05,124] Trial 97 finished with value: 0.5650907232302581 and parameters: {'learning_rate': 0.004332656081749642}. Best is trial 24 with value: 0.5895979507740283.\n",
      "[I 2024-05-09 16:32:07,445] Trial 98 finished with value: 0.375 and parameters: {'learning_rate': 0.00035164935476654236}. Best is trial 24 with value: 0.5895979507740283.\n",
      "[I 2024-05-09 16:32:09,820] Trial 99 finished with value: 0.375 and parameters: {'learning_rate': 0.0011681251272337141}. Best is trial 24 with value: 0.5895979507740283.\n",
      "[I 2024-05-09 16:32:12,149] Trial 100 finished with value: 0.375 and parameters: {'learning_rate': 0.0004111489382986691}. Best is trial 24 with value: 0.5895979507740283.\n",
      "[I 2024-05-09 16:32:14,492] Trial 101 finished with value: 0.5672474829650228 and parameters: {'learning_rate': 0.0064004630715114265}. Best is trial 24 with value: 0.5895979507740283.\n",
      "[I 2024-05-09 16:32:16,893] Trial 102 finished with value: 0.518974358974359 and parameters: {'learning_rate': 0.003212124212655634}. Best is trial 24 with value: 0.5895979507740283.\n",
      "[I 2024-05-09 16:32:19,246] Trial 103 finished with value: 0.5683895131086143 and parameters: {'learning_rate': 0.005134849842530558}. Best is trial 24 with value: 0.5895979507740283.\n",
      "[I 2024-05-09 16:32:21,671] Trial 104 finished with value: 0.5689985366476463 and parameters: {'learning_rate': 0.009084908091868321}. Best is trial 24 with value: 0.5895979507740283.\n",
      "[I 2024-05-09 16:32:24,528] Trial 105 finished with value: 0.489035013388469 and parameters: {'learning_rate': 0.002567993068573862}. Best is trial 24 with value: 0.5895979507740283.\n",
      "[I 2024-05-09 16:32:27,289] Trial 106 finished with value: 0.5652756035264068 and parameters: {'learning_rate': 0.004162790938052735}. Best is trial 24 with value: 0.5895979507740283.\n",
      "[I 2024-05-09 16:32:29,748] Trial 107 finished with value: 0.5431818181818182 and parameters: {'learning_rate': 0.007579956271576183}. Best is trial 24 with value: 0.5895979507740283.\n",
      "[I 2024-05-09 16:32:32,307] Trial 108 finished with value: 0.4798618835743419 and parameters: {'learning_rate': 0.0023651018383670625}. Best is trial 24 with value: 0.5895979507740283.\n",
      "[I 2024-05-09 16:32:34,949] Trial 109 finished with value: 0.375 and parameters: {'learning_rate': 0.0008621011073050507}. Best is trial 24 with value: 0.5895979507740283.\n",
      "[I 2024-05-09 16:32:37,474] Trial 110 finished with value: 0.525475069735007 and parameters: {'learning_rate': 0.0029685393838463033}. Best is trial 24 with value: 0.5895979507740283.\n",
      "[I 2024-05-09 16:32:40,301] Trial 111 finished with value: 0.43147162781201753 and parameters: {'learning_rate': 0.001696090743814644}. Best is trial 24 with value: 0.5895979507740283.\n",
      "[I 2024-05-09 16:32:43,342] Trial 112 finished with value: 0.5616978776529338 and parameters: {'learning_rate': 0.009304006758191473}. Best is trial 24 with value: 0.5895979507740283.\n",
      "[I 2024-05-09 16:32:45,850] Trial 113 finished with value: 0.5707018831010027 and parameters: {'learning_rate': 0.008100391757687729}. Best is trial 24 with value: 0.5895979507740283.\n",
      "[I 2024-05-09 16:32:48,582] Trial 114 finished with value: 0.58535087979879 and parameters: {'learning_rate': 0.006370697189453193}. Best is trial 24 with value: 0.5895979507740283.\n",
      "[I 2024-05-09 16:32:51,098] Trial 115 finished with value: 0.5641477133773539 and parameters: {'learning_rate': 0.008727459842858406}. Best is trial 24 with value: 0.5895979507740283.\n",
      "[I 2024-05-09 16:32:53,595] Trial 116 finished with value: 0.5582388600220438 and parameters: {'learning_rate': 0.008056353561301233}. Best is trial 24 with value: 0.5895979507740283.\n",
      "[I 2024-05-09 16:32:56,296] Trial 117 finished with value: 0.4551222358798624 and parameters: {'learning_rate': 0.001947043582971755}. Best is trial 24 with value: 0.5895979507740283.\n",
      "[I 2024-05-09 16:32:59,195] Trial 118 finished with value: 0.5630434782608695 and parameters: {'learning_rate': 0.00893633408505078}. Best is trial 24 with value: 0.5895979507740283.\n",
      "[I 2024-05-09 16:33:01,723] Trial 119 finished with value: 0.5640815182575273 and parameters: {'learning_rate': 0.005439488194964943}. Best is trial 24 with value: 0.5895979507740283.\n",
      "[I 2024-05-09 16:33:04,201] Trial 120 finished with value: 0.564832309872461 and parameters: {'learning_rate': 0.008093657536124219}. Best is trial 24 with value: 0.5895979507740283.\n",
      "[I 2024-05-09 16:33:06,658] Trial 121 finished with value: 0.5521789501826931 and parameters: {'learning_rate': 0.008971303869242582}. Best is trial 24 with value: 0.5895979507740283.\n",
      "[I 2024-05-09 16:33:09,101] Trial 122 finished with value: 0.5312365452510118 and parameters: {'learning_rate': 0.0032482344022214523}. Best is trial 24 with value: 0.5895979507740283.\n",
      "[I 2024-05-09 16:33:11,567] Trial 123 finished with value: 0.375 and parameters: {'learning_rate': 0.001189514052824}. Best is trial 24 with value: 0.5895979507740283.\n",
      "[I 2024-05-09 16:33:13,927] Trial 124 finished with value: 0.4798618835743419 and parameters: {'learning_rate': 0.002356558109165223}. Best is trial 24 with value: 0.5895979507740283.\n",
      "[I 2024-05-09 16:33:16,357] Trial 125 finished with value: 0.5716286433384753 and parameters: {'learning_rate': 0.004328367107399938}. Best is trial 24 with value: 0.5895979507740283.\n",
      "[I 2024-05-09 16:33:18,731] Trial 126 finished with value: 0.5797067356700384 and parameters: {'learning_rate': 0.008198346182632682}. Best is trial 24 with value: 0.5895979507740283.\n",
      "[I 2024-05-09 16:33:21,120] Trial 127 finished with value: 0.565829606026057 and parameters: {'learning_rate': 0.0086212327742378}. Best is trial 24 with value: 0.5895979507740283.\n",
      "[I 2024-05-09 16:33:23,635] Trial 128 finished with value: 0.375 and parameters: {'learning_rate': 0.00016882609225878797}. Best is trial 24 with value: 0.5895979507740283.\n",
      "[I 2024-05-09 16:33:26,043] Trial 129 finished with value: 0.581772784019975 and parameters: {'learning_rate': 0.005156398295517901}. Best is trial 24 with value: 0.5895979507740283.\n",
      "[I 2024-05-09 16:33:28,400] Trial 130 finished with value: 0.5743154615510739 and parameters: {'learning_rate': 0.0042323689311729125}. Best is trial 24 with value: 0.5895979507740283.\n",
      "[I 2024-05-09 16:33:30,767] Trial 131 finished with value: 0.48180411951477653 and parameters: {'learning_rate': 0.0022988673236602293}. Best is trial 24 with value: 0.5895979507740283.\n",
      "[I 2024-05-09 16:33:33,062] Trial 132 finished with value: 0.3885529039991283 and parameters: {'learning_rate': 0.00128666713660346}. Best is trial 24 with value: 0.5895979507740283.\n",
      "[I 2024-05-09 16:33:35,595] Trial 133 finished with value: 0.5557924662402275 and parameters: {'learning_rate': 0.0034423901968959167}. Best is trial 24 with value: 0.5895979507740283.\n",
      "[I 2024-05-09 16:33:37,958] Trial 134 finished with value: 0.5420995079278295 and parameters: {'learning_rate': 0.009434806068733939}. Best is trial 24 with value: 0.5895979507740283.\n",
      "[I 2024-05-09 16:33:40,414] Trial 135 finished with value: 0.5557924662402275 and parameters: {'learning_rate': 0.003299709027005477}. Best is trial 24 with value: 0.5895979507740283.\n",
      "[I 2024-05-09 16:33:42,810] Trial 136 finished with value: 0.5707879564381806 and parameters: {'learning_rate': 0.005236027155259325}. Best is trial 24 with value: 0.5895979507740283.\n",
      "[I 2024-05-09 16:33:45,201] Trial 137 finished with value: 0.5558381866216203 and parameters: {'learning_rate': 0.007059887693062261}. Best is trial 24 with value: 0.5895979507740283.\n",
      "[I 2024-05-09 16:33:47,726] Trial 138 finished with value: 0.5373702711750921 and parameters: {'learning_rate': 0.0036999330635550105}. Best is trial 24 with value: 0.5895979507740283.\n",
      "[I 2024-05-09 16:33:50,072] Trial 139 finished with value: 0.5337371598839489 and parameters: {'learning_rate': 0.00972064261893751}. Best is trial 24 with value: 0.5895979507740283.\n",
      "[I 2024-05-09 16:33:52,415] Trial 140 finished with value: 0.5593007279211857 and parameters: {'learning_rate': 0.009628228219926902}. Best is trial 24 with value: 0.5895979507740283.\n",
      "[I 2024-05-09 16:33:54,771] Trial 141 finished with value: 0.5021167357232932 and parameters: {'learning_rate': 0.002592644728671105}. Best is trial 24 with value: 0.5895979507740283.\n",
      "[I 2024-05-09 16:33:57,107] Trial 142 finished with value: 0.5621179214929215 and parameters: {'learning_rate': 0.005022760208334616}. Best is trial 24 with value: 0.5895979507740283.\n",
      "[I 2024-05-09 16:33:59,488] Trial 143 finished with value: 0.5130015630294352 and parameters: {'learning_rate': 0.0030786952671860196}. Best is trial 24 with value: 0.5895979507740283.\n",
      "[I 2024-05-09 16:34:01,934] Trial 144 finished with value: 0.5334412955465587 and parameters: {'learning_rate': 0.0029199208943369295}. Best is trial 24 with value: 0.5895979507740283.\n",
      "[I 2024-05-09 16:34:04,345] Trial 145 finished with value: 0.375 and parameters: {'learning_rate': 0.0004651807788098747}. Best is trial 24 with value: 0.5895979507740283.\n",
      "[I 2024-05-09 16:34:06,828] Trial 146 finished with value: 0.565992984134577 and parameters: {'learning_rate': 0.00613468690640098}. Best is trial 24 with value: 0.5895979507740283.\n",
      "[I 2024-05-09 16:34:09,301] Trial 147 finished with value: 0.5799099126212618 and parameters: {'learning_rate': 0.005076522329965729}. Best is trial 24 with value: 0.5895979507740283.\n",
      "[I 2024-05-09 16:34:11,704] Trial 148 finished with value: 0.375 and parameters: {'learning_rate': 0.0006096396373748947}. Best is trial 24 with value: 0.5895979507740283.\n",
      "[I 2024-05-09 16:34:14,075] Trial 149 finished with value: 0.4992858803600492 and parameters: {'learning_rate': 0.0028585999959424534}. Best is trial 24 with value: 0.5895979507740283.\n",
      "[I 2024-05-09 16:34:16,541] Trial 150 finished with value: 0.5641477133773539 and parameters: {'learning_rate': 0.009091832271069872}. Best is trial 24 with value: 0.5895979507740283.\n",
      "[I 2024-05-09 16:34:19,003] Trial 151 finished with value: 0.4874166438293597 and parameters: {'learning_rate': 0.002471662717603027}. Best is trial 24 with value: 0.5895979507740283.\n",
      "[I 2024-05-09 16:34:21,447] Trial 152 finished with value: 0.41471264367816096 and parameters: {'learning_rate': 0.0015344592337031087}. Best is trial 24 with value: 0.5895979507740283.\n",
      "[I 2024-05-09 16:34:23,836] Trial 153 finished with value: 0.5688545688545689 and parameters: {'learning_rate': 0.004945582326747875}. Best is trial 24 with value: 0.5895979507740283.\n",
      "[I 2024-05-09 16:34:26,288] Trial 154 finished with value: 0.5412598237675637 and parameters: {'learning_rate': 0.009857939495694946}. Best is trial 24 with value: 0.5895979507740283.\n",
      "[I 2024-05-09 16:34:28,730] Trial 155 finished with value: 0.4874166438293597 and parameters: {'learning_rate': 0.002496347187963854}. Best is trial 24 with value: 0.5895979507740283.\n",
      "[I 2024-05-09 16:34:31,544] Trial 156 finished with value: 0.5672474829650228 and parameters: {'learning_rate': 0.006754141919318199}. Best is trial 24 with value: 0.5895979507740283.\n",
      "[I 2024-05-09 16:34:33,977] Trial 157 finished with value: 0.5683895131086143 and parameters: {'learning_rate': 0.007640034191754305}. Best is trial 24 with value: 0.5895979507740283.\n",
      "[I 2024-05-09 16:34:36,400] Trial 158 finished with value: 0.49506714168265276 and parameters: {'learning_rate': 0.0024526116855247567}. Best is trial 24 with value: 0.5895979507740283.\n",
      "[I 2024-05-09 16:34:38,856] Trial 159 finished with value: 0.5635982140193514 and parameters: {'learning_rate': 0.0073093418512574105}. Best is trial 24 with value: 0.5895979507740283.\n",
      "[I 2024-05-09 16:34:41,338] Trial 160 finished with value: 0.5699792960662526 and parameters: {'learning_rate': 0.003741053013920607}. Best is trial 24 with value: 0.5895979507740283.\n",
      "[I 2024-05-09 16:34:43,705] Trial 161 finished with value: 0.5593159531212628 and parameters: {'learning_rate': 0.006359827722876438}. Best is trial 24 with value: 0.5895979507740283.\n",
      "[I 2024-05-09 16:34:46,139] Trial 162 finished with value: 0.5961462450592886 and parameters: {'learning_rate': 0.006371944136532858}. Best is trial 162 with value: 0.5961462450592886.\n",
      "[I 2024-05-09 16:34:48,566] Trial 163 finished with value: 0.5612050488211479 and parameters: {'learning_rate': 0.00540416937234011}. Best is trial 162 with value: 0.5961462450592886.\n",
      "[I 2024-05-09 16:34:50,983] Trial 164 finished with value: 0.375 and parameters: {'learning_rate': 0.0009938687235386422}. Best is trial 162 with value: 0.5961462450592886.\n",
      "[I 2024-05-09 16:34:53,356] Trial 165 finished with value: 0.5641477133773539 and parameters: {'learning_rate': 0.008369494706333455}. Best is trial 162 with value: 0.5961462450592886.\n",
      "[I 2024-05-09 16:34:55,740] Trial 166 finished with value: 0.5535034272658035 and parameters: {'learning_rate': 0.003275722643220185}. Best is trial 162 with value: 0.5961462450592886.\n",
      "[I 2024-05-09 16:34:58,106] Trial 167 finished with value: 0.4516240199879383 and parameters: {'learning_rate': 0.0019465332529585572}. Best is trial 162 with value: 0.5961462450592886.\n",
      "[I 2024-05-09 16:35:00,462] Trial 168 finished with value: 0.375 and parameters: {'learning_rate': 0.0005036739013921628}. Best is trial 162 with value: 0.5961462450592886.\n",
      "[I 2024-05-09 16:35:02,845] Trial 169 finished with value: 0.5750811485642946 and parameters: {'learning_rate': 0.005949840137563595}. Best is trial 162 with value: 0.5961462450592886.\n",
      "[I 2024-05-09 16:35:05,433] Trial 170 finished with value: 0.5720821079523513 and parameters: {'learning_rate': 0.006807887182238597}. Best is trial 162 with value: 0.5961462450592886.\n",
      "[I 2024-05-09 16:35:07,954] Trial 171 finished with value: 0.375 and parameters: {'learning_rate': 0.0002642195063857759}. Best is trial 162 with value: 0.5961462450592886.\n",
      "[I 2024-05-09 16:35:10,684] Trial 172 finished with value: 0.5668686868686869 and parameters: {'learning_rate': 0.0051697212771628824}. Best is trial 162 with value: 0.5961462450592886.\n",
      "[I 2024-05-09 16:35:13,113] Trial 173 finished with value: 0.4737743448015212 and parameters: {'learning_rate': 0.0023423081744595856}. Best is trial 162 with value: 0.5961462450592886.\n",
      "[I 2024-05-09 16:35:15,948] Trial 174 finished with value: 0.5593159531212628 and parameters: {'learning_rate': 0.006487210625053554}. Best is trial 162 with value: 0.5961462450592886.\n",
      "[I 2024-05-09 16:35:18,477] Trial 175 finished with value: 0.43509010369475487 and parameters: {'learning_rate': 0.0018262276471494154}. Best is trial 162 with value: 0.5961462450592886.\n",
      "[I 2024-05-09 16:35:20,927] Trial 176 finished with value: 0.5606405743080003 and parameters: {'learning_rate': 0.0069402836072144135}. Best is trial 162 with value: 0.5961462450592886.\n",
      "[I 2024-05-09 16:35:23,342] Trial 177 finished with value: 0.5583752162807942 and parameters: {'learning_rate': 0.003928679928375321}. Best is trial 162 with value: 0.5961462450592886.\n",
      "[I 2024-05-09 16:35:25,791] Trial 178 finished with value: 0.5624183616346333 and parameters: {'learning_rate': 0.009373626888493672}. Best is trial 162 with value: 0.5961462450592886.\n",
      "[I 2024-05-09 16:35:28,205] Trial 179 finished with value: 0.40127507469056767 and parameters: {'learning_rate': 0.0014614573470453334}. Best is trial 162 with value: 0.5961462450592886.\n",
      "[I 2024-05-09 16:35:30,621] Trial 180 finished with value: 0.5512178141580785 and parameters: {'learning_rate': 0.003476556875397559}. Best is trial 162 with value: 0.5961462450592886.\n",
      "[I 2024-05-09 16:35:32,952] Trial 181 finished with value: 0.38983306172197035 and parameters: {'learning_rate': 0.001223387860281832}. Best is trial 162 with value: 0.5961462450592886.\n",
      "[I 2024-05-09 16:35:35,336] Trial 182 finished with value: 0.5665725711597271 and parameters: {'learning_rate': 0.009254466820957772}. Best is trial 162 with value: 0.5961462450592886.\n",
      "[I 2024-05-09 16:35:37,709] Trial 183 finished with value: 0.5550062421972535 and parameters: {'learning_rate': 0.008785659598471713}. Best is trial 162 with value: 0.5961462450592886.\n",
      "[I 2024-05-09 16:35:40,176] Trial 184 finished with value: 0.5055018786902845 and parameters: {'learning_rate': 0.0026536221143800406}. Best is trial 162 with value: 0.5961462450592886.\n",
      "[I 2024-05-09 16:35:42,556] Trial 185 finished with value: 0.5672474829650228 and parameters: {'learning_rate': 0.006633842055738373}. Best is trial 162 with value: 0.5961462450592886.\n",
      "[I 2024-05-09 16:35:45,036] Trial 186 finished with value: 0.5606405743080003 and parameters: {'learning_rate': 0.008190499781992037}. Best is trial 162 with value: 0.5961462450592886.\n",
      "[I 2024-05-09 16:35:47,605] Trial 187 finished with value: 0.5654477220291318 and parameters: {'learning_rate': 0.005596488034834678}. Best is trial 162 with value: 0.5961462450592886.\n",
      "[I 2024-05-09 16:35:50,007] Trial 188 finished with value: 0.5823278635778636 and parameters: {'learning_rate': 0.005343540725724465}. Best is trial 162 with value: 0.5961462450592886.\n",
      "[I 2024-05-09 16:35:52,439] Trial 189 finished with value: 0.47598454177401545 and parameters: {'learning_rate': 0.0024943376799144716}. Best is trial 162 with value: 0.5961462450592886.\n",
      "[I 2024-05-09 16:35:54,849] Trial 190 finished with value: 0.375 and parameters: {'learning_rate': 0.0010217174012784023}. Best is trial 162 with value: 0.5961462450592886.\n",
      "[I 2024-05-09 16:35:57,360] Trial 191 finished with value: 0.5654477220291318 and parameters: {'learning_rate': 0.008982436003737935}. Best is trial 162 with value: 0.5961462450592886.\n",
      "[I 2024-05-09 16:35:59,805] Trial 192 finished with value: 0.5696640316205533 and parameters: {'learning_rate': 0.009014138765916972}. Best is trial 162 with value: 0.5961462450592886.\n",
      "[I 2024-05-09 16:36:02,169] Trial 193 finished with value: 0.5738543916220453 and parameters: {'learning_rate': 0.006367704427005353}. Best is trial 162 with value: 0.5961462450592886.\n",
      "[I 2024-05-09 16:36:04,554] Trial 194 finished with value: 0.548685145700071 and parameters: {'learning_rate': 0.003456394931382137}. Best is trial 162 with value: 0.5961462450592886.\n",
      "[I 2024-05-09 16:36:06,915] Trial 195 finished with value: 0.5489354540099302 and parameters: {'learning_rate': 0.003557174788665343}. Best is trial 162 with value: 0.5961462450592886.\n",
      "[I 2024-05-09 16:36:09,284] Trial 196 finished with value: 0.5616978776529338 and parameters: {'learning_rate': 0.007286961220815371}. Best is trial 162 with value: 0.5961462450592886.\n",
      "[I 2024-05-09 16:36:11,687] Trial 197 finished with value: 0.5678534571723426 and parameters: {'learning_rate': 0.008981391573530513}. Best is trial 162 with value: 0.5961462450592886.\n",
      "[I 2024-05-09 16:36:14,122] Trial 198 finished with value: 0.5624183616346333 and parameters: {'learning_rate': 0.00888215560022466}. Best is trial 162 with value: 0.5961462450592886.\n",
      "[I 2024-05-09 16:36:16,506] Trial 199 finished with value: 0.5474267569939552 and parameters: {'learning_rate': 0.007820767903990477}. Best is trial 162 with value: 0.5961462450592886.\n",
      "[I 2024-05-09 16:36:18,999] Trial 200 finished with value: 0.5616978776529338 and parameters: {'learning_rate': 0.00645611329692745}. Best is trial 162 with value: 0.5961462450592886.\n",
      "[I 2024-05-09 16:36:21,343] Trial 201 finished with value: 0.375 and parameters: {'learning_rate': 0.0009329856534509835}. Best is trial 162 with value: 0.5961462450592886.\n",
      "[I 2024-05-09 16:36:23,716] Trial 202 finished with value: 0.41589743589743594 and parameters: {'learning_rate': 0.0017001242695366765}. Best is trial 162 with value: 0.5961462450592886.\n",
      "[I 2024-05-09 16:36:26,041] Trial 203 finished with value: 0.565992984134577 and parameters: {'learning_rate': 0.008995686466418084}. Best is trial 162 with value: 0.5961462450592886.\n",
      "[I 2024-05-09 16:36:28,434] Trial 204 finished with value: 0.5640815182575273 and parameters: {'learning_rate': 0.0061036476906299415}. Best is trial 162 with value: 0.5961462450592886.\n",
      "[I 2024-05-09 16:36:30,744] Trial 205 finished with value: 0.375 and parameters: {'learning_rate': 0.00019105081100463352}. Best is trial 162 with value: 0.5961462450592886.\n",
      "[I 2024-05-09 16:36:33,139] Trial 206 finished with value: 0.375 and parameters: {'learning_rate': 0.001104568274373718}. Best is trial 162 with value: 0.5961462450592886.\n",
      "[I 2024-05-09 16:36:35,526] Trial 207 finished with value: 0.5755787116606594 and parameters: {'learning_rate': 0.006668667514169753}. Best is trial 162 with value: 0.5961462450592886.\n",
      "[I 2024-05-09 16:36:37,860] Trial 208 finished with value: 0.375 and parameters: {'learning_rate': 0.000150109680077565}. Best is trial 162 with value: 0.5961462450592886.\n",
      "[I 2024-05-09 16:36:40,205] Trial 209 finished with value: 0.42986689697216013 and parameters: {'learning_rate': 0.0016919997090332369}. Best is trial 162 with value: 0.5961462450592886.\n",
      "[I 2024-05-09 16:36:42,619] Trial 210 finished with value: 0.5745018655235373 and parameters: {'learning_rate': 0.005532464514729204}. Best is trial 162 with value: 0.5961462450592886.\n",
      "[I 2024-05-09 16:36:44,943] Trial 211 finished with value: 0.5582388600220438 and parameters: {'learning_rate': 0.006949762457157664}. Best is trial 162 with value: 0.5961462450592886.\n",
      "[I 2024-05-09 16:36:47,364] Trial 212 finished with value: 0.580461300279068 and parameters: {'learning_rate': 0.006554416469075746}. Best is trial 162 with value: 0.5961462450592886.\n",
      "[I 2024-05-09 16:36:49,762] Trial 213 finished with value: 0.4798618835743419 and parameters: {'learning_rate': 0.0023202661636595417}. Best is trial 162 with value: 0.5961462450592886.\n",
      "[I 2024-05-09 16:36:52,136] Trial 214 finished with value: 0.5654477220291318 and parameters: {'learning_rate': 0.007150574291340606}. Best is trial 162 with value: 0.5961462450592886.\n",
      "[I 2024-05-09 16:36:54,492] Trial 215 finished with value: 0.481727232096813 and parameters: {'learning_rate': 0.0024487659662183205}. Best is trial 162 with value: 0.5961462450592886.\n",
      "[I 2024-05-09 16:36:56,833] Trial 216 finished with value: 0.5334412955465587 and parameters: {'learning_rate': 0.0033214570117767505}. Best is trial 162 with value: 0.5961462450592886.\n",
      "[I 2024-05-09 16:36:59,207] Trial 217 finished with value: 0.5526389221079486 and parameters: {'learning_rate': 0.00749026491066844}. Best is trial 162 with value: 0.5961462450592886.\n",
      "[I 2024-05-09 16:37:01,760] Trial 218 finished with value: 0.5738543916220453 and parameters: {'learning_rate': 0.006531365700567426}. Best is trial 162 with value: 0.5961462450592886.\n",
      "[I 2024-05-09 16:37:04,170] Trial 219 finished with value: 0.5764277933395581 and parameters: {'learning_rate': 0.00850731176389236}. Best is trial 162 with value: 0.5961462450592886.\n",
      "[I 2024-05-09 16:37:06,623] Trial 220 finished with value: 0.5714257597228782 and parameters: {'learning_rate': 0.0066103676337734}. Best is trial 162 with value: 0.5961462450592886.\n",
      "[I 2024-05-09 16:37:09,030] Trial 221 finished with value: 0.5526389221079486 and parameters: {'learning_rate': 0.00572625517302117}. Best is trial 162 with value: 0.5961462450592886.\n",
      "[I 2024-05-09 16:37:11,418] Trial 222 finished with value: 0.375 and parameters: {'learning_rate': 0.0010273802014981155}. Best is trial 162 with value: 0.5961462450592886.\n",
      "[I 2024-05-09 16:37:13,766] Trial 223 finished with value: 0.5630784319863107 and parameters: {'learning_rate': 0.003740386450288392}. Best is trial 162 with value: 0.5961462450592886.\n",
      "[I 2024-05-09 16:37:16,257] Trial 224 finished with value: 0.5246345246345246 and parameters: {'learning_rate': 0.002725503440049082}. Best is trial 162 with value: 0.5961462450592886.\n",
      "[I 2024-05-09 16:37:18,596] Trial 225 finished with value: 0.4874166438293597 and parameters: {'learning_rate': 0.0025154974694529273}. Best is trial 162 with value: 0.5961462450592886.\n",
      "[I 2024-05-09 16:37:20,974] Trial 226 finished with value: 0.5540336656509777 and parameters: {'learning_rate': 0.009732804492049212}. Best is trial 162 with value: 0.5961462450592886.\n",
      "[I 2024-05-09 16:37:23,287] Trial 227 finished with value: 0.5676258918522649 and parameters: {'learning_rate': 0.0039916674742009285}. Best is trial 162 with value: 0.5961462450592886.\n",
      "[I 2024-05-09 16:37:25,631] Trial 228 finished with value: 0.5672474829650228 and parameters: {'learning_rate': 0.008931260896253422}. Best is trial 162 with value: 0.5961462450592886.\n",
      "[I 2024-05-09 16:37:28,004] Trial 229 finished with value: 0.5573750800768738 and parameters: {'learning_rate': 0.006348272397372903}. Best is trial 162 with value: 0.5961462450592886.\n",
      "[I 2024-05-09 16:37:30,399] Trial 230 finished with value: 0.5762845849802372 and parameters: {'learning_rate': 0.007968631905062319}. Best is trial 162 with value: 0.5961462450592886.\n",
      "[I 2024-05-09 16:37:32,843] Trial 231 finished with value: 0.5823278635778636 and parameters: {'learning_rate': 0.005076107221741403}. Best is trial 162 with value: 0.5961462450592886.\n",
      "[I 2024-05-09 16:37:35,240] Trial 232 finished with value: 0.5644922351328745 and parameters: {'learning_rate': 0.005811348457800956}. Best is trial 162 with value: 0.5961462450592886.\n",
      "[I 2024-05-09 16:37:37,623] Trial 233 finished with value: 0.573188471223202 and parameters: {'learning_rate': 0.004975925168806753}. Best is trial 162 with value: 0.5961462450592886.\n",
      "[I 2024-05-09 16:37:39,980] Trial 234 finished with value: 0.4608608317905156 and parameters: {'learning_rate': 0.002032905579200641}. Best is trial 162 with value: 0.5961462450592886.\n",
      "[I 2024-05-09 16:37:42,399] Trial 235 finished with value: 0.5731396534148827 and parameters: {'learning_rate': 0.007252275941088904}. Best is trial 162 with value: 0.5961462450592886.\n",
      "[I 2024-05-09 16:37:44,829] Trial 236 finished with value: 0.514121854275307 and parameters: {'learning_rate': 0.0028796463881644724}. Best is trial 162 with value: 0.5961462450592886.\n",
      "[I 2024-05-09 16:37:47,257] Trial 237 finished with value: 0.375 and parameters: {'learning_rate': 0.00034072806767139306}. Best is trial 162 with value: 0.5961462450592886.\n",
      "[I 2024-05-09 16:37:49,728] Trial 238 finished with value: 0.5678534571723426 and parameters: {'learning_rate': 0.0064901757294809626}. Best is trial 162 with value: 0.5961462450592886.\n",
      "[I 2024-05-09 16:37:52,051] Trial 239 finished with value: 0.4468034913894786 and parameters: {'learning_rate': 0.0018533957261297846}. Best is trial 162 with value: 0.5961462450592886.\n",
      "[I 2024-05-09 16:37:54,515] Trial 240 finished with value: 0.5575935436537051 and parameters: {'learning_rate': 0.009410539985093851}. Best is trial 162 with value: 0.5961462450592886.\n",
      "[I 2024-05-09 16:37:56,875] Trial 241 finished with value: 0.5582388600220438 and parameters: {'learning_rate': 0.009543892912325614}. Best is trial 162 with value: 0.5961462450592886.\n",
      "[I 2024-05-09 16:37:59,357] Trial 242 finished with value: 0.5723584841309284 and parameters: {'learning_rate': 0.009157157463182441}. Best is trial 162 with value: 0.5961462450592886.\n",
      "[I 2024-05-09 16:38:01,776] Trial 243 finished with value: 0.5514748290351816 and parameters: {'learning_rate': 0.0037645711325288997}. Best is trial 162 with value: 0.5961462450592886.\n",
      "[I 2024-05-09 16:38:04,137] Trial 244 finished with value: 0.375 and parameters: {'learning_rate': 0.00025302050363578755}. Best is trial 162 with value: 0.5961462450592886.\n",
      "[I 2024-05-09 16:38:06,553] Trial 245 finished with value: 0.549802371541502 and parameters: {'learning_rate': 0.009290353769618481}. Best is trial 162 with value: 0.5961462450592886.\n",
      "[I 2024-05-09 16:38:08,965] Trial 246 finished with value: 0.5787886532072578 and parameters: {'learning_rate': 0.004339023068341412}. Best is trial 162 with value: 0.5961462450592886.\n",
      "[I 2024-05-09 16:38:11,398] Trial 247 finished with value: 0.5654477220291318 and parameters: {'learning_rate': 0.00966988270853233}. Best is trial 162 with value: 0.5961462450592886.\n",
      "[I 2024-05-09 16:38:13,772] Trial 248 finished with value: 0.5762845849802372 and parameters: {'learning_rate': 0.009639837773183604}. Best is trial 162 with value: 0.5961462450592886.\n",
      "[I 2024-05-09 16:38:16,073] Trial 249 finished with value: 0.5426778365955942 and parameters: {'learning_rate': 0.008544793609126865}. Best is trial 162 with value: 0.5961462450592886.\n",
      "[I 2024-05-09 16:38:18,396] Trial 250 finished with value: 0.5312365452510118 and parameters: {'learning_rate': 0.0030150440314888984}. Best is trial 162 with value: 0.5961462450592886.\n",
      "[I 2024-05-09 16:38:20,828] Trial 251 finished with value: 0.5630434782608695 and parameters: {'learning_rate': 0.003912467513159061}. Best is trial 162 with value: 0.5961462450592886.\n",
      "[I 2024-05-09 16:38:23,257] Trial 252 finished with value: 0.5540336656509777 and parameters: {'learning_rate': 0.008526253048016883}. Best is trial 162 with value: 0.5961462450592886.\n",
      "[I 2024-05-09 16:38:25,623] Trial 253 finished with value: 0.5312365452510118 and parameters: {'learning_rate': 0.003237527851047149}. Best is trial 162 with value: 0.5961462450592886.\n",
      "[I 2024-05-09 16:38:28,010] Trial 254 finished with value: 0.42826260097849583 and parameters: {'learning_rate': 0.0017779781921923158}. Best is trial 162 with value: 0.5961462450592886.\n",
      "[I 2024-05-09 16:38:30,396] Trial 255 finished with value: 0.5616978776529338 and parameters: {'learning_rate': 0.005612332498337667}. Best is trial 162 with value: 0.5961462450592886.\n",
      "[I 2024-05-09 16:38:32,820] Trial 256 finished with value: 0.5707018831010027 and parameters: {'learning_rate': 0.009367932264191732}. Best is trial 162 with value: 0.5961462450592886.\n",
      "[I 2024-05-09 16:38:35,159] Trial 257 finished with value: 0.5678534571723426 and parameters: {'learning_rate': 0.006990694987082233}. Best is trial 162 with value: 0.5961462450592886.\n",
      "[I 2024-05-09 16:38:37,548] Trial 258 finished with value: 0.5842008327994875 and parameters: {'learning_rate': 0.005743605583884714}. Best is trial 162 with value: 0.5961462450592886.\n",
      "[I 2024-05-09 16:38:39,918] Trial 259 finished with value: 0.375 and parameters: {'learning_rate': 0.0010620472883306085}. Best is trial 162 with value: 0.5961462450592886.\n",
      "[I 2024-05-09 16:38:42,267] Trial 260 finished with value: 0.5707879564381806 and parameters: {'learning_rate': 0.006188571544321782}. Best is trial 162 with value: 0.5961462450592886.\n",
      "[I 2024-05-09 16:38:44,790] Trial 261 finished with value: 0.5707018831010027 and parameters: {'learning_rate': 0.009901533116032207}. Best is trial 162 with value: 0.5961462450592886.\n",
      "[I 2024-05-09 16:38:47,135] Trial 262 finished with value: 0.4073457963667089 and parameters: {'learning_rate': 0.001486831750841588}. Best is trial 162 with value: 0.5961462450592886.\n",
      "[I 2024-05-09 16:38:49,562] Trial 263 finished with value: 0.573188471223202 and parameters: {'learning_rate': 0.005231463558400994}. Best is trial 162 with value: 0.5961462450592886.\n",
      "[I 2024-05-09 16:38:52,008] Trial 264 finished with value: 0.5550062421972535 and parameters: {'learning_rate': 0.00878599341208676}. Best is trial 162 with value: 0.5961462450592886.\n",
      "[I 2024-05-09 16:38:54,396] Trial 265 finished with value: 0.5545566404699531 and parameters: {'learning_rate': 0.0074336093157666245}. Best is trial 162 with value: 0.5961462450592886.\n",
      "[I 2024-05-09 16:38:56,764] Trial 266 finished with value: 0.5755787116606594 and parameters: {'learning_rate': 0.007000455835853154}. Best is trial 162 with value: 0.5961462450592886.\n",
      "[I 2024-05-09 16:38:59,096] Trial 267 finished with value: 0.5720821079523513 and parameters: {'learning_rate': 0.007054592431472382}. Best is trial 162 with value: 0.5961462450592886.\n",
      "[I 2024-05-09 16:39:01,485] Trial 268 finished with value: 0.5466561762391817 and parameters: {'learning_rate': 0.0036589623970755764}. Best is trial 162 with value: 0.5961462450592886.\n",
      "[I 2024-05-09 16:39:03,820] Trial 269 finished with value: 0.5305829830221266 and parameters: {'learning_rate': 0.003006559258218484}. Best is trial 162 with value: 0.5961462450592886.\n",
      "[I 2024-05-09 16:39:06,306] Trial 270 finished with value: 0.5745018655235373 and parameters: {'learning_rate': 0.008112675439237285}. Best is trial 162 with value: 0.5961462450592886.\n",
      "[I 2024-05-09 16:39:08,741] Trial 271 finished with value: 0.5606405743080003 and parameters: {'learning_rate': 0.00812012260732389}. Best is trial 162 with value: 0.5961462450592886.\n",
      "[I 2024-05-09 16:39:11,129] Trial 272 finished with value: 0.5714257597228782 and parameters: {'learning_rate': 0.008684015953943027}. Best is trial 162 with value: 0.5961462450592886.\n",
      "[I 2024-05-09 16:39:13,538] Trial 273 finished with value: 0.5707018831010027 and parameters: {'learning_rate': 0.009141081470309067}. Best is trial 162 with value: 0.5961462450592886.\n",
      "[I 2024-05-09 16:39:15,927] Trial 274 finished with value: 0.5750811485642946 and parameters: {'learning_rate': 0.005162289748723285}. Best is trial 162 with value: 0.5961462450592886.\n",
      "[I 2024-05-09 16:39:18,321] Trial 275 finished with value: 0.573188471223202 and parameters: {'learning_rate': 0.005065011317403277}. Best is trial 162 with value: 0.5961462450592886.\n",
      "[I 2024-05-09 16:39:20,691] Trial 276 finished with value: 0.5745018655235373 and parameters: {'learning_rate': 0.008003122271771074}. Best is trial 162 with value: 0.5961462450592886.\n",
      "[I 2024-05-09 16:39:23,111] Trial 277 finished with value: 0.5616978776529338 and parameters: {'learning_rate': 0.006534642914699876}. Best is trial 162 with value: 0.5961462450592886.\n",
      "[I 2024-05-09 16:39:25,457] Trial 278 finished with value: 0.5846126594237128 and parameters: {'learning_rate': 0.007049472084851264}. Best is trial 162 with value: 0.5961462450592886.\n",
      "[I 2024-05-09 16:39:27,858] Trial 279 finished with value: 0.5593007279211857 and parameters: {'learning_rate': 0.0079783474274174}. Best is trial 162 with value: 0.5961462450592886.\n",
      "[I 2024-05-09 16:39:30,235] Trial 280 finished with value: 0.5527718498163144 and parameters: {'learning_rate': 0.008911052883993907}. Best is trial 162 with value: 0.5961462450592886.\n",
      "[I 2024-05-09 16:39:32,624] Trial 281 finished with value: 0.5367021276595745 and parameters: {'learning_rate': 0.0034461520528302047}. Best is trial 162 with value: 0.5961462450592886.\n",
      "[I 2024-05-09 16:39:34,990] Trial 282 finished with value: 0.5630784319863107 and parameters: {'learning_rate': 0.0038182712311354457}. Best is trial 162 with value: 0.5961462450592886.\n",
      "[I 2024-05-09 16:39:37,335] Trial 283 finished with value: 0.375 and parameters: {'learning_rate': 0.0010304212044246032}. Best is trial 162 with value: 0.5961462450592886.\n",
      "[I 2024-05-09 16:39:39,754] Trial 284 finished with value: 0.5707879564381806 and parameters: {'learning_rate': 0.005824973395862123}. Best is trial 162 with value: 0.5961462450592886.\n",
      "[I 2024-05-09 16:39:42,095] Trial 285 finished with value: 0.375 and parameters: {'learning_rate': 0.00045582851058774664}. Best is trial 162 with value: 0.5961462450592886.\n",
      "[I 2024-05-09 16:39:44,889] Trial 286 finished with value: 0.5808282723471785 and parameters: {'learning_rate': 0.004709420379511356}. Best is trial 162 with value: 0.5961462450592886.\n",
      "[I 2024-05-09 16:39:47,596] Trial 287 finished with value: 0.562463930990493 and parameters: {'learning_rate': 0.005472181883605009}. Best is trial 162 with value: 0.5961462450592886.\n",
      "[I 2024-05-09 16:39:50,095] Trial 288 finished with value: 0.5172645172645173 and parameters: {'learning_rate': 0.0029367583960700156}. Best is trial 162 with value: 0.5961462450592886.\n",
      "[I 2024-05-09 16:39:52,405] Trial 289 finished with value: 0.5635982140193514 and parameters: {'learning_rate': 0.005949249279633207}. Best is trial 162 with value: 0.5961462450592886.\n",
      "[I 2024-05-09 16:39:54,861] Trial 290 finished with value: 0.375 and parameters: {'learning_rate': 0.00040195247439658936}. Best is trial 162 with value: 0.5961462450592886.\n",
      "[I 2024-05-09 16:39:57,353] Trial 291 finished with value: 0.375 and parameters: {'learning_rate': 0.00046974706861722276}. Best is trial 162 with value: 0.5961462450592886.\n",
      "[I 2024-05-09 16:39:59,825] Trial 292 finished with value: 0.5682652503319534 and parameters: {'learning_rate': 0.008243745550530616}. Best is trial 162 with value: 0.5961462450592886.\n",
      "[I 2024-05-09 16:40:02,253] Trial 293 finished with value: 0.5490969418098726 and parameters: {'learning_rate': 0.003665887349971503}. Best is trial 162 with value: 0.5961462450592886.\n",
      "[I 2024-05-09 16:40:04,636] Trial 294 finished with value: 0.3885529039991283 and parameters: {'learning_rate': 0.0013578990752536595}. Best is trial 162 with value: 0.5961462450592886.\n",
      "[I 2024-05-09 16:40:06,998] Trial 295 finished with value: 0.5716286433384753 and parameters: {'learning_rate': 0.005270208274542564}. Best is trial 162 with value: 0.5961462450592886.\n",
      "[I 2024-05-09 16:40:09,362] Trial 296 finished with value: 0.5516454101716265 and parameters: {'learning_rate': 0.007722936175676248}. Best is trial 162 with value: 0.5961462450592886.\n",
      "[I 2024-05-09 16:40:11,781] Trial 297 finished with value: 0.48959653877019343 and parameters: {'learning_rate': 0.0022366281722187476}. Best is trial 162 with value: 0.5961462450592886.\n",
      "[I 2024-05-09 16:40:14,166] Trial 298 finished with value: 0.5624183616346333 and parameters: {'learning_rate': 0.006266615710608103}. Best is trial 162 with value: 0.5961462450592886.\n",
      "[I 2024-05-09 16:40:16,543] Trial 299 finished with value: 0.375 and parameters: {'learning_rate': 0.0009449399034383032}. Best is trial 162 with value: 0.5961462450592886.\n"
     ]
    }
   ],
   "source": [
    "import optuna\n",
    "\n",
    "study = optuna.create_study(sampler=optuna.samplers.RandomSampler(seed=42), direction=\"maximize\")\n",
    "study.optimize(objective, n_trials=300)"
   ]
  },
  {
   "cell_type": "code",
   "execution_count": 13,
   "metadata": {},
   "outputs": [
    {
     "data": {
      "text/plain": [
       "{'learning_rate': 0.006371944136532858}"
      ]
     },
     "execution_count": 13,
     "metadata": {},
     "output_type": "execute_result"
    }
   ],
   "source": [
    "trial = study.best_trial\n",
    "trial.params"
   ]
  },
  {
   "cell_type": "code",
   "execution_count": 14,
   "metadata": {},
   "outputs": [
    {
     "data": {
      "text/plain": [
       "0.5961462450592886"
      ]
     },
     "execution_count": 14,
     "metadata": {},
     "output_type": "execute_result"
    }
   ],
   "source": [
    "trial.value"
   ]
  },
  {
   "cell_type": "code",
   "execution_count": 15,
   "metadata": {},
   "outputs": [
    {
     "data": {
      "application/vnd.plotly.v1+json": {
       "config": {
        "plotlyServerURL": "https://plot.ly"
       },
       "data": [
        {
         "cliponaxis": false,
         "hovertemplate": [
          "learning_rate (FloatDistribution): 1.0<extra></extra>"
         ],
         "name": "Objective Value",
         "orientation": "h",
         "text": [
          "1.00"
         ],
         "textposition": "outside",
         "type": "bar",
         "x": [
          1
         ],
         "y": [
          "learning_rate"
         ]
        }
       ],
       "layout": {
        "template": {
         "data": {
          "bar": [
           {
            "error_x": {
             "color": "#2a3f5f"
            },
            "error_y": {
             "color": "#2a3f5f"
            },
            "marker": {
             "line": {
              "color": "#E5ECF6",
              "width": 0.5
             },
             "pattern": {
              "fillmode": "overlay",
              "size": 10,
              "solidity": 0.2
             }
            },
            "type": "bar"
           }
          ],
          "barpolar": [
           {
            "marker": {
             "line": {
              "color": "#E5ECF6",
              "width": 0.5
             },
             "pattern": {
              "fillmode": "overlay",
              "size": 10,
              "solidity": 0.2
             }
            },
            "type": "barpolar"
           }
          ],
          "carpet": [
           {
            "aaxis": {
             "endlinecolor": "#2a3f5f",
             "gridcolor": "white",
             "linecolor": "white",
             "minorgridcolor": "white",
             "startlinecolor": "#2a3f5f"
            },
            "baxis": {
             "endlinecolor": "#2a3f5f",
             "gridcolor": "white",
             "linecolor": "white",
             "minorgridcolor": "white",
             "startlinecolor": "#2a3f5f"
            },
            "type": "carpet"
           }
          ],
          "choropleth": [
           {
            "colorbar": {
             "outlinewidth": 0,
             "ticks": ""
            },
            "type": "choropleth"
           }
          ],
          "contour": [
           {
            "colorbar": {
             "outlinewidth": 0,
             "ticks": ""
            },
            "colorscale": [
             [
              0,
              "#0d0887"
             ],
             [
              0.1111111111111111,
              "#46039f"
             ],
             [
              0.2222222222222222,
              "#7201a8"
             ],
             [
              0.3333333333333333,
              "#9c179e"
             ],
             [
              0.4444444444444444,
              "#bd3786"
             ],
             [
              0.5555555555555556,
              "#d8576b"
             ],
             [
              0.6666666666666666,
              "#ed7953"
             ],
             [
              0.7777777777777778,
              "#fb9f3a"
             ],
             [
              0.8888888888888888,
              "#fdca26"
             ],
             [
              1,
              "#f0f921"
             ]
            ],
            "type": "contour"
           }
          ],
          "contourcarpet": [
           {
            "colorbar": {
             "outlinewidth": 0,
             "ticks": ""
            },
            "type": "contourcarpet"
           }
          ],
          "heatmap": [
           {
            "colorbar": {
             "outlinewidth": 0,
             "ticks": ""
            },
            "colorscale": [
             [
              0,
              "#0d0887"
             ],
             [
              0.1111111111111111,
              "#46039f"
             ],
             [
              0.2222222222222222,
              "#7201a8"
             ],
             [
              0.3333333333333333,
              "#9c179e"
             ],
             [
              0.4444444444444444,
              "#bd3786"
             ],
             [
              0.5555555555555556,
              "#d8576b"
             ],
             [
              0.6666666666666666,
              "#ed7953"
             ],
             [
              0.7777777777777778,
              "#fb9f3a"
             ],
             [
              0.8888888888888888,
              "#fdca26"
             ],
             [
              1,
              "#f0f921"
             ]
            ],
            "type": "heatmap"
           }
          ],
          "heatmapgl": [
           {
            "colorbar": {
             "outlinewidth": 0,
             "ticks": ""
            },
            "colorscale": [
             [
              0,
              "#0d0887"
             ],
             [
              0.1111111111111111,
              "#46039f"
             ],
             [
              0.2222222222222222,
              "#7201a8"
             ],
             [
              0.3333333333333333,
              "#9c179e"
             ],
             [
              0.4444444444444444,
              "#bd3786"
             ],
             [
              0.5555555555555556,
              "#d8576b"
             ],
             [
              0.6666666666666666,
              "#ed7953"
             ],
             [
              0.7777777777777778,
              "#fb9f3a"
             ],
             [
              0.8888888888888888,
              "#fdca26"
             ],
             [
              1,
              "#f0f921"
             ]
            ],
            "type": "heatmapgl"
           }
          ],
          "histogram": [
           {
            "marker": {
             "pattern": {
              "fillmode": "overlay",
              "size": 10,
              "solidity": 0.2
             }
            },
            "type": "histogram"
           }
          ],
          "histogram2d": [
           {
            "colorbar": {
             "outlinewidth": 0,
             "ticks": ""
            },
            "colorscale": [
             [
              0,
              "#0d0887"
             ],
             [
              0.1111111111111111,
              "#46039f"
             ],
             [
              0.2222222222222222,
              "#7201a8"
             ],
             [
              0.3333333333333333,
              "#9c179e"
             ],
             [
              0.4444444444444444,
              "#bd3786"
             ],
             [
              0.5555555555555556,
              "#d8576b"
             ],
             [
              0.6666666666666666,
              "#ed7953"
             ],
             [
              0.7777777777777778,
              "#fb9f3a"
             ],
             [
              0.8888888888888888,
              "#fdca26"
             ],
             [
              1,
              "#f0f921"
             ]
            ],
            "type": "histogram2d"
           }
          ],
          "histogram2dcontour": [
           {
            "colorbar": {
             "outlinewidth": 0,
             "ticks": ""
            },
            "colorscale": [
             [
              0,
              "#0d0887"
             ],
             [
              0.1111111111111111,
              "#46039f"
             ],
             [
              0.2222222222222222,
              "#7201a8"
             ],
             [
              0.3333333333333333,
              "#9c179e"
             ],
             [
              0.4444444444444444,
              "#bd3786"
             ],
             [
              0.5555555555555556,
              "#d8576b"
             ],
             [
              0.6666666666666666,
              "#ed7953"
             ],
             [
              0.7777777777777778,
              "#fb9f3a"
             ],
             [
              0.8888888888888888,
              "#fdca26"
             ],
             [
              1,
              "#f0f921"
             ]
            ],
            "type": "histogram2dcontour"
           }
          ],
          "mesh3d": [
           {
            "colorbar": {
             "outlinewidth": 0,
             "ticks": ""
            },
            "type": "mesh3d"
           }
          ],
          "parcoords": [
           {
            "line": {
             "colorbar": {
              "outlinewidth": 0,
              "ticks": ""
             }
            },
            "type": "parcoords"
           }
          ],
          "pie": [
           {
            "automargin": true,
            "type": "pie"
           }
          ],
          "scatter": [
           {
            "fillpattern": {
             "fillmode": "overlay",
             "size": 10,
             "solidity": 0.2
            },
            "type": "scatter"
           }
          ],
          "scatter3d": [
           {
            "line": {
             "colorbar": {
              "outlinewidth": 0,
              "ticks": ""
             }
            },
            "marker": {
             "colorbar": {
              "outlinewidth": 0,
              "ticks": ""
             }
            },
            "type": "scatter3d"
           }
          ],
          "scattercarpet": [
           {
            "marker": {
             "colorbar": {
              "outlinewidth": 0,
              "ticks": ""
             }
            },
            "type": "scattercarpet"
           }
          ],
          "scattergeo": [
           {
            "marker": {
             "colorbar": {
              "outlinewidth": 0,
              "ticks": ""
             }
            },
            "type": "scattergeo"
           }
          ],
          "scattergl": [
           {
            "marker": {
             "colorbar": {
              "outlinewidth": 0,
              "ticks": ""
             }
            },
            "type": "scattergl"
           }
          ],
          "scattermapbox": [
           {
            "marker": {
             "colorbar": {
              "outlinewidth": 0,
              "ticks": ""
             }
            },
            "type": "scattermapbox"
           }
          ],
          "scatterpolar": [
           {
            "marker": {
             "colorbar": {
              "outlinewidth": 0,
              "ticks": ""
             }
            },
            "type": "scatterpolar"
           }
          ],
          "scatterpolargl": [
           {
            "marker": {
             "colorbar": {
              "outlinewidth": 0,
              "ticks": ""
             }
            },
            "type": "scatterpolargl"
           }
          ],
          "scatterternary": [
           {
            "marker": {
             "colorbar": {
              "outlinewidth": 0,
              "ticks": ""
             }
            },
            "type": "scatterternary"
           }
          ],
          "surface": [
           {
            "colorbar": {
             "outlinewidth": 0,
             "ticks": ""
            },
            "colorscale": [
             [
              0,
              "#0d0887"
             ],
             [
              0.1111111111111111,
              "#46039f"
             ],
             [
              0.2222222222222222,
              "#7201a8"
             ],
             [
              0.3333333333333333,
              "#9c179e"
             ],
             [
              0.4444444444444444,
              "#bd3786"
             ],
             [
              0.5555555555555556,
              "#d8576b"
             ],
             [
              0.6666666666666666,
              "#ed7953"
             ],
             [
              0.7777777777777778,
              "#fb9f3a"
             ],
             [
              0.8888888888888888,
              "#fdca26"
             ],
             [
              1,
              "#f0f921"
             ]
            ],
            "type": "surface"
           }
          ],
          "table": [
           {
            "cells": {
             "fill": {
              "color": "#EBF0F8"
             },
             "line": {
              "color": "white"
             }
            },
            "header": {
             "fill": {
              "color": "#C8D4E3"
             },
             "line": {
              "color": "white"
             }
            },
            "type": "table"
           }
          ]
         },
         "layout": {
          "annotationdefaults": {
           "arrowcolor": "#2a3f5f",
           "arrowhead": 0,
           "arrowwidth": 1
          },
          "autotypenumbers": "strict",
          "coloraxis": {
           "colorbar": {
            "outlinewidth": 0,
            "ticks": ""
           }
          },
          "colorscale": {
           "diverging": [
            [
             0,
             "#8e0152"
            ],
            [
             0.1,
             "#c51b7d"
            ],
            [
             0.2,
             "#de77ae"
            ],
            [
             0.3,
             "#f1b6da"
            ],
            [
             0.4,
             "#fde0ef"
            ],
            [
             0.5,
             "#f7f7f7"
            ],
            [
             0.6,
             "#e6f5d0"
            ],
            [
             0.7,
             "#b8e186"
            ],
            [
             0.8,
             "#7fbc41"
            ],
            [
             0.9,
             "#4d9221"
            ],
            [
             1,
             "#276419"
            ]
           ],
           "sequential": [
            [
             0,
             "#0d0887"
            ],
            [
             0.1111111111111111,
             "#46039f"
            ],
            [
             0.2222222222222222,
             "#7201a8"
            ],
            [
             0.3333333333333333,
             "#9c179e"
            ],
            [
             0.4444444444444444,
             "#bd3786"
            ],
            [
             0.5555555555555556,
             "#d8576b"
            ],
            [
             0.6666666666666666,
             "#ed7953"
            ],
            [
             0.7777777777777778,
             "#fb9f3a"
            ],
            [
             0.8888888888888888,
             "#fdca26"
            ],
            [
             1,
             "#f0f921"
            ]
           ],
           "sequentialminus": [
            [
             0,
             "#0d0887"
            ],
            [
             0.1111111111111111,
             "#46039f"
            ],
            [
             0.2222222222222222,
             "#7201a8"
            ],
            [
             0.3333333333333333,
             "#9c179e"
            ],
            [
             0.4444444444444444,
             "#bd3786"
            ],
            [
             0.5555555555555556,
             "#d8576b"
            ],
            [
             0.6666666666666666,
             "#ed7953"
            ],
            [
             0.7777777777777778,
             "#fb9f3a"
            ],
            [
             0.8888888888888888,
             "#fdca26"
            ],
            [
             1,
             "#f0f921"
            ]
           ]
          },
          "colorway": [
           "#636efa",
           "#EF553B",
           "#00cc96",
           "#ab63fa",
           "#FFA15A",
           "#19d3f3",
           "#FF6692",
           "#B6E880",
           "#FF97FF",
           "#FECB52"
          ],
          "font": {
           "color": "#2a3f5f"
          },
          "geo": {
           "bgcolor": "white",
           "lakecolor": "white",
           "landcolor": "#E5ECF6",
           "showlakes": true,
           "showland": true,
           "subunitcolor": "white"
          },
          "hoverlabel": {
           "align": "left"
          },
          "hovermode": "closest",
          "mapbox": {
           "style": "light"
          },
          "paper_bgcolor": "white",
          "plot_bgcolor": "#E5ECF6",
          "polar": {
           "angularaxis": {
            "gridcolor": "white",
            "linecolor": "white",
            "ticks": ""
           },
           "bgcolor": "#E5ECF6",
           "radialaxis": {
            "gridcolor": "white",
            "linecolor": "white",
            "ticks": ""
           }
          },
          "scene": {
           "xaxis": {
            "backgroundcolor": "#E5ECF6",
            "gridcolor": "white",
            "gridwidth": 2,
            "linecolor": "white",
            "showbackground": true,
            "ticks": "",
            "zerolinecolor": "white"
           },
           "yaxis": {
            "backgroundcolor": "#E5ECF6",
            "gridcolor": "white",
            "gridwidth": 2,
            "linecolor": "white",
            "showbackground": true,
            "ticks": "",
            "zerolinecolor": "white"
           },
           "zaxis": {
            "backgroundcolor": "#E5ECF6",
            "gridcolor": "white",
            "gridwidth": 2,
            "linecolor": "white",
            "showbackground": true,
            "ticks": "",
            "zerolinecolor": "white"
           }
          },
          "shapedefaults": {
           "line": {
            "color": "#2a3f5f"
           }
          },
          "ternary": {
           "aaxis": {
            "gridcolor": "white",
            "linecolor": "white",
            "ticks": ""
           },
           "baxis": {
            "gridcolor": "white",
            "linecolor": "white",
            "ticks": ""
           },
           "bgcolor": "#E5ECF6",
           "caxis": {
            "gridcolor": "white",
            "linecolor": "white",
            "ticks": ""
           }
          },
          "title": {
           "x": 0.05
          },
          "xaxis": {
           "automargin": true,
           "gridcolor": "white",
           "linecolor": "white",
           "ticks": "",
           "title": {
            "standoff": 15
           },
           "zerolinecolor": "white",
           "zerolinewidth": 2
          },
          "yaxis": {
           "automargin": true,
           "gridcolor": "white",
           "linecolor": "white",
           "ticks": "",
           "title": {
            "standoff": 15
           },
           "zerolinecolor": "white",
           "zerolinewidth": 2
          }
         }
        },
        "title": {
         "text": "Hyperparameter Importances"
        },
        "xaxis": {
         "title": {
          "text": "Hyperparameter Importance"
         }
        },
        "yaxis": {
         "title": {
          "text": "Hyperparameter"
         }
        }
       }
      }
     },
     "metadata": {},
     "output_type": "display_data"
    }
   ],
   "source": [
    "import plotly\n",
    "import nbformat\n",
    "optuna.visualization.plot_param_importances(study).show()"
   ]
  },
  {
   "cell_type": "code",
   "execution_count": 16,
   "metadata": {},
   "outputs": [
    {
     "data": {
      "application/vnd.plotly.v1+json": {
       "config": {
        "plotlyServerURL": "https://plot.ly"
       },
       "data": [
        {
         "marker": {
          "color": [
           0,
           1,
           2,
           3,
           4,
           5,
           6,
           7,
           8,
           9,
           10,
           11,
           12,
           13,
           14,
           15,
           16,
           17,
           18,
           19,
           20,
           21,
           22,
           23,
           24,
           25,
           26,
           27,
           28,
           29,
           30,
           31,
           32,
           33,
           34,
           35,
           36,
           37,
           38,
           39,
           40,
           41,
           42,
           43,
           44,
           45,
           46,
           47,
           48,
           49,
           50,
           51,
           52,
           53,
           54,
           55,
           56,
           57,
           58,
           59,
           60,
           61,
           62,
           63,
           64,
           65,
           66,
           67,
           68,
           69,
           70,
           71,
           72,
           73,
           74,
           75,
           76,
           77,
           78,
           79,
           80,
           81,
           82,
           83,
           84,
           85,
           86,
           87,
           88,
           89,
           90,
           91,
           92,
           93,
           94,
           95,
           96,
           97,
           98,
           99,
           100,
           101,
           102,
           103,
           104,
           105,
           106,
           107,
           108,
           109,
           110,
           111,
           112,
           113,
           114,
           115,
           116,
           117,
           118,
           119,
           120,
           121,
           122,
           123,
           124,
           125,
           126,
           127,
           128,
           129,
           130,
           131,
           132,
           133,
           134,
           135,
           136,
           137,
           138,
           139,
           140,
           141,
           142,
           143,
           144,
           145,
           146,
           147,
           148,
           149,
           150,
           151,
           152,
           153,
           154,
           155,
           156,
           157,
           158,
           159,
           160,
           161,
           162,
           163,
           164,
           165,
           166,
           167,
           168,
           169,
           170,
           171,
           172,
           173,
           174,
           175,
           176,
           177,
           178,
           179,
           180,
           181,
           182,
           183,
           184,
           185,
           186,
           187,
           188,
           189,
           190,
           191,
           192,
           193,
           194,
           195,
           196,
           197,
           198,
           199,
           200,
           201,
           202,
           203,
           204,
           205,
           206,
           207,
           208,
           209,
           210,
           211,
           212,
           213,
           214,
           215,
           216,
           217,
           218,
           219,
           220,
           221,
           222,
           223,
           224,
           225,
           226,
           227,
           228,
           229,
           230,
           231,
           232,
           233,
           234,
           235,
           236,
           237,
           238,
           239,
           240,
           241,
           242,
           243,
           244,
           245,
           246,
           247,
           248,
           249,
           250,
           251,
           252,
           253,
           254,
           255,
           256,
           257,
           258,
           259,
           260,
           261,
           262,
           263,
           264,
           265,
           266,
           267,
           268,
           269,
           270,
           271,
           272,
           273,
           274,
           275,
           276,
           277,
           278,
           279,
           280,
           281,
           282,
           283,
           284,
           285,
           286,
           287,
           288,
           289,
           290,
           291,
           292,
           293,
           294,
           295,
           296,
           297,
           298,
           299
          ],
          "colorbar": {
           "title": {
            "text": "Trial"
           },
           "x": 1,
           "xpad": 40
          },
          "colorscale": [
           [
            0,
            "rgb(247,251,255)"
           ],
           [
            0.125,
            "rgb(222,235,247)"
           ],
           [
            0.25,
            "rgb(198,219,239)"
           ],
           [
            0.375,
            "rgb(158,202,225)"
           ],
           [
            0.5,
            "rgb(107,174,214)"
           ],
           [
            0.625,
            "rgb(66,146,198)"
           ],
           [
            0.75,
            "rgb(33,113,181)"
           ],
           [
            0.875,
            "rgb(8,81,156)"
           ],
           [
            1,
            "rgb(8,48,107)"
           ]
          ],
          "line": {
           "color": "Grey",
           "width": 0.5
          }
         },
         "mode": "markers",
         "name": "Feasible Trial",
         "showlegend": false,
         "type": "scatter",
         "x": [
          0.003807947176588889,
          0.00951207163345817,
          0.007346740023932911,
          0.006026718993550663,
          0.0016445845403801217,
          0.0016443457513284064,
          0.0006750277604651748,
          0.008675143843171858,
          0.006051038616257768,
          0.007109918520180851,
          0.00030378649352844425,
          0.009702107536403744,
          0.008341182143924175,
          0.002202157195714934,
          0.0019000671753502962,
          0.001915704647548995,
          0.0031119982052994237,
          0.005295088673159155,
          0.004376255684556947,
          0.002983168487960615,
          0.006157343657751557,
          0.0014809892204552142,
          0.0029922320204986597,
          0.003726982248607548,
          0.004615092843748656,
          0.007873242017790836,
          0.0020767704433677613,
          0.005190920940294755,
          0.005964904231734221,
          0.0005598590859279775,
          0.006114694033824241,
          0.0017881888245041863,
          0.0007440107705542673,
          0.009493966818808,
          0.009659757127438138,
          0.008103133746352966,
          0.00311567631481637,
          0.0010669539286632004,
          0.006873906962470354,
          0.0044575096880220535,
          0.0013081785249633106,
          0.005002251410101575,
          0.00044044635904066216,
          0.009102271980579942,
          0.0026619218178401674,
          0.006658970615104422,
          0.0031859396532851686,
          0.005248673409660328,
          0.005512431765498469,
          0.0019300591097027179,
          0.00969888781486913,
          0.007773814951275035,
          0.009401039521485473,
          0.008958790769233723,
          0.006019209790229744,
          0.009226554926728857,
          0.0009760757703140031,
          0.0020402303379495374,
          0.0005477501602143269,
          0.003320770274556317,
          0.003947905167925873,
          0.0027863554145615694,
          0.008304501340604101,
          0.003631857934266534,
          0.0028812516459050695,
          0.00547269122326666,
          0.0014951498272501504,
          0.008041750109464993,
          0.0008380513724297313,
          0.009870180672345122,
          0.00774522321603691,
          0.002067285247188307,
          0.00015466895952366376,
          0.008173068141702858,
          0.00709788770409141,
          0.0073171709636057755,
          0.007735576432190864,
          0.0008330420521674947,
          0.003648810712588299,
          0.0012471036892987843,
          0.008644723916168376,
          0.006270651455592824,
          0.003375890446041227,
          0.0007292276678316341,
          0.0031787249849850557,
          0.003319314888064796,
          0.007323101165546835,
          0.0064118189664166105,
          0.008883406151505633,
          0.0047749277591032984,
          0.001283983034789187,
          0.007161123393507651,
          0.007631771981307285,
          0.005656644255938014,
          0.007732575081550155,
          0.004988576404007469,
          0.0052750550108817415,
          0.004332656081749642,
          0.00035164935476654236,
          0.0011681251272337141,
          0.0004111489382986691,
          0.0064004630715114265,
          0.003212124212655634,
          0.005134849842530558,
          0.009084908091868321,
          0.002567993068573862,
          0.004162790938052735,
          0.007579956271576183,
          0.0023651018383670625,
          0.0008621011073050507,
          0.0029685393838463033,
          0.001696090743814644,
          0.009304006758191473,
          0.008100391757687729,
          0.006370697189453193,
          0.008727459842858406,
          0.008056353561301233,
          0.001947043582971755,
          0.00893633408505078,
          0.005439488194964943,
          0.008093657536124219,
          0.008971303869242582,
          0.0032482344022214523,
          0.001189514052824,
          0.002356558109165223,
          0.004328367107399938,
          0.008198346182632682,
          0.0086212327742378,
          0.00016882609225878797,
          0.005156398295517901,
          0.0042323689311729125,
          0.0022988673236602293,
          0.00128666713660346,
          0.0034423901968959167,
          0.009434806068733939,
          0.003299709027005477,
          0.005236027155259325,
          0.007059887693062261,
          0.0036999330635550105,
          0.00972064261893751,
          0.009628228219926902,
          0.002592644728671105,
          0.005022760208334616,
          0.0030786952671860196,
          0.0029199208943369295,
          0.0004651807788098747,
          0.00613468690640098,
          0.005076522329965729,
          0.0006096396373748947,
          0.0028585999959424534,
          0.009091832271069872,
          0.002471662717603027,
          0.0015344592337031087,
          0.004945582326747875,
          0.009857939495694946,
          0.002496347187963854,
          0.006754141919318199,
          0.007640034191754305,
          0.0024526116855247567,
          0.0073093418512574105,
          0.003741053013920607,
          0.006359827722876438,
          0.006371944136532858,
          0.00540416937234011,
          0.0009938687235386422,
          0.008369494706333455,
          0.003275722643220185,
          0.0019465332529585572,
          0.0005036739013921628,
          0.005949840137563595,
          0.006807887182238597,
          0.0002642195063857759,
          0.0051697212771628824,
          0.0023423081744595856,
          0.006487210625053554,
          0.0018262276471494154,
          0.0069402836072144135,
          0.003928679928375321,
          0.009373626888493672,
          0.0014614573470453334,
          0.003476556875397559,
          0.001223387860281832,
          0.009254466820957772,
          0.008785659598471713,
          0.0026536221143800406,
          0.006633842055738373,
          0.008190499781992037,
          0.005596488034834678,
          0.005343540725724465,
          0.0024943376799144716,
          0.0010217174012784023,
          0.008982436003737935,
          0.009014138765916972,
          0.006367704427005353,
          0.003456394931382137,
          0.003557174788665343,
          0.007286961220815371,
          0.008981391573530513,
          0.00888215560022466,
          0.007820767903990477,
          0.00645611329692745,
          0.0009329856534509835,
          0.0017001242695366765,
          0.008995686466418084,
          0.0061036476906299415,
          0.00019105081100463352,
          0.001104568274373718,
          0.006668667514169753,
          0.000150109680077565,
          0.0016919997090332369,
          0.005532464514729204,
          0.006949762457157664,
          0.006554416469075746,
          0.0023202661636595417,
          0.007150574291340606,
          0.0024487659662183205,
          0.0033214570117767505,
          0.00749026491066844,
          0.006531365700567426,
          0.00850731176389236,
          0.0066103676337734,
          0.00572625517302117,
          0.0010273802014981155,
          0.003740386450288392,
          0.002725503440049082,
          0.0025154974694529273,
          0.009732804492049212,
          0.0039916674742009285,
          0.008931260896253422,
          0.006348272397372903,
          0.007968631905062319,
          0.005076107221741403,
          0.005811348457800956,
          0.004975925168806753,
          0.002032905579200641,
          0.007252275941088904,
          0.0028796463881644724,
          0.00034072806767139306,
          0.0064901757294809626,
          0.0018533957261297846,
          0.009410539985093851,
          0.009543892912325614,
          0.009157157463182441,
          0.0037645711325288997,
          0.00025302050363578755,
          0.009290353769618481,
          0.004339023068341412,
          0.00966988270853233,
          0.009639837773183604,
          0.008544793609126865,
          0.0030150440314888984,
          0.003912467513159061,
          0.008526253048016883,
          0.003237527851047149,
          0.0017779781921923158,
          0.005612332498337667,
          0.009367932264191732,
          0.006990694987082233,
          0.005743605583884714,
          0.0010620472883306085,
          0.006188571544321782,
          0.009901533116032207,
          0.001486831750841588,
          0.005231463558400994,
          0.00878599341208676,
          0.0074336093157666245,
          0.007000455835853154,
          0.007054592431472382,
          0.0036589623970755764,
          0.003006559258218484,
          0.008112675439237285,
          0.00812012260732389,
          0.008684015953943027,
          0.009141081470309067,
          0.005162289748723285,
          0.005065011317403277,
          0.008003122271771074,
          0.006534642914699876,
          0.007049472084851264,
          0.0079783474274174,
          0.008911052883993907,
          0.0034461520528302047,
          0.0038182712311354457,
          0.0010304212044246032,
          0.005824973395862123,
          0.00045582851058774664,
          0.004709420379511356,
          0.005472181883605009,
          0.0029367583960700156,
          0.005949249279633207,
          0.00040195247439658936,
          0.00046974706861722276,
          0.008243745550530616,
          0.003665887349971503,
          0.0013578990752536595,
          0.005270208274542564,
          0.007722936175676248,
          0.0022366281722187476,
          0.006266615710608103,
          0.0009449399034383032
         ],
         "y": [
          0.558285250155589,
          0.5540336656509777,
          0.5600054889045715,
          0.5779963518729403,
          0.41742132450501745,
          0.41742132450501745,
          0.375,
          0.5564229249011857,
          0.5678534571723426,
          0.5593159531212628,
          0.375,
          0.5540336656509777,
          0.5797067356700384,
          0.48959653877019343,
          0.46629901960784315,
          0.4533722310126582,
          0.5334412955465587,
          0.5780192095732956,
          0.5674495818986719,
          0.525475069735007,
          0.5593159531212628,
          0.4073457963667089,
          0.5479082321187584,
          0.5607133490689746,
          0.5895979507740283,
          0.5569355913326239,
          0.4733273327332733,
          0.5736363636363636,
          0.5745018655235373,
          0.375,
          0.5745018655235373,
          0.42986689697216013,
          0.375,
          0.5588133361059124,
          0.5483146067415731,
          0.5772560528246515,
          0.525475069735007,
          0.375,
          0.5731396534148827,
          0.562734540708109,
          0.3885529039991283,
          0.5671966714478998,
          0.375,
          0.5426778365955942,
          0.5087976539589443,
          0.5696640316205533,
          0.5456600361663653,
          0.5835860820795338,
          0.5707879564381806,
          0.44851840766237655,
          0.5521789501826931,
          0.5641477133773539,
          0.5617238147309225,
          0.5545566404699531,
          0.5635982140193514,
          0.5665725711597271,
          0.375,
          0.4516240199879383,
          0.375,
          0.5384482907086885,
          0.5698112819880626,
          0.514121854275307,
          0.5606405743080003,
          0.5583988952125879,
          0.5151315789473684,
          0.5644922351328745,
          0.4073457963667089,
          0.5492580116086072,
          0.375,
          0.5540336656509777,
          0.5887390616866854,
          0.48136813681368135,
          0.375,
          0.5502729686458965,
          0.5714257597228782,
          0.5748066859329845,
          0.5696640316205533,
          0.375,
          0.5300155061655467,
          0.38983306172197035,
          0.5534384066494158,
          0.5688545688545689,
          0.5466561762391817,
          0.375,
          0.529034889086831,
          0.538936721825689,
          0.5665725711597271,
          0.5702608367060789,
          0.5714257597228782,
          0.5648290979946415,
          0.3885529039991283,
          0.5527718498163144,
          0.5582388600220438,
          0.5597455884270824,
          0.5600054889045715,
          0.5577401767628415,
          0.5712442935029074,
          0.5650907232302581,
          0.375,
          0.375,
          0.375,
          0.5672474829650228,
          0.518974358974359,
          0.5683895131086143,
          0.5689985366476463,
          0.489035013388469,
          0.5652756035264068,
          0.5431818181818182,
          0.4798618835743419,
          0.375,
          0.525475069735007,
          0.43147162781201753,
          0.5616978776529338,
          0.5707018831010027,
          0.58535087979879,
          0.5641477133773539,
          0.5582388600220438,
          0.4551222358798624,
          0.5630434782608695,
          0.5640815182575273,
          0.564832309872461,
          0.5521789501826931,
          0.5312365452510118,
          0.375,
          0.4798618835743419,
          0.5716286433384753,
          0.5797067356700384,
          0.565829606026057,
          0.375,
          0.581772784019975,
          0.5743154615510739,
          0.48180411951477653,
          0.3885529039991283,
          0.5557924662402275,
          0.5420995079278295,
          0.5557924662402275,
          0.5707879564381806,
          0.5558381866216203,
          0.5373702711750921,
          0.5337371598839489,
          0.5593007279211857,
          0.5021167357232932,
          0.5621179214929215,
          0.5130015630294352,
          0.5334412955465587,
          0.375,
          0.565992984134577,
          0.5799099126212618,
          0.375,
          0.4992858803600492,
          0.5641477133773539,
          0.4874166438293597,
          0.41471264367816096,
          0.5688545688545689,
          0.5412598237675637,
          0.4874166438293597,
          0.5672474829650228,
          0.5683895131086143,
          0.49506714168265276,
          0.5635982140193514,
          0.5699792960662526,
          0.5593159531212628,
          0.5961462450592886,
          0.5612050488211479,
          0.375,
          0.5641477133773539,
          0.5535034272658035,
          0.4516240199879383,
          0.375,
          0.5750811485642946,
          0.5720821079523513,
          0.375,
          0.5668686868686869,
          0.4737743448015212,
          0.5593159531212628,
          0.43509010369475487,
          0.5606405743080003,
          0.5583752162807942,
          0.5624183616346333,
          0.40127507469056767,
          0.5512178141580785,
          0.38983306172197035,
          0.5665725711597271,
          0.5550062421972535,
          0.5055018786902845,
          0.5672474829650228,
          0.5606405743080003,
          0.5654477220291318,
          0.5823278635778636,
          0.47598454177401545,
          0.375,
          0.5654477220291318,
          0.5696640316205533,
          0.5738543916220453,
          0.548685145700071,
          0.5489354540099302,
          0.5616978776529338,
          0.5678534571723426,
          0.5624183616346333,
          0.5474267569939552,
          0.5616978776529338,
          0.375,
          0.41589743589743594,
          0.565992984134577,
          0.5640815182575273,
          0.375,
          0.375,
          0.5755787116606594,
          0.375,
          0.42986689697216013,
          0.5745018655235373,
          0.5582388600220438,
          0.580461300279068,
          0.4798618835743419,
          0.5654477220291318,
          0.481727232096813,
          0.5334412955465587,
          0.5526389221079486,
          0.5738543916220453,
          0.5764277933395581,
          0.5714257597228782,
          0.5526389221079486,
          0.375,
          0.5630784319863107,
          0.5246345246345246,
          0.4874166438293597,
          0.5540336656509777,
          0.5676258918522649,
          0.5672474829650228,
          0.5573750800768738,
          0.5762845849802372,
          0.5823278635778636,
          0.5644922351328745,
          0.573188471223202,
          0.4608608317905156,
          0.5731396534148827,
          0.514121854275307,
          0.375,
          0.5678534571723426,
          0.4468034913894786,
          0.5575935436537051,
          0.5582388600220438,
          0.5723584841309284,
          0.5514748290351816,
          0.375,
          0.549802371541502,
          0.5787886532072578,
          0.5654477220291318,
          0.5762845849802372,
          0.5426778365955942,
          0.5312365452510118,
          0.5630434782608695,
          0.5540336656509777,
          0.5312365452510118,
          0.42826260097849583,
          0.5616978776529338,
          0.5707018831010027,
          0.5678534571723426,
          0.5842008327994875,
          0.375,
          0.5707879564381806,
          0.5707018831010027,
          0.4073457963667089,
          0.573188471223202,
          0.5550062421972535,
          0.5545566404699531,
          0.5755787116606594,
          0.5720821079523513,
          0.5466561762391817,
          0.5305829830221266,
          0.5745018655235373,
          0.5606405743080003,
          0.5714257597228782,
          0.5707018831010027,
          0.5750811485642946,
          0.573188471223202,
          0.5745018655235373,
          0.5616978776529338,
          0.5846126594237128,
          0.5593007279211857,
          0.5527718498163144,
          0.5367021276595745,
          0.5630784319863107,
          0.375,
          0.5707879564381806,
          0.375,
          0.5808282723471785,
          0.562463930990493,
          0.5172645172645173,
          0.5635982140193514,
          0.375,
          0.375,
          0.5682652503319534,
          0.5490969418098726,
          0.3885529039991283,
          0.5716286433384753,
          0.5516454101716265,
          0.48959653877019343,
          0.5624183616346333,
          0.375
         ]
        }
       ],
       "layout": {
        "template": {
         "data": {
          "bar": [
           {
            "error_x": {
             "color": "#2a3f5f"
            },
            "error_y": {
             "color": "#2a3f5f"
            },
            "marker": {
             "line": {
              "color": "#E5ECF6",
              "width": 0.5
             },
             "pattern": {
              "fillmode": "overlay",
              "size": 10,
              "solidity": 0.2
             }
            },
            "type": "bar"
           }
          ],
          "barpolar": [
           {
            "marker": {
             "line": {
              "color": "#E5ECF6",
              "width": 0.5
             },
             "pattern": {
              "fillmode": "overlay",
              "size": 10,
              "solidity": 0.2
             }
            },
            "type": "barpolar"
           }
          ],
          "carpet": [
           {
            "aaxis": {
             "endlinecolor": "#2a3f5f",
             "gridcolor": "white",
             "linecolor": "white",
             "minorgridcolor": "white",
             "startlinecolor": "#2a3f5f"
            },
            "baxis": {
             "endlinecolor": "#2a3f5f",
             "gridcolor": "white",
             "linecolor": "white",
             "minorgridcolor": "white",
             "startlinecolor": "#2a3f5f"
            },
            "type": "carpet"
           }
          ],
          "choropleth": [
           {
            "colorbar": {
             "outlinewidth": 0,
             "ticks": ""
            },
            "type": "choropleth"
           }
          ],
          "contour": [
           {
            "colorbar": {
             "outlinewidth": 0,
             "ticks": ""
            },
            "colorscale": [
             [
              0,
              "#0d0887"
             ],
             [
              0.1111111111111111,
              "#46039f"
             ],
             [
              0.2222222222222222,
              "#7201a8"
             ],
             [
              0.3333333333333333,
              "#9c179e"
             ],
             [
              0.4444444444444444,
              "#bd3786"
             ],
             [
              0.5555555555555556,
              "#d8576b"
             ],
             [
              0.6666666666666666,
              "#ed7953"
             ],
             [
              0.7777777777777778,
              "#fb9f3a"
             ],
             [
              0.8888888888888888,
              "#fdca26"
             ],
             [
              1,
              "#f0f921"
             ]
            ],
            "type": "contour"
           }
          ],
          "contourcarpet": [
           {
            "colorbar": {
             "outlinewidth": 0,
             "ticks": ""
            },
            "type": "contourcarpet"
           }
          ],
          "heatmap": [
           {
            "colorbar": {
             "outlinewidth": 0,
             "ticks": ""
            },
            "colorscale": [
             [
              0,
              "#0d0887"
             ],
             [
              0.1111111111111111,
              "#46039f"
             ],
             [
              0.2222222222222222,
              "#7201a8"
             ],
             [
              0.3333333333333333,
              "#9c179e"
             ],
             [
              0.4444444444444444,
              "#bd3786"
             ],
             [
              0.5555555555555556,
              "#d8576b"
             ],
             [
              0.6666666666666666,
              "#ed7953"
             ],
             [
              0.7777777777777778,
              "#fb9f3a"
             ],
             [
              0.8888888888888888,
              "#fdca26"
             ],
             [
              1,
              "#f0f921"
             ]
            ],
            "type": "heatmap"
           }
          ],
          "heatmapgl": [
           {
            "colorbar": {
             "outlinewidth": 0,
             "ticks": ""
            },
            "colorscale": [
             [
              0,
              "#0d0887"
             ],
             [
              0.1111111111111111,
              "#46039f"
             ],
             [
              0.2222222222222222,
              "#7201a8"
             ],
             [
              0.3333333333333333,
              "#9c179e"
             ],
             [
              0.4444444444444444,
              "#bd3786"
             ],
             [
              0.5555555555555556,
              "#d8576b"
             ],
             [
              0.6666666666666666,
              "#ed7953"
             ],
             [
              0.7777777777777778,
              "#fb9f3a"
             ],
             [
              0.8888888888888888,
              "#fdca26"
             ],
             [
              1,
              "#f0f921"
             ]
            ],
            "type": "heatmapgl"
           }
          ],
          "histogram": [
           {
            "marker": {
             "pattern": {
              "fillmode": "overlay",
              "size": 10,
              "solidity": 0.2
             }
            },
            "type": "histogram"
           }
          ],
          "histogram2d": [
           {
            "colorbar": {
             "outlinewidth": 0,
             "ticks": ""
            },
            "colorscale": [
             [
              0,
              "#0d0887"
             ],
             [
              0.1111111111111111,
              "#46039f"
             ],
             [
              0.2222222222222222,
              "#7201a8"
             ],
             [
              0.3333333333333333,
              "#9c179e"
             ],
             [
              0.4444444444444444,
              "#bd3786"
             ],
             [
              0.5555555555555556,
              "#d8576b"
             ],
             [
              0.6666666666666666,
              "#ed7953"
             ],
             [
              0.7777777777777778,
              "#fb9f3a"
             ],
             [
              0.8888888888888888,
              "#fdca26"
             ],
             [
              1,
              "#f0f921"
             ]
            ],
            "type": "histogram2d"
           }
          ],
          "histogram2dcontour": [
           {
            "colorbar": {
             "outlinewidth": 0,
             "ticks": ""
            },
            "colorscale": [
             [
              0,
              "#0d0887"
             ],
             [
              0.1111111111111111,
              "#46039f"
             ],
             [
              0.2222222222222222,
              "#7201a8"
             ],
             [
              0.3333333333333333,
              "#9c179e"
             ],
             [
              0.4444444444444444,
              "#bd3786"
             ],
             [
              0.5555555555555556,
              "#d8576b"
             ],
             [
              0.6666666666666666,
              "#ed7953"
             ],
             [
              0.7777777777777778,
              "#fb9f3a"
             ],
             [
              0.8888888888888888,
              "#fdca26"
             ],
             [
              1,
              "#f0f921"
             ]
            ],
            "type": "histogram2dcontour"
           }
          ],
          "mesh3d": [
           {
            "colorbar": {
             "outlinewidth": 0,
             "ticks": ""
            },
            "type": "mesh3d"
           }
          ],
          "parcoords": [
           {
            "line": {
             "colorbar": {
              "outlinewidth": 0,
              "ticks": ""
             }
            },
            "type": "parcoords"
           }
          ],
          "pie": [
           {
            "automargin": true,
            "type": "pie"
           }
          ],
          "scatter": [
           {
            "fillpattern": {
             "fillmode": "overlay",
             "size": 10,
             "solidity": 0.2
            },
            "type": "scatter"
           }
          ],
          "scatter3d": [
           {
            "line": {
             "colorbar": {
              "outlinewidth": 0,
              "ticks": ""
             }
            },
            "marker": {
             "colorbar": {
              "outlinewidth": 0,
              "ticks": ""
             }
            },
            "type": "scatter3d"
           }
          ],
          "scattercarpet": [
           {
            "marker": {
             "colorbar": {
              "outlinewidth": 0,
              "ticks": ""
             }
            },
            "type": "scattercarpet"
           }
          ],
          "scattergeo": [
           {
            "marker": {
             "colorbar": {
              "outlinewidth": 0,
              "ticks": ""
             }
            },
            "type": "scattergeo"
           }
          ],
          "scattergl": [
           {
            "marker": {
             "colorbar": {
              "outlinewidth": 0,
              "ticks": ""
             }
            },
            "type": "scattergl"
           }
          ],
          "scattermapbox": [
           {
            "marker": {
             "colorbar": {
              "outlinewidth": 0,
              "ticks": ""
             }
            },
            "type": "scattermapbox"
           }
          ],
          "scatterpolar": [
           {
            "marker": {
             "colorbar": {
              "outlinewidth": 0,
              "ticks": ""
             }
            },
            "type": "scatterpolar"
           }
          ],
          "scatterpolargl": [
           {
            "marker": {
             "colorbar": {
              "outlinewidth": 0,
              "ticks": ""
             }
            },
            "type": "scatterpolargl"
           }
          ],
          "scatterternary": [
           {
            "marker": {
             "colorbar": {
              "outlinewidth": 0,
              "ticks": ""
             }
            },
            "type": "scatterternary"
           }
          ],
          "surface": [
           {
            "colorbar": {
             "outlinewidth": 0,
             "ticks": ""
            },
            "colorscale": [
             [
              0,
              "#0d0887"
             ],
             [
              0.1111111111111111,
              "#46039f"
             ],
             [
              0.2222222222222222,
              "#7201a8"
             ],
             [
              0.3333333333333333,
              "#9c179e"
             ],
             [
              0.4444444444444444,
              "#bd3786"
             ],
             [
              0.5555555555555556,
              "#d8576b"
             ],
             [
              0.6666666666666666,
              "#ed7953"
             ],
             [
              0.7777777777777778,
              "#fb9f3a"
             ],
             [
              0.8888888888888888,
              "#fdca26"
             ],
             [
              1,
              "#f0f921"
             ]
            ],
            "type": "surface"
           }
          ],
          "table": [
           {
            "cells": {
             "fill": {
              "color": "#EBF0F8"
             },
             "line": {
              "color": "white"
             }
            },
            "header": {
             "fill": {
              "color": "#C8D4E3"
             },
             "line": {
              "color": "white"
             }
            },
            "type": "table"
           }
          ]
         },
         "layout": {
          "annotationdefaults": {
           "arrowcolor": "#2a3f5f",
           "arrowhead": 0,
           "arrowwidth": 1
          },
          "autotypenumbers": "strict",
          "coloraxis": {
           "colorbar": {
            "outlinewidth": 0,
            "ticks": ""
           }
          },
          "colorscale": {
           "diverging": [
            [
             0,
             "#8e0152"
            ],
            [
             0.1,
             "#c51b7d"
            ],
            [
             0.2,
             "#de77ae"
            ],
            [
             0.3,
             "#f1b6da"
            ],
            [
             0.4,
             "#fde0ef"
            ],
            [
             0.5,
             "#f7f7f7"
            ],
            [
             0.6,
             "#e6f5d0"
            ],
            [
             0.7,
             "#b8e186"
            ],
            [
             0.8,
             "#7fbc41"
            ],
            [
             0.9,
             "#4d9221"
            ],
            [
             1,
             "#276419"
            ]
           ],
           "sequential": [
            [
             0,
             "#0d0887"
            ],
            [
             0.1111111111111111,
             "#46039f"
            ],
            [
             0.2222222222222222,
             "#7201a8"
            ],
            [
             0.3333333333333333,
             "#9c179e"
            ],
            [
             0.4444444444444444,
             "#bd3786"
            ],
            [
             0.5555555555555556,
             "#d8576b"
            ],
            [
             0.6666666666666666,
             "#ed7953"
            ],
            [
             0.7777777777777778,
             "#fb9f3a"
            ],
            [
             0.8888888888888888,
             "#fdca26"
            ],
            [
             1,
             "#f0f921"
            ]
           ],
           "sequentialminus": [
            [
             0,
             "#0d0887"
            ],
            [
             0.1111111111111111,
             "#46039f"
            ],
            [
             0.2222222222222222,
             "#7201a8"
            ],
            [
             0.3333333333333333,
             "#9c179e"
            ],
            [
             0.4444444444444444,
             "#bd3786"
            ],
            [
             0.5555555555555556,
             "#d8576b"
            ],
            [
             0.6666666666666666,
             "#ed7953"
            ],
            [
             0.7777777777777778,
             "#fb9f3a"
            ],
            [
             0.8888888888888888,
             "#fdca26"
            ],
            [
             1,
             "#f0f921"
            ]
           ]
          },
          "colorway": [
           "#636efa",
           "#EF553B",
           "#00cc96",
           "#ab63fa",
           "#FFA15A",
           "#19d3f3",
           "#FF6692",
           "#B6E880",
           "#FF97FF",
           "#FECB52"
          ],
          "font": {
           "color": "#2a3f5f"
          },
          "geo": {
           "bgcolor": "white",
           "lakecolor": "white",
           "landcolor": "#E5ECF6",
           "showlakes": true,
           "showland": true,
           "subunitcolor": "white"
          },
          "hoverlabel": {
           "align": "left"
          },
          "hovermode": "closest",
          "mapbox": {
           "style": "light"
          },
          "paper_bgcolor": "white",
          "plot_bgcolor": "#E5ECF6",
          "polar": {
           "angularaxis": {
            "gridcolor": "white",
            "linecolor": "white",
            "ticks": ""
           },
           "bgcolor": "#E5ECF6",
           "radialaxis": {
            "gridcolor": "white",
            "linecolor": "white",
            "ticks": ""
           }
          },
          "scene": {
           "xaxis": {
            "backgroundcolor": "#E5ECF6",
            "gridcolor": "white",
            "gridwidth": 2,
            "linecolor": "white",
            "showbackground": true,
            "ticks": "",
            "zerolinecolor": "white"
           },
           "yaxis": {
            "backgroundcolor": "#E5ECF6",
            "gridcolor": "white",
            "gridwidth": 2,
            "linecolor": "white",
            "showbackground": true,
            "ticks": "",
            "zerolinecolor": "white"
           },
           "zaxis": {
            "backgroundcolor": "#E5ECF6",
            "gridcolor": "white",
            "gridwidth": 2,
            "linecolor": "white",
            "showbackground": true,
            "ticks": "",
            "zerolinecolor": "white"
           }
          },
          "shapedefaults": {
           "line": {
            "color": "#2a3f5f"
           }
          },
          "ternary": {
           "aaxis": {
            "gridcolor": "white",
            "linecolor": "white",
            "ticks": ""
           },
           "baxis": {
            "gridcolor": "white",
            "linecolor": "white",
            "ticks": ""
           },
           "bgcolor": "#E5ECF6",
           "caxis": {
            "gridcolor": "white",
            "linecolor": "white",
            "ticks": ""
           }
          },
          "title": {
           "x": 0.05
          },
          "xaxis": {
           "automargin": true,
           "gridcolor": "white",
           "linecolor": "white",
           "ticks": "",
           "title": {
            "standoff": 15
           },
           "zerolinecolor": "white",
           "zerolinewidth": 2
          },
          "yaxis": {
           "automargin": true,
           "gridcolor": "white",
           "linecolor": "white",
           "ticks": "",
           "title": {
            "standoff": 15
           },
           "zerolinecolor": "white",
           "zerolinewidth": 2
          }
         }
        },
        "title": {
         "text": "Slice Plot"
        },
        "xaxis": {
         "title": {
          "text": "learning_rate"
         }
        },
        "yaxis": {
         "title": {
          "text": "Objective Value"
         }
        }
       }
      }
     },
     "metadata": {},
     "output_type": "display_data"
    }
   ],
   "source": [
    "optuna.visualization.plot_slice(study, params=[\"learning_rate\"])"
   ]
  },
  {
   "cell_type": "code",
   "execution_count": 17,
   "metadata": {},
   "outputs": [
    {
     "data": {
      "application/vnd.plotly.v1+json": {
       "config": {
        "plotlyServerURL": "https://plot.ly"
       },
       "data": [
        {
         "mode": "markers",
         "name": "Objective Value",
         "type": "scatter",
         "x": [
          0,
          1,
          2,
          3,
          4,
          5,
          6,
          7,
          8,
          9,
          10,
          11,
          12,
          13,
          14,
          15,
          16,
          17,
          18,
          19,
          20,
          21,
          22,
          23,
          24,
          25,
          26,
          27,
          28,
          29,
          30,
          31,
          32,
          33,
          34,
          35,
          36,
          37,
          38,
          39,
          40,
          41,
          42,
          43,
          44,
          45,
          46,
          47,
          48,
          49,
          50,
          51,
          52,
          53,
          54,
          55,
          56,
          57,
          58,
          59,
          60,
          61,
          62,
          63,
          64,
          65,
          66,
          67,
          68,
          69,
          70,
          71,
          72,
          73,
          74,
          75,
          76,
          77,
          78,
          79,
          80,
          81,
          82,
          83,
          84,
          85,
          86,
          87,
          88,
          89,
          90,
          91,
          92,
          93,
          94,
          95,
          96,
          97,
          98,
          99,
          100,
          101,
          102,
          103,
          104,
          105,
          106,
          107,
          108,
          109,
          110,
          111,
          112,
          113,
          114,
          115,
          116,
          117,
          118,
          119,
          120,
          121,
          122,
          123,
          124,
          125,
          126,
          127,
          128,
          129,
          130,
          131,
          132,
          133,
          134,
          135,
          136,
          137,
          138,
          139,
          140,
          141,
          142,
          143,
          144,
          145,
          146,
          147,
          148,
          149,
          150,
          151,
          152,
          153,
          154,
          155,
          156,
          157,
          158,
          159,
          160,
          161,
          162,
          163,
          164,
          165,
          166,
          167,
          168,
          169,
          170,
          171,
          172,
          173,
          174,
          175,
          176,
          177,
          178,
          179,
          180,
          181,
          182,
          183,
          184,
          185,
          186,
          187,
          188,
          189,
          190,
          191,
          192,
          193,
          194,
          195,
          196,
          197,
          198,
          199,
          200,
          201,
          202,
          203,
          204,
          205,
          206,
          207,
          208,
          209,
          210,
          211,
          212,
          213,
          214,
          215,
          216,
          217,
          218,
          219,
          220,
          221,
          222,
          223,
          224,
          225,
          226,
          227,
          228,
          229,
          230,
          231,
          232,
          233,
          234,
          235,
          236,
          237,
          238,
          239,
          240,
          241,
          242,
          243,
          244,
          245,
          246,
          247,
          248,
          249,
          250,
          251,
          252,
          253,
          254,
          255,
          256,
          257,
          258,
          259,
          260,
          261,
          262,
          263,
          264,
          265,
          266,
          267,
          268,
          269,
          270,
          271,
          272,
          273,
          274,
          275,
          276,
          277,
          278,
          279,
          280,
          281,
          282,
          283,
          284,
          285,
          286,
          287,
          288,
          289,
          290,
          291,
          292,
          293,
          294,
          295,
          296,
          297,
          298,
          299
         ],
         "y": [
          0.558285250155589,
          0.5540336656509777,
          0.5600054889045715,
          0.5779963518729403,
          0.41742132450501745,
          0.41742132450501745,
          0.375,
          0.5564229249011857,
          0.5678534571723426,
          0.5593159531212628,
          0.375,
          0.5540336656509777,
          0.5797067356700384,
          0.48959653877019343,
          0.46629901960784315,
          0.4533722310126582,
          0.5334412955465587,
          0.5780192095732956,
          0.5674495818986719,
          0.525475069735007,
          0.5593159531212628,
          0.4073457963667089,
          0.5479082321187584,
          0.5607133490689746,
          0.5895979507740283,
          0.5569355913326239,
          0.4733273327332733,
          0.5736363636363636,
          0.5745018655235373,
          0.375,
          0.5745018655235373,
          0.42986689697216013,
          0.375,
          0.5588133361059124,
          0.5483146067415731,
          0.5772560528246515,
          0.525475069735007,
          0.375,
          0.5731396534148827,
          0.562734540708109,
          0.3885529039991283,
          0.5671966714478998,
          0.375,
          0.5426778365955942,
          0.5087976539589443,
          0.5696640316205533,
          0.5456600361663653,
          0.5835860820795338,
          0.5707879564381806,
          0.44851840766237655,
          0.5521789501826931,
          0.5641477133773539,
          0.5617238147309225,
          0.5545566404699531,
          0.5635982140193514,
          0.5665725711597271,
          0.375,
          0.4516240199879383,
          0.375,
          0.5384482907086885,
          0.5698112819880626,
          0.514121854275307,
          0.5606405743080003,
          0.5583988952125879,
          0.5151315789473684,
          0.5644922351328745,
          0.4073457963667089,
          0.5492580116086072,
          0.375,
          0.5540336656509777,
          0.5887390616866854,
          0.48136813681368135,
          0.375,
          0.5502729686458965,
          0.5714257597228782,
          0.5748066859329845,
          0.5696640316205533,
          0.375,
          0.5300155061655467,
          0.38983306172197035,
          0.5534384066494158,
          0.5688545688545689,
          0.5466561762391817,
          0.375,
          0.529034889086831,
          0.538936721825689,
          0.5665725711597271,
          0.5702608367060789,
          0.5714257597228782,
          0.5648290979946415,
          0.3885529039991283,
          0.5527718498163144,
          0.5582388600220438,
          0.5597455884270824,
          0.5600054889045715,
          0.5577401767628415,
          0.5712442935029074,
          0.5650907232302581,
          0.375,
          0.375,
          0.375,
          0.5672474829650228,
          0.518974358974359,
          0.5683895131086143,
          0.5689985366476463,
          0.489035013388469,
          0.5652756035264068,
          0.5431818181818182,
          0.4798618835743419,
          0.375,
          0.525475069735007,
          0.43147162781201753,
          0.5616978776529338,
          0.5707018831010027,
          0.58535087979879,
          0.5641477133773539,
          0.5582388600220438,
          0.4551222358798624,
          0.5630434782608695,
          0.5640815182575273,
          0.564832309872461,
          0.5521789501826931,
          0.5312365452510118,
          0.375,
          0.4798618835743419,
          0.5716286433384753,
          0.5797067356700384,
          0.565829606026057,
          0.375,
          0.581772784019975,
          0.5743154615510739,
          0.48180411951477653,
          0.3885529039991283,
          0.5557924662402275,
          0.5420995079278295,
          0.5557924662402275,
          0.5707879564381806,
          0.5558381866216203,
          0.5373702711750921,
          0.5337371598839489,
          0.5593007279211857,
          0.5021167357232932,
          0.5621179214929215,
          0.5130015630294352,
          0.5334412955465587,
          0.375,
          0.565992984134577,
          0.5799099126212618,
          0.375,
          0.4992858803600492,
          0.5641477133773539,
          0.4874166438293597,
          0.41471264367816096,
          0.5688545688545689,
          0.5412598237675637,
          0.4874166438293597,
          0.5672474829650228,
          0.5683895131086143,
          0.49506714168265276,
          0.5635982140193514,
          0.5699792960662526,
          0.5593159531212628,
          0.5961462450592886,
          0.5612050488211479,
          0.375,
          0.5641477133773539,
          0.5535034272658035,
          0.4516240199879383,
          0.375,
          0.5750811485642946,
          0.5720821079523513,
          0.375,
          0.5668686868686869,
          0.4737743448015212,
          0.5593159531212628,
          0.43509010369475487,
          0.5606405743080003,
          0.5583752162807942,
          0.5624183616346333,
          0.40127507469056767,
          0.5512178141580785,
          0.38983306172197035,
          0.5665725711597271,
          0.5550062421972535,
          0.5055018786902845,
          0.5672474829650228,
          0.5606405743080003,
          0.5654477220291318,
          0.5823278635778636,
          0.47598454177401545,
          0.375,
          0.5654477220291318,
          0.5696640316205533,
          0.5738543916220453,
          0.548685145700071,
          0.5489354540099302,
          0.5616978776529338,
          0.5678534571723426,
          0.5624183616346333,
          0.5474267569939552,
          0.5616978776529338,
          0.375,
          0.41589743589743594,
          0.565992984134577,
          0.5640815182575273,
          0.375,
          0.375,
          0.5755787116606594,
          0.375,
          0.42986689697216013,
          0.5745018655235373,
          0.5582388600220438,
          0.580461300279068,
          0.4798618835743419,
          0.5654477220291318,
          0.481727232096813,
          0.5334412955465587,
          0.5526389221079486,
          0.5738543916220453,
          0.5764277933395581,
          0.5714257597228782,
          0.5526389221079486,
          0.375,
          0.5630784319863107,
          0.5246345246345246,
          0.4874166438293597,
          0.5540336656509777,
          0.5676258918522649,
          0.5672474829650228,
          0.5573750800768738,
          0.5762845849802372,
          0.5823278635778636,
          0.5644922351328745,
          0.573188471223202,
          0.4608608317905156,
          0.5731396534148827,
          0.514121854275307,
          0.375,
          0.5678534571723426,
          0.4468034913894786,
          0.5575935436537051,
          0.5582388600220438,
          0.5723584841309284,
          0.5514748290351816,
          0.375,
          0.549802371541502,
          0.5787886532072578,
          0.5654477220291318,
          0.5762845849802372,
          0.5426778365955942,
          0.5312365452510118,
          0.5630434782608695,
          0.5540336656509777,
          0.5312365452510118,
          0.42826260097849583,
          0.5616978776529338,
          0.5707018831010027,
          0.5678534571723426,
          0.5842008327994875,
          0.375,
          0.5707879564381806,
          0.5707018831010027,
          0.4073457963667089,
          0.573188471223202,
          0.5550062421972535,
          0.5545566404699531,
          0.5755787116606594,
          0.5720821079523513,
          0.5466561762391817,
          0.5305829830221266,
          0.5745018655235373,
          0.5606405743080003,
          0.5714257597228782,
          0.5707018831010027,
          0.5750811485642946,
          0.573188471223202,
          0.5745018655235373,
          0.5616978776529338,
          0.5846126594237128,
          0.5593007279211857,
          0.5527718498163144,
          0.5367021276595745,
          0.5630784319863107,
          0.375,
          0.5707879564381806,
          0.375,
          0.5808282723471785,
          0.562463930990493,
          0.5172645172645173,
          0.5635982140193514,
          0.375,
          0.375,
          0.5682652503319534,
          0.5490969418098726,
          0.3885529039991283,
          0.5716286433384753,
          0.5516454101716265,
          0.48959653877019343,
          0.5624183616346333,
          0.375
         ]
        },
        {
         "mode": "lines",
         "name": "Best Value",
         "type": "scatter",
         "x": [
          0,
          1,
          2,
          3,
          4,
          5,
          6,
          7,
          8,
          9,
          10,
          11,
          12,
          13,
          14,
          15,
          16,
          17,
          18,
          19,
          20,
          21,
          22,
          23,
          24,
          25,
          26,
          27,
          28,
          29,
          30,
          31,
          32,
          33,
          34,
          35,
          36,
          37,
          38,
          39,
          40,
          41,
          42,
          43,
          44,
          45,
          46,
          47,
          48,
          49,
          50,
          51,
          52,
          53,
          54,
          55,
          56,
          57,
          58,
          59,
          60,
          61,
          62,
          63,
          64,
          65,
          66,
          67,
          68,
          69,
          70,
          71,
          72,
          73,
          74,
          75,
          76,
          77,
          78,
          79,
          80,
          81,
          82,
          83,
          84,
          85,
          86,
          87,
          88,
          89,
          90,
          91,
          92,
          93,
          94,
          95,
          96,
          97,
          98,
          99,
          100,
          101,
          102,
          103,
          104,
          105,
          106,
          107,
          108,
          109,
          110,
          111,
          112,
          113,
          114,
          115,
          116,
          117,
          118,
          119,
          120,
          121,
          122,
          123,
          124,
          125,
          126,
          127,
          128,
          129,
          130,
          131,
          132,
          133,
          134,
          135,
          136,
          137,
          138,
          139,
          140,
          141,
          142,
          143,
          144,
          145,
          146,
          147,
          148,
          149,
          150,
          151,
          152,
          153,
          154,
          155,
          156,
          157,
          158,
          159,
          160,
          161,
          162,
          163,
          164,
          165,
          166,
          167,
          168,
          169,
          170,
          171,
          172,
          173,
          174,
          175,
          176,
          177,
          178,
          179,
          180,
          181,
          182,
          183,
          184,
          185,
          186,
          187,
          188,
          189,
          190,
          191,
          192,
          193,
          194,
          195,
          196,
          197,
          198,
          199,
          200,
          201,
          202,
          203,
          204,
          205,
          206,
          207,
          208,
          209,
          210,
          211,
          212,
          213,
          214,
          215,
          216,
          217,
          218,
          219,
          220,
          221,
          222,
          223,
          224,
          225,
          226,
          227,
          228,
          229,
          230,
          231,
          232,
          233,
          234,
          235,
          236,
          237,
          238,
          239,
          240,
          241,
          242,
          243,
          244,
          245,
          246,
          247,
          248,
          249,
          250,
          251,
          252,
          253,
          254,
          255,
          256,
          257,
          258,
          259,
          260,
          261,
          262,
          263,
          264,
          265,
          266,
          267,
          268,
          269,
          270,
          271,
          272,
          273,
          274,
          275,
          276,
          277,
          278,
          279,
          280,
          281,
          282,
          283,
          284,
          285,
          286,
          287,
          288,
          289,
          290,
          291,
          292,
          293,
          294,
          295,
          296,
          297,
          298,
          299
         ],
         "y": [
          0.558285250155589,
          0.558285250155589,
          0.5600054889045715,
          0.5779963518729403,
          0.5779963518729403,
          0.5779963518729403,
          0.5779963518729403,
          0.5779963518729403,
          0.5779963518729403,
          0.5779963518729403,
          0.5779963518729403,
          0.5779963518729403,
          0.5797067356700384,
          0.5797067356700384,
          0.5797067356700384,
          0.5797067356700384,
          0.5797067356700384,
          0.5797067356700384,
          0.5797067356700384,
          0.5797067356700384,
          0.5797067356700384,
          0.5797067356700384,
          0.5797067356700384,
          0.5797067356700384,
          0.5895979507740283,
          0.5895979507740283,
          0.5895979507740283,
          0.5895979507740283,
          0.5895979507740283,
          0.5895979507740283,
          0.5895979507740283,
          0.5895979507740283,
          0.5895979507740283,
          0.5895979507740283,
          0.5895979507740283,
          0.5895979507740283,
          0.5895979507740283,
          0.5895979507740283,
          0.5895979507740283,
          0.5895979507740283,
          0.5895979507740283,
          0.5895979507740283,
          0.5895979507740283,
          0.5895979507740283,
          0.5895979507740283,
          0.5895979507740283,
          0.5895979507740283,
          0.5895979507740283,
          0.5895979507740283,
          0.5895979507740283,
          0.5895979507740283,
          0.5895979507740283,
          0.5895979507740283,
          0.5895979507740283,
          0.5895979507740283,
          0.5895979507740283,
          0.5895979507740283,
          0.5895979507740283,
          0.5895979507740283,
          0.5895979507740283,
          0.5895979507740283,
          0.5895979507740283,
          0.5895979507740283,
          0.5895979507740283,
          0.5895979507740283,
          0.5895979507740283,
          0.5895979507740283,
          0.5895979507740283,
          0.5895979507740283,
          0.5895979507740283,
          0.5895979507740283,
          0.5895979507740283,
          0.5895979507740283,
          0.5895979507740283,
          0.5895979507740283,
          0.5895979507740283,
          0.5895979507740283,
          0.5895979507740283,
          0.5895979507740283,
          0.5895979507740283,
          0.5895979507740283,
          0.5895979507740283,
          0.5895979507740283,
          0.5895979507740283,
          0.5895979507740283,
          0.5895979507740283,
          0.5895979507740283,
          0.5895979507740283,
          0.5895979507740283,
          0.5895979507740283,
          0.5895979507740283,
          0.5895979507740283,
          0.5895979507740283,
          0.5895979507740283,
          0.5895979507740283,
          0.5895979507740283,
          0.5895979507740283,
          0.5895979507740283,
          0.5895979507740283,
          0.5895979507740283,
          0.5895979507740283,
          0.5895979507740283,
          0.5895979507740283,
          0.5895979507740283,
          0.5895979507740283,
          0.5895979507740283,
          0.5895979507740283,
          0.5895979507740283,
          0.5895979507740283,
          0.5895979507740283,
          0.5895979507740283,
          0.5895979507740283,
          0.5895979507740283,
          0.5895979507740283,
          0.5895979507740283,
          0.5895979507740283,
          0.5895979507740283,
          0.5895979507740283,
          0.5895979507740283,
          0.5895979507740283,
          0.5895979507740283,
          0.5895979507740283,
          0.5895979507740283,
          0.5895979507740283,
          0.5895979507740283,
          0.5895979507740283,
          0.5895979507740283,
          0.5895979507740283,
          0.5895979507740283,
          0.5895979507740283,
          0.5895979507740283,
          0.5895979507740283,
          0.5895979507740283,
          0.5895979507740283,
          0.5895979507740283,
          0.5895979507740283,
          0.5895979507740283,
          0.5895979507740283,
          0.5895979507740283,
          0.5895979507740283,
          0.5895979507740283,
          0.5895979507740283,
          0.5895979507740283,
          0.5895979507740283,
          0.5895979507740283,
          0.5895979507740283,
          0.5895979507740283,
          0.5895979507740283,
          0.5895979507740283,
          0.5895979507740283,
          0.5895979507740283,
          0.5895979507740283,
          0.5895979507740283,
          0.5895979507740283,
          0.5895979507740283,
          0.5895979507740283,
          0.5895979507740283,
          0.5895979507740283,
          0.5895979507740283,
          0.5895979507740283,
          0.5895979507740283,
          0.5895979507740283,
          0.5961462450592886,
          0.5961462450592886,
          0.5961462450592886,
          0.5961462450592886,
          0.5961462450592886,
          0.5961462450592886,
          0.5961462450592886,
          0.5961462450592886,
          0.5961462450592886,
          0.5961462450592886,
          0.5961462450592886,
          0.5961462450592886,
          0.5961462450592886,
          0.5961462450592886,
          0.5961462450592886,
          0.5961462450592886,
          0.5961462450592886,
          0.5961462450592886,
          0.5961462450592886,
          0.5961462450592886,
          0.5961462450592886,
          0.5961462450592886,
          0.5961462450592886,
          0.5961462450592886,
          0.5961462450592886,
          0.5961462450592886,
          0.5961462450592886,
          0.5961462450592886,
          0.5961462450592886,
          0.5961462450592886,
          0.5961462450592886,
          0.5961462450592886,
          0.5961462450592886,
          0.5961462450592886,
          0.5961462450592886,
          0.5961462450592886,
          0.5961462450592886,
          0.5961462450592886,
          0.5961462450592886,
          0.5961462450592886,
          0.5961462450592886,
          0.5961462450592886,
          0.5961462450592886,
          0.5961462450592886,
          0.5961462450592886,
          0.5961462450592886,
          0.5961462450592886,
          0.5961462450592886,
          0.5961462450592886,
          0.5961462450592886,
          0.5961462450592886,
          0.5961462450592886,
          0.5961462450592886,
          0.5961462450592886,
          0.5961462450592886,
          0.5961462450592886,
          0.5961462450592886,
          0.5961462450592886,
          0.5961462450592886,
          0.5961462450592886,
          0.5961462450592886,
          0.5961462450592886,
          0.5961462450592886,
          0.5961462450592886,
          0.5961462450592886,
          0.5961462450592886,
          0.5961462450592886,
          0.5961462450592886,
          0.5961462450592886,
          0.5961462450592886,
          0.5961462450592886,
          0.5961462450592886,
          0.5961462450592886,
          0.5961462450592886,
          0.5961462450592886,
          0.5961462450592886,
          0.5961462450592886,
          0.5961462450592886,
          0.5961462450592886,
          0.5961462450592886,
          0.5961462450592886,
          0.5961462450592886,
          0.5961462450592886,
          0.5961462450592886,
          0.5961462450592886,
          0.5961462450592886,
          0.5961462450592886,
          0.5961462450592886,
          0.5961462450592886,
          0.5961462450592886,
          0.5961462450592886,
          0.5961462450592886,
          0.5961462450592886,
          0.5961462450592886,
          0.5961462450592886,
          0.5961462450592886,
          0.5961462450592886,
          0.5961462450592886,
          0.5961462450592886,
          0.5961462450592886,
          0.5961462450592886,
          0.5961462450592886,
          0.5961462450592886,
          0.5961462450592886,
          0.5961462450592886,
          0.5961462450592886,
          0.5961462450592886,
          0.5961462450592886,
          0.5961462450592886,
          0.5961462450592886,
          0.5961462450592886,
          0.5961462450592886,
          0.5961462450592886,
          0.5961462450592886,
          0.5961462450592886,
          0.5961462450592886,
          0.5961462450592886,
          0.5961462450592886,
          0.5961462450592886,
          0.5961462450592886,
          0.5961462450592886,
          0.5961462450592886,
          0.5961462450592886,
          0.5961462450592886,
          0.5961462450592886,
          0.5961462450592886,
          0.5961462450592886,
          0.5961462450592886,
          0.5961462450592886,
          0.5961462450592886,
          0.5961462450592886,
          0.5961462450592886,
          0.5961462450592886,
          0.5961462450592886,
          0.5961462450592886,
          0.5961462450592886,
          0.5961462450592886,
          0.5961462450592886
         ]
        },
        {
         "marker": {
          "color": "#cccccc"
         },
         "mode": "markers",
         "name": "Infeasible Trial",
         "showlegend": false,
         "type": "scatter",
         "x": [],
         "y": []
        }
       ],
       "layout": {
        "template": {
         "data": {
          "bar": [
           {
            "error_x": {
             "color": "#2a3f5f"
            },
            "error_y": {
             "color": "#2a3f5f"
            },
            "marker": {
             "line": {
              "color": "#E5ECF6",
              "width": 0.5
             },
             "pattern": {
              "fillmode": "overlay",
              "size": 10,
              "solidity": 0.2
             }
            },
            "type": "bar"
           }
          ],
          "barpolar": [
           {
            "marker": {
             "line": {
              "color": "#E5ECF6",
              "width": 0.5
             },
             "pattern": {
              "fillmode": "overlay",
              "size": 10,
              "solidity": 0.2
             }
            },
            "type": "barpolar"
           }
          ],
          "carpet": [
           {
            "aaxis": {
             "endlinecolor": "#2a3f5f",
             "gridcolor": "white",
             "linecolor": "white",
             "minorgridcolor": "white",
             "startlinecolor": "#2a3f5f"
            },
            "baxis": {
             "endlinecolor": "#2a3f5f",
             "gridcolor": "white",
             "linecolor": "white",
             "minorgridcolor": "white",
             "startlinecolor": "#2a3f5f"
            },
            "type": "carpet"
           }
          ],
          "choropleth": [
           {
            "colorbar": {
             "outlinewidth": 0,
             "ticks": ""
            },
            "type": "choropleth"
           }
          ],
          "contour": [
           {
            "colorbar": {
             "outlinewidth": 0,
             "ticks": ""
            },
            "colorscale": [
             [
              0,
              "#0d0887"
             ],
             [
              0.1111111111111111,
              "#46039f"
             ],
             [
              0.2222222222222222,
              "#7201a8"
             ],
             [
              0.3333333333333333,
              "#9c179e"
             ],
             [
              0.4444444444444444,
              "#bd3786"
             ],
             [
              0.5555555555555556,
              "#d8576b"
             ],
             [
              0.6666666666666666,
              "#ed7953"
             ],
             [
              0.7777777777777778,
              "#fb9f3a"
             ],
             [
              0.8888888888888888,
              "#fdca26"
             ],
             [
              1,
              "#f0f921"
             ]
            ],
            "type": "contour"
           }
          ],
          "contourcarpet": [
           {
            "colorbar": {
             "outlinewidth": 0,
             "ticks": ""
            },
            "type": "contourcarpet"
           }
          ],
          "heatmap": [
           {
            "colorbar": {
             "outlinewidth": 0,
             "ticks": ""
            },
            "colorscale": [
             [
              0,
              "#0d0887"
             ],
             [
              0.1111111111111111,
              "#46039f"
             ],
             [
              0.2222222222222222,
              "#7201a8"
             ],
             [
              0.3333333333333333,
              "#9c179e"
             ],
             [
              0.4444444444444444,
              "#bd3786"
             ],
             [
              0.5555555555555556,
              "#d8576b"
             ],
             [
              0.6666666666666666,
              "#ed7953"
             ],
             [
              0.7777777777777778,
              "#fb9f3a"
             ],
             [
              0.8888888888888888,
              "#fdca26"
             ],
             [
              1,
              "#f0f921"
             ]
            ],
            "type": "heatmap"
           }
          ],
          "heatmapgl": [
           {
            "colorbar": {
             "outlinewidth": 0,
             "ticks": ""
            },
            "colorscale": [
             [
              0,
              "#0d0887"
             ],
             [
              0.1111111111111111,
              "#46039f"
             ],
             [
              0.2222222222222222,
              "#7201a8"
             ],
             [
              0.3333333333333333,
              "#9c179e"
             ],
             [
              0.4444444444444444,
              "#bd3786"
             ],
             [
              0.5555555555555556,
              "#d8576b"
             ],
             [
              0.6666666666666666,
              "#ed7953"
             ],
             [
              0.7777777777777778,
              "#fb9f3a"
             ],
             [
              0.8888888888888888,
              "#fdca26"
             ],
             [
              1,
              "#f0f921"
             ]
            ],
            "type": "heatmapgl"
           }
          ],
          "histogram": [
           {
            "marker": {
             "pattern": {
              "fillmode": "overlay",
              "size": 10,
              "solidity": 0.2
             }
            },
            "type": "histogram"
           }
          ],
          "histogram2d": [
           {
            "colorbar": {
             "outlinewidth": 0,
             "ticks": ""
            },
            "colorscale": [
             [
              0,
              "#0d0887"
             ],
             [
              0.1111111111111111,
              "#46039f"
             ],
             [
              0.2222222222222222,
              "#7201a8"
             ],
             [
              0.3333333333333333,
              "#9c179e"
             ],
             [
              0.4444444444444444,
              "#bd3786"
             ],
             [
              0.5555555555555556,
              "#d8576b"
             ],
             [
              0.6666666666666666,
              "#ed7953"
             ],
             [
              0.7777777777777778,
              "#fb9f3a"
             ],
             [
              0.8888888888888888,
              "#fdca26"
             ],
             [
              1,
              "#f0f921"
             ]
            ],
            "type": "histogram2d"
           }
          ],
          "histogram2dcontour": [
           {
            "colorbar": {
             "outlinewidth": 0,
             "ticks": ""
            },
            "colorscale": [
             [
              0,
              "#0d0887"
             ],
             [
              0.1111111111111111,
              "#46039f"
             ],
             [
              0.2222222222222222,
              "#7201a8"
             ],
             [
              0.3333333333333333,
              "#9c179e"
             ],
             [
              0.4444444444444444,
              "#bd3786"
             ],
             [
              0.5555555555555556,
              "#d8576b"
             ],
             [
              0.6666666666666666,
              "#ed7953"
             ],
             [
              0.7777777777777778,
              "#fb9f3a"
             ],
             [
              0.8888888888888888,
              "#fdca26"
             ],
             [
              1,
              "#f0f921"
             ]
            ],
            "type": "histogram2dcontour"
           }
          ],
          "mesh3d": [
           {
            "colorbar": {
             "outlinewidth": 0,
             "ticks": ""
            },
            "type": "mesh3d"
           }
          ],
          "parcoords": [
           {
            "line": {
             "colorbar": {
              "outlinewidth": 0,
              "ticks": ""
             }
            },
            "type": "parcoords"
           }
          ],
          "pie": [
           {
            "automargin": true,
            "type": "pie"
           }
          ],
          "scatter": [
           {
            "fillpattern": {
             "fillmode": "overlay",
             "size": 10,
             "solidity": 0.2
            },
            "type": "scatter"
           }
          ],
          "scatter3d": [
           {
            "line": {
             "colorbar": {
              "outlinewidth": 0,
              "ticks": ""
             }
            },
            "marker": {
             "colorbar": {
              "outlinewidth": 0,
              "ticks": ""
             }
            },
            "type": "scatter3d"
           }
          ],
          "scattercarpet": [
           {
            "marker": {
             "colorbar": {
              "outlinewidth": 0,
              "ticks": ""
             }
            },
            "type": "scattercarpet"
           }
          ],
          "scattergeo": [
           {
            "marker": {
             "colorbar": {
              "outlinewidth": 0,
              "ticks": ""
             }
            },
            "type": "scattergeo"
           }
          ],
          "scattergl": [
           {
            "marker": {
             "colorbar": {
              "outlinewidth": 0,
              "ticks": ""
             }
            },
            "type": "scattergl"
           }
          ],
          "scattermapbox": [
           {
            "marker": {
             "colorbar": {
              "outlinewidth": 0,
              "ticks": ""
             }
            },
            "type": "scattermapbox"
           }
          ],
          "scatterpolar": [
           {
            "marker": {
             "colorbar": {
              "outlinewidth": 0,
              "ticks": ""
             }
            },
            "type": "scatterpolar"
           }
          ],
          "scatterpolargl": [
           {
            "marker": {
             "colorbar": {
              "outlinewidth": 0,
              "ticks": ""
             }
            },
            "type": "scatterpolargl"
           }
          ],
          "scatterternary": [
           {
            "marker": {
             "colorbar": {
              "outlinewidth": 0,
              "ticks": ""
             }
            },
            "type": "scatterternary"
           }
          ],
          "surface": [
           {
            "colorbar": {
             "outlinewidth": 0,
             "ticks": ""
            },
            "colorscale": [
             [
              0,
              "#0d0887"
             ],
             [
              0.1111111111111111,
              "#46039f"
             ],
             [
              0.2222222222222222,
              "#7201a8"
             ],
             [
              0.3333333333333333,
              "#9c179e"
             ],
             [
              0.4444444444444444,
              "#bd3786"
             ],
             [
              0.5555555555555556,
              "#d8576b"
             ],
             [
              0.6666666666666666,
              "#ed7953"
             ],
             [
              0.7777777777777778,
              "#fb9f3a"
             ],
             [
              0.8888888888888888,
              "#fdca26"
             ],
             [
              1,
              "#f0f921"
             ]
            ],
            "type": "surface"
           }
          ],
          "table": [
           {
            "cells": {
             "fill": {
              "color": "#EBF0F8"
             },
             "line": {
              "color": "white"
             }
            },
            "header": {
             "fill": {
              "color": "#C8D4E3"
             },
             "line": {
              "color": "white"
             }
            },
            "type": "table"
           }
          ]
         },
         "layout": {
          "annotationdefaults": {
           "arrowcolor": "#2a3f5f",
           "arrowhead": 0,
           "arrowwidth": 1
          },
          "autotypenumbers": "strict",
          "coloraxis": {
           "colorbar": {
            "outlinewidth": 0,
            "ticks": ""
           }
          },
          "colorscale": {
           "diverging": [
            [
             0,
             "#8e0152"
            ],
            [
             0.1,
             "#c51b7d"
            ],
            [
             0.2,
             "#de77ae"
            ],
            [
             0.3,
             "#f1b6da"
            ],
            [
             0.4,
             "#fde0ef"
            ],
            [
             0.5,
             "#f7f7f7"
            ],
            [
             0.6,
             "#e6f5d0"
            ],
            [
             0.7,
             "#b8e186"
            ],
            [
             0.8,
             "#7fbc41"
            ],
            [
             0.9,
             "#4d9221"
            ],
            [
             1,
             "#276419"
            ]
           ],
           "sequential": [
            [
             0,
             "#0d0887"
            ],
            [
             0.1111111111111111,
             "#46039f"
            ],
            [
             0.2222222222222222,
             "#7201a8"
            ],
            [
             0.3333333333333333,
             "#9c179e"
            ],
            [
             0.4444444444444444,
             "#bd3786"
            ],
            [
             0.5555555555555556,
             "#d8576b"
            ],
            [
             0.6666666666666666,
             "#ed7953"
            ],
            [
             0.7777777777777778,
             "#fb9f3a"
            ],
            [
             0.8888888888888888,
             "#fdca26"
            ],
            [
             1,
             "#f0f921"
            ]
           ],
           "sequentialminus": [
            [
             0,
             "#0d0887"
            ],
            [
             0.1111111111111111,
             "#46039f"
            ],
            [
             0.2222222222222222,
             "#7201a8"
            ],
            [
             0.3333333333333333,
             "#9c179e"
            ],
            [
             0.4444444444444444,
             "#bd3786"
            ],
            [
             0.5555555555555556,
             "#d8576b"
            ],
            [
             0.6666666666666666,
             "#ed7953"
            ],
            [
             0.7777777777777778,
             "#fb9f3a"
            ],
            [
             0.8888888888888888,
             "#fdca26"
            ],
            [
             1,
             "#f0f921"
            ]
           ]
          },
          "colorway": [
           "#636efa",
           "#EF553B",
           "#00cc96",
           "#ab63fa",
           "#FFA15A",
           "#19d3f3",
           "#FF6692",
           "#B6E880",
           "#FF97FF",
           "#FECB52"
          ],
          "font": {
           "color": "#2a3f5f"
          },
          "geo": {
           "bgcolor": "white",
           "lakecolor": "white",
           "landcolor": "#E5ECF6",
           "showlakes": true,
           "showland": true,
           "subunitcolor": "white"
          },
          "hoverlabel": {
           "align": "left"
          },
          "hovermode": "closest",
          "mapbox": {
           "style": "light"
          },
          "paper_bgcolor": "white",
          "plot_bgcolor": "#E5ECF6",
          "polar": {
           "angularaxis": {
            "gridcolor": "white",
            "linecolor": "white",
            "ticks": ""
           },
           "bgcolor": "#E5ECF6",
           "radialaxis": {
            "gridcolor": "white",
            "linecolor": "white",
            "ticks": ""
           }
          },
          "scene": {
           "xaxis": {
            "backgroundcolor": "#E5ECF6",
            "gridcolor": "white",
            "gridwidth": 2,
            "linecolor": "white",
            "showbackground": true,
            "ticks": "",
            "zerolinecolor": "white"
           },
           "yaxis": {
            "backgroundcolor": "#E5ECF6",
            "gridcolor": "white",
            "gridwidth": 2,
            "linecolor": "white",
            "showbackground": true,
            "ticks": "",
            "zerolinecolor": "white"
           },
           "zaxis": {
            "backgroundcolor": "#E5ECF6",
            "gridcolor": "white",
            "gridwidth": 2,
            "linecolor": "white",
            "showbackground": true,
            "ticks": "",
            "zerolinecolor": "white"
           }
          },
          "shapedefaults": {
           "line": {
            "color": "#2a3f5f"
           }
          },
          "ternary": {
           "aaxis": {
            "gridcolor": "white",
            "linecolor": "white",
            "ticks": ""
           },
           "baxis": {
            "gridcolor": "white",
            "linecolor": "white",
            "ticks": ""
           },
           "bgcolor": "#E5ECF6",
           "caxis": {
            "gridcolor": "white",
            "linecolor": "white",
            "ticks": ""
           }
          },
          "title": {
           "x": 0.05
          },
          "xaxis": {
           "automargin": true,
           "gridcolor": "white",
           "linecolor": "white",
           "ticks": "",
           "title": {
            "standoff": 15
           },
           "zerolinecolor": "white",
           "zerolinewidth": 2
          },
          "yaxis": {
           "automargin": true,
           "gridcolor": "white",
           "linecolor": "white",
           "ticks": "",
           "title": {
            "standoff": 15
           },
           "zerolinecolor": "white",
           "zerolinewidth": 2
          }
         }
        },
        "title": {
         "text": "Optimization History Plot"
        },
        "xaxis": {
         "title": {
          "text": "Trial"
         }
        },
        "yaxis": {
         "title": {
          "text": "Objective Value"
         }
        }
       }
      }
     },
     "metadata": {},
     "output_type": "display_data"
    }
   ],
   "source": [
    "optuna.visualization.plot_optimization_history(study)"
   ]
  }
 ],
 "metadata": {
  "kernelspec": {
   "display_name": ".venv",
   "language": "python",
   "name": "python3"
  },
  "language_info": {
   "codemirror_mode": {
    "name": "ipython",
    "version": 3
   },
   "file_extension": ".py",
   "mimetype": "text/x-python",
   "name": "python",
   "nbconvert_exporter": "python",
   "pygments_lexer": "ipython3",
   "version": "3.11.8"
  }
 },
 "nbformat": 4,
 "nbformat_minor": 2
}
