{
 "cells": [
  {
   "cell_type": "markdown",
   "metadata": {},
   "source": [
    "### <font color=\"orange\">ライブラリ読み込み</font>"
   ]
  },
  {
   "cell_type": "code",
   "execution_count": 1,
   "metadata": {},
   "outputs": [],
   "source": [
    "import numpy as np\n",
    "import pandas as pd\n",
    "import matplotlib.pyplot as plt"
   ]
  },
  {
   "cell_type": "code",
   "execution_count": 2,
   "metadata": {},
   "outputs": [],
   "source": [
    "pd.set_option('display.max_rows', 50)\n",
    "pd.set_option('display.max_columns', 50)"
   ]
  },
  {
   "cell_type": "code",
   "execution_count": 3,
   "metadata": {},
   "outputs": [],
   "source": [
    "# データフレームを水平に表示する。\n",
    "def show_many_dfs(*dfs, n=10):\n",
    "    class HorizontalDisplay:\n",
    "        def _repr_html_(self):\n",
    "            template = '<div style=\"float: left; padding: 5px;\">{}</div>'\n",
    "            return  ''.join(template.format(df.head(n)._repr_html_()) for df in dfs)\n",
    "    return HorizontalDisplay()"
   ]
  },
  {
   "cell_type": "markdown",
   "metadata": {},
   "source": [
    "### <font color=\"orange\">データ読み込み</font>"
   ]
  },
  {
   "cell_type": "code",
   "execution_count": 4,
   "metadata": {},
   "outputs": [],
   "source": [
    "data_path = \"./make_data_for_mainmodel/maked_data.csv\""
   ]
  },
  {
   "cell_type": "code",
   "execution_count": 5,
   "metadata": {},
   "outputs": [
    {
     "data": {
      "text/html": [
       "<div>\n",
       "<style scoped>\n",
       "    .dataframe tbody tr th:only-of-type {\n",
       "        vertical-align: middle;\n",
       "    }\n",
       "\n",
       "    .dataframe tbody tr th {\n",
       "        vertical-align: top;\n",
       "    }\n",
       "\n",
       "    .dataframe thead th {\n",
       "        text-align: right;\n",
       "    }\n",
       "</style>\n",
       "<table border=\"1\" class=\"dataframe\">\n",
       "  <thead>\n",
       "    <tr style=\"text-align: right;\">\n",
       "      <th></th>\n",
       "      <th>pitch_name</th>\n",
       "      <th>game_year</th>\n",
       "      <th>game_month</th>\n",
       "      <th>game_day</th>\n",
       "      <th>home_team</th>\n",
       "      <th>LAA_score</th>\n",
       "      <th>ENEMY_score</th>\n",
       "      <th>score_difference</th>\n",
       "      <th>is_LAA_score_is_higher</th>\n",
       "      <th>stand</th>\n",
       "      <th>on_3b</th>\n",
       "      <th>on_2b</th>\n",
       "      <th>on_1b</th>\n",
       "      <th>count_runner</th>\n",
       "      <th>inning</th>\n",
       "      <th>pitch_number</th>\n",
       "      <th>pitch_count_per_inning</th>\n",
       "      <th>pitch_count_per_game</th>\n",
       "      <th>outs_when_up</th>\n",
       "      <th>balls</th>\n",
       "      <th>strikes</th>\n",
       "      <th>sz_top</th>\n",
       "      <th>sz_bot</th>\n",
       "      <th>is_first_pitch_number</th>\n",
       "      <th>release_speed</th>\n",
       "      <th>release_pos_x</th>\n",
       "      <th>release_pos_y</th>\n",
       "      <th>is_incourse_ball</th>\n",
       "      <th>is_high_ball</th>\n",
       "      <th>release_pos_z</th>\n",
       "      <th>release_spin_rate</th>\n",
       "      <th>release_extension</th>\n",
       "      <th>plate_x</th>\n",
       "      <th>plate_z</th>\n",
       "      <th>events</th>\n",
       "      <th>description</th>\n",
       "      <th>zone</th>\n",
       "      <th>type</th>\n",
       "      <th>hc_x</th>\n",
       "      <th>hc_y</th>\n",
       "      <th>one_pitch_ago</th>\n",
       "      <th>two_pitches_ago</th>\n",
       "      <th>three_pitches_ago</th>\n",
       "    </tr>\n",
       "  </thead>\n",
       "  <tbody>\n",
       "    <tr>\n",
       "      <th>0</th>\n",
       "      <td>1</td>\n",
       "      <td>2018</td>\n",
       "      <td>4</td>\n",
       "      <td>1</td>\n",
       "      <td>1</td>\n",
       "      <td>0</td>\n",
       "      <td>0</td>\n",
       "      <td>0</td>\n",
       "      <td>0</td>\n",
       "      <td>0</td>\n",
       "      <td>0</td>\n",
       "      <td>0</td>\n",
       "      <td>0</td>\n",
       "      <td>0</td>\n",
       "      <td>1</td>\n",
       "      <td>1</td>\n",
       "      <td>1</td>\n",
       "      <td>1</td>\n",
       "      <td>0</td>\n",
       "      <td>0</td>\n",
       "      <td>0</td>\n",
       "      <td>3.54</td>\n",
       "      <td>1.60</td>\n",
       "      <td>1</td>\n",
       "      <td>NaN</td>\n",
       "      <td>NaN</td>\n",
       "      <td>NaN</td>\n",
       "      <td>NaN</td>\n",
       "      <td>NaN</td>\n",
       "      <td>NaN</td>\n",
       "      <td>NaN</td>\n",
       "      <td>NaN</td>\n",
       "      <td>NaN</td>\n",
       "      <td>NaN</td>\n",
       "      <td>NaN</td>\n",
       "      <td>NaN</td>\n",
       "      <td>NaN</td>\n",
       "      <td>NaN</td>\n",
       "      <td>NaN</td>\n",
       "      <td>NaN</td>\n",
       "      <td>NaN</td>\n",
       "      <td>NaN</td>\n",
       "      <td>NaN</td>\n",
       "    </tr>\n",
       "    <tr>\n",
       "      <th>1</th>\n",
       "      <td>0</td>\n",
       "      <td>2018</td>\n",
       "      <td>4</td>\n",
       "      <td>1</td>\n",
       "      <td>1</td>\n",
       "      <td>0</td>\n",
       "      <td>0</td>\n",
       "      <td>0</td>\n",
       "      <td>0</td>\n",
       "      <td>0</td>\n",
       "      <td>0</td>\n",
       "      <td>0</td>\n",
       "      <td>0</td>\n",
       "      <td>0</td>\n",
       "      <td>1</td>\n",
       "      <td>2</td>\n",
       "      <td>2</td>\n",
       "      <td>2</td>\n",
       "      <td>0</td>\n",
       "      <td>0</td>\n",
       "      <td>1</td>\n",
       "      <td>3.33</td>\n",
       "      <td>1.46</td>\n",
       "      <td>0</td>\n",
       "      <td>96.4</td>\n",
       "      <td>-2.16</td>\n",
       "      <td>54.05</td>\n",
       "      <td>1.0</td>\n",
       "      <td>0.0</td>\n",
       "      <td>6.20</td>\n",
       "      <td>2107.0</td>\n",
       "      <td>6.4</td>\n",
       "      <td>-0.36</td>\n",
       "      <td>2.81</td>\n",
       "      <td>19.0</td>\n",
       "      <td>2.0</td>\n",
       "      <td>4.0</td>\n",
       "      <td>0.0</td>\n",
       "      <td>0.0</td>\n",
       "      <td>0.0</td>\n",
       "      <td>4-Seam Fastball</td>\n",
       "      <td>NaN</td>\n",
       "      <td>NaN</td>\n",
       "    </tr>\n",
       "    <tr>\n",
       "      <th>2</th>\n",
       "      <td>0</td>\n",
       "      <td>2018</td>\n",
       "      <td>4</td>\n",
       "      <td>1</td>\n",
       "      <td>1</td>\n",
       "      <td>0</td>\n",
       "      <td>0</td>\n",
       "      <td>0</td>\n",
       "      <td>0</td>\n",
       "      <td>0</td>\n",
       "      <td>0</td>\n",
       "      <td>0</td>\n",
       "      <td>0</td>\n",
       "      <td>0</td>\n",
       "      <td>1</td>\n",
       "      <td>3</td>\n",
       "      <td>3</td>\n",
       "      <td>3</td>\n",
       "      <td>0</td>\n",
       "      <td>0</td>\n",
       "      <td>2</td>\n",
       "      <td>3.59</td>\n",
       "      <td>1.66</td>\n",
       "      <td>0</td>\n",
       "      <td>81.5</td>\n",
       "      <td>-2.36</td>\n",
       "      <td>54.42</td>\n",
       "      <td>0.0</td>\n",
       "      <td>1.0</td>\n",
       "      <td>6.03</td>\n",
       "      <td>2355.0</td>\n",
       "      <td>6.1</td>\n",
       "      <td>0.21</td>\n",
       "      <td>3.43</td>\n",
       "      <td>19.0</td>\n",
       "      <td>9.0</td>\n",
       "      <td>2.0</td>\n",
       "      <td>0.0</td>\n",
       "      <td>0.0</td>\n",
       "      <td>0.0</td>\n",
       "      <td>Sweeper</td>\n",
       "      <td>4-Seam Fastball</td>\n",
       "      <td>NaN</td>\n",
       "    </tr>\n",
       "    <tr>\n",
       "      <th>3</th>\n",
       "      <td>0</td>\n",
       "      <td>2018</td>\n",
       "      <td>4</td>\n",
       "      <td>1</td>\n",
       "      <td>1</td>\n",
       "      <td>0</td>\n",
       "      <td>0</td>\n",
       "      <td>0</td>\n",
       "      <td>0</td>\n",
       "      <td>0</td>\n",
       "      <td>0</td>\n",
       "      <td>0</td>\n",
       "      <td>0</td>\n",
       "      <td>0</td>\n",
       "      <td>1</td>\n",
       "      <td>4</td>\n",
       "      <td>4</td>\n",
       "      <td>4</td>\n",
       "      <td>0</td>\n",
       "      <td>1</td>\n",
       "      <td>2</td>\n",
       "      <td>3.33</td>\n",
       "      <td>1.46</td>\n",
       "      <td>0</td>\n",
       "      <td>83.6</td>\n",
       "      <td>-2.36</td>\n",
       "      <td>54.43</td>\n",
       "      <td>0.0</td>\n",
       "      <td>1.0</td>\n",
       "      <td>6.01</td>\n",
       "      <td>2368.0</td>\n",
       "      <td>6.1</td>\n",
       "      <td>0.24</td>\n",
       "      <td>3.67</td>\n",
       "      <td>19.0</td>\n",
       "      <td>0.0</td>\n",
       "      <td>2.0</td>\n",
       "      <td>1.0</td>\n",
       "      <td>0.0</td>\n",
       "      <td>0.0</td>\n",
       "      <td>Sweeper</td>\n",
       "      <td>Sweeper</td>\n",
       "      <td>4-Seam Fastball</td>\n",
       "    </tr>\n",
       "    <tr>\n",
       "      <th>4</th>\n",
       "      <td>1</td>\n",
       "      <td>2018</td>\n",
       "      <td>4</td>\n",
       "      <td>1</td>\n",
       "      <td>1</td>\n",
       "      <td>0</td>\n",
       "      <td>0</td>\n",
       "      <td>0</td>\n",
       "      <td>0</td>\n",
       "      <td>1</td>\n",
       "      <td>0</td>\n",
       "      <td>0</td>\n",
       "      <td>0</td>\n",
       "      <td>0</td>\n",
       "      <td>1</td>\n",
       "      <td>1</td>\n",
       "      <td>5</td>\n",
       "      <td>5</td>\n",
       "      <td>1</td>\n",
       "      <td>0</td>\n",
       "      <td>0</td>\n",
       "      <td>3.22</td>\n",
       "      <td>1.40</td>\n",
       "      <td>1</td>\n",
       "      <td>NaN</td>\n",
       "      <td>NaN</td>\n",
       "      <td>NaN</td>\n",
       "      <td>NaN</td>\n",
       "      <td>NaN</td>\n",
       "      <td>NaN</td>\n",
       "      <td>NaN</td>\n",
       "      <td>NaN</td>\n",
       "      <td>NaN</td>\n",
       "      <td>NaN</td>\n",
       "      <td>NaN</td>\n",
       "      <td>NaN</td>\n",
       "      <td>NaN</td>\n",
       "      <td>NaN</td>\n",
       "      <td>NaN</td>\n",
       "      <td>NaN</td>\n",
       "      <td>NaN</td>\n",
       "      <td>NaN</td>\n",
       "      <td>NaN</td>\n",
       "    </tr>\n",
       "  </tbody>\n",
       "</table>\n",
       "</div>"
      ],
      "text/plain": [
       "   pitch_name  game_year  game_month  game_day  home_team  LAA_score  \\\n",
       "0           1       2018           4         1          1          0   \n",
       "1           0       2018           4         1          1          0   \n",
       "2           0       2018           4         1          1          0   \n",
       "3           0       2018           4         1          1          0   \n",
       "4           1       2018           4         1          1          0   \n",
       "\n",
       "   ENEMY_score  score_difference  is_LAA_score_is_higher  stand  on_3b  on_2b  \\\n",
       "0            0                 0                       0      0      0      0   \n",
       "1            0                 0                       0      0      0      0   \n",
       "2            0                 0                       0      0      0      0   \n",
       "3            0                 0                       0      0      0      0   \n",
       "4            0                 0                       0      1      0      0   \n",
       "\n",
       "   on_1b  count_runner  inning  pitch_number  pitch_count_per_inning  \\\n",
       "0      0             0       1             1                       1   \n",
       "1      0             0       1             2                       2   \n",
       "2      0             0       1             3                       3   \n",
       "3      0             0       1             4                       4   \n",
       "4      0             0       1             1                       5   \n",
       "\n",
       "   pitch_count_per_game  outs_when_up  balls  strikes  sz_top  sz_bot  \\\n",
       "0                     1             0      0        0    3.54    1.60   \n",
       "1                     2             0      0        1    3.33    1.46   \n",
       "2                     3             0      0        2    3.59    1.66   \n",
       "3                     4             0      1        2    3.33    1.46   \n",
       "4                     5             1      0        0    3.22    1.40   \n",
       "\n",
       "   is_first_pitch_number  release_speed  release_pos_x  release_pos_y  \\\n",
       "0                      1            NaN            NaN            NaN   \n",
       "1                      0           96.4          -2.16          54.05   \n",
       "2                      0           81.5          -2.36          54.42   \n",
       "3                      0           83.6          -2.36          54.43   \n",
       "4                      1            NaN            NaN            NaN   \n",
       "\n",
       "   is_incourse_ball  is_high_ball  release_pos_z  release_spin_rate  \\\n",
       "0               NaN           NaN            NaN                NaN   \n",
       "1               1.0           0.0           6.20             2107.0   \n",
       "2               0.0           1.0           6.03             2355.0   \n",
       "3               0.0           1.0           6.01             2368.0   \n",
       "4               NaN           NaN            NaN                NaN   \n",
       "\n",
       "   release_extension  plate_x  plate_z  events  description  zone  type  hc_x  \\\n",
       "0                NaN      NaN      NaN     NaN          NaN   NaN   NaN   NaN   \n",
       "1                6.4    -0.36     2.81    19.0          2.0   4.0   0.0   0.0   \n",
       "2                6.1     0.21     3.43    19.0          9.0   2.0   0.0   0.0   \n",
       "3                6.1     0.24     3.67    19.0          0.0   2.0   1.0   0.0   \n",
       "4                NaN      NaN      NaN     NaN          NaN   NaN   NaN   NaN   \n",
       "\n",
       "   hc_y    one_pitch_ago  two_pitches_ago three_pitches_ago  \n",
       "0   NaN              NaN              NaN               NaN  \n",
       "1   0.0  4-Seam Fastball              NaN               NaN  \n",
       "2   0.0          Sweeper  4-Seam Fastball               NaN  \n",
       "3   0.0          Sweeper          Sweeper   4-Seam Fastball  \n",
       "4   NaN              NaN              NaN               NaN  "
      ]
     },
     "execution_count": 5,
     "metadata": {},
     "output_type": "execute_result"
    }
   ],
   "source": [
    "data = pd.read_csv(data_path)\n",
    "data.head()"
   ]
  },
  {
   "cell_type": "code",
   "execution_count": 6,
   "metadata": {},
   "outputs": [
    {
     "name": "stdout",
     "output_type": "stream",
     "text": [
      "2022年 : (2629, 43)\n",
      "2023年 : (2094, 43)\n"
     ]
    }
   ],
   "source": [
    "print(f\"2022年 : {data[data['game_year'].isin([2022])].shape}\")\n",
    "print(f\"2023年 : {data[data['game_year'].isin([2023])].shape}\")"
   ]
  },
  {
   "cell_type": "markdown",
   "metadata": {},
   "source": [
    "### <font color=\"orange\">データタイプ確認</font>"
   ]
  },
  {
   "cell_type": "code",
   "execution_count": 7,
   "metadata": {},
   "outputs": [
    {
     "data": {
      "text/plain": [
       "['one_pitch_ago', 'two_pitches_ago', 'three_pitches_ago']"
      ]
     },
     "execution_count": 7,
     "metadata": {},
     "output_type": "execute_result"
    }
   ],
   "source": [
    "# int, float以外のカラムがあるか確認\n",
    "data.select_dtypes(exclude=[\"int\", \"float\"]).columns.to_list()"
   ]
  },
  {
   "cell_type": "markdown",
   "metadata": {},
   "source": [
    "### <font color=\"orange\">train_data, test_dataに分割</font>"
   ]
  },
  {
   "cell_type": "code",
   "execution_count": 8,
   "metadata": {},
   "outputs": [],
   "source": [
    "select_game_year = [2022, 2023]"
   ]
  },
  {
   "cell_type": "code",
   "execution_count": 9,
   "metadata": {},
   "outputs": [
    {
     "data": {
      "text/plain": [
       "((2103, 39), (526, 39))"
      ]
     },
     "execution_count": 9,
     "metadata": {},
     "output_type": "execute_result"
    }
   ],
   "source": [
    "def make_train_test_data(select_game_year=select_game_year):\n",
    "    \n",
    "    data = pd.read_csv(data_path)\n",
    "    \n",
    "    categolical_list = [\n",
    "        \"outs_when_up\",\n",
    "        \"balls\",\n",
    "        \"strikes\",\n",
    "        \"events\",\n",
    "        \"description\",\n",
    "        \"zone\",\n",
    "        \"type\",\n",
    "        \"one_pitch_ago\",\n",
    "        \"two_pitches_ago\",\n",
    "        \"three_pitches_ago\",\n",
    "    ]\n",
    "    \n",
    "    data[categolical_list] = data[categolical_list].astype(\"category\")\n",
    "    \n",
    "    # 対象年度の抽出\n",
    "    data = data[data[\"game_year\"].isin(select_game_year)]\n",
    "    del data[\"game_year\"]\n",
    "    del data[\"game_month\"]\n",
    "    del data[\"game_day\"]\n",
    "    \n",
    "    X = data.drop(\"pitch_name\", axis=1)\n",
    "    y = data[\"pitch_name\"]\n",
    "    \n",
    "    # データを前半80%（train_data）と後半20%（test_data）に分割\n",
    "    split_index = int(len(data) * 0.8)\n",
    "    X_train = X.iloc[: split_index]\n",
    "    y_train = y.iloc[: split_index]\n",
    "    X_test = X.iloc[split_index : ]\n",
    "    y_test = y.iloc[split_index : ]\n",
    "\n",
    "    \n",
    "    if y_train.nunique() != y_test.nunique():\n",
    "        raise ValueError(\"train_dataとtest_dataの要素が一致していません。\")\n",
    "    \n",
    "    \n",
    "    return X_train, y_train, X_test, y_test\n",
    "\n",
    "X_train, y_train, X_test, y_test = make_train_test_data(select_game_year=[2022])\n",
    "\n",
    "# 確認\n",
    "X_train.shape, X_test.shape"
   ]
  },
  {
   "cell_type": "code",
   "execution_count": 10,
   "metadata": {},
   "outputs": [
    {
     "data": {
      "text/plain": [
       "Index(['outs_when_up', 'balls', 'strikes', 'events', 'description', 'zone',\n",
       "       'type', 'one_pitch_ago', 'two_pitches_ago', 'three_pitches_ago'],\n",
       "      dtype='object')"
      ]
     },
     "execution_count": 10,
     "metadata": {},
     "output_type": "execute_result"
    }
   ],
   "source": [
    "# カテゴリー変数の確認\n",
    "X_train.select_dtypes(include=\"category\").columns"
   ]
  },
  {
   "cell_type": "markdown",
   "metadata": {},
   "source": [
    "### <font color=\"orange\">モデル学習、予測</font>"
   ]
  },
  {
   "cell_type": "code",
   "execution_count": 11,
   "metadata": {},
   "outputs": [],
   "source": [
    "# カスタムメトリック定義\n",
    "from sklearn.metrics import f1_score, accuracy_score, log_loss\n",
    "\n",
    "def custom_f1(y_pred, dataset):\n",
    "    y_true = dataset.get_label()\n",
    "    score = f1_score(y_true=y_true, y_pred=np.round(y_pred), average=\"macro\")\n",
    "    return \"f1\", score, True\n",
    "\n",
    "def custom_accuracy(y_pred, dataset):\n",
    "    y_true = dataset.get_label()\n",
    "    auc_score = accuracy_score(y_true=y_true, y_pred=np.round(y_pred))\n",
    "    return \"acu\", auc_score, True\n",
    "\n",
    "def custom_multi_logloss(y_pred, dataset):\n",
    "    y_true = dataset.get_label()\n",
    "    multi_logloss = log_loss(y_true=y_true, y_pred=y_pred)\n",
    "    return \"multi_logloss\", multi_logloss, False"
   ]
  },
  {
   "cell_type": "code",
   "execution_count": 12,
   "metadata": {},
   "outputs": [],
   "source": [
    "import lightgbm as lgb\n",
    "\n",
    "num_boost_round = 500\n",
    "\n",
    "# data作成\n",
    "select_game_year = [2018]\n",
    "X_train, y_train, X_test, y_test = make_train_test_data(select_game_year=select_game_year)\n",
    "\n",
    "# train_dataをtrain_data（前半80%）とvalid_data（後半20%）に分割\n",
    "split_index = int(len(X_train) * 0.8)\n",
    "X_valid = X_train.iloc[split_index : ].copy()\n",
    "y_valid = y_train.iloc[split_index : ].copy()\n",
    "X_train = X_train.iloc[ : split_index].copy()\n",
    "y_train = y_train.iloc[ : split_index].copy()\n",
    "\n",
    "def objective(trial):\n",
    "    \n",
    "    params = {\n",
    "        \"boosting\" : \"gbdt\",\n",
    "        \"objective\" : \"binary\",\n",
    "        \"metric\" : \"None\",\n",
    "        \"seed\" : 42,\n",
    "        \"verbose\" : -1,\n",
    "        \"num_threads\" : 2,\n",
    "        \n",
    "        \"learning_rate\" : trial.suggest_float(\"learning_rate\", 0.001, 0.02),\n",
    "        \"is_unbalance\" : True,\n",
    "        \"extra_trees\" : True\n",
    "    }\n",
    "\n",
    "    lgb_train = lgb.Dataset(X_train, y_train)\n",
    "    lgb_eval = lgb.Dataset(X_valid, y_valid, reference=lgb_train)\n",
    "\n",
    "    # 誤差プロットの格納用データ\n",
    "    evals_result = {}\n",
    "\n",
    "    model = lgb.train(params=params,\n",
    "                      train_set=lgb_train,\n",
    "                      num_boost_round=num_boost_round,\n",
    "                      valid_sets=[lgb_train, lgb_eval],\n",
    "                      valid_names=[\"train\", \"valid\"],\n",
    "                      feval= [custom_f1, custom_accuracy, custom_multi_logloss],\n",
    "                      callbacks=[lgb.record_evaluation(evals_result)]\n",
    "                      )\n",
    "\n",
    "    # 予測\n",
    "    best_iteration = np.array(evals_result[\"valid\"][\"f1\"]).argmax() + 1\n",
    "    # y_valid_pred_proba = model.predict(X_valid, num_iteration=best_iteration)\n",
    "    y_valid_pred_proba = model.predict(X_valid, num_iteration=model.best_iteration)\n",
    "    y_valid_pred = np.round(y_valid_pred_proba)\n",
    "    f1 = f1_score(y_pred=y_valid_pred, y_true=y_valid, average=\"macro\")\n",
    "    \n",
    "    return f1\n"
   ]
  },
  {
   "cell_type": "code",
   "execution_count": 13,
   "metadata": {},
   "outputs": [
    {
     "name": "stderr",
     "output_type": "stream",
     "text": [
      "[I 2024-05-13 13:40:34,136] A new study created in memory with name: no-name-ffdab528-c464-4b36-999b-96a3d3f875ad\n",
      "[I 2024-05-13 13:40:36,653] Trial 0 finished with value: 0.7079704919851351 and parameters: {'learning_rate': 0.008116262258099888}. Best is trial 0 with value: 0.7079704919851351.\n",
      "[I 2024-05-13 13:40:38,981] Trial 1 finished with value: 0.7150000000000001 and parameters: {'learning_rate': 0.019063571821788406}. Best is trial 1 with value: 0.7150000000000001.\n",
      "[I 2024-05-13 13:40:41,504] Trial 2 finished with value: 0.6989295272078502 and parameters: {'learning_rate': 0.014907884894416697}. Best is trial 1 with value: 0.7150000000000001.\n",
      "[I 2024-05-13 13:40:43,890] Trial 3 finished with value: 0.7220212588346597 and parameters: {'learning_rate': 0.012374511199743695}. Best is trial 3 with value: 0.7220212588346597.\n",
      "[I 2024-05-13 13:40:46,717] Trial 4 finished with value: 0.7321428571428572 and parameters: {'learning_rate': 0.003964354168406294}. Best is trial 4 with value: 0.7321428571428572.\n",
      "[I 2024-05-13 13:40:49,108] Trial 5 finished with value: 0.7172619047619048 and parameters: {'learning_rate': 0.0039638958863878505}. Best is trial 4 with value: 0.7321428571428572.\n",
      "[I 2024-05-13 13:40:51,808] Trial 6 finished with value: 0.678018747573354 and parameters: {'learning_rate': 0.00210358863119579}. Best is trial 4 with value: 0.7321428571428572.\n",
      "[I 2024-05-13 13:40:54,257] Trial 7 finished with value: 0.7069953809338305 and parameters: {'learning_rate': 0.01745734676972377}. Best is trial 4 with value: 0.7321428571428572.\n",
      "[I 2024-05-13 13:40:56,539] Trial 8 finished with value: 0.7079704919851351 and parameters: {'learning_rate': 0.012421185223120967}. Best is trial 4 with value: 0.7321428571428572.\n",
      "[I 2024-05-13 13:40:58,778] Trial 9 finished with value: 0.7 and parameters: {'learning_rate': 0.014453378978124865}. Best is trial 4 with value: 0.7321428571428572.\n",
      "[I 2024-05-13 13:41:00,993] Trial 10 finished with value: 0.6625 and parameters: {'learning_rate': 0.0013911053916202466}. Best is trial 4 with value: 0.7321428571428572.\n",
      "[I 2024-05-13 13:41:04,153] Trial 11 finished with value: 0.7 and parameters: {'learning_rate': 0.019428287191077892}. Best is trial 4 with value: 0.7321428571428572.\n",
      "[I 2024-05-13 13:41:07,088] Trial 12 finished with value: 0.7150000000000001 and parameters: {'learning_rate': 0.016816410175208015}. Best is trial 4 with value: 0.7321428571428572.\n",
      "[I 2024-05-13 13:41:09,860] Trial 13 finished with value: 0.7321428571428572 and parameters: {'learning_rate': 0.005034443102887247}. Best is trial 4 with value: 0.7321428571428572.\n",
      "[I 2024-05-13 13:41:12,726] Trial 14 finished with value: 0.7321428571428572 and parameters: {'learning_rate': 0.004454674376934912}. Best is trial 4 with value: 0.7321428571428572.\n",
      "[I 2024-05-13 13:41:15,426] Trial 15 finished with value: 0.7470238095238095 and parameters: {'learning_rate': 0.004484685687215243}. Best is trial 15 with value: 0.7470238095238095.\n",
      "[I 2024-05-13 13:41:18,131] Trial 16 finished with value: 0.724960079290788 and parameters: {'learning_rate': 0.006780602616231216}. Best is trial 15 with value: 0.7470238095238095.\n",
      "[I 2024-05-13 13:41:20,906] Trial 17 finished with value: 0.6946206896551724 and parameters: {'learning_rate': 0.010970372201012518}. Best is trial 15 with value: 0.7470238095238095.\n",
      "[I 2024-05-13 13:41:23,905] Trial 18 finished with value: 0.6929946197792445 and parameters: {'learning_rate': 0.0092069553542002}. Best is trial 15 with value: 0.7470238095238095.\n",
      "[I 2024-05-13 13:41:26,605] Trial 19 finished with value: 0.7237431557989049 and parameters: {'learning_rate': 0.006533353663762796}. Best is trial 15 with value: 0.7470238095238095.\n",
      "[I 2024-05-13 13:41:29,341] Trial 20 finished with value: 0.730837394771821 and parameters: {'learning_rate': 0.01262520499972521}. Best is trial 15 with value: 0.7470238095238095.\n",
      "[I 2024-05-13 13:41:32,041] Trial 21 finished with value: 0.7402276100940128 and parameters: {'learning_rate': 0.003650383352388795}. Best is trial 15 with value: 0.7470238095238095.\n",
      "[I 2024-05-13 13:41:34,741] Trial 22 finished with value: 0.7315510384445427 and parameters: {'learning_rate': 0.006550748322169145}. Best is trial 15 with value: 0.7470238095238095.\n",
      "[I 2024-05-13 13:41:37,537] Trial 23 finished with value: 0.7166372072470173 and parameters: {'learning_rate': 0.007960875022580142}. Best is trial 15 with value: 0.7470238095238095.\n",
      "[I 2024-05-13 13:41:40,396] Trial 24 finished with value: 0.7290365744870652 and parameters: {'learning_rate': 0.009665329700123682}. Best is trial 15 with value: 0.7470238095238095.\n",
      "[I 2024-05-13 13:41:43,190] Trial 25 finished with value: 0.7069953809338305 and parameters: {'learning_rate': 0.01591834326646726}. Best is trial 15 with value: 0.7470238095238095.\n",
      "[I 2024-05-13 13:41:45,912] Trial 26 finished with value: 0.7166372072470173 and parameters: {'learning_rate': 0.004793801861008835}. Best is trial 15 with value: 0.7470238095238095.\n",
      "[I 2024-05-13 13:41:48,641] Trial 27 finished with value: 0.6938775510204082 and parameters: {'learning_rate': 0.010770454329858622}. Best is trial 15 with value: 0.7470238095238095.\n",
      "[I 2024-05-13 13:41:51,355] Trial 28 finished with value: 0.7069953809338305 and parameters: {'learning_rate': 0.012255876808378807}. Best is trial 15 with value: 0.7470238095238095.\n",
      "[I 2024-05-13 13:41:54,230] Trial 29 finished with value: 0.6619177472313429 and parameters: {'learning_rate': 0.0018825578416799566}. Best is trial 15 with value: 0.7470238095238095.\n",
      "[I 2024-05-13 13:41:57,240] Trial 30 finished with value: 0.7150000000000001 and parameters: {'learning_rate': 0.01254335218612733}. Best is trial 15 with value: 0.7470238095238095.\n",
      "[I 2024-05-13 13:42:00,134] Trial 31 finished with value: 0.7321428571428572 and parameters: {'learning_rate': 0.004239958350058539}. Best is trial 15 with value: 0.7470238095238095.\n",
      "[I 2024-05-13 13:42:03,572] Trial 32 finished with value: 0.6946206896551724 and parameters: {'learning_rate': 0.002235980266720311}. Best is trial 15 with value: 0.7470238095238095.\n",
      "[I 2024-05-13 13:42:06,348] Trial 33 finished with value: 0.7 and parameters: {'learning_rate': 0.01902882520781333}. Best is trial 15 with value: 0.7470238095238095.\n",
      "[I 2024-05-13 13:42:09,328] Trial 34 finished with value: 0.7046283309957924 and parameters: {'learning_rate': 0.019347008628416627}. Best is trial 15 with value: 0.7470238095238095.\n",
      "[I 2024-05-13 13:42:12,165] Trial 35 finished with value: 0.7009304386353566 and parameters: {'learning_rate': 0.01635954961421276}. Best is trial 15 with value: 0.7470238095238095.\n",
      "[I 2024-05-13 13:42:14,945] Trial 36 finished with value: 0.7095172413793103 and parameters: {'learning_rate': 0.006787661614294043}. Best is trial 15 with value: 0.7470238095238095.\n",
      "[I 2024-05-13 13:42:17,686] Trial 37 finished with value: 0.7177596830985915 and parameters: {'learning_rate': 0.0028557701661212935}. Best is trial 15 with value: 0.7470238095238095.\n",
      "[I 2024-05-13 13:42:20,450] Trial 38 finished with value: 0.7220212588346597 and parameters: {'learning_rate': 0.01400042750373098}. Best is trial 15 with value: 0.7470238095238095.\n",
      "[I 2024-05-13 13:42:23,237] Trial 39 finished with value: 0.7237431557989049 and parameters: {'learning_rate': 0.009362897381052424}. Best is trial 15 with value: 0.7470238095238095.\n",
      "[I 2024-05-13 13:42:26,001] Trial 40 finished with value: 0.7253834735279565 and parameters: {'learning_rate': 0.0033187264620507975}. Best is trial 15 with value: 0.7470238095238095.\n",
      "[I 2024-05-13 13:42:28,788] Trial 41 finished with value: 0.7079704919851351 and parameters: {'learning_rate': 0.010408361292114133}. Best is trial 15 with value: 0.7470238095238095.\n",
      "[I 2024-05-13 13:42:31,527] Trial 42 finished with value: 0.660633484162896 and parameters: {'learning_rate': 0.0016533819011891496}. Best is trial 15 with value: 0.7470238095238095.\n",
      "[I 2024-05-13 13:42:34,255] Trial 43 finished with value: 0.7079704919851351 and parameters: {'learning_rate': 0.01827708763949686}. Best is trial 15 with value: 0.7470238095238095.\n",
      "[I 2024-05-13 13:42:37,047] Trial 44 finished with value: 0.7244137931034482 and parameters: {'learning_rate': 0.0059168196504003215}. Best is trial 15 with value: 0.7470238095238095.\n",
      "[I 2024-05-13 13:42:39,773] Trial 45 finished with value: 0.7079704919851351 and parameters: {'learning_rate': 0.013587923402725657}. Best is trial 15 with value: 0.7470238095238095.\n",
      "[I 2024-05-13 13:42:42,506] Trial 46 finished with value: 0.7158839167035889 and parameters: {'learning_rate': 0.006922510445698808}. Best is trial 15 with value: 0.7470238095238095.\n",
      "[I 2024-05-13 13:42:45,306] Trial 47 finished with value: 0.7166372072470173 and parameters: {'learning_rate': 0.010881292402378406}. Best is trial 15 with value: 0.7470238095238095.\n",
      "[I 2024-05-13 13:42:48,201] Trial 48 finished with value: 0.7290365744870652 and parameters: {'learning_rate': 0.011387495307522314}. Best is trial 15 with value: 0.7470238095238095.\n",
      "[I 2024-05-13 13:42:51,057] Trial 49 finished with value: 0.7478021978021978 and parameters: {'learning_rate': 0.004512234654985014}. Best is trial 49 with value: 0.7478021978021978.\n",
      "[I 2024-05-13 13:42:53,825] Trial 50 finished with value: 0.7115384615384615 and parameters: {'learning_rate': 0.019422107927526612}. Best is trial 49 with value: 0.7478021978021978.\n",
      "[I 2024-05-13 13:42:56,613] Trial 51 finished with value: 0.7220212588346597 and parameters: {'learning_rate': 0.015727523643861176}. Best is trial 49 with value: 0.7478021978021978.\n",
      "[I 2024-05-13 13:42:59,582] Trial 52 finished with value: 0.6929946197792445 and parameters: {'learning_rate': 0.018850479889719593}. Best is trial 49 with value: 0.7478021978021978.\n",
      "[I 2024-05-13 13:43:02,374] Trial 53 finished with value: 0.7 and parameters: {'learning_rate': 0.018001719658125328}. Best is trial 49 with value: 0.7478021978021978.\n",
      "[I 2024-05-13 13:43:05,264] Trial 54 finished with value: 0.7069953809338305 and parameters: {'learning_rate': 0.012360099597410617}. Best is trial 49 with value: 0.7478021978021978.\n",
      "[I 2024-05-13 13:43:08,211] Trial 55 finished with value: 0.7139830508474576 and parameters: {'learning_rate': 0.01851561046543922}. Best is trial 49 with value: 0.7478021978021978.\n",
      "[I 2024-05-13 13:43:11,083] Trial 56 finished with value: 0.7172619047619048 and parameters: {'learning_rate': 0.0026813575389864706}. Best is trial 49 with value: 0.7478021978021978.\n",
      "[I 2024-05-13 13:43:15,189] Trial 57 finished with value: 0.7398271020318264 and parameters: {'learning_rate': 0.004723674385963758}. Best is trial 49 with value: 0.7478021978021978.\n",
      "[I 2024-05-13 13:43:18,050] Trial 58 finished with value: 0.6688224799286351 and parameters: {'learning_rate': 0.0018593184893002232}. Best is trial 49 with value: 0.7478021978021978.\n",
      "[I 2024-05-13 13:43:20,429] Trial 59 finished with value: 0.730837394771821 and parameters: {'learning_rate': 0.007181276284502022}. Best is trial 49 with value: 0.7478021978021978.\n",
      "[I 2024-05-13 13:43:22,666] Trial 60 finished with value: 0.7237431557989049 and parameters: {'learning_rate': 0.008384868504100158}. Best is trial 49 with value: 0.7478021978021978.\n",
      "[I 2024-05-13 13:43:24,841] Trial 61 finished with value: 0.7393103448275862 and parameters: {'learning_rate': 0.0061556316037040225}. Best is trial 49 with value: 0.7478021978021978.\n",
      "[I 2024-05-13 13:43:27,043] Trial 62 finished with value: 0.7150000000000001 and parameters: {'learning_rate': 0.01674601267388666}. Best is trial 49 with value: 0.7478021978021978.\n",
      "[I 2024-05-13 13:43:29,189] Trial 63 finished with value: 0.7088103534096566 and parameters: {'learning_rate': 0.007778313207178196}. Best is trial 49 with value: 0.7478021978021978.\n",
      "[I 2024-05-13 13:43:31,352] Trial 64 finished with value: 0.7166372072470173 and parameters: {'learning_rate': 0.006337755684060234}. Best is trial 49 with value: 0.7478021978021978.\n",
      "[I 2024-05-13 13:43:33,481] Trial 65 finished with value: 0.7017233760494919 and parameters: {'learning_rate': 0.011311225580006721}. Best is trial 49 with value: 0.7478021978021978.\n",
      "[I 2024-05-13 13:43:35,663] Trial 66 finished with value: 0.7326144366197183 and parameters: {'learning_rate': 0.0036775602745204904}. Best is trial 49 with value: 0.7478021978021978.\n",
      "[I 2024-05-13 13:43:37,791] Trial 67 finished with value: 0.6769436251321721 and parameters: {'learning_rate': 0.016241742634326754}. Best is trial 49 with value: 0.7478021978021978.\n",
      "[I 2024-05-13 13:43:40,169] Trial 68 finished with value: 0.7326144366197183 and parameters: {'learning_rate': 0.002416462229915646}. Best is trial 49 with value: 0.7478021978021978.\n",
      "[I 2024-05-13 13:43:42,787] Trial 69 finished with value: 0.7 and parameters: {'learning_rate': 0.019750851795409828}. Best is trial 49 with value: 0.7478021978021978.\n",
      "[I 2024-05-13 13:43:45,124] Trial 70 finished with value: 0.7220212588346597 and parameters: {'learning_rate': 0.01567265061663649}. Best is trial 49 with value: 0.7478021978021978.\n",
      "[I 2024-05-13 13:43:47,557] Trial 71 finished with value: 0.7321428571428572 and parameters: {'learning_rate': 0.004775597949149276}. Best is trial 49 with value: 0.7478021978021978.\n",
      "[I 2024-05-13 13:43:50,428] Trial 72 finished with value: 0.6347058823529412 and parameters: {'learning_rate': 0.0011049202253484455}. Best is trial 49 with value: 0.7478021978021978.\n",
      "[I 2024-05-13 13:43:52,906] Trial 73 finished with value: 0.73 and parameters: {'learning_rate': 0.01649376714064185}. Best is trial 49 with value: 0.7478021978021978.\n",
      "[I 2024-05-13 13:43:55,666] Trial 74 finished with value: 0.7009304386353566 and parameters: {'learning_rate': 0.014430289533104726}. Best is trial 49 with value: 0.7478021978021978.\n",
      "[I 2024-05-13 13:43:58,267] Trial 75 finished with value: 0.7220212588346597 and parameters: {'learning_rate': 0.014851136192778759}. Best is trial 49 with value: 0.7478021978021978.\n",
      "[I 2024-05-13 13:44:00,997] Trial 76 finished with value: 0.7150000000000001 and parameters: {'learning_rate': 0.01565413658703297}. Best is trial 49 with value: 0.7478021978021978.\n",
      "[I 2024-05-13 13:44:03,342] Trial 77 finished with value: 0.7177596830985915 and parameters: {'learning_rate': 0.0024068483829477166}. Best is trial 49 with value: 0.7478021978021978.\n",
      "[I 2024-05-13 13:44:06,115] Trial 78 finished with value: 0.7088103534096566 and parameters: {'learning_rate': 0.007810848842341179}. Best is trial 49 with value: 0.7478021978021978.\n",
      "[I 2024-05-13 13:44:08,654] Trial 79 finished with value: 0.7402276100940128 and parameters: {'learning_rate': 0.0032015121309774647}. Best is trial 49 with value: 0.7478021978021978.\n",
      "[I 2024-05-13 13:44:11,517] Trial 80 finished with value: 0.7139830508474576 and parameters: {'learning_rate': 0.017398965091636277}. Best is trial 49 with value: 0.7478021978021978.\n",
      "[I 2024-05-13 13:44:13,813] Trial 81 finished with value: 0.7150000000000001 and parameters: {'learning_rate': 0.012842664409723599}. Best is trial 49 with value: 0.7478021978021978.\n",
      "[I 2024-05-13 13:44:16,671] Trial 82 finished with value: 0.7237431557989049 and parameters: {'learning_rate': 0.007287062472200335}. Best is trial 49 with value: 0.7478021978021978.\n",
      "[I 2024-05-13 13:44:19,840] Trial 83 finished with value: 0.7095172413793103 and parameters: {'learning_rate': 0.002207608655434449}. Best is trial 49 with value: 0.7478021978021978.\n",
      "[I 2024-05-13 13:44:22,795] Trial 84 finished with value: 0.7229463641910256 and parameters: {'learning_rate': 0.0069086641125975816}. Best is trial 49 with value: 0.7478021978021978.\n",
      "[I 2024-05-13 13:44:25,674] Trial 85 finished with value: 0.730837394771821 and parameters: {'learning_rate': 0.007178483118508194}. Best is trial 49 with value: 0.7478021978021978.\n",
      "[I 2024-05-13 13:44:28,508] Trial 86 finished with value: 0.7220212588346597 and parameters: {'learning_rate': 0.014862517388423216}. Best is trial 49 with value: 0.7478021978021978.\n",
      "[I 2024-05-13 13:44:31,386] Trial 87 finished with value: 0.7158839167035889 and parameters: {'learning_rate': 0.01311359195574905}. Best is trial 49 with value: 0.7478021978021978.\n",
      "[I 2024-05-13 13:44:34,596] Trial 88 finished with value: 0.7 and parameters: {'learning_rate': 0.017857042108950203}. Best is trial 49 with value: 0.7478021978021978.\n",
      "[I 2024-05-13 13:44:37,799] Trial 89 finished with value: 0.7220212588346597 and parameters: {'learning_rate': 0.009972083578077037}. Best is trial 49 with value: 0.7478021978021978.\n",
      "[I 2024-05-13 13:44:40,637] Trial 90 finished with value: 0.7177596830985915 and parameters: {'learning_rate': 0.0032722906728277325}. Best is trial 49 with value: 0.7478021978021978.\n",
      "[I 2024-05-13 13:44:44,509] Trial 91 finished with value: 0.7150000000000001 and parameters: {'learning_rate': 0.014551650957236904}. Best is trial 49 with value: 0.7478021978021978.\n",
      "[I 2024-05-13 13:44:47,733] Trial 92 finished with value: 0.7220212588346597 and parameters: {'learning_rate': 0.01545491592372105}. Best is trial 49 with value: 0.7478021978021978.\n",
      "[I 2024-05-13 13:44:50,606] Trial 93 finished with value: 0.7229463641910256 and parameters: {'learning_rate': 0.01166426675382043}. Best is trial 49 with value: 0.7478021978021978.\n",
      "[I 2024-05-13 13:44:53,350] Trial 94 finished with value: 0.7370471367354889 and parameters: {'learning_rate': 0.015648376419136658}. Best is trial 49 with value: 0.7478021978021978.\n",
      "[I 2024-05-13 13:44:56,051] Trial 95 finished with value: 0.6989295272078502 and parameters: {'learning_rate': 0.010382116330923424}. Best is trial 49 with value: 0.7478021978021978.\n",
      "[I 2024-05-13 13:44:58,807] Trial 96 finished with value: 0.7229463641910256 and parameters: {'learning_rate': 0.010931923758257887}. Best is trial 49 with value: 0.7478021978021978.\n",
      "[I 2024-05-13 13:45:01,570] Trial 97 finished with value: 0.7158839167035889 and parameters: {'learning_rate': 0.009123279348812442}. Best is trial 49 with value: 0.7478021978021978.\n",
      "[I 2024-05-13 13:45:04,882] Trial 98 finished with value: 0.6795886075949367 and parameters: {'learning_rate': 0.0014829634081378086}. Best is trial 49 with value: 0.7478021978021978.\n",
      "[I 2024-05-13 13:45:08,075] Trial 99 finished with value: 0.7253834735279565 and parameters: {'learning_rate': 0.0030499371128727844}. Best is trial 49 with value: 0.7478021978021978.\n",
      "[I 2024-05-13 13:45:11,190] Trial 100 finished with value: 0.6743338008415147 and parameters: {'learning_rate': 0.0015971545280479508}. Best is trial 49 with value: 0.7478021978021978.\n",
      "[I 2024-05-13 13:45:14,322] Trial 101 finished with value: 0.7237431557989049 and parameters: {'learning_rate': 0.013091797814011829}. Best is trial 49 with value: 0.7478021978021978.\n",
      "[I 2024-05-13 13:45:17,113] Trial 102 finished with value: 0.6929946197792445 and parameters: {'learning_rate': 0.006972763640450207}. Best is trial 49 with value: 0.7478021978021978.\n",
      "[I 2024-05-13 13:45:19,847] Trial 103 finished with value: 0.7069953809338305 and parameters: {'learning_rate': 0.01066284313212935}. Best is trial 49 with value: 0.7478021978021978.\n",
      "[I 2024-05-13 13:45:22,591] Trial 104 finished with value: 0.6977160770264219 and parameters: {'learning_rate': 0.018243763004595768}. Best is trial 49 with value: 0.7478021978021978.\n",
      "[I 2024-05-13 13:45:25,317] Trial 105 finished with value: 0.7158839167035889 and parameters: {'learning_rate': 0.005736552353828624}. Best is trial 49 with value: 0.7478021978021978.\n",
      "[I 2024-05-13 13:45:28,081] Trial 106 finished with value: 0.6938775510204082 and parameters: {'learning_rate': 0.008797275537676966}. Best is trial 49 with value: 0.7478021978021978.\n",
      "[I 2024-05-13 13:45:31,993] Trial 107 finished with value: 0.73 and parameters: {'learning_rate': 0.015355471632317923}. Best is trial 49 with value: 0.7478021978021978.\n",
      "[I 2024-05-13 13:45:35,386] Trial 108 finished with value: 0.7244137931034482 and parameters: {'learning_rate': 0.005347165144340827}. Best is trial 49 with value: 0.7478021978021978.\n",
      "[I 2024-05-13 13:45:38,276] Trial 109 finished with value: 0.7172619047619048 and parameters: {'learning_rate': 0.002462618286747067}. Best is trial 49 with value: 0.7478021978021978.\n",
      "[I 2024-05-13 13:45:41,148] Trial 110 finished with value: 0.7158839167035889 and parameters: {'learning_rate': 0.006505277605361593}. Best is trial 49 with value: 0.7478021978021978.\n",
      "[I 2024-05-13 13:45:44,002] Trial 111 finished with value: 0.7244137931034482 and parameters: {'learning_rate': 0.004063204457826083}. Best is trial 49 with value: 0.7478021978021978.\n",
      "[I 2024-05-13 13:45:47,136] Trial 112 finished with value: 0.682601880877743 and parameters: {'learning_rate': 0.01866425539450889}. Best is trial 49 with value: 0.7478021978021978.\n",
      "[I 2024-05-13 13:45:50,705] Trial 113 finished with value: 0.7079704919851351 and parameters: {'learning_rate': 0.01635428721172392}. Best is trial 49 with value: 0.7478021978021978.\n",
      "[I 2024-05-13 13:45:53,701] Trial 114 finished with value: 0.7009304386353566 and parameters: {'learning_rate': 0.013034671373698046}. Best is trial 49 with value: 0.7478021978021978.\n",
      "[I 2024-05-13 13:45:56,620] Trial 115 finished with value: 0.7220212588346597 and parameters: {'learning_rate': 0.017557751213566637}. Best is trial 49 with value: 0.7478021978021978.\n",
      "[I 2024-05-13 13:45:59,561] Trial 116 finished with value: 0.6929946197792445 and parameters: {'learning_rate': 0.016269769461083175}. Best is trial 49 with value: 0.7478021978021978.\n",
      "[I 2024-05-13 13:46:02,470] Trial 117 finished with value: 0.7315510384445427 and parameters: {'learning_rate': 0.004544831118834681}. Best is trial 49 with value: 0.7478021978021978.\n",
      "[I 2024-05-13 13:46:05,400] Trial 118 finished with value: 0.7079704919851351 and parameters: {'learning_rate': 0.01795862097130958}. Best is trial 49 with value: 0.7478021978021978.\n",
      "[I 2024-05-13 13:46:08,348] Trial 119 finished with value: 0.6929946197792445 and parameters: {'learning_rate': 0.011247502596397365}. Best is trial 49 with value: 0.7478021978021978.\n",
      "[I 2024-05-13 13:46:11,332] Trial 120 finished with value: 0.7058823529411764 and parameters: {'learning_rate': 0.016341362948117187}. Best is trial 49 with value: 0.7478021978021978.\n",
      "[I 2024-05-13 13:46:14,476] Trial 121 finished with value: 0.7069953809338305 and parameters: {'learning_rate': 0.01802573469854637}. Best is trial 49 with value: 0.7478021978021978.\n",
      "[I 2024-05-13 13:46:17,699] Trial 122 finished with value: 0.7244137931034482 and parameters: {'learning_rate': 0.007042066024465414}. Best is trial 49 with value: 0.7478021978021978.\n",
      "[I 2024-05-13 13:46:20,882] Trial 123 finished with value: 0.7095172413793103 and parameters: {'learning_rate': 0.0030909865660258586}. Best is trial 49 with value: 0.7478021978021978.\n",
      "[I 2024-05-13 13:46:23,917] Trial 124 finished with value: 0.7321428571428572 and parameters: {'learning_rate': 0.005330768088296892}. Best is trial 49 with value: 0.7478021978021978.\n",
      "[I 2024-05-13 13:46:26,910] Trial 125 finished with value: 0.7079704919851351 and parameters: {'learning_rate': 0.00911504798389887}. Best is trial 49 with value: 0.7478021978021978.\n",
      "[I 2024-05-13 13:46:29,919] Trial 126 finished with value: 0.730837394771821 and parameters: {'learning_rate': 0.016542280552527367}. Best is trial 49 with value: 0.7478021978021978.\n",
      "[I 2024-05-13 13:46:32,911] Trial 127 finished with value: 0.7069953809338305 and parameters: {'learning_rate': 0.017353881081870526}. Best is trial 49 with value: 0.7478021978021978.\n",
      "[I 2024-05-13 13:46:36,316] Trial 128 finished with value: 0.6347058823529412 and parameters: {'learning_rate': 0.0011320904800926233}. Best is trial 49 with value: 0.7478021978021978.\n",
      "[I 2024-05-13 13:46:39,676] Trial 129 finished with value: 0.7 and parameters: {'learning_rate': 0.01070419874897375}. Best is trial 49 with value: 0.7478021978021978.\n",
      "[I 2024-05-13 13:46:42,822] Trial 130 finished with value: 0.7229463641910256 and parameters: {'learning_rate': 0.008930809059826801}. Best is trial 49 with value: 0.7478021978021978.\n",
      "[I 2024-05-13 13:46:45,884] Trial 131 finished with value: 0.7172619047619048 and parameters: {'learning_rate': 0.005220048398943875}. Best is trial 49 with value: 0.7478021978021978.\n",
      "[I 2024-05-13 13:46:48,943] Trial 132 finished with value: 0.7166372072470173 and parameters: {'learning_rate': 0.003277441979339973}. Best is trial 49 with value: 0.7478021978021978.\n",
      "[I 2024-05-13 13:46:52,130] Trial 133 finished with value: 0.7009304386353566 and parameters: {'learning_rate': 0.007414688256668931}. Best is trial 49 with value: 0.7478021978021978.\n",
      "[I 2024-05-13 13:46:55,461] Trial 134 finished with value: 0.7139830508474576 and parameters: {'learning_rate': 0.018915284374337864}. Best is trial 49 with value: 0.7478021978021978.\n",
      "[I 2024-05-13 13:46:58,541] Trial 135 finished with value: 0.7229463641910256 and parameters: {'learning_rate': 0.007140855708394349}. Best is trial 49 with value: 0.7478021978021978.\n",
      "[I 2024-05-13 13:47:01,614] Trial 136 finished with value: 0.6989295272078502 and parameters: {'learning_rate': 0.010857021813123955}. Best is trial 49 with value: 0.7478021978021978.\n",
      "[I 2024-05-13 13:47:04,691] Trial 137 finished with value: 0.6989295272078502 and parameters: {'learning_rate': 0.01435736021900838}. Best is trial 49 with value: 0.7478021978021978.\n",
      "[I 2024-05-13 13:47:07,775] Trial 138 finished with value: 0.6859769605671244 and parameters: {'learning_rate': 0.007908962445206585}. Best is trial 49 with value: 0.7478021978021978.\n",
      "[I 2024-05-13 13:47:10,855] Trial 139 finished with value: 0.6894810659186535 and parameters: {'learning_rate': 0.019463859571698255}. Best is trial 49 with value: 0.7478021978021978.\n",
      "[I 2024-05-13 13:47:13,975] Trial 140 finished with value: 0.7370471367354889 and parameters: {'learning_rate': 0.019286498603900113}. Best is trial 49 with value: 0.7478021978021978.\n",
      "[I 2024-05-13 13:47:17,133] Trial 141 finished with value: 0.7079704919851351 and parameters: {'learning_rate': 0.005783863620681919}. Best is trial 49 with value: 0.7478021978021978.\n",
      "[I 2024-05-13 13:47:20,742] Trial 142 finished with value: 0.6929946197792445 and parameters: {'learning_rate': 0.010447721611955323}. Best is trial 49 with value: 0.7478021978021978.\n",
      "[I 2024-05-13 13:47:23,935] Trial 143 finished with value: 0.7095172413793103 and parameters: {'learning_rate': 0.006716687886518623}. Best is trial 49 with value: 0.7478021978021978.\n",
      "[I 2024-05-13 13:47:27,127] Trial 144 finished with value: 0.7229463641910256 and parameters: {'learning_rate': 0.006411969393171885}. Best is trial 49 with value: 0.7478021978021978.\n",
      "[I 2024-05-13 13:47:30,218] Trial 145 finished with value: 0.660633484162896 and parameters: {'learning_rate': 0.001700851999736123}. Best is trial 49 with value: 0.7478021978021978.\n",
      "[I 2024-05-13 13:47:33,349] Trial 146 finished with value: 0.7139830508474576 and parameters: {'learning_rate': 0.012581722345618041}. Best is trial 49 with value: 0.7478021978021978.\n",
      "[I 2024-05-13 13:47:36,423] Trial 147 finished with value: 0.7244137931034482 and parameters: {'learning_rate': 0.010550901441348369}. Best is trial 49 with value: 0.7478021978021978.\n",
      "[I 2024-05-13 13:47:39,479] Trial 148 finished with value: 0.6859769605671244 and parameters: {'learning_rate': 0.0019780962737497975}. Best is trial 49 with value: 0.7478021978021978.\n",
      "[I 2024-05-13 13:47:42,532] Trial 149 finished with value: 0.7172619047619048 and parameters: {'learning_rate': 0.006294282820495617}. Best is trial 49 with value: 0.7478021978021978.\n",
      "[I 2024-05-13 13:47:45,578] Trial 150 finished with value: 0.6919695030330013 and parameters: {'learning_rate': 0.01825705183336642}. Best is trial 49 with value: 0.7478021978021978.\n",
      "[I 2024-05-13 13:47:48,605] Trial 151 finished with value: 0.7244137931034482 and parameters: {'learning_rate': 0.005551675922672476}. Best is trial 49 with value: 0.7478021978021978.\n",
      "[I 2024-05-13 13:47:51,648] Trial 152 finished with value: 0.7321428571428572 and parameters: {'learning_rate': 0.0037530025697332385}. Best is trial 49 with value: 0.7478021978021978.\n",
      "[I 2024-05-13 13:47:54,984] Trial 153 finished with value: 0.6838760035682426 and parameters: {'learning_rate': 0.010299602445273698}. Best is trial 49 with value: 0.7478021978021978.\n",
      "[I 2024-05-13 13:47:58,070] Trial 154 finished with value: 0.7069953809338305 and parameters: {'learning_rate': 0.019727358628101415}. Best is trial 49 with value: 0.7478021978021978.\n",
      "[I 2024-05-13 13:48:01,210] Trial 155 finished with value: 0.7315510384445427 and parameters: {'learning_rate': 0.0055990501587185075}. Best is trial 49 with value: 0.7478021978021978.\n",
      "[I 2024-05-13 13:48:04,340] Trial 156 finished with value: 0.7079704919851351 and parameters: {'learning_rate': 0.013770575400711693}. Best is trial 49 with value: 0.7478021978021978.\n",
      "[I 2024-05-13 13:48:07,754] Trial 157 finished with value: 0.7150000000000001 and parameters: {'learning_rate': 0.015470772691245634}. Best is trial 49 with value: 0.7478021978021978.\n",
      "[I 2024-05-13 13:48:10,979] Trial 158 finished with value: 0.7244137931034482 and parameters: {'learning_rate': 0.005515113335855594}. Best is trial 49 with value: 0.7478021978021978.\n",
      "[I 2024-05-13 13:48:14,066] Trial 159 finished with value: 0.7220212588346597 and parameters: {'learning_rate': 0.014836110623625332}. Best is trial 49 with value: 0.7478021978021978.\n",
      "[I 2024-05-13 13:48:17,451] Trial 160 finished with value: 0.7158839167035889 and parameters: {'learning_rate': 0.007987879521665811}. Best is trial 49 with value: 0.7478021978021978.\n",
      "[I 2024-05-13 13:48:20,974] Trial 161 finished with value: 0.6838760035682426 and parameters: {'learning_rate': 0.013013810781278008}. Best is trial 49 with value: 0.7478021978021978.\n",
      "[I 2024-05-13 13:48:23,666] Trial 162 finished with value: 0.7237431557989049 and parameters: {'learning_rate': 0.013037064504456998}. Best is trial 49 with value: 0.7478021978021978.\n",
      "[I 2024-05-13 13:48:26,521] Trial 163 finished with value: 0.7229463641910256 and parameters: {'learning_rate': 0.011179718997420412}. Best is trial 49 with value: 0.7478021978021978.\n",
      "[I 2024-05-13 13:48:28,978] Trial 164 finished with value: 0.7321428571428572 and parameters: {'learning_rate': 0.002715505631033758}. Best is trial 49 with value: 0.7478021978021978.\n",
      "[I 2024-05-13 13:48:31,396] Trial 165 finished with value: 0.7069953809338305 and parameters: {'learning_rate': 0.01687074741619552}. Best is trial 49 with value: 0.7478021978021978.\n",
      "[I 2024-05-13 13:48:33,706] Trial 166 finished with value: 0.7166372072470173 and parameters: {'learning_rate': 0.007094821234462981}. Best is trial 49 with value: 0.7478021978021978.\n",
      "[I 2024-05-13 13:48:36,049] Trial 167 finished with value: 0.7315510384445427 and parameters: {'learning_rate': 0.00454385169759723}. Best is trial 49 with value: 0.7478021978021978.\n",
      "[I 2024-05-13 13:48:38,354] Trial 168 finished with value: 0.6688224799286351 and parameters: {'learning_rate': 0.0017747276895405143}. Best is trial 49 with value: 0.7478021978021978.\n",
      "[I 2024-05-13 13:48:41,400] Trial 169 finished with value: 0.730837394771821 and parameters: {'learning_rate': 0.012226965920576593}. Best is trial 49 with value: 0.7478021978021978.\n",
      "[I 2024-05-13 13:48:43,964] Trial 170 finished with value: 0.7220212588346597 and parameters: {'learning_rate': 0.013873722875003366}. Best is trial 49 with value: 0.7478021978021978.\n",
      "[I 2024-05-13 13:48:46,568] Trial 171 finished with value: 0.6759259259259259 and parameters: {'learning_rate': 0.0013151687496292669}. Best is trial 49 with value: 0.7478021978021978.\n",
      "[I 2024-05-13 13:48:49,357] Trial 172 finished with value: 0.7088103534096566 and parameters: {'learning_rate': 0.01072976810768634}. Best is trial 49 with value: 0.7478021978021978.\n",
      "[I 2024-05-13 13:48:52,200] Trial 173 finished with value: 0.7166372072470173 and parameters: {'learning_rate': 0.005303419728760821}. Best is trial 49 with value: 0.7478021978021978.\n",
      "[I 2024-05-13 13:48:54,970] Trial 174 finished with value: 0.7069953809338305 and parameters: {'learning_rate': 0.013258283017779548}. Best is trial 49 with value: 0.7478021978021978.\n",
      "[I 2024-05-13 13:48:57,819] Trial 175 finished with value: 0.7326144366197183 and parameters: {'learning_rate': 0.004312962151094837}. Best is trial 49 with value: 0.7478021978021978.\n",
      "[I 2024-05-13 13:49:00,463] Trial 176 finished with value: 0.7158839167035889 and parameters: {'learning_rate': 0.014127817023946852}. Best is trial 49 with value: 0.7478021978021978.\n",
      "[I 2024-05-13 13:49:03,019] Trial 177 finished with value: 0.7150000000000001 and parameters: {'learning_rate': 0.00834797157971021}. Best is trial 49 with value: 0.7478021978021978.\n",
      "[I 2024-05-13 13:49:05,305] Trial 178 finished with value: 0.6919695030330013 and parameters: {'learning_rate': 0.018797869785997956}. Best is trial 49 with value: 0.7478021978021978.\n",
      "[I 2024-05-13 13:49:07,726] Trial 179 finished with value: 0.7402276100940128 and parameters: {'learning_rate': 0.003612897938773872}. Best is trial 49 with value: 0.7478021978021978.\n",
      "[I 2024-05-13 13:49:10,291] Trial 180 finished with value: 0.7315510384445427 and parameters: {'learning_rate': 0.007480260669954912}. Best is trial 49 with value: 0.7478021978021978.\n",
      "[I 2024-05-13 13:49:13,712] Trial 181 finished with value: 0.7177596830985915 and parameters: {'learning_rate': 0.003155996903571192}. Best is trial 49 with value: 0.7478021978021978.\n",
      "[I 2024-05-13 13:49:17,356] Trial 182 finished with value: 0.7069953809338305 and parameters: {'learning_rate': 0.01856917874729269}. Best is trial 49 with value: 0.7478021978021978.\n",
      "[I 2024-05-13 13:49:20,639] Trial 183 finished with value: 0.7079704919851351 and parameters: {'learning_rate': 0.01766944771423864}. Best is trial 49 with value: 0.7478021978021978.\n",
      "[I 2024-05-13 13:49:23,965] Trial 184 finished with value: 0.7095172413793103 and parameters: {'learning_rate': 0.005900890926587956}. Best is trial 49 with value: 0.7478021978021978.\n",
      "[I 2024-05-13 13:49:27,219] Trial 185 finished with value: 0.7069953809338305 and parameters: {'learning_rate': 0.013539696874649402}. Best is trial 49 with value: 0.7478021978021978.\n",
      "[I 2024-05-13 13:49:30,526] Trial 186 finished with value: 0.7166372072470173 and parameters: {'learning_rate': 0.0165272218038231}. Best is trial 49 with value: 0.7478021978021978.\n",
      "[I 2024-05-13 13:49:33,710] Trial 187 finished with value: 0.7079704919851351 and parameters: {'learning_rate': 0.011548815420389782}. Best is trial 49 with value: 0.7478021978021978.\n",
      "[I 2024-05-13 13:49:37,175] Trial 188 finished with value: 0.6859769605671244 and parameters: {'learning_rate': 0.011063360988764124}. Best is trial 49 with value: 0.7478021978021978.\n",
      "[I 2024-05-13 13:49:40,800] Trial 189 finished with value: 0.7393103448275862 and parameters: {'learning_rate': 0.005595193527108582}. Best is trial 49 with value: 0.7478021978021978.\n",
      "[I 2024-05-13 13:49:43,908] Trial 190 finished with value: 0.7166372072470173 and parameters: {'learning_rate': 0.0027689525883120847}. Best is trial 49 with value: 0.7478021978021978.\n",
      "[I 2024-05-13 13:49:46,257] Trial 191 finished with value: 0.7069953809338305 and parameters: {'learning_rate': 0.01804709940111321}. Best is trial 49 with value: 0.7478021978021978.\n",
      "[I 2024-05-13 13:49:48,761] Trial 192 finished with value: 0.7229463641910256 and parameters: {'learning_rate': 0.01810794308610328}. Best is trial 49 with value: 0.7478021978021978.\n",
      "[I 2024-05-13 13:49:51,180] Trial 193 finished with value: 0.7150000000000001 and parameters: {'learning_rate': 0.01302892768819209}. Best is trial 49 with value: 0.7478021978021978.\n",
      "[I 2024-05-13 13:49:54,000] Trial 194 finished with value: 0.6907993966817496 and parameters: {'learning_rate': 0.007441566029925312}. Best is trial 49 with value: 0.7478021978021978.\n",
      "[I 2024-05-13 13:49:56,501] Trial 195 finished with value: 0.7088103534096566 and parameters: {'learning_rate': 0.007634981917640557}. Best is trial 49 with value: 0.7478021978021978.\n",
      "[I 2024-05-13 13:49:59,368] Trial 196 finished with value: 0.7139830508474576 and parameters: {'learning_rate': 0.014793157898534547}. Best is trial 49 with value: 0.7478021978021978.\n",
      "[I 2024-05-13 13:50:02,262] Trial 197 finished with value: 0.7069953809338305 and parameters: {'learning_rate': 0.018045094939098966}. Best is trial 49 with value: 0.7478021978021978.\n",
      "[I 2024-05-13 13:50:04,724] Trial 198 finished with value: 0.7 and parameters: {'learning_rate': 0.017854642061037228}. Best is trial 49 with value: 0.7478021978021978.\n",
      "[I 2024-05-13 13:50:07,592] Trial 199 finished with value: 0.7150000000000001 and parameters: {'learning_rate': 0.015817635371294853}. Best is trial 49 with value: 0.7478021978021978.\n"
     ]
    }
   ],
   "source": [
    "import optuna\n",
    "\n",
    "study = optuna.create_study(sampler=optuna.samplers.RandomSampler(seed=42), direction=\"maximize\")\n",
    "study.optimize(objective, n_trials=200)"
   ]
  },
  {
   "cell_type": "code",
   "execution_count": 14,
   "metadata": {},
   "outputs": [
    {
     "data": {
      "text/plain": [
       "{'learning_rate': 0.004512234654985014}"
      ]
     },
     "execution_count": 14,
     "metadata": {},
     "output_type": "execute_result"
    }
   ],
   "source": [
    "trial = study.best_trial\n",
    "trial.params"
   ]
  },
  {
   "cell_type": "code",
   "execution_count": 15,
   "metadata": {},
   "outputs": [
    {
     "data": {
      "text/plain": [
       "0.7478021978021978"
      ]
     },
     "execution_count": 15,
     "metadata": {},
     "output_type": "execute_result"
    }
   ],
   "source": [
    "trial.value"
   ]
  },
  {
   "cell_type": "code",
   "execution_count": 16,
   "metadata": {},
   "outputs": [
    {
     "data": {
      "application/vnd.plotly.v1+json": {
       "config": {
        "plotlyServerURL": "https://plot.ly"
       },
       "data": [
        {
         "cliponaxis": false,
         "hovertemplate": [
          "learning_rate (FloatDistribution): 1.0<extra></extra>"
         ],
         "name": "Objective Value",
         "orientation": "h",
         "text": [
          "1.00"
         ],
         "textposition": "outside",
         "type": "bar",
         "x": [
          1
         ],
         "y": [
          "learning_rate"
         ]
        }
       ],
       "layout": {
        "template": {
         "data": {
          "bar": [
           {
            "error_x": {
             "color": "#2a3f5f"
            },
            "error_y": {
             "color": "#2a3f5f"
            },
            "marker": {
             "line": {
              "color": "#E5ECF6",
              "width": 0.5
             },
             "pattern": {
              "fillmode": "overlay",
              "size": 10,
              "solidity": 0.2
             }
            },
            "type": "bar"
           }
          ],
          "barpolar": [
           {
            "marker": {
             "line": {
              "color": "#E5ECF6",
              "width": 0.5
             },
             "pattern": {
              "fillmode": "overlay",
              "size": 10,
              "solidity": 0.2
             }
            },
            "type": "barpolar"
           }
          ],
          "carpet": [
           {
            "aaxis": {
             "endlinecolor": "#2a3f5f",
             "gridcolor": "white",
             "linecolor": "white",
             "minorgridcolor": "white",
             "startlinecolor": "#2a3f5f"
            },
            "baxis": {
             "endlinecolor": "#2a3f5f",
             "gridcolor": "white",
             "linecolor": "white",
             "minorgridcolor": "white",
             "startlinecolor": "#2a3f5f"
            },
            "type": "carpet"
           }
          ],
          "choropleth": [
           {
            "colorbar": {
             "outlinewidth": 0,
             "ticks": ""
            },
            "type": "choropleth"
           }
          ],
          "contour": [
           {
            "colorbar": {
             "outlinewidth": 0,
             "ticks": ""
            },
            "colorscale": [
             [
              0,
              "#0d0887"
             ],
             [
              0.1111111111111111,
              "#46039f"
             ],
             [
              0.2222222222222222,
              "#7201a8"
             ],
             [
              0.3333333333333333,
              "#9c179e"
             ],
             [
              0.4444444444444444,
              "#bd3786"
             ],
             [
              0.5555555555555556,
              "#d8576b"
             ],
             [
              0.6666666666666666,
              "#ed7953"
             ],
             [
              0.7777777777777778,
              "#fb9f3a"
             ],
             [
              0.8888888888888888,
              "#fdca26"
             ],
             [
              1,
              "#f0f921"
             ]
            ],
            "type": "contour"
           }
          ],
          "contourcarpet": [
           {
            "colorbar": {
             "outlinewidth": 0,
             "ticks": ""
            },
            "type": "contourcarpet"
           }
          ],
          "heatmap": [
           {
            "colorbar": {
             "outlinewidth": 0,
             "ticks": ""
            },
            "colorscale": [
             [
              0,
              "#0d0887"
             ],
             [
              0.1111111111111111,
              "#46039f"
             ],
             [
              0.2222222222222222,
              "#7201a8"
             ],
             [
              0.3333333333333333,
              "#9c179e"
             ],
             [
              0.4444444444444444,
              "#bd3786"
             ],
             [
              0.5555555555555556,
              "#d8576b"
             ],
             [
              0.6666666666666666,
              "#ed7953"
             ],
             [
              0.7777777777777778,
              "#fb9f3a"
             ],
             [
              0.8888888888888888,
              "#fdca26"
             ],
             [
              1,
              "#f0f921"
             ]
            ],
            "type": "heatmap"
           }
          ],
          "heatmapgl": [
           {
            "colorbar": {
             "outlinewidth": 0,
             "ticks": ""
            },
            "colorscale": [
             [
              0,
              "#0d0887"
             ],
             [
              0.1111111111111111,
              "#46039f"
             ],
             [
              0.2222222222222222,
              "#7201a8"
             ],
             [
              0.3333333333333333,
              "#9c179e"
             ],
             [
              0.4444444444444444,
              "#bd3786"
             ],
             [
              0.5555555555555556,
              "#d8576b"
             ],
             [
              0.6666666666666666,
              "#ed7953"
             ],
             [
              0.7777777777777778,
              "#fb9f3a"
             ],
             [
              0.8888888888888888,
              "#fdca26"
             ],
             [
              1,
              "#f0f921"
             ]
            ],
            "type": "heatmapgl"
           }
          ],
          "histogram": [
           {
            "marker": {
             "pattern": {
              "fillmode": "overlay",
              "size": 10,
              "solidity": 0.2
             }
            },
            "type": "histogram"
           }
          ],
          "histogram2d": [
           {
            "colorbar": {
             "outlinewidth": 0,
             "ticks": ""
            },
            "colorscale": [
             [
              0,
              "#0d0887"
             ],
             [
              0.1111111111111111,
              "#46039f"
             ],
             [
              0.2222222222222222,
              "#7201a8"
             ],
             [
              0.3333333333333333,
              "#9c179e"
             ],
             [
              0.4444444444444444,
              "#bd3786"
             ],
             [
              0.5555555555555556,
              "#d8576b"
             ],
             [
              0.6666666666666666,
              "#ed7953"
             ],
             [
              0.7777777777777778,
              "#fb9f3a"
             ],
             [
              0.8888888888888888,
              "#fdca26"
             ],
             [
              1,
              "#f0f921"
             ]
            ],
            "type": "histogram2d"
           }
          ],
          "histogram2dcontour": [
           {
            "colorbar": {
             "outlinewidth": 0,
             "ticks": ""
            },
            "colorscale": [
             [
              0,
              "#0d0887"
             ],
             [
              0.1111111111111111,
              "#46039f"
             ],
             [
              0.2222222222222222,
              "#7201a8"
             ],
             [
              0.3333333333333333,
              "#9c179e"
             ],
             [
              0.4444444444444444,
              "#bd3786"
             ],
             [
              0.5555555555555556,
              "#d8576b"
             ],
             [
              0.6666666666666666,
              "#ed7953"
             ],
             [
              0.7777777777777778,
              "#fb9f3a"
             ],
             [
              0.8888888888888888,
              "#fdca26"
             ],
             [
              1,
              "#f0f921"
             ]
            ],
            "type": "histogram2dcontour"
           }
          ],
          "mesh3d": [
           {
            "colorbar": {
             "outlinewidth": 0,
             "ticks": ""
            },
            "type": "mesh3d"
           }
          ],
          "parcoords": [
           {
            "line": {
             "colorbar": {
              "outlinewidth": 0,
              "ticks": ""
             }
            },
            "type": "parcoords"
           }
          ],
          "pie": [
           {
            "automargin": true,
            "type": "pie"
           }
          ],
          "scatter": [
           {
            "fillpattern": {
             "fillmode": "overlay",
             "size": 10,
             "solidity": 0.2
            },
            "type": "scatter"
           }
          ],
          "scatter3d": [
           {
            "line": {
             "colorbar": {
              "outlinewidth": 0,
              "ticks": ""
             }
            },
            "marker": {
             "colorbar": {
              "outlinewidth": 0,
              "ticks": ""
             }
            },
            "type": "scatter3d"
           }
          ],
          "scattercarpet": [
           {
            "marker": {
             "colorbar": {
              "outlinewidth": 0,
              "ticks": ""
             }
            },
            "type": "scattercarpet"
           }
          ],
          "scattergeo": [
           {
            "marker": {
             "colorbar": {
              "outlinewidth": 0,
              "ticks": ""
             }
            },
            "type": "scattergeo"
           }
          ],
          "scattergl": [
           {
            "marker": {
             "colorbar": {
              "outlinewidth": 0,
              "ticks": ""
             }
            },
            "type": "scattergl"
           }
          ],
          "scattermapbox": [
           {
            "marker": {
             "colorbar": {
              "outlinewidth": 0,
              "ticks": ""
             }
            },
            "type": "scattermapbox"
           }
          ],
          "scatterpolar": [
           {
            "marker": {
             "colorbar": {
              "outlinewidth": 0,
              "ticks": ""
             }
            },
            "type": "scatterpolar"
           }
          ],
          "scatterpolargl": [
           {
            "marker": {
             "colorbar": {
              "outlinewidth": 0,
              "ticks": ""
             }
            },
            "type": "scatterpolargl"
           }
          ],
          "scatterternary": [
           {
            "marker": {
             "colorbar": {
              "outlinewidth": 0,
              "ticks": ""
             }
            },
            "type": "scatterternary"
           }
          ],
          "surface": [
           {
            "colorbar": {
             "outlinewidth": 0,
             "ticks": ""
            },
            "colorscale": [
             [
              0,
              "#0d0887"
             ],
             [
              0.1111111111111111,
              "#46039f"
             ],
             [
              0.2222222222222222,
              "#7201a8"
             ],
             [
              0.3333333333333333,
              "#9c179e"
             ],
             [
              0.4444444444444444,
              "#bd3786"
             ],
             [
              0.5555555555555556,
              "#d8576b"
             ],
             [
              0.6666666666666666,
              "#ed7953"
             ],
             [
              0.7777777777777778,
              "#fb9f3a"
             ],
             [
              0.8888888888888888,
              "#fdca26"
             ],
             [
              1,
              "#f0f921"
             ]
            ],
            "type": "surface"
           }
          ],
          "table": [
           {
            "cells": {
             "fill": {
              "color": "#EBF0F8"
             },
             "line": {
              "color": "white"
             }
            },
            "header": {
             "fill": {
              "color": "#C8D4E3"
             },
             "line": {
              "color": "white"
             }
            },
            "type": "table"
           }
          ]
         },
         "layout": {
          "annotationdefaults": {
           "arrowcolor": "#2a3f5f",
           "arrowhead": 0,
           "arrowwidth": 1
          },
          "autotypenumbers": "strict",
          "coloraxis": {
           "colorbar": {
            "outlinewidth": 0,
            "ticks": ""
           }
          },
          "colorscale": {
           "diverging": [
            [
             0,
             "#8e0152"
            ],
            [
             0.1,
             "#c51b7d"
            ],
            [
             0.2,
             "#de77ae"
            ],
            [
             0.3,
             "#f1b6da"
            ],
            [
             0.4,
             "#fde0ef"
            ],
            [
             0.5,
             "#f7f7f7"
            ],
            [
             0.6,
             "#e6f5d0"
            ],
            [
             0.7,
             "#b8e186"
            ],
            [
             0.8,
             "#7fbc41"
            ],
            [
             0.9,
             "#4d9221"
            ],
            [
             1,
             "#276419"
            ]
           ],
           "sequential": [
            [
             0,
             "#0d0887"
            ],
            [
             0.1111111111111111,
             "#46039f"
            ],
            [
             0.2222222222222222,
             "#7201a8"
            ],
            [
             0.3333333333333333,
             "#9c179e"
            ],
            [
             0.4444444444444444,
             "#bd3786"
            ],
            [
             0.5555555555555556,
             "#d8576b"
            ],
            [
             0.6666666666666666,
             "#ed7953"
            ],
            [
             0.7777777777777778,
             "#fb9f3a"
            ],
            [
             0.8888888888888888,
             "#fdca26"
            ],
            [
             1,
             "#f0f921"
            ]
           ],
           "sequentialminus": [
            [
             0,
             "#0d0887"
            ],
            [
             0.1111111111111111,
             "#46039f"
            ],
            [
             0.2222222222222222,
             "#7201a8"
            ],
            [
             0.3333333333333333,
             "#9c179e"
            ],
            [
             0.4444444444444444,
             "#bd3786"
            ],
            [
             0.5555555555555556,
             "#d8576b"
            ],
            [
             0.6666666666666666,
             "#ed7953"
            ],
            [
             0.7777777777777778,
             "#fb9f3a"
            ],
            [
             0.8888888888888888,
             "#fdca26"
            ],
            [
             1,
             "#f0f921"
            ]
           ]
          },
          "colorway": [
           "#636efa",
           "#EF553B",
           "#00cc96",
           "#ab63fa",
           "#FFA15A",
           "#19d3f3",
           "#FF6692",
           "#B6E880",
           "#FF97FF",
           "#FECB52"
          ],
          "font": {
           "color": "#2a3f5f"
          },
          "geo": {
           "bgcolor": "white",
           "lakecolor": "white",
           "landcolor": "#E5ECF6",
           "showlakes": true,
           "showland": true,
           "subunitcolor": "white"
          },
          "hoverlabel": {
           "align": "left"
          },
          "hovermode": "closest",
          "mapbox": {
           "style": "light"
          },
          "paper_bgcolor": "white",
          "plot_bgcolor": "#E5ECF6",
          "polar": {
           "angularaxis": {
            "gridcolor": "white",
            "linecolor": "white",
            "ticks": ""
           },
           "bgcolor": "#E5ECF6",
           "radialaxis": {
            "gridcolor": "white",
            "linecolor": "white",
            "ticks": ""
           }
          },
          "scene": {
           "xaxis": {
            "backgroundcolor": "#E5ECF6",
            "gridcolor": "white",
            "gridwidth": 2,
            "linecolor": "white",
            "showbackground": true,
            "ticks": "",
            "zerolinecolor": "white"
           },
           "yaxis": {
            "backgroundcolor": "#E5ECF6",
            "gridcolor": "white",
            "gridwidth": 2,
            "linecolor": "white",
            "showbackground": true,
            "ticks": "",
            "zerolinecolor": "white"
           },
           "zaxis": {
            "backgroundcolor": "#E5ECF6",
            "gridcolor": "white",
            "gridwidth": 2,
            "linecolor": "white",
            "showbackground": true,
            "ticks": "",
            "zerolinecolor": "white"
           }
          },
          "shapedefaults": {
           "line": {
            "color": "#2a3f5f"
           }
          },
          "ternary": {
           "aaxis": {
            "gridcolor": "white",
            "linecolor": "white",
            "ticks": ""
           },
           "baxis": {
            "gridcolor": "white",
            "linecolor": "white",
            "ticks": ""
           },
           "bgcolor": "#E5ECF6",
           "caxis": {
            "gridcolor": "white",
            "linecolor": "white",
            "ticks": ""
           }
          },
          "title": {
           "x": 0.05
          },
          "xaxis": {
           "automargin": true,
           "gridcolor": "white",
           "linecolor": "white",
           "ticks": "",
           "title": {
            "standoff": 15
           },
           "zerolinecolor": "white",
           "zerolinewidth": 2
          },
          "yaxis": {
           "automargin": true,
           "gridcolor": "white",
           "linecolor": "white",
           "ticks": "",
           "title": {
            "standoff": 15
           },
           "zerolinecolor": "white",
           "zerolinewidth": 2
          }
         }
        },
        "title": {
         "text": "Hyperparameter Importances"
        },
        "xaxis": {
         "title": {
          "text": "Hyperparameter Importance"
         }
        },
        "yaxis": {
         "title": {
          "text": "Hyperparameter"
         }
        }
       }
      }
     },
     "metadata": {},
     "output_type": "display_data"
    }
   ],
   "source": [
    "import plotly\n",
    "import nbformat\n",
    "optuna.visualization.plot_param_importances(study).show()"
   ]
  },
  {
   "cell_type": "code",
   "execution_count": 17,
   "metadata": {},
   "outputs": [
    {
     "data": {
      "application/vnd.plotly.v1+json": {
       "config": {
        "plotlyServerURL": "https://plot.ly"
       },
       "data": [
        {
         "marker": {
          "color": [
           0,
           1,
           2,
           3,
           4,
           5,
           6,
           7,
           8,
           9,
           10,
           11,
           12,
           13,
           14,
           15,
           16,
           17,
           18,
           19,
           20,
           21,
           22,
           23,
           24,
           25,
           26,
           27,
           28,
           29,
           30,
           31,
           32,
           33,
           34,
           35,
           36,
           37,
           38,
           39,
           40,
           41,
           42,
           43,
           44,
           45,
           46,
           47,
           48,
           49,
           50,
           51,
           52,
           53,
           54,
           55,
           56,
           57,
           58,
           59,
           60,
           61,
           62,
           63,
           64,
           65,
           66,
           67,
           68,
           69,
           70,
           71,
           72,
           73,
           74,
           75,
           76,
           77,
           78,
           79,
           80,
           81,
           82,
           83,
           84,
           85,
           86,
           87,
           88,
           89,
           90,
           91,
           92,
           93,
           94,
           95,
           96,
           97,
           98,
           99,
           100,
           101,
           102,
           103,
           104,
           105,
           106,
           107,
           108,
           109,
           110,
           111,
           112,
           113,
           114,
           115,
           116,
           117,
           118,
           119,
           120,
           121,
           122,
           123,
           124,
           125,
           126,
           127,
           128,
           129,
           130,
           131,
           132,
           133,
           134,
           135,
           136,
           137,
           138,
           139,
           140,
           141,
           142,
           143,
           144,
           145,
           146,
           147,
           148,
           149,
           150,
           151,
           152,
           153,
           154,
           155,
           156,
           157,
           158,
           159,
           160,
           161,
           162,
           163,
           164,
           165,
           166,
           167,
           168,
           169,
           170,
           171,
           172,
           173,
           174,
           175,
           176,
           177,
           178,
           179,
           180,
           181,
           182,
           183,
           184,
           185,
           186,
           187,
           188,
           189,
           190,
           191,
           192,
           193,
           194,
           195,
           196,
           197,
           198,
           199
          ],
          "colorbar": {
           "title": {
            "text": "Trial"
           },
           "x": 1,
           "xpad": 40
          },
          "colorscale": [
           [
            0,
            "rgb(247,251,255)"
           ],
           [
            0.125,
            "rgb(222,235,247)"
           ],
           [
            0.25,
            "rgb(198,219,239)"
           ],
           [
            0.375,
            "rgb(158,202,225)"
           ],
           [
            0.5,
            "rgb(107,174,214)"
           ],
           [
            0.625,
            "rgb(66,146,198)"
           ],
           [
            0.75,
            "rgb(33,113,181)"
           ],
           [
            0.875,
            "rgb(8,81,156)"
           ],
           [
            1,
            "rgb(8,48,107)"
           ]
          ],
          "line": {
           "color": "Grey",
           "width": 0.5
          }
         },
         "mode": "markers",
         "name": "Feasible Trial",
         "showlegend": false,
         "type": "scatter",
         "x": [
          0.008116262258099888,
          0.019063571821788406,
          0.014907884894416697,
          0.012374511199743695,
          0.003964354168406294,
          0.0039638958863878505,
          0.00210358863119579,
          0.01745734676972377,
          0.012421185223120967,
          0.014453378978124865,
          0.0013911053916202466,
          0.019428287191077892,
          0.016816410175208015,
          0.005034443102887247,
          0.004454674376934912,
          0.004484685687215243,
          0.006780602616231216,
          0.010970372201012518,
          0.0092069553542002,
          0.006533353663762796,
          0.01262520499972521,
          0.003650383352388795,
          0.006550748322169145,
          0.007960875022580142,
          0.009665329700123682,
          0.01591834326646726,
          0.004793801861008835,
          0.010770454329858622,
          0.012255876808378807,
          0.0018825578416799566,
          0.01254335218612733,
          0.004239958350058539,
          0.002235980266720311,
          0.01902882520781333,
          0.019347008628416627,
          0.01635954961421276,
          0.006787661614294043,
          0.0028557701661212935,
          0.01400042750373098,
          0.009362897381052424,
          0.0033187264620507975,
          0.010408361292114133,
          0.0016533819011891496,
          0.01827708763949686,
          0.0059168196504003215,
          0.013587923402725657,
          0.006922510445698808,
          0.010881292402378406,
          0.011387495307522314,
          0.004512234654985014,
          0.019422107927526612,
          0.015727523643861176,
          0.018850479889719593,
          0.018001719658125328,
          0.012360099597410617,
          0.01851561046543922,
          0.0026813575389864706,
          0.004723674385963758,
          0.0018593184893002232,
          0.007181276284502022,
          0.008384868504100158,
          0.0061556316037040225,
          0.01674601267388666,
          0.007778313207178196,
          0.006337755684060234,
          0.011311225580006721,
          0.0036775602745204904,
          0.016241742634326754,
          0.002416462229915646,
          0.019750851795409828,
          0.01567265061663649,
          0.004775597949149276,
          0.0011049202253484455,
          0.01649376714064185,
          0.014430289533104726,
          0.014851136192778759,
          0.01565413658703297,
          0.0024068483829477166,
          0.007810848842341179,
          0.0032015121309774647,
          0.017398965091636277,
          0.012842664409723599,
          0.007287062472200335,
          0.002207608655434449,
          0.0069086641125975816,
          0.007178483118508194,
          0.014862517388423216,
          0.01311359195574905,
          0.017857042108950203,
          0.009972083578077037,
          0.0032722906728277325,
          0.014551650957236904,
          0.01545491592372105,
          0.01166426675382043,
          0.015648376419136658,
          0.010382116330923424,
          0.010931923758257887,
          0.009123279348812442,
          0.0014829634081378086,
          0.0030499371128727844,
          0.0015971545280479508,
          0.013091797814011829,
          0.006972763640450207,
          0.01066284313212935,
          0.018243763004595768,
          0.005736552353828624,
          0.008797275537676966,
          0.015355471632317923,
          0.005347165144340827,
          0.002462618286747067,
          0.006505277605361593,
          0.004063204457826083,
          0.01866425539450889,
          0.01635428721172392,
          0.013034671373698046,
          0.017557751213566637,
          0.016269769461083175,
          0.004544831118834681,
          0.01795862097130958,
          0.011247502596397365,
          0.016341362948117187,
          0.01802573469854637,
          0.007042066024465414,
          0.0030909865660258586,
          0.005330768088296892,
          0.00911504798389887,
          0.016542280552527367,
          0.017353881081870526,
          0.0011320904800926233,
          0.01070419874897375,
          0.008930809059826801,
          0.005220048398943875,
          0.003277441979339973,
          0.007414688256668931,
          0.018915284374337864,
          0.007140855708394349,
          0.010857021813123955,
          0.01435736021900838,
          0.007908962445206585,
          0.019463859571698255,
          0.019286498603900113,
          0.005783863620681919,
          0.010447721611955323,
          0.006716687886518623,
          0.006411969393171885,
          0.001700851999736123,
          0.012581722345618041,
          0.010550901441348369,
          0.0019780962737497975,
          0.006294282820495617,
          0.01825705183336642,
          0.005551675922672476,
          0.0037530025697332385,
          0.010299602445273698,
          0.019727358628101415,
          0.0055990501587185075,
          0.013770575400711693,
          0.015470772691245634,
          0.005515113335855594,
          0.014836110623625332,
          0.007987879521665811,
          0.013013810781278008,
          0.013037064504456998,
          0.011179718997420412,
          0.002715505631033758,
          0.01687074741619552,
          0.007094821234462981,
          0.00454385169759723,
          0.0017747276895405143,
          0.012226965920576593,
          0.013873722875003366,
          0.0013151687496292669,
          0.01072976810768634,
          0.005303419728760821,
          0.013258283017779548,
          0.004312962151094837,
          0.014127817023946852,
          0.00834797157971021,
          0.018797869785997956,
          0.003612897938773872,
          0.007480260669954912,
          0.003155996903571192,
          0.01856917874729269,
          0.01766944771423864,
          0.005900890926587956,
          0.013539696874649402,
          0.0165272218038231,
          0.011548815420389782,
          0.011063360988764124,
          0.005595193527108582,
          0.0027689525883120847,
          0.01804709940111321,
          0.01810794308610328,
          0.01302892768819209,
          0.007441566029925312,
          0.007634981917640557,
          0.014793157898534547,
          0.018045094939098966,
          0.017854642061037228,
          0.015817635371294853
         ],
         "y": [
          0.7079704919851351,
          0.7150000000000001,
          0.6989295272078502,
          0.7220212588346597,
          0.7321428571428572,
          0.7172619047619048,
          0.678018747573354,
          0.7069953809338305,
          0.7079704919851351,
          0.7,
          0.6625,
          0.7,
          0.7150000000000001,
          0.7321428571428572,
          0.7321428571428572,
          0.7470238095238095,
          0.724960079290788,
          0.6946206896551724,
          0.6929946197792445,
          0.7237431557989049,
          0.730837394771821,
          0.7402276100940128,
          0.7315510384445427,
          0.7166372072470173,
          0.7290365744870652,
          0.7069953809338305,
          0.7166372072470173,
          0.6938775510204082,
          0.7069953809338305,
          0.6619177472313429,
          0.7150000000000001,
          0.7321428571428572,
          0.6946206896551724,
          0.7,
          0.7046283309957924,
          0.7009304386353566,
          0.7095172413793103,
          0.7177596830985915,
          0.7220212588346597,
          0.7237431557989049,
          0.7253834735279565,
          0.7079704919851351,
          0.660633484162896,
          0.7079704919851351,
          0.7244137931034482,
          0.7079704919851351,
          0.7158839167035889,
          0.7166372072470173,
          0.7290365744870652,
          0.7478021978021978,
          0.7115384615384615,
          0.7220212588346597,
          0.6929946197792445,
          0.7,
          0.7069953809338305,
          0.7139830508474576,
          0.7172619047619048,
          0.7398271020318264,
          0.6688224799286351,
          0.730837394771821,
          0.7237431557989049,
          0.7393103448275862,
          0.7150000000000001,
          0.7088103534096566,
          0.7166372072470173,
          0.7017233760494919,
          0.7326144366197183,
          0.6769436251321721,
          0.7326144366197183,
          0.7,
          0.7220212588346597,
          0.7321428571428572,
          0.6347058823529412,
          0.73,
          0.7009304386353566,
          0.7220212588346597,
          0.7150000000000001,
          0.7177596830985915,
          0.7088103534096566,
          0.7402276100940128,
          0.7139830508474576,
          0.7150000000000001,
          0.7237431557989049,
          0.7095172413793103,
          0.7229463641910256,
          0.730837394771821,
          0.7220212588346597,
          0.7158839167035889,
          0.7,
          0.7220212588346597,
          0.7177596830985915,
          0.7150000000000001,
          0.7220212588346597,
          0.7229463641910256,
          0.7370471367354889,
          0.6989295272078502,
          0.7229463641910256,
          0.7158839167035889,
          0.6795886075949367,
          0.7253834735279565,
          0.6743338008415147,
          0.7237431557989049,
          0.6929946197792445,
          0.7069953809338305,
          0.6977160770264219,
          0.7158839167035889,
          0.6938775510204082,
          0.73,
          0.7244137931034482,
          0.7172619047619048,
          0.7158839167035889,
          0.7244137931034482,
          0.682601880877743,
          0.7079704919851351,
          0.7009304386353566,
          0.7220212588346597,
          0.6929946197792445,
          0.7315510384445427,
          0.7079704919851351,
          0.6929946197792445,
          0.7058823529411764,
          0.7069953809338305,
          0.7244137931034482,
          0.7095172413793103,
          0.7321428571428572,
          0.7079704919851351,
          0.730837394771821,
          0.7069953809338305,
          0.6347058823529412,
          0.7,
          0.7229463641910256,
          0.7172619047619048,
          0.7166372072470173,
          0.7009304386353566,
          0.7139830508474576,
          0.7229463641910256,
          0.6989295272078502,
          0.6989295272078502,
          0.6859769605671244,
          0.6894810659186535,
          0.7370471367354889,
          0.7079704919851351,
          0.6929946197792445,
          0.7095172413793103,
          0.7229463641910256,
          0.660633484162896,
          0.7139830508474576,
          0.7244137931034482,
          0.6859769605671244,
          0.7172619047619048,
          0.6919695030330013,
          0.7244137931034482,
          0.7321428571428572,
          0.6838760035682426,
          0.7069953809338305,
          0.7315510384445427,
          0.7079704919851351,
          0.7150000000000001,
          0.7244137931034482,
          0.7220212588346597,
          0.7158839167035889,
          0.6838760035682426,
          0.7237431557989049,
          0.7229463641910256,
          0.7321428571428572,
          0.7069953809338305,
          0.7166372072470173,
          0.7315510384445427,
          0.6688224799286351,
          0.730837394771821,
          0.7220212588346597,
          0.6759259259259259,
          0.7088103534096566,
          0.7166372072470173,
          0.7069953809338305,
          0.7326144366197183,
          0.7158839167035889,
          0.7150000000000001,
          0.6919695030330013,
          0.7402276100940128,
          0.7315510384445427,
          0.7177596830985915,
          0.7069953809338305,
          0.7079704919851351,
          0.7095172413793103,
          0.7069953809338305,
          0.7166372072470173,
          0.7079704919851351,
          0.6859769605671244,
          0.7393103448275862,
          0.7166372072470173,
          0.7069953809338305,
          0.7229463641910256,
          0.7150000000000001,
          0.6907993966817496,
          0.7088103534096566,
          0.7139830508474576,
          0.7069953809338305,
          0.7,
          0.7150000000000001
         ]
        }
       ],
       "layout": {
        "template": {
         "data": {
          "bar": [
           {
            "error_x": {
             "color": "#2a3f5f"
            },
            "error_y": {
             "color": "#2a3f5f"
            },
            "marker": {
             "line": {
              "color": "#E5ECF6",
              "width": 0.5
             },
             "pattern": {
              "fillmode": "overlay",
              "size": 10,
              "solidity": 0.2
             }
            },
            "type": "bar"
           }
          ],
          "barpolar": [
           {
            "marker": {
             "line": {
              "color": "#E5ECF6",
              "width": 0.5
             },
             "pattern": {
              "fillmode": "overlay",
              "size": 10,
              "solidity": 0.2
             }
            },
            "type": "barpolar"
           }
          ],
          "carpet": [
           {
            "aaxis": {
             "endlinecolor": "#2a3f5f",
             "gridcolor": "white",
             "linecolor": "white",
             "minorgridcolor": "white",
             "startlinecolor": "#2a3f5f"
            },
            "baxis": {
             "endlinecolor": "#2a3f5f",
             "gridcolor": "white",
             "linecolor": "white",
             "minorgridcolor": "white",
             "startlinecolor": "#2a3f5f"
            },
            "type": "carpet"
           }
          ],
          "choropleth": [
           {
            "colorbar": {
             "outlinewidth": 0,
             "ticks": ""
            },
            "type": "choropleth"
           }
          ],
          "contour": [
           {
            "colorbar": {
             "outlinewidth": 0,
             "ticks": ""
            },
            "colorscale": [
             [
              0,
              "#0d0887"
             ],
             [
              0.1111111111111111,
              "#46039f"
             ],
             [
              0.2222222222222222,
              "#7201a8"
             ],
             [
              0.3333333333333333,
              "#9c179e"
             ],
             [
              0.4444444444444444,
              "#bd3786"
             ],
             [
              0.5555555555555556,
              "#d8576b"
             ],
             [
              0.6666666666666666,
              "#ed7953"
             ],
             [
              0.7777777777777778,
              "#fb9f3a"
             ],
             [
              0.8888888888888888,
              "#fdca26"
             ],
             [
              1,
              "#f0f921"
             ]
            ],
            "type": "contour"
           }
          ],
          "contourcarpet": [
           {
            "colorbar": {
             "outlinewidth": 0,
             "ticks": ""
            },
            "type": "contourcarpet"
           }
          ],
          "heatmap": [
           {
            "colorbar": {
             "outlinewidth": 0,
             "ticks": ""
            },
            "colorscale": [
             [
              0,
              "#0d0887"
             ],
             [
              0.1111111111111111,
              "#46039f"
             ],
             [
              0.2222222222222222,
              "#7201a8"
             ],
             [
              0.3333333333333333,
              "#9c179e"
             ],
             [
              0.4444444444444444,
              "#bd3786"
             ],
             [
              0.5555555555555556,
              "#d8576b"
             ],
             [
              0.6666666666666666,
              "#ed7953"
             ],
             [
              0.7777777777777778,
              "#fb9f3a"
             ],
             [
              0.8888888888888888,
              "#fdca26"
             ],
             [
              1,
              "#f0f921"
             ]
            ],
            "type": "heatmap"
           }
          ],
          "heatmapgl": [
           {
            "colorbar": {
             "outlinewidth": 0,
             "ticks": ""
            },
            "colorscale": [
             [
              0,
              "#0d0887"
             ],
             [
              0.1111111111111111,
              "#46039f"
             ],
             [
              0.2222222222222222,
              "#7201a8"
             ],
             [
              0.3333333333333333,
              "#9c179e"
             ],
             [
              0.4444444444444444,
              "#bd3786"
             ],
             [
              0.5555555555555556,
              "#d8576b"
             ],
             [
              0.6666666666666666,
              "#ed7953"
             ],
             [
              0.7777777777777778,
              "#fb9f3a"
             ],
             [
              0.8888888888888888,
              "#fdca26"
             ],
             [
              1,
              "#f0f921"
             ]
            ],
            "type": "heatmapgl"
           }
          ],
          "histogram": [
           {
            "marker": {
             "pattern": {
              "fillmode": "overlay",
              "size": 10,
              "solidity": 0.2
             }
            },
            "type": "histogram"
           }
          ],
          "histogram2d": [
           {
            "colorbar": {
             "outlinewidth": 0,
             "ticks": ""
            },
            "colorscale": [
             [
              0,
              "#0d0887"
             ],
             [
              0.1111111111111111,
              "#46039f"
             ],
             [
              0.2222222222222222,
              "#7201a8"
             ],
             [
              0.3333333333333333,
              "#9c179e"
             ],
             [
              0.4444444444444444,
              "#bd3786"
             ],
             [
              0.5555555555555556,
              "#d8576b"
             ],
             [
              0.6666666666666666,
              "#ed7953"
             ],
             [
              0.7777777777777778,
              "#fb9f3a"
             ],
             [
              0.8888888888888888,
              "#fdca26"
             ],
             [
              1,
              "#f0f921"
             ]
            ],
            "type": "histogram2d"
           }
          ],
          "histogram2dcontour": [
           {
            "colorbar": {
             "outlinewidth": 0,
             "ticks": ""
            },
            "colorscale": [
             [
              0,
              "#0d0887"
             ],
             [
              0.1111111111111111,
              "#46039f"
             ],
             [
              0.2222222222222222,
              "#7201a8"
             ],
             [
              0.3333333333333333,
              "#9c179e"
             ],
             [
              0.4444444444444444,
              "#bd3786"
             ],
             [
              0.5555555555555556,
              "#d8576b"
             ],
             [
              0.6666666666666666,
              "#ed7953"
             ],
             [
              0.7777777777777778,
              "#fb9f3a"
             ],
             [
              0.8888888888888888,
              "#fdca26"
             ],
             [
              1,
              "#f0f921"
             ]
            ],
            "type": "histogram2dcontour"
           }
          ],
          "mesh3d": [
           {
            "colorbar": {
             "outlinewidth": 0,
             "ticks": ""
            },
            "type": "mesh3d"
           }
          ],
          "parcoords": [
           {
            "line": {
             "colorbar": {
              "outlinewidth": 0,
              "ticks": ""
             }
            },
            "type": "parcoords"
           }
          ],
          "pie": [
           {
            "automargin": true,
            "type": "pie"
           }
          ],
          "scatter": [
           {
            "fillpattern": {
             "fillmode": "overlay",
             "size": 10,
             "solidity": 0.2
            },
            "type": "scatter"
           }
          ],
          "scatter3d": [
           {
            "line": {
             "colorbar": {
              "outlinewidth": 0,
              "ticks": ""
             }
            },
            "marker": {
             "colorbar": {
              "outlinewidth": 0,
              "ticks": ""
             }
            },
            "type": "scatter3d"
           }
          ],
          "scattercarpet": [
           {
            "marker": {
             "colorbar": {
              "outlinewidth": 0,
              "ticks": ""
             }
            },
            "type": "scattercarpet"
           }
          ],
          "scattergeo": [
           {
            "marker": {
             "colorbar": {
              "outlinewidth": 0,
              "ticks": ""
             }
            },
            "type": "scattergeo"
           }
          ],
          "scattergl": [
           {
            "marker": {
             "colorbar": {
              "outlinewidth": 0,
              "ticks": ""
             }
            },
            "type": "scattergl"
           }
          ],
          "scattermapbox": [
           {
            "marker": {
             "colorbar": {
              "outlinewidth": 0,
              "ticks": ""
             }
            },
            "type": "scattermapbox"
           }
          ],
          "scatterpolar": [
           {
            "marker": {
             "colorbar": {
              "outlinewidth": 0,
              "ticks": ""
             }
            },
            "type": "scatterpolar"
           }
          ],
          "scatterpolargl": [
           {
            "marker": {
             "colorbar": {
              "outlinewidth": 0,
              "ticks": ""
             }
            },
            "type": "scatterpolargl"
           }
          ],
          "scatterternary": [
           {
            "marker": {
             "colorbar": {
              "outlinewidth": 0,
              "ticks": ""
             }
            },
            "type": "scatterternary"
           }
          ],
          "surface": [
           {
            "colorbar": {
             "outlinewidth": 0,
             "ticks": ""
            },
            "colorscale": [
             [
              0,
              "#0d0887"
             ],
             [
              0.1111111111111111,
              "#46039f"
             ],
             [
              0.2222222222222222,
              "#7201a8"
             ],
             [
              0.3333333333333333,
              "#9c179e"
             ],
             [
              0.4444444444444444,
              "#bd3786"
             ],
             [
              0.5555555555555556,
              "#d8576b"
             ],
             [
              0.6666666666666666,
              "#ed7953"
             ],
             [
              0.7777777777777778,
              "#fb9f3a"
             ],
             [
              0.8888888888888888,
              "#fdca26"
             ],
             [
              1,
              "#f0f921"
             ]
            ],
            "type": "surface"
           }
          ],
          "table": [
           {
            "cells": {
             "fill": {
              "color": "#EBF0F8"
             },
             "line": {
              "color": "white"
             }
            },
            "header": {
             "fill": {
              "color": "#C8D4E3"
             },
             "line": {
              "color": "white"
             }
            },
            "type": "table"
           }
          ]
         },
         "layout": {
          "annotationdefaults": {
           "arrowcolor": "#2a3f5f",
           "arrowhead": 0,
           "arrowwidth": 1
          },
          "autotypenumbers": "strict",
          "coloraxis": {
           "colorbar": {
            "outlinewidth": 0,
            "ticks": ""
           }
          },
          "colorscale": {
           "diverging": [
            [
             0,
             "#8e0152"
            ],
            [
             0.1,
             "#c51b7d"
            ],
            [
             0.2,
             "#de77ae"
            ],
            [
             0.3,
             "#f1b6da"
            ],
            [
             0.4,
             "#fde0ef"
            ],
            [
             0.5,
             "#f7f7f7"
            ],
            [
             0.6,
             "#e6f5d0"
            ],
            [
             0.7,
             "#b8e186"
            ],
            [
             0.8,
             "#7fbc41"
            ],
            [
             0.9,
             "#4d9221"
            ],
            [
             1,
             "#276419"
            ]
           ],
           "sequential": [
            [
             0,
             "#0d0887"
            ],
            [
             0.1111111111111111,
             "#46039f"
            ],
            [
             0.2222222222222222,
             "#7201a8"
            ],
            [
             0.3333333333333333,
             "#9c179e"
            ],
            [
             0.4444444444444444,
             "#bd3786"
            ],
            [
             0.5555555555555556,
             "#d8576b"
            ],
            [
             0.6666666666666666,
             "#ed7953"
            ],
            [
             0.7777777777777778,
             "#fb9f3a"
            ],
            [
             0.8888888888888888,
             "#fdca26"
            ],
            [
             1,
             "#f0f921"
            ]
           ],
           "sequentialminus": [
            [
             0,
             "#0d0887"
            ],
            [
             0.1111111111111111,
             "#46039f"
            ],
            [
             0.2222222222222222,
             "#7201a8"
            ],
            [
             0.3333333333333333,
             "#9c179e"
            ],
            [
             0.4444444444444444,
             "#bd3786"
            ],
            [
             0.5555555555555556,
             "#d8576b"
            ],
            [
             0.6666666666666666,
             "#ed7953"
            ],
            [
             0.7777777777777778,
             "#fb9f3a"
            ],
            [
             0.8888888888888888,
             "#fdca26"
            ],
            [
             1,
             "#f0f921"
            ]
           ]
          },
          "colorway": [
           "#636efa",
           "#EF553B",
           "#00cc96",
           "#ab63fa",
           "#FFA15A",
           "#19d3f3",
           "#FF6692",
           "#B6E880",
           "#FF97FF",
           "#FECB52"
          ],
          "font": {
           "color": "#2a3f5f"
          },
          "geo": {
           "bgcolor": "white",
           "lakecolor": "white",
           "landcolor": "#E5ECF6",
           "showlakes": true,
           "showland": true,
           "subunitcolor": "white"
          },
          "hoverlabel": {
           "align": "left"
          },
          "hovermode": "closest",
          "mapbox": {
           "style": "light"
          },
          "paper_bgcolor": "white",
          "plot_bgcolor": "#E5ECF6",
          "polar": {
           "angularaxis": {
            "gridcolor": "white",
            "linecolor": "white",
            "ticks": ""
           },
           "bgcolor": "#E5ECF6",
           "radialaxis": {
            "gridcolor": "white",
            "linecolor": "white",
            "ticks": ""
           }
          },
          "scene": {
           "xaxis": {
            "backgroundcolor": "#E5ECF6",
            "gridcolor": "white",
            "gridwidth": 2,
            "linecolor": "white",
            "showbackground": true,
            "ticks": "",
            "zerolinecolor": "white"
           },
           "yaxis": {
            "backgroundcolor": "#E5ECF6",
            "gridcolor": "white",
            "gridwidth": 2,
            "linecolor": "white",
            "showbackground": true,
            "ticks": "",
            "zerolinecolor": "white"
           },
           "zaxis": {
            "backgroundcolor": "#E5ECF6",
            "gridcolor": "white",
            "gridwidth": 2,
            "linecolor": "white",
            "showbackground": true,
            "ticks": "",
            "zerolinecolor": "white"
           }
          },
          "shapedefaults": {
           "line": {
            "color": "#2a3f5f"
           }
          },
          "ternary": {
           "aaxis": {
            "gridcolor": "white",
            "linecolor": "white",
            "ticks": ""
           },
           "baxis": {
            "gridcolor": "white",
            "linecolor": "white",
            "ticks": ""
           },
           "bgcolor": "#E5ECF6",
           "caxis": {
            "gridcolor": "white",
            "linecolor": "white",
            "ticks": ""
           }
          },
          "title": {
           "x": 0.05
          },
          "xaxis": {
           "automargin": true,
           "gridcolor": "white",
           "linecolor": "white",
           "ticks": "",
           "title": {
            "standoff": 15
           },
           "zerolinecolor": "white",
           "zerolinewidth": 2
          },
          "yaxis": {
           "automargin": true,
           "gridcolor": "white",
           "linecolor": "white",
           "ticks": "",
           "title": {
            "standoff": 15
           },
           "zerolinecolor": "white",
           "zerolinewidth": 2
          }
         }
        },
        "title": {
         "text": "Slice Plot"
        },
        "xaxis": {
         "title": {
          "text": "learning_rate"
         }
        },
        "yaxis": {
         "title": {
          "text": "Objective Value"
         }
        }
       }
      }
     },
     "metadata": {},
     "output_type": "display_data"
    }
   ],
   "source": [
    "optuna.visualization.plot_slice(study, params=[\"learning_rate\"])"
   ]
  },
  {
   "cell_type": "code",
   "execution_count": 18,
   "metadata": {},
   "outputs": [
    {
     "data": {
      "application/vnd.plotly.v1+json": {
       "config": {
        "plotlyServerURL": "https://plot.ly"
       },
       "data": [
        {
         "mode": "markers",
         "name": "Objective Value",
         "type": "scatter",
         "x": [
          0,
          1,
          2,
          3,
          4,
          5,
          6,
          7,
          8,
          9,
          10,
          11,
          12,
          13,
          14,
          15,
          16,
          17,
          18,
          19,
          20,
          21,
          22,
          23,
          24,
          25,
          26,
          27,
          28,
          29,
          30,
          31,
          32,
          33,
          34,
          35,
          36,
          37,
          38,
          39,
          40,
          41,
          42,
          43,
          44,
          45,
          46,
          47,
          48,
          49,
          50,
          51,
          52,
          53,
          54,
          55,
          56,
          57,
          58,
          59,
          60,
          61,
          62,
          63,
          64,
          65,
          66,
          67,
          68,
          69,
          70,
          71,
          72,
          73,
          74,
          75,
          76,
          77,
          78,
          79,
          80,
          81,
          82,
          83,
          84,
          85,
          86,
          87,
          88,
          89,
          90,
          91,
          92,
          93,
          94,
          95,
          96,
          97,
          98,
          99,
          100,
          101,
          102,
          103,
          104,
          105,
          106,
          107,
          108,
          109,
          110,
          111,
          112,
          113,
          114,
          115,
          116,
          117,
          118,
          119,
          120,
          121,
          122,
          123,
          124,
          125,
          126,
          127,
          128,
          129,
          130,
          131,
          132,
          133,
          134,
          135,
          136,
          137,
          138,
          139,
          140,
          141,
          142,
          143,
          144,
          145,
          146,
          147,
          148,
          149,
          150,
          151,
          152,
          153,
          154,
          155,
          156,
          157,
          158,
          159,
          160,
          161,
          162,
          163,
          164,
          165,
          166,
          167,
          168,
          169,
          170,
          171,
          172,
          173,
          174,
          175,
          176,
          177,
          178,
          179,
          180,
          181,
          182,
          183,
          184,
          185,
          186,
          187,
          188,
          189,
          190,
          191,
          192,
          193,
          194,
          195,
          196,
          197,
          198,
          199
         ],
         "y": [
          0.7079704919851351,
          0.7150000000000001,
          0.6989295272078502,
          0.7220212588346597,
          0.7321428571428572,
          0.7172619047619048,
          0.678018747573354,
          0.7069953809338305,
          0.7079704919851351,
          0.7,
          0.6625,
          0.7,
          0.7150000000000001,
          0.7321428571428572,
          0.7321428571428572,
          0.7470238095238095,
          0.724960079290788,
          0.6946206896551724,
          0.6929946197792445,
          0.7237431557989049,
          0.730837394771821,
          0.7402276100940128,
          0.7315510384445427,
          0.7166372072470173,
          0.7290365744870652,
          0.7069953809338305,
          0.7166372072470173,
          0.6938775510204082,
          0.7069953809338305,
          0.6619177472313429,
          0.7150000000000001,
          0.7321428571428572,
          0.6946206896551724,
          0.7,
          0.7046283309957924,
          0.7009304386353566,
          0.7095172413793103,
          0.7177596830985915,
          0.7220212588346597,
          0.7237431557989049,
          0.7253834735279565,
          0.7079704919851351,
          0.660633484162896,
          0.7079704919851351,
          0.7244137931034482,
          0.7079704919851351,
          0.7158839167035889,
          0.7166372072470173,
          0.7290365744870652,
          0.7478021978021978,
          0.7115384615384615,
          0.7220212588346597,
          0.6929946197792445,
          0.7,
          0.7069953809338305,
          0.7139830508474576,
          0.7172619047619048,
          0.7398271020318264,
          0.6688224799286351,
          0.730837394771821,
          0.7237431557989049,
          0.7393103448275862,
          0.7150000000000001,
          0.7088103534096566,
          0.7166372072470173,
          0.7017233760494919,
          0.7326144366197183,
          0.6769436251321721,
          0.7326144366197183,
          0.7,
          0.7220212588346597,
          0.7321428571428572,
          0.6347058823529412,
          0.73,
          0.7009304386353566,
          0.7220212588346597,
          0.7150000000000001,
          0.7177596830985915,
          0.7088103534096566,
          0.7402276100940128,
          0.7139830508474576,
          0.7150000000000001,
          0.7237431557989049,
          0.7095172413793103,
          0.7229463641910256,
          0.730837394771821,
          0.7220212588346597,
          0.7158839167035889,
          0.7,
          0.7220212588346597,
          0.7177596830985915,
          0.7150000000000001,
          0.7220212588346597,
          0.7229463641910256,
          0.7370471367354889,
          0.6989295272078502,
          0.7229463641910256,
          0.7158839167035889,
          0.6795886075949367,
          0.7253834735279565,
          0.6743338008415147,
          0.7237431557989049,
          0.6929946197792445,
          0.7069953809338305,
          0.6977160770264219,
          0.7158839167035889,
          0.6938775510204082,
          0.73,
          0.7244137931034482,
          0.7172619047619048,
          0.7158839167035889,
          0.7244137931034482,
          0.682601880877743,
          0.7079704919851351,
          0.7009304386353566,
          0.7220212588346597,
          0.6929946197792445,
          0.7315510384445427,
          0.7079704919851351,
          0.6929946197792445,
          0.7058823529411764,
          0.7069953809338305,
          0.7244137931034482,
          0.7095172413793103,
          0.7321428571428572,
          0.7079704919851351,
          0.730837394771821,
          0.7069953809338305,
          0.6347058823529412,
          0.7,
          0.7229463641910256,
          0.7172619047619048,
          0.7166372072470173,
          0.7009304386353566,
          0.7139830508474576,
          0.7229463641910256,
          0.6989295272078502,
          0.6989295272078502,
          0.6859769605671244,
          0.6894810659186535,
          0.7370471367354889,
          0.7079704919851351,
          0.6929946197792445,
          0.7095172413793103,
          0.7229463641910256,
          0.660633484162896,
          0.7139830508474576,
          0.7244137931034482,
          0.6859769605671244,
          0.7172619047619048,
          0.6919695030330013,
          0.7244137931034482,
          0.7321428571428572,
          0.6838760035682426,
          0.7069953809338305,
          0.7315510384445427,
          0.7079704919851351,
          0.7150000000000001,
          0.7244137931034482,
          0.7220212588346597,
          0.7158839167035889,
          0.6838760035682426,
          0.7237431557989049,
          0.7229463641910256,
          0.7321428571428572,
          0.7069953809338305,
          0.7166372072470173,
          0.7315510384445427,
          0.6688224799286351,
          0.730837394771821,
          0.7220212588346597,
          0.6759259259259259,
          0.7088103534096566,
          0.7166372072470173,
          0.7069953809338305,
          0.7326144366197183,
          0.7158839167035889,
          0.7150000000000001,
          0.6919695030330013,
          0.7402276100940128,
          0.7315510384445427,
          0.7177596830985915,
          0.7069953809338305,
          0.7079704919851351,
          0.7095172413793103,
          0.7069953809338305,
          0.7166372072470173,
          0.7079704919851351,
          0.6859769605671244,
          0.7393103448275862,
          0.7166372072470173,
          0.7069953809338305,
          0.7229463641910256,
          0.7150000000000001,
          0.6907993966817496,
          0.7088103534096566,
          0.7139830508474576,
          0.7069953809338305,
          0.7,
          0.7150000000000001
         ]
        },
        {
         "mode": "lines",
         "name": "Best Value",
         "type": "scatter",
         "x": [
          0,
          1,
          2,
          3,
          4,
          5,
          6,
          7,
          8,
          9,
          10,
          11,
          12,
          13,
          14,
          15,
          16,
          17,
          18,
          19,
          20,
          21,
          22,
          23,
          24,
          25,
          26,
          27,
          28,
          29,
          30,
          31,
          32,
          33,
          34,
          35,
          36,
          37,
          38,
          39,
          40,
          41,
          42,
          43,
          44,
          45,
          46,
          47,
          48,
          49,
          50,
          51,
          52,
          53,
          54,
          55,
          56,
          57,
          58,
          59,
          60,
          61,
          62,
          63,
          64,
          65,
          66,
          67,
          68,
          69,
          70,
          71,
          72,
          73,
          74,
          75,
          76,
          77,
          78,
          79,
          80,
          81,
          82,
          83,
          84,
          85,
          86,
          87,
          88,
          89,
          90,
          91,
          92,
          93,
          94,
          95,
          96,
          97,
          98,
          99,
          100,
          101,
          102,
          103,
          104,
          105,
          106,
          107,
          108,
          109,
          110,
          111,
          112,
          113,
          114,
          115,
          116,
          117,
          118,
          119,
          120,
          121,
          122,
          123,
          124,
          125,
          126,
          127,
          128,
          129,
          130,
          131,
          132,
          133,
          134,
          135,
          136,
          137,
          138,
          139,
          140,
          141,
          142,
          143,
          144,
          145,
          146,
          147,
          148,
          149,
          150,
          151,
          152,
          153,
          154,
          155,
          156,
          157,
          158,
          159,
          160,
          161,
          162,
          163,
          164,
          165,
          166,
          167,
          168,
          169,
          170,
          171,
          172,
          173,
          174,
          175,
          176,
          177,
          178,
          179,
          180,
          181,
          182,
          183,
          184,
          185,
          186,
          187,
          188,
          189,
          190,
          191,
          192,
          193,
          194,
          195,
          196,
          197,
          198,
          199
         ],
         "y": [
          0.7079704919851351,
          0.7150000000000001,
          0.7150000000000001,
          0.7220212588346597,
          0.7321428571428572,
          0.7321428571428572,
          0.7321428571428572,
          0.7321428571428572,
          0.7321428571428572,
          0.7321428571428572,
          0.7321428571428572,
          0.7321428571428572,
          0.7321428571428572,
          0.7321428571428572,
          0.7321428571428572,
          0.7470238095238095,
          0.7470238095238095,
          0.7470238095238095,
          0.7470238095238095,
          0.7470238095238095,
          0.7470238095238095,
          0.7470238095238095,
          0.7470238095238095,
          0.7470238095238095,
          0.7470238095238095,
          0.7470238095238095,
          0.7470238095238095,
          0.7470238095238095,
          0.7470238095238095,
          0.7470238095238095,
          0.7470238095238095,
          0.7470238095238095,
          0.7470238095238095,
          0.7470238095238095,
          0.7470238095238095,
          0.7470238095238095,
          0.7470238095238095,
          0.7470238095238095,
          0.7470238095238095,
          0.7470238095238095,
          0.7470238095238095,
          0.7470238095238095,
          0.7470238095238095,
          0.7470238095238095,
          0.7470238095238095,
          0.7470238095238095,
          0.7470238095238095,
          0.7470238095238095,
          0.7470238095238095,
          0.7478021978021978,
          0.7478021978021978,
          0.7478021978021978,
          0.7478021978021978,
          0.7478021978021978,
          0.7478021978021978,
          0.7478021978021978,
          0.7478021978021978,
          0.7478021978021978,
          0.7478021978021978,
          0.7478021978021978,
          0.7478021978021978,
          0.7478021978021978,
          0.7478021978021978,
          0.7478021978021978,
          0.7478021978021978,
          0.7478021978021978,
          0.7478021978021978,
          0.7478021978021978,
          0.7478021978021978,
          0.7478021978021978,
          0.7478021978021978,
          0.7478021978021978,
          0.7478021978021978,
          0.7478021978021978,
          0.7478021978021978,
          0.7478021978021978,
          0.7478021978021978,
          0.7478021978021978,
          0.7478021978021978,
          0.7478021978021978,
          0.7478021978021978,
          0.7478021978021978,
          0.7478021978021978,
          0.7478021978021978,
          0.7478021978021978,
          0.7478021978021978,
          0.7478021978021978,
          0.7478021978021978,
          0.7478021978021978,
          0.7478021978021978,
          0.7478021978021978,
          0.7478021978021978,
          0.7478021978021978,
          0.7478021978021978,
          0.7478021978021978,
          0.7478021978021978,
          0.7478021978021978,
          0.7478021978021978,
          0.7478021978021978,
          0.7478021978021978,
          0.7478021978021978,
          0.7478021978021978,
          0.7478021978021978,
          0.7478021978021978,
          0.7478021978021978,
          0.7478021978021978,
          0.7478021978021978,
          0.7478021978021978,
          0.7478021978021978,
          0.7478021978021978,
          0.7478021978021978,
          0.7478021978021978,
          0.7478021978021978,
          0.7478021978021978,
          0.7478021978021978,
          0.7478021978021978,
          0.7478021978021978,
          0.7478021978021978,
          0.7478021978021978,
          0.7478021978021978,
          0.7478021978021978,
          0.7478021978021978,
          0.7478021978021978,
          0.7478021978021978,
          0.7478021978021978,
          0.7478021978021978,
          0.7478021978021978,
          0.7478021978021978,
          0.7478021978021978,
          0.7478021978021978,
          0.7478021978021978,
          0.7478021978021978,
          0.7478021978021978,
          0.7478021978021978,
          0.7478021978021978,
          0.7478021978021978,
          0.7478021978021978,
          0.7478021978021978,
          0.7478021978021978,
          0.7478021978021978,
          0.7478021978021978,
          0.7478021978021978,
          0.7478021978021978,
          0.7478021978021978,
          0.7478021978021978,
          0.7478021978021978,
          0.7478021978021978,
          0.7478021978021978,
          0.7478021978021978,
          0.7478021978021978,
          0.7478021978021978,
          0.7478021978021978,
          0.7478021978021978,
          0.7478021978021978,
          0.7478021978021978,
          0.7478021978021978,
          0.7478021978021978,
          0.7478021978021978,
          0.7478021978021978,
          0.7478021978021978,
          0.7478021978021978,
          0.7478021978021978,
          0.7478021978021978,
          0.7478021978021978,
          0.7478021978021978,
          0.7478021978021978,
          0.7478021978021978,
          0.7478021978021978,
          0.7478021978021978,
          0.7478021978021978,
          0.7478021978021978,
          0.7478021978021978,
          0.7478021978021978,
          0.7478021978021978,
          0.7478021978021978,
          0.7478021978021978,
          0.7478021978021978,
          0.7478021978021978,
          0.7478021978021978,
          0.7478021978021978,
          0.7478021978021978,
          0.7478021978021978,
          0.7478021978021978,
          0.7478021978021978,
          0.7478021978021978,
          0.7478021978021978,
          0.7478021978021978,
          0.7478021978021978,
          0.7478021978021978,
          0.7478021978021978,
          0.7478021978021978,
          0.7478021978021978,
          0.7478021978021978,
          0.7478021978021978,
          0.7478021978021978,
          0.7478021978021978,
          0.7478021978021978,
          0.7478021978021978,
          0.7478021978021978,
          0.7478021978021978
         ]
        },
        {
         "marker": {
          "color": "#cccccc"
         },
         "mode": "markers",
         "name": "Infeasible Trial",
         "showlegend": false,
         "type": "scatter",
         "x": [],
         "y": []
        }
       ],
       "layout": {
        "template": {
         "data": {
          "bar": [
           {
            "error_x": {
             "color": "#2a3f5f"
            },
            "error_y": {
             "color": "#2a3f5f"
            },
            "marker": {
             "line": {
              "color": "#E5ECF6",
              "width": 0.5
             },
             "pattern": {
              "fillmode": "overlay",
              "size": 10,
              "solidity": 0.2
             }
            },
            "type": "bar"
           }
          ],
          "barpolar": [
           {
            "marker": {
             "line": {
              "color": "#E5ECF6",
              "width": 0.5
             },
             "pattern": {
              "fillmode": "overlay",
              "size": 10,
              "solidity": 0.2
             }
            },
            "type": "barpolar"
           }
          ],
          "carpet": [
           {
            "aaxis": {
             "endlinecolor": "#2a3f5f",
             "gridcolor": "white",
             "linecolor": "white",
             "minorgridcolor": "white",
             "startlinecolor": "#2a3f5f"
            },
            "baxis": {
             "endlinecolor": "#2a3f5f",
             "gridcolor": "white",
             "linecolor": "white",
             "minorgridcolor": "white",
             "startlinecolor": "#2a3f5f"
            },
            "type": "carpet"
           }
          ],
          "choropleth": [
           {
            "colorbar": {
             "outlinewidth": 0,
             "ticks": ""
            },
            "type": "choropleth"
           }
          ],
          "contour": [
           {
            "colorbar": {
             "outlinewidth": 0,
             "ticks": ""
            },
            "colorscale": [
             [
              0,
              "#0d0887"
             ],
             [
              0.1111111111111111,
              "#46039f"
             ],
             [
              0.2222222222222222,
              "#7201a8"
             ],
             [
              0.3333333333333333,
              "#9c179e"
             ],
             [
              0.4444444444444444,
              "#bd3786"
             ],
             [
              0.5555555555555556,
              "#d8576b"
             ],
             [
              0.6666666666666666,
              "#ed7953"
             ],
             [
              0.7777777777777778,
              "#fb9f3a"
             ],
             [
              0.8888888888888888,
              "#fdca26"
             ],
             [
              1,
              "#f0f921"
             ]
            ],
            "type": "contour"
           }
          ],
          "contourcarpet": [
           {
            "colorbar": {
             "outlinewidth": 0,
             "ticks": ""
            },
            "type": "contourcarpet"
           }
          ],
          "heatmap": [
           {
            "colorbar": {
             "outlinewidth": 0,
             "ticks": ""
            },
            "colorscale": [
             [
              0,
              "#0d0887"
             ],
             [
              0.1111111111111111,
              "#46039f"
             ],
             [
              0.2222222222222222,
              "#7201a8"
             ],
             [
              0.3333333333333333,
              "#9c179e"
             ],
             [
              0.4444444444444444,
              "#bd3786"
             ],
             [
              0.5555555555555556,
              "#d8576b"
             ],
             [
              0.6666666666666666,
              "#ed7953"
             ],
             [
              0.7777777777777778,
              "#fb9f3a"
             ],
             [
              0.8888888888888888,
              "#fdca26"
             ],
             [
              1,
              "#f0f921"
             ]
            ],
            "type": "heatmap"
           }
          ],
          "heatmapgl": [
           {
            "colorbar": {
             "outlinewidth": 0,
             "ticks": ""
            },
            "colorscale": [
             [
              0,
              "#0d0887"
             ],
             [
              0.1111111111111111,
              "#46039f"
             ],
             [
              0.2222222222222222,
              "#7201a8"
             ],
             [
              0.3333333333333333,
              "#9c179e"
             ],
             [
              0.4444444444444444,
              "#bd3786"
             ],
             [
              0.5555555555555556,
              "#d8576b"
             ],
             [
              0.6666666666666666,
              "#ed7953"
             ],
             [
              0.7777777777777778,
              "#fb9f3a"
             ],
             [
              0.8888888888888888,
              "#fdca26"
             ],
             [
              1,
              "#f0f921"
             ]
            ],
            "type": "heatmapgl"
           }
          ],
          "histogram": [
           {
            "marker": {
             "pattern": {
              "fillmode": "overlay",
              "size": 10,
              "solidity": 0.2
             }
            },
            "type": "histogram"
           }
          ],
          "histogram2d": [
           {
            "colorbar": {
             "outlinewidth": 0,
             "ticks": ""
            },
            "colorscale": [
             [
              0,
              "#0d0887"
             ],
             [
              0.1111111111111111,
              "#46039f"
             ],
             [
              0.2222222222222222,
              "#7201a8"
             ],
             [
              0.3333333333333333,
              "#9c179e"
             ],
             [
              0.4444444444444444,
              "#bd3786"
             ],
             [
              0.5555555555555556,
              "#d8576b"
             ],
             [
              0.6666666666666666,
              "#ed7953"
             ],
             [
              0.7777777777777778,
              "#fb9f3a"
             ],
             [
              0.8888888888888888,
              "#fdca26"
             ],
             [
              1,
              "#f0f921"
             ]
            ],
            "type": "histogram2d"
           }
          ],
          "histogram2dcontour": [
           {
            "colorbar": {
             "outlinewidth": 0,
             "ticks": ""
            },
            "colorscale": [
             [
              0,
              "#0d0887"
             ],
             [
              0.1111111111111111,
              "#46039f"
             ],
             [
              0.2222222222222222,
              "#7201a8"
             ],
             [
              0.3333333333333333,
              "#9c179e"
             ],
             [
              0.4444444444444444,
              "#bd3786"
             ],
             [
              0.5555555555555556,
              "#d8576b"
             ],
             [
              0.6666666666666666,
              "#ed7953"
             ],
             [
              0.7777777777777778,
              "#fb9f3a"
             ],
             [
              0.8888888888888888,
              "#fdca26"
             ],
             [
              1,
              "#f0f921"
             ]
            ],
            "type": "histogram2dcontour"
           }
          ],
          "mesh3d": [
           {
            "colorbar": {
             "outlinewidth": 0,
             "ticks": ""
            },
            "type": "mesh3d"
           }
          ],
          "parcoords": [
           {
            "line": {
             "colorbar": {
              "outlinewidth": 0,
              "ticks": ""
             }
            },
            "type": "parcoords"
           }
          ],
          "pie": [
           {
            "automargin": true,
            "type": "pie"
           }
          ],
          "scatter": [
           {
            "fillpattern": {
             "fillmode": "overlay",
             "size": 10,
             "solidity": 0.2
            },
            "type": "scatter"
           }
          ],
          "scatter3d": [
           {
            "line": {
             "colorbar": {
              "outlinewidth": 0,
              "ticks": ""
             }
            },
            "marker": {
             "colorbar": {
              "outlinewidth": 0,
              "ticks": ""
             }
            },
            "type": "scatter3d"
           }
          ],
          "scattercarpet": [
           {
            "marker": {
             "colorbar": {
              "outlinewidth": 0,
              "ticks": ""
             }
            },
            "type": "scattercarpet"
           }
          ],
          "scattergeo": [
           {
            "marker": {
             "colorbar": {
              "outlinewidth": 0,
              "ticks": ""
             }
            },
            "type": "scattergeo"
           }
          ],
          "scattergl": [
           {
            "marker": {
             "colorbar": {
              "outlinewidth": 0,
              "ticks": ""
             }
            },
            "type": "scattergl"
           }
          ],
          "scattermapbox": [
           {
            "marker": {
             "colorbar": {
              "outlinewidth": 0,
              "ticks": ""
             }
            },
            "type": "scattermapbox"
           }
          ],
          "scatterpolar": [
           {
            "marker": {
             "colorbar": {
              "outlinewidth": 0,
              "ticks": ""
             }
            },
            "type": "scatterpolar"
           }
          ],
          "scatterpolargl": [
           {
            "marker": {
             "colorbar": {
              "outlinewidth": 0,
              "ticks": ""
             }
            },
            "type": "scatterpolargl"
           }
          ],
          "scatterternary": [
           {
            "marker": {
             "colorbar": {
              "outlinewidth": 0,
              "ticks": ""
             }
            },
            "type": "scatterternary"
           }
          ],
          "surface": [
           {
            "colorbar": {
             "outlinewidth": 0,
             "ticks": ""
            },
            "colorscale": [
             [
              0,
              "#0d0887"
             ],
             [
              0.1111111111111111,
              "#46039f"
             ],
             [
              0.2222222222222222,
              "#7201a8"
             ],
             [
              0.3333333333333333,
              "#9c179e"
             ],
             [
              0.4444444444444444,
              "#bd3786"
             ],
             [
              0.5555555555555556,
              "#d8576b"
             ],
             [
              0.6666666666666666,
              "#ed7953"
             ],
             [
              0.7777777777777778,
              "#fb9f3a"
             ],
             [
              0.8888888888888888,
              "#fdca26"
             ],
             [
              1,
              "#f0f921"
             ]
            ],
            "type": "surface"
           }
          ],
          "table": [
           {
            "cells": {
             "fill": {
              "color": "#EBF0F8"
             },
             "line": {
              "color": "white"
             }
            },
            "header": {
             "fill": {
              "color": "#C8D4E3"
             },
             "line": {
              "color": "white"
             }
            },
            "type": "table"
           }
          ]
         },
         "layout": {
          "annotationdefaults": {
           "arrowcolor": "#2a3f5f",
           "arrowhead": 0,
           "arrowwidth": 1
          },
          "autotypenumbers": "strict",
          "coloraxis": {
           "colorbar": {
            "outlinewidth": 0,
            "ticks": ""
           }
          },
          "colorscale": {
           "diverging": [
            [
             0,
             "#8e0152"
            ],
            [
             0.1,
             "#c51b7d"
            ],
            [
             0.2,
             "#de77ae"
            ],
            [
             0.3,
             "#f1b6da"
            ],
            [
             0.4,
             "#fde0ef"
            ],
            [
             0.5,
             "#f7f7f7"
            ],
            [
             0.6,
             "#e6f5d0"
            ],
            [
             0.7,
             "#b8e186"
            ],
            [
             0.8,
             "#7fbc41"
            ],
            [
             0.9,
             "#4d9221"
            ],
            [
             1,
             "#276419"
            ]
           ],
           "sequential": [
            [
             0,
             "#0d0887"
            ],
            [
             0.1111111111111111,
             "#46039f"
            ],
            [
             0.2222222222222222,
             "#7201a8"
            ],
            [
             0.3333333333333333,
             "#9c179e"
            ],
            [
             0.4444444444444444,
             "#bd3786"
            ],
            [
             0.5555555555555556,
             "#d8576b"
            ],
            [
             0.6666666666666666,
             "#ed7953"
            ],
            [
             0.7777777777777778,
             "#fb9f3a"
            ],
            [
             0.8888888888888888,
             "#fdca26"
            ],
            [
             1,
             "#f0f921"
            ]
           ],
           "sequentialminus": [
            [
             0,
             "#0d0887"
            ],
            [
             0.1111111111111111,
             "#46039f"
            ],
            [
             0.2222222222222222,
             "#7201a8"
            ],
            [
             0.3333333333333333,
             "#9c179e"
            ],
            [
             0.4444444444444444,
             "#bd3786"
            ],
            [
             0.5555555555555556,
             "#d8576b"
            ],
            [
             0.6666666666666666,
             "#ed7953"
            ],
            [
             0.7777777777777778,
             "#fb9f3a"
            ],
            [
             0.8888888888888888,
             "#fdca26"
            ],
            [
             1,
             "#f0f921"
            ]
           ]
          },
          "colorway": [
           "#636efa",
           "#EF553B",
           "#00cc96",
           "#ab63fa",
           "#FFA15A",
           "#19d3f3",
           "#FF6692",
           "#B6E880",
           "#FF97FF",
           "#FECB52"
          ],
          "font": {
           "color": "#2a3f5f"
          },
          "geo": {
           "bgcolor": "white",
           "lakecolor": "white",
           "landcolor": "#E5ECF6",
           "showlakes": true,
           "showland": true,
           "subunitcolor": "white"
          },
          "hoverlabel": {
           "align": "left"
          },
          "hovermode": "closest",
          "mapbox": {
           "style": "light"
          },
          "paper_bgcolor": "white",
          "plot_bgcolor": "#E5ECF6",
          "polar": {
           "angularaxis": {
            "gridcolor": "white",
            "linecolor": "white",
            "ticks": ""
           },
           "bgcolor": "#E5ECF6",
           "radialaxis": {
            "gridcolor": "white",
            "linecolor": "white",
            "ticks": ""
           }
          },
          "scene": {
           "xaxis": {
            "backgroundcolor": "#E5ECF6",
            "gridcolor": "white",
            "gridwidth": 2,
            "linecolor": "white",
            "showbackground": true,
            "ticks": "",
            "zerolinecolor": "white"
           },
           "yaxis": {
            "backgroundcolor": "#E5ECF6",
            "gridcolor": "white",
            "gridwidth": 2,
            "linecolor": "white",
            "showbackground": true,
            "ticks": "",
            "zerolinecolor": "white"
           },
           "zaxis": {
            "backgroundcolor": "#E5ECF6",
            "gridcolor": "white",
            "gridwidth": 2,
            "linecolor": "white",
            "showbackground": true,
            "ticks": "",
            "zerolinecolor": "white"
           }
          },
          "shapedefaults": {
           "line": {
            "color": "#2a3f5f"
           }
          },
          "ternary": {
           "aaxis": {
            "gridcolor": "white",
            "linecolor": "white",
            "ticks": ""
           },
           "baxis": {
            "gridcolor": "white",
            "linecolor": "white",
            "ticks": ""
           },
           "bgcolor": "#E5ECF6",
           "caxis": {
            "gridcolor": "white",
            "linecolor": "white",
            "ticks": ""
           }
          },
          "title": {
           "x": 0.05
          },
          "xaxis": {
           "automargin": true,
           "gridcolor": "white",
           "linecolor": "white",
           "ticks": "",
           "title": {
            "standoff": 15
           },
           "zerolinecolor": "white",
           "zerolinewidth": 2
          },
          "yaxis": {
           "automargin": true,
           "gridcolor": "white",
           "linecolor": "white",
           "ticks": "",
           "title": {
            "standoff": 15
           },
           "zerolinecolor": "white",
           "zerolinewidth": 2
          }
         }
        },
        "title": {
         "text": "Optimization History Plot"
        },
        "xaxis": {
         "title": {
          "text": "Trial"
         }
        },
        "yaxis": {
         "title": {
          "text": "Objective Value"
         }
        }
       }
      }
     },
     "metadata": {},
     "output_type": "display_data"
    }
   ],
   "source": [
    "optuna.visualization.plot_optimization_history(study)"
   ]
  }
 ],
 "metadata": {
  "kernelspec": {
   "display_name": ".venv",
   "language": "python",
   "name": "python3"
  },
  "language_info": {
   "codemirror_mode": {
    "name": "ipython",
    "version": 3
   },
   "file_extension": ".py",
   "mimetype": "text/x-python",
   "name": "python",
   "nbconvert_exporter": "python",
   "pygments_lexer": "ipython3",
   "version": "3.11.8"
  }
 },
 "nbformat": 4,
 "nbformat_minor": 2
}
