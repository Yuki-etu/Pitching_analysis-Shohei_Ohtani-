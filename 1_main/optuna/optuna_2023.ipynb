{
 "cells": [
  {
   "cell_type": "markdown",
   "metadata": {},
   "source": [
    "### <font color=\"orange\">ライブラリ読み込み</font>"
   ]
  },
  {
   "cell_type": "code",
   "execution_count": 1,
   "metadata": {},
   "outputs": [],
   "source": [
    "import numpy as np\n",
    "import pandas as pd\n",
    "import matplotlib.pyplot as plt"
   ]
  },
  {
   "cell_type": "code",
   "execution_count": 2,
   "metadata": {},
   "outputs": [],
   "source": [
    "pd.set_option('display.max_rows', 50)\n",
    "pd.set_option('display.max_columns', 50)"
   ]
  },
  {
   "cell_type": "code",
   "execution_count": 3,
   "metadata": {},
   "outputs": [],
   "source": [
    "# データフレームを水平に表示する。\n",
    "def show_many_dfs(*dfs, n=10):\n",
    "    class HorizontalDisplay:\n",
    "        def _repr_html_(self):\n",
    "            template = '<div style=\"float: left; padding: 5px;\">{}</div>'\n",
    "            return  ''.join(template.format(df.head(n)._repr_html_()) for df in dfs)\n",
    "    return HorizontalDisplay()"
   ]
  },
  {
   "cell_type": "markdown",
   "metadata": {},
   "source": [
    "### <font color=\"orange\">データ読み込み</font>"
   ]
  },
  {
   "cell_type": "code",
   "execution_count": 4,
   "metadata": {},
   "outputs": [],
   "source": [
    "data_path = \"./make_data_for_mainmodel/maked_data.csv\""
   ]
  },
  {
   "cell_type": "code",
   "execution_count": 5,
   "metadata": {},
   "outputs": [
    {
     "data": {
      "text/html": [
       "<div>\n",
       "<style scoped>\n",
       "    .dataframe tbody tr th:only-of-type {\n",
       "        vertical-align: middle;\n",
       "    }\n",
       "\n",
       "    .dataframe tbody tr th {\n",
       "        vertical-align: top;\n",
       "    }\n",
       "\n",
       "    .dataframe thead th {\n",
       "        text-align: right;\n",
       "    }\n",
       "</style>\n",
       "<table border=\"1\" class=\"dataframe\">\n",
       "  <thead>\n",
       "    <tr style=\"text-align: right;\">\n",
       "      <th></th>\n",
       "      <th>pitch_name</th>\n",
       "      <th>game_year</th>\n",
       "      <th>game_month</th>\n",
       "      <th>game_day</th>\n",
       "      <th>home_team</th>\n",
       "      <th>LAA_score</th>\n",
       "      <th>ENEMY_score</th>\n",
       "      <th>score_difference</th>\n",
       "      <th>is_LAA_score_is_higher</th>\n",
       "      <th>stand</th>\n",
       "      <th>on_3b</th>\n",
       "      <th>on_2b</th>\n",
       "      <th>on_1b</th>\n",
       "      <th>count_runner</th>\n",
       "      <th>inning</th>\n",
       "      <th>pitch_number</th>\n",
       "      <th>pitch_count_per_inning</th>\n",
       "      <th>pitch_count_per_game</th>\n",
       "      <th>outs_when_up</th>\n",
       "      <th>balls</th>\n",
       "      <th>strikes</th>\n",
       "      <th>sz_top</th>\n",
       "      <th>sz_bot</th>\n",
       "      <th>is_first_pitch_number</th>\n",
       "      <th>release_speed</th>\n",
       "      <th>release_pos_x</th>\n",
       "      <th>release_pos_y</th>\n",
       "      <th>is_incourse_ball</th>\n",
       "      <th>is_high_ball</th>\n",
       "      <th>release_pos_z</th>\n",
       "      <th>release_spin_rate</th>\n",
       "      <th>release_extension</th>\n",
       "      <th>plate_x</th>\n",
       "      <th>plate_z</th>\n",
       "      <th>events</th>\n",
       "      <th>description</th>\n",
       "      <th>zone</th>\n",
       "      <th>type</th>\n",
       "      <th>hc_x</th>\n",
       "      <th>hc_y</th>\n",
       "      <th>one_pitch_ago</th>\n",
       "      <th>two_pitches_ago</th>\n",
       "      <th>three_pitches_ago</th>\n",
       "    </tr>\n",
       "  </thead>\n",
       "  <tbody>\n",
       "    <tr>\n",
       "      <th>0</th>\n",
       "      <td>1</td>\n",
       "      <td>2018</td>\n",
       "      <td>4</td>\n",
       "      <td>1</td>\n",
       "      <td>1</td>\n",
       "      <td>0</td>\n",
       "      <td>0</td>\n",
       "      <td>0</td>\n",
       "      <td>0</td>\n",
       "      <td>0</td>\n",
       "      <td>0</td>\n",
       "      <td>0</td>\n",
       "      <td>0</td>\n",
       "      <td>0</td>\n",
       "      <td>1</td>\n",
       "      <td>1</td>\n",
       "      <td>1</td>\n",
       "      <td>1</td>\n",
       "      <td>0</td>\n",
       "      <td>0</td>\n",
       "      <td>0</td>\n",
       "      <td>3.54</td>\n",
       "      <td>1.60</td>\n",
       "      <td>1</td>\n",
       "      <td>NaN</td>\n",
       "      <td>NaN</td>\n",
       "      <td>NaN</td>\n",
       "      <td>NaN</td>\n",
       "      <td>NaN</td>\n",
       "      <td>NaN</td>\n",
       "      <td>NaN</td>\n",
       "      <td>NaN</td>\n",
       "      <td>NaN</td>\n",
       "      <td>NaN</td>\n",
       "      <td>NaN</td>\n",
       "      <td>NaN</td>\n",
       "      <td>NaN</td>\n",
       "      <td>NaN</td>\n",
       "      <td>NaN</td>\n",
       "      <td>NaN</td>\n",
       "      <td>NaN</td>\n",
       "      <td>NaN</td>\n",
       "      <td>NaN</td>\n",
       "    </tr>\n",
       "    <tr>\n",
       "      <th>1</th>\n",
       "      <td>0</td>\n",
       "      <td>2018</td>\n",
       "      <td>4</td>\n",
       "      <td>1</td>\n",
       "      <td>1</td>\n",
       "      <td>0</td>\n",
       "      <td>0</td>\n",
       "      <td>0</td>\n",
       "      <td>0</td>\n",
       "      <td>0</td>\n",
       "      <td>0</td>\n",
       "      <td>0</td>\n",
       "      <td>0</td>\n",
       "      <td>0</td>\n",
       "      <td>1</td>\n",
       "      <td>2</td>\n",
       "      <td>2</td>\n",
       "      <td>2</td>\n",
       "      <td>0</td>\n",
       "      <td>0</td>\n",
       "      <td>1</td>\n",
       "      <td>3.33</td>\n",
       "      <td>1.46</td>\n",
       "      <td>0</td>\n",
       "      <td>96.4</td>\n",
       "      <td>-2.16</td>\n",
       "      <td>54.05</td>\n",
       "      <td>1.0</td>\n",
       "      <td>0.0</td>\n",
       "      <td>6.20</td>\n",
       "      <td>2107.0</td>\n",
       "      <td>6.4</td>\n",
       "      <td>-0.36</td>\n",
       "      <td>2.81</td>\n",
       "      <td>19.0</td>\n",
       "      <td>2.0</td>\n",
       "      <td>4.0</td>\n",
       "      <td>0.0</td>\n",
       "      <td>0.0</td>\n",
       "      <td>0.0</td>\n",
       "      <td>4-Seam Fastball</td>\n",
       "      <td>NaN</td>\n",
       "      <td>NaN</td>\n",
       "    </tr>\n",
       "    <tr>\n",
       "      <th>2</th>\n",
       "      <td>0</td>\n",
       "      <td>2018</td>\n",
       "      <td>4</td>\n",
       "      <td>1</td>\n",
       "      <td>1</td>\n",
       "      <td>0</td>\n",
       "      <td>0</td>\n",
       "      <td>0</td>\n",
       "      <td>0</td>\n",
       "      <td>0</td>\n",
       "      <td>0</td>\n",
       "      <td>0</td>\n",
       "      <td>0</td>\n",
       "      <td>0</td>\n",
       "      <td>1</td>\n",
       "      <td>3</td>\n",
       "      <td>3</td>\n",
       "      <td>3</td>\n",
       "      <td>0</td>\n",
       "      <td>0</td>\n",
       "      <td>2</td>\n",
       "      <td>3.59</td>\n",
       "      <td>1.66</td>\n",
       "      <td>0</td>\n",
       "      <td>81.5</td>\n",
       "      <td>-2.36</td>\n",
       "      <td>54.42</td>\n",
       "      <td>0.0</td>\n",
       "      <td>1.0</td>\n",
       "      <td>6.03</td>\n",
       "      <td>2355.0</td>\n",
       "      <td>6.1</td>\n",
       "      <td>0.21</td>\n",
       "      <td>3.43</td>\n",
       "      <td>19.0</td>\n",
       "      <td>9.0</td>\n",
       "      <td>2.0</td>\n",
       "      <td>0.0</td>\n",
       "      <td>0.0</td>\n",
       "      <td>0.0</td>\n",
       "      <td>Sweeper</td>\n",
       "      <td>4-Seam Fastball</td>\n",
       "      <td>NaN</td>\n",
       "    </tr>\n",
       "    <tr>\n",
       "      <th>3</th>\n",
       "      <td>0</td>\n",
       "      <td>2018</td>\n",
       "      <td>4</td>\n",
       "      <td>1</td>\n",
       "      <td>1</td>\n",
       "      <td>0</td>\n",
       "      <td>0</td>\n",
       "      <td>0</td>\n",
       "      <td>0</td>\n",
       "      <td>0</td>\n",
       "      <td>0</td>\n",
       "      <td>0</td>\n",
       "      <td>0</td>\n",
       "      <td>0</td>\n",
       "      <td>1</td>\n",
       "      <td>4</td>\n",
       "      <td>4</td>\n",
       "      <td>4</td>\n",
       "      <td>0</td>\n",
       "      <td>1</td>\n",
       "      <td>2</td>\n",
       "      <td>3.33</td>\n",
       "      <td>1.46</td>\n",
       "      <td>0</td>\n",
       "      <td>83.6</td>\n",
       "      <td>-2.36</td>\n",
       "      <td>54.43</td>\n",
       "      <td>0.0</td>\n",
       "      <td>1.0</td>\n",
       "      <td>6.01</td>\n",
       "      <td>2368.0</td>\n",
       "      <td>6.1</td>\n",
       "      <td>0.24</td>\n",
       "      <td>3.67</td>\n",
       "      <td>19.0</td>\n",
       "      <td>0.0</td>\n",
       "      <td>2.0</td>\n",
       "      <td>1.0</td>\n",
       "      <td>0.0</td>\n",
       "      <td>0.0</td>\n",
       "      <td>Sweeper</td>\n",
       "      <td>Sweeper</td>\n",
       "      <td>4-Seam Fastball</td>\n",
       "    </tr>\n",
       "    <tr>\n",
       "      <th>4</th>\n",
       "      <td>1</td>\n",
       "      <td>2018</td>\n",
       "      <td>4</td>\n",
       "      <td>1</td>\n",
       "      <td>1</td>\n",
       "      <td>0</td>\n",
       "      <td>0</td>\n",
       "      <td>0</td>\n",
       "      <td>0</td>\n",
       "      <td>1</td>\n",
       "      <td>0</td>\n",
       "      <td>0</td>\n",
       "      <td>0</td>\n",
       "      <td>0</td>\n",
       "      <td>1</td>\n",
       "      <td>1</td>\n",
       "      <td>5</td>\n",
       "      <td>5</td>\n",
       "      <td>1</td>\n",
       "      <td>0</td>\n",
       "      <td>0</td>\n",
       "      <td>3.22</td>\n",
       "      <td>1.40</td>\n",
       "      <td>1</td>\n",
       "      <td>NaN</td>\n",
       "      <td>NaN</td>\n",
       "      <td>NaN</td>\n",
       "      <td>NaN</td>\n",
       "      <td>NaN</td>\n",
       "      <td>NaN</td>\n",
       "      <td>NaN</td>\n",
       "      <td>NaN</td>\n",
       "      <td>NaN</td>\n",
       "      <td>NaN</td>\n",
       "      <td>NaN</td>\n",
       "      <td>NaN</td>\n",
       "      <td>NaN</td>\n",
       "      <td>NaN</td>\n",
       "      <td>NaN</td>\n",
       "      <td>NaN</td>\n",
       "      <td>NaN</td>\n",
       "      <td>NaN</td>\n",
       "      <td>NaN</td>\n",
       "    </tr>\n",
       "  </tbody>\n",
       "</table>\n",
       "</div>"
      ],
      "text/plain": [
       "   pitch_name  game_year  game_month  game_day  home_team  LAA_score  \\\n",
       "0           1       2018           4         1          1          0   \n",
       "1           0       2018           4         1          1          0   \n",
       "2           0       2018           4         1          1          0   \n",
       "3           0       2018           4         1          1          0   \n",
       "4           1       2018           4         1          1          0   \n",
       "\n",
       "   ENEMY_score  score_difference  is_LAA_score_is_higher  stand  on_3b  on_2b  \\\n",
       "0            0                 0                       0      0      0      0   \n",
       "1            0                 0                       0      0      0      0   \n",
       "2            0                 0                       0      0      0      0   \n",
       "3            0                 0                       0      0      0      0   \n",
       "4            0                 0                       0      1      0      0   \n",
       "\n",
       "   on_1b  count_runner  inning  pitch_number  pitch_count_per_inning  \\\n",
       "0      0             0       1             1                       1   \n",
       "1      0             0       1             2                       2   \n",
       "2      0             0       1             3                       3   \n",
       "3      0             0       1             4                       4   \n",
       "4      0             0       1             1                       5   \n",
       "\n",
       "   pitch_count_per_game  outs_when_up  balls  strikes  sz_top  sz_bot  \\\n",
       "0                     1             0      0        0    3.54    1.60   \n",
       "1                     2             0      0        1    3.33    1.46   \n",
       "2                     3             0      0        2    3.59    1.66   \n",
       "3                     4             0      1        2    3.33    1.46   \n",
       "4                     5             1      0        0    3.22    1.40   \n",
       "\n",
       "   is_first_pitch_number  release_speed  release_pos_x  release_pos_y  \\\n",
       "0                      1            NaN            NaN            NaN   \n",
       "1                      0           96.4          -2.16          54.05   \n",
       "2                      0           81.5          -2.36          54.42   \n",
       "3                      0           83.6          -2.36          54.43   \n",
       "4                      1            NaN            NaN            NaN   \n",
       "\n",
       "   is_incourse_ball  is_high_ball  release_pos_z  release_spin_rate  \\\n",
       "0               NaN           NaN            NaN                NaN   \n",
       "1               1.0           0.0           6.20             2107.0   \n",
       "2               0.0           1.0           6.03             2355.0   \n",
       "3               0.0           1.0           6.01             2368.0   \n",
       "4               NaN           NaN            NaN                NaN   \n",
       "\n",
       "   release_extension  plate_x  plate_z  events  description  zone  type  hc_x  \\\n",
       "0                NaN      NaN      NaN     NaN          NaN   NaN   NaN   NaN   \n",
       "1                6.4    -0.36     2.81    19.0          2.0   4.0   0.0   0.0   \n",
       "2                6.1     0.21     3.43    19.0          9.0   2.0   0.0   0.0   \n",
       "3                6.1     0.24     3.67    19.0          0.0   2.0   1.0   0.0   \n",
       "4                NaN      NaN      NaN     NaN          NaN   NaN   NaN   NaN   \n",
       "\n",
       "   hc_y    one_pitch_ago  two_pitches_ago three_pitches_ago  \n",
       "0   NaN              NaN              NaN               NaN  \n",
       "1   0.0  4-Seam Fastball              NaN               NaN  \n",
       "2   0.0          Sweeper  4-Seam Fastball               NaN  \n",
       "3   0.0          Sweeper          Sweeper   4-Seam Fastball  \n",
       "4   NaN              NaN              NaN               NaN  "
      ]
     },
     "execution_count": 5,
     "metadata": {},
     "output_type": "execute_result"
    }
   ],
   "source": [
    "data = pd.read_csv(data_path)\n",
    "data.head()"
   ]
  },
  {
   "cell_type": "code",
   "execution_count": 6,
   "metadata": {},
   "outputs": [
    {
     "name": "stdout",
     "output_type": "stream",
     "text": [
      "2022年 : (2094, 43)\n"
     ]
    }
   ],
   "source": [
    "print(f\"2022年 : {data[data['game_year'].isin([2023])].shape}\")"
   ]
  },
  {
   "cell_type": "markdown",
   "metadata": {},
   "source": [
    "### <font color=\"orange\">データタイプ確認</font>"
   ]
  },
  {
   "cell_type": "code",
   "execution_count": 7,
   "metadata": {},
   "outputs": [
    {
     "data": {
      "text/plain": [
       "['one_pitch_ago', 'two_pitches_ago', 'three_pitches_ago']"
      ]
     },
     "execution_count": 7,
     "metadata": {},
     "output_type": "execute_result"
    }
   ],
   "source": [
    "# int, float以外のカラムがあるか確認\n",
    "data.select_dtypes(exclude=[\"int\", \"float\"]).columns.to_list()"
   ]
  },
  {
   "cell_type": "markdown",
   "metadata": {},
   "source": [
    "### <font color=\"orange\">train_data, test_dataに分割</font>"
   ]
  },
  {
   "cell_type": "code",
   "execution_count": 8,
   "metadata": {},
   "outputs": [
    {
     "data": {
      "text/plain": [
       "((1675, 39), (419, 39))"
      ]
     },
     "execution_count": 8,
     "metadata": {},
     "output_type": "execute_result"
    }
   ],
   "source": [
    "def make_train_test_data(select_game_year):\n",
    "    \n",
    "    data = pd.read_csv(data_path)\n",
    "    \n",
    "    categolical_list = [\n",
    "        \"outs_when_up\",\n",
    "        \"balls\",\n",
    "        \"strikes\",\n",
    "        \"events\",\n",
    "        \"description\",\n",
    "        \"zone\",\n",
    "        \"type\",\n",
    "        \"one_pitch_ago\",\n",
    "        \"two_pitches_ago\",\n",
    "        \"three_pitches_ago\",\n",
    "    ]\n",
    "    \n",
    "    data[categolical_list] = data[categolical_list].astype(\"category\")\n",
    "    \n",
    "    # 対象年度の抽出\n",
    "    data = data[data[\"game_year\"].isin(select_game_year)]\n",
    "    del data[\"game_year\"]\n",
    "    del data[\"game_month\"]\n",
    "    del data[\"game_day\"]\n",
    "    \n",
    "    X = data.drop(\"pitch_name\", axis=1)\n",
    "    y = data[\"pitch_name\"]\n",
    "    \n",
    "    # データを前半80%（train_data）と後半20%（test_data）に分割\n",
    "    split_index = int(len(data) * 0.8)\n",
    "    X_train = X.iloc[: split_index]\n",
    "    y_train = y.iloc[: split_index]\n",
    "    X_test = X.iloc[split_index : ]\n",
    "    y_test = y.iloc[split_index : ]\n",
    "\n",
    "    \n",
    "    if y_train.nunique() != y_test.nunique():\n",
    "        raise ValueError(\"train_dataとtest_dataの要素が一致していません。\")\n",
    "    \n",
    "    \n",
    "    return X_train, y_train, X_test, y_test\n",
    "\n",
    "X_train, y_train, X_test, y_test = make_train_test_data(select_game_year=[2023])\n",
    "\n",
    "# 確認\n",
    "X_train.shape, X_test.shape"
   ]
  },
  {
   "cell_type": "code",
   "execution_count": 9,
   "metadata": {},
   "outputs": [
    {
     "data": {
      "text/plain": [
       "Index(['outs_when_up', 'balls', 'strikes', 'events', 'description', 'zone',\n",
       "       'type', 'one_pitch_ago', 'two_pitches_ago', 'three_pitches_ago'],\n",
       "      dtype='object')"
      ]
     },
     "execution_count": 9,
     "metadata": {},
     "output_type": "execute_result"
    }
   ],
   "source": [
    "# カテゴリー変数の確認\n",
    "X_train.select_dtypes(include=\"category\").columns"
   ]
  },
  {
   "cell_type": "markdown",
   "metadata": {},
   "source": [
    "### <font color=\"orange\">モデル学習、予測</font>"
   ]
  },
  {
   "cell_type": "code",
   "execution_count": 10,
   "metadata": {},
   "outputs": [],
   "source": [
    "# カスタムメトリック定義\n",
    "from sklearn.metrics import f1_score, accuracy_score, log_loss\n",
    "\n",
    "def custom_f1(y_pred, dataset):\n",
    "    y_true = dataset.get_label()\n",
    "    score = f1_score(y_true=y_true, y_pred=np.round(y_pred), average=\"macro\")\n",
    "    return \"f1\", score, True\n",
    "\n",
    "def custom_accuracy(y_pred, dataset):\n",
    "    y_true = dataset.get_label()\n",
    "    auc_score = accuracy_score(y_true=y_true, y_pred=np.round(y_pred))\n",
    "    return \"acu\", auc_score, True\n",
    "\n",
    "def custom_multi_logloss(y_pred, dataset):\n",
    "    y_true = dataset.get_label()\n",
    "    multi_logloss = log_loss(y_true=y_true, y_pred=y_pred)\n",
    "    return \"multi_logloss\", multi_logloss, False"
   ]
  },
  {
   "cell_type": "code",
   "execution_count": 11,
   "metadata": {},
   "outputs": [],
   "source": [
    "import lightgbm as lgb\n",
    "\n",
    "num_boost_round = 500\n",
    "\n",
    "# data作成\n",
    "select_game_year = [2023]\n",
    "X_train, y_train, X_test, y_test = make_train_test_data(select_game_year=select_game_year)\n",
    "\n",
    "# train_dataをtrain_data（前半80%）とvalid_data（後半20%）に分割\n",
    "split_index = int(len(X_train) * 0.8)\n",
    "X_valid = X_train.iloc[split_index : ].copy()\n",
    "y_valid = y_train.iloc[split_index : ].copy()\n",
    "X_train = X_train.iloc[ : split_index].copy()\n",
    "y_train = y_train.iloc[ : split_index].copy()\n",
    "\n",
    "def objective(trial):\n",
    "    \n",
    "    params = {\n",
    "        \"boosting\" : \"gbdt\",\n",
    "        \"objective\" : \"binary\",\n",
    "        \"metric\" : \"None\",\n",
    "        \"seed\" : 42,\n",
    "        \"verbose\" : -1,\n",
    "        \"num_threads\" : 2,\n",
    "        \n",
    "        \"learning_rate\" : trial.suggest_float(\"learning_rate\", 0.01, 0.03),\n",
    "        \"is_unbalance\" : True,\n",
    "        \"extra_trees\" : True\n",
    "    }\n",
    "\n",
    "    lgb_train = lgb.Dataset(X_train, y_train)\n",
    "    lgb_eval = lgb.Dataset(X_valid, y_valid, reference=lgb_train)\n",
    "\n",
    "    # 誤差プロットの格納用データ\n",
    "    evals_result = {}\n",
    "\n",
    "    model = lgb.train(params=params,\n",
    "                      train_set=lgb_train,\n",
    "                      num_boost_round=num_boost_round,\n",
    "                      valid_sets=[lgb_train, lgb_eval],\n",
    "                      valid_names=[\"train\", \"valid\"],\n",
    "                      feval= [custom_f1, custom_accuracy, custom_multi_logloss],\n",
    "                      callbacks=[lgb.record_evaluation(evals_result)]\n",
    "                      )\n",
    "\n",
    "    # 予測\n",
    "    best_iteration = np.array(evals_result[\"valid\"][\"f1\"]).argmax() + 1\n",
    "    # y_valid_pred_proba = model.predict(X_valid, num_iteration=best_iteration)\n",
    "    y_valid_pred_proba = model.predict(X_valid, num_iteration=model.best_iteration)\n",
    "    y_valid_pred = np.round(y_valid_pred_proba)\n",
    "    f1 = f1_score(y_pred=y_valid_pred, y_true=y_valid, average=\"macro\")\n",
    "    \n",
    "    return f1\n"
   ]
  },
  {
   "cell_type": "code",
   "execution_count": 12,
   "metadata": {},
   "outputs": [
    {
     "name": "stderr",
     "output_type": "stream",
     "text": [
      "[I 2024-05-13 13:53:17,611] A new study created in memory with name: no-name-e78f0e2a-e6e4-4667-9118-a44a8a41e7f8\n",
      "[I 2024-05-13 13:53:20,265] Trial 0 finished with value: 0.5755912162162162 and parameters: {'learning_rate': 0.01749080237694725}. Best is trial 0 with value: 0.5755912162162162.\n",
      "[I 2024-05-13 13:53:23,041] Trial 1 finished with value: 0.5794275192500837 and parameters: {'learning_rate': 0.02901428612819832}. Best is trial 1 with value: 0.5794275192500837.\n",
      "[I 2024-05-13 13:53:25,870] Trial 2 finished with value: 0.5582417582417583 and parameters: {'learning_rate': 0.024639878836228098}. Best is trial 1 with value: 0.5794275192500837.\n",
      "[I 2024-05-13 13:53:28,848] Trial 3 finished with value: 0.5835773209644446 and parameters: {'learning_rate': 0.02197316968394073}. Best is trial 3 with value: 0.5835773209644446.\n",
      "[I 2024-05-13 13:53:31,593] Trial 4 finished with value: 0.5559022679066732 and parameters: {'learning_rate': 0.01312037280884873}. Best is trial 3 with value: 0.5835773209644446.\n",
      "[I 2024-05-13 13:53:34,202] Trial 5 finished with value: 0.5559022679066732 and parameters: {'learning_rate': 0.013119890406724052}. Best is trial 3 with value: 0.5835773209644446.\n",
      "[I 2024-05-13 13:53:36,742] Trial 6 finished with value: 0.564832309872461 and parameters: {'learning_rate': 0.01116167224336399}. Best is trial 3 with value: 0.5835773209644446.\n",
      "[I 2024-05-13 13:53:39,151] Trial 7 finished with value: 0.5746961371961372 and parameters: {'learning_rate': 0.0273235229154987}. Best is trial 3 with value: 0.5835773209644446.\n",
      "[I 2024-05-13 13:53:41,765] Trial 8 finished with value: 0.579076378017632 and parameters: {'learning_rate': 0.022022300234864175}. Best is trial 3 with value: 0.5835773209644446.\n",
      "[I 2024-05-13 13:53:44,355] Trial 9 finished with value: 0.5560452430116806 and parameters: {'learning_rate': 0.024161451555920907}. Best is trial 3 with value: 0.5835773209644446.\n",
      "[I 2024-05-13 13:53:46,724] Trial 10 finished with value: 0.5738543916220453 and parameters: {'learning_rate': 0.010411689885916049}. Best is trial 3 with value: 0.5835773209644446.\n",
      "[I 2024-05-13 13:53:49,225] Trial 11 finished with value: 0.5607079061219011 and parameters: {'learning_rate': 0.029398197043239885}. Best is trial 3 with value: 0.5835773209644446.\n",
      "[I 2024-05-13 13:53:51,718] Trial 12 finished with value: 0.5607079061219011 and parameters: {'learning_rate': 0.026648852816008435}. Best is trial 3 with value: 0.5835773209644446.\n",
      "[I 2024-05-13 13:53:54,274] Trial 13 finished with value: 0.5743154615510739 and parameters: {'learning_rate': 0.014246782213565522}. Best is trial 3 with value: 0.5835773209644446.\n",
      "[I 2024-05-13 13:53:56,789] Trial 14 finished with value: 0.5621179214929215 and parameters: {'learning_rate': 0.013636499344142012}. Best is trial 3 with value: 0.5835773209644446.\n",
      "[I 2024-05-13 13:53:59,450] Trial 15 finished with value: 0.5302851005857141 and parameters: {'learning_rate': 0.013668090197068676}. Best is trial 3 with value: 0.5835773209644446.\n",
      "[I 2024-05-13 13:54:02,384] Trial 16 finished with value: 0.5582417582417583 and parameters: {'learning_rate': 0.016084844859190754}. Best is trial 3 with value: 0.5835773209644446.\n",
      "[I 2024-05-13 13:54:05,070] Trial 17 finished with value: 0.5630434782608695 and parameters: {'learning_rate': 0.020495128632644757}. Best is trial 3 with value: 0.5835773209644446.\n",
      "[I 2024-05-13 13:54:07,666] Trial 18 finished with value: 0.5629282624998716 and parameters: {'learning_rate': 0.018638900372842312}. Best is trial 3 with value: 0.5835773209644446.\n",
      "[I 2024-05-13 13:54:10,271] Trial 19 finished with value: 0.5668686868686869 and parameters: {'learning_rate': 0.01582458280396084}. Best is trial 3 with value: 0.5835773209644446.\n",
      "[I 2024-05-13 13:54:12,946] Trial 20 finished with value: 0.579076378017632 and parameters: {'learning_rate': 0.02223705789444759}. Best is trial 3 with value: 0.5835773209644446.\n",
      "[I 2024-05-13 13:54:15,940] Trial 21 finished with value: 0.5630434782608695 and parameters: {'learning_rate': 0.012789877213040837}. Best is trial 3 with value: 0.5835773209644446.\n",
      "[I 2024-05-13 13:54:18,750] Trial 22 finished with value: 0.5486446267696268 and parameters: {'learning_rate': 0.01584289297070436}. Best is trial 3 with value: 0.5835773209644446.\n",
      "[I 2024-05-13 13:54:21,720] Trial 23 finished with value: 0.5491622235234896 and parameters: {'learning_rate': 0.017327236865873834}. Best is trial 3 with value: 0.5835773209644446.\n",
      "[I 2024-05-13 13:54:25,696] Trial 24 finished with value: 0.5915004686130063 and parameters: {'learning_rate': 0.019121399684340717}. Best is trial 24 with value: 0.5915004686130063.\n",
      "[I 2024-05-13 13:54:29,841] Trial 25 finished with value: 0.5769151138716356 and parameters: {'learning_rate': 0.025703519227860266}. Best is trial 24 with value: 0.5915004686130063.\n",
      "[I 2024-05-13 13:54:33,630] Trial 26 finished with value: 0.5486446267696268 and parameters: {'learning_rate': 0.013993475643167195}. Best is trial 24 with value: 0.5915004686130063.\n",
      "[I 2024-05-13 13:54:37,493] Trial 27 finished with value: 0.5537178225938678 and parameters: {'learning_rate': 0.020284688768272233}. Best is trial 24 with value: 0.5915004686130063.\n",
      "[I 2024-05-13 13:54:41,397] Trial 28 finished with value: 0.5559022679066732 and parameters: {'learning_rate': 0.02184829137724085}. Best is trial 24 with value: 0.5915004686130063.\n",
      "[I 2024-05-13 13:54:44,882] Trial 29 finished with value: 0.5534384066494158 and parameters: {'learning_rate': 0.010929008254399955}. Best is trial 24 with value: 0.5915004686130063.\n",
      "[I 2024-05-13 13:54:48,320] Trial 30 finished with value: 0.5560452430116806 and parameters: {'learning_rate': 0.022150897038028763}. Best is trial 24 with value: 0.5915004686130063.\n",
      "[I 2024-05-13 13:54:51,917] Trial 31 finished with value: 0.5556804260446091 and parameters: {'learning_rate': 0.01341048247374583}. Best is trial 24 with value: 0.5915004686130063.\n",
      "[I 2024-05-13 13:54:55,686] Trial 32 finished with value: 0.5640815182575273 and parameters: {'learning_rate': 0.011301031859705591}. Best is trial 24 with value: 0.5915004686130063.\n",
      "[I 2024-05-13 13:54:59,434] Trial 33 finished with value: 0.5348396869477405 and parameters: {'learning_rate': 0.028977710745066665}. Best is trial 24 with value: 0.5915004686130063.\n",
      "[I 2024-05-13 13:55:02,379] Trial 34 finished with value: 0.5468719346611736 and parameters: {'learning_rate': 0.029312640661491182}. Best is trial 24 with value: 0.5915004686130063.\n",
      "[I 2024-05-13 13:55:05,116] Trial 35 finished with value: 0.5441503781605679 and parameters: {'learning_rate': 0.02616794696232922}. Best is trial 24 with value: 0.5915004686130063.\n",
      "[I 2024-05-13 13:55:07,786] Trial 36 finished with value: 0.5740124718975392 and parameters: {'learning_rate': 0.016092275383467414}. Best is trial 24 with value: 0.5915004686130063.\n",
      "[I 2024-05-13 13:55:10,466] Trial 37 finished with value: 0.5745018655235373 and parameters: {'learning_rate': 0.011953442280127678}. Best is trial 24 with value: 0.5915004686130063.\n",
      "[I 2024-05-13 13:55:13,160] Trial 38 finished with value: 0.5652756035264068 and parameters: {'learning_rate': 0.023684660530243137}. Best is trial 24 with value: 0.5915004686130063.\n",
      "[I 2024-05-13 13:55:15,919] Trial 39 finished with value: 0.562734540708109 and parameters: {'learning_rate': 0.018803049874792026}. Best is trial 24 with value: 0.5915004686130063.\n",
      "[I 2024-05-13 13:55:18,981] Trial 40 finished with value: 0.5526389221079486 and parameters: {'learning_rate': 0.012440764696895576}. Best is trial 24 with value: 0.5915004686130063.\n",
      "[I 2024-05-13 13:55:22,853] Trial 41 finished with value: 0.5601010101010101 and parameters: {'learning_rate': 0.0199035382022254}. Best is trial 24 with value: 0.5915004686130063.\n",
      "[I 2024-05-13 13:55:25,949] Trial 42 finished with value: 0.5521789501826931 and parameters: {'learning_rate': 0.010687770422304368}. Best is trial 24 with value: 0.5915004686130063.\n",
      "[I 2024-05-13 13:55:28,756] Trial 43 finished with value: 0.5629282624998716 and parameters: {'learning_rate': 0.028186408041575642}. Best is trial 24 with value: 0.5915004686130063.\n",
      "[I 2024-05-13 13:55:31,852] Trial 44 finished with value: 0.5509881183928086 and parameters: {'learning_rate': 0.015175599632000339}. Best is trial 24 with value: 0.5915004686130063.\n",
      "[I 2024-05-13 13:55:34,886] Trial 45 finished with value: 0.5654084365584198 and parameters: {'learning_rate': 0.023250445687079638}. Best is trial 24 with value: 0.5915004686130063.\n",
      "[I 2024-05-13 13:55:37,785] Trial 46 finished with value: 0.5823278635778636 and parameters: {'learning_rate': 0.016234221521788217}. Best is trial 24 with value: 0.5915004686130063.\n",
      "[I 2024-05-13 13:55:40,837] Trial 47 finished with value: 0.5580295526508079 and parameters: {'learning_rate': 0.020401360423556215}. Best is trial 24 with value: 0.5915004686130063.\n",
      "[I 2024-05-13 13:55:44,293] Trial 48 finished with value: 0.5607079061219011 and parameters: {'learning_rate': 0.02093420558686559}. Best is trial 24 with value: 0.5915004686130063.\n",
      "[I 2024-05-13 13:55:47,361] Trial 49 finished with value: 0.5509881183928086 and parameters: {'learning_rate': 0.01369708911051054}. Best is trial 24 with value: 0.5915004686130063.\n",
      "[I 2024-05-13 13:55:50,476] Trial 50 finished with value: 0.5491718426501035 and parameters: {'learning_rate': 0.02939169255529117}. Best is trial 24 with value: 0.5915004686130063.\n",
      "[I 2024-05-13 13:55:53,585] Trial 51 finished with value: 0.5698112819880626 and parameters: {'learning_rate': 0.025502656467222287}. Best is trial 24 with value: 0.5915004686130063.\n",
      "[I 2024-05-13 13:55:57,523] Trial 52 finished with value: 0.5584282140966694 and parameters: {'learning_rate': 0.02878997883128378}. Best is trial 24 with value: 0.5915004686130063.\n",
      "[I 2024-05-13 13:56:01,039] Trial 53 finished with value: 0.5607517482517482 and parameters: {'learning_rate': 0.02789654700855297}. Best is trial 24 with value: 0.5915004686130063.\n",
      "[I 2024-05-13 13:56:04,426] Trial 54 finished with value: 0.5607079061219011 and parameters: {'learning_rate': 0.0219579995762217}. Best is trial 24 with value: 0.5915004686130063.\n",
      "[I 2024-05-13 13:56:08,392] Trial 55 finished with value: 0.5399860632890637 and parameters: {'learning_rate': 0.028437484700462333}. Best is trial 24 with value: 0.5915004686130063.\n",
      "[I 2024-05-13 13:56:13,577] Trial 56 finished with value: 0.5463027056309627 and parameters: {'learning_rate': 0.01176985004103839}. Best is trial 24 with value: 0.5915004686130063.\n",
      "[I 2024-05-13 13:56:18,755] Trial 57 finished with value: 0.5616978776529338 and parameters: {'learning_rate': 0.013919657248382903}. Best is trial 24 with value: 0.5915004686130063.\n",
      "[I 2024-05-13 13:56:23,283] Trial 58 finished with value: 0.5534384066494158 and parameters: {'learning_rate': 0.010904545778210761}. Best is trial 24 with value: 0.5915004686130063.\n",
      "[I 2024-05-13 13:56:27,710] Trial 59 finished with value: 0.5577401767628415 and parameters: {'learning_rate': 0.016506606615265287}. Best is trial 24 with value: 0.5915004686130063.\n",
      "[I 2024-05-13 13:56:32,049] Trial 60 finished with value: 0.562463930990493 and parameters: {'learning_rate': 0.01777354579378964}. Best is trial 24 with value: 0.5915004686130063.\n",
      "[I 2024-05-13 13:56:36,460] Trial 61 finished with value: 0.5573750800768738 and parameters: {'learning_rate': 0.015426980635477917}. Best is trial 24 with value: 0.5915004686130063.\n",
      "[I 2024-05-13 13:56:40,850] Trial 62 finished with value: 0.5514748290351816 and parameters: {'learning_rate': 0.026574750183038585}. Best is trial 24 with value: 0.5915004686130063.\n",
      "[I 2024-05-13 13:56:45,312] Trial 63 finished with value: 0.5695668135095447 and parameters: {'learning_rate': 0.017135066533871784}. Best is trial 24 with value: 0.5915004686130063.\n",
      "[I 2024-05-13 13:56:49,913] Trial 64 finished with value: 0.5664670298251422 and parameters: {'learning_rate': 0.015618690193747614}. Best is trial 24 with value: 0.5915004686130063.\n",
      "[I 2024-05-13 13:56:55,315] Trial 65 finished with value: 0.5630434782608695 and parameters: {'learning_rate': 0.02085392166316497}. Best is trial 24 with value: 0.5915004686130063.\n",
      "[I 2024-05-13 13:56:59,365] Trial 66 finished with value: 0.5672474829650228 and parameters: {'learning_rate': 0.012818484499495252}. Best is trial 24 with value: 0.5915004686130063.\n",
      "[I 2024-05-13 13:57:02,331] Trial 67 finished with value: 0.5629282624998716 and parameters: {'learning_rate': 0.026043939615080794}. Best is trial 24 with value: 0.5915004686130063.\n",
      "[I 2024-05-13 13:57:05,574] Trial 68 finished with value: 0.5486446267696268 and parameters: {'learning_rate': 0.011491012873595417}. Best is trial 24 with value: 0.5915004686130063.\n",
      "[I 2024-05-13 13:57:09,150] Trial 69 finished with value: 0.5766943014762536 and parameters: {'learning_rate': 0.02973773873201034}. Best is trial 24 with value: 0.5915004686130063.\n",
      "[I 2024-05-13 13:57:12,068] Trial 70 finished with value: 0.571939688218758 and parameters: {'learning_rate': 0.02544489538593315}. Best is trial 24 with value: 0.5915004686130063.\n",
      "[I 2024-05-13 13:57:15,166] Trial 71 finished with value: 0.5799099126212618 and parameters: {'learning_rate': 0.013974313630683449}. Best is trial 24 with value: 0.5915004686130063.\n",
      "[I 2024-05-13 13:57:18,180] Trial 72 finished with value: 0.5606405743080003 and parameters: {'learning_rate': 0.010110442342472048}. Best is trial 24 with value: 0.5915004686130063.\n",
      "[I 2024-05-13 13:57:21,561] Trial 73 finished with value: 0.5560452430116806 and parameters: {'learning_rate': 0.026309228569096683}. Best is trial 24 with value: 0.5915004686130063.\n",
      "[I 2024-05-13 13:57:24,647] Trial 74 finished with value: 0.5721759907720194 and parameters: {'learning_rate': 0.024137146876952342}. Best is trial 24 with value: 0.5915004686130063.\n",
      "[I 2024-05-13 13:57:27,808] Trial 75 finished with value: 0.5668686868686869 and parameters: {'learning_rate': 0.024580143360819744}. Best is trial 24 with value: 0.5915004686130063.\n",
      "[I 2024-05-13 13:57:31,295] Trial 76 finished with value: 0.5514748290351816 and parameters: {'learning_rate': 0.025425406933718912}. Best is trial 24 with value: 0.5915004686130063.\n",
      "[I 2024-05-13 13:57:34,446] Trial 77 finished with value: 0.5678534571723426 and parameters: {'learning_rate': 0.011480893034681807}. Best is trial 24 with value: 0.5915004686130063.\n",
      "[I 2024-05-13 13:57:37,945] Trial 78 finished with value: 0.553565070548621 and parameters: {'learning_rate': 0.01716931457088545}. Best is trial 24 with value: 0.5915004686130063.\n",
      "[I 2024-05-13 13:57:41,234] Trial 79 finished with value: 0.5569355913326239 and parameters: {'learning_rate': 0.012317381190502595}. Best is trial 24 with value: 0.5915004686130063.\n",
      "[I 2024-05-13 13:57:45,613] Trial 80 finished with value: 0.5677239427239427 and parameters: {'learning_rate': 0.027262068517511867}. Best is trial 24 with value: 0.5915004686130063.\n",
      "[I 2024-05-13 13:57:49,505] Trial 81 finished with value: 0.5766943014762536 and parameters: {'learning_rate': 0.022465962536551157}. Best is trial 24 with value: 0.5915004686130063.\n",
      "[I 2024-05-13 13:57:53,350] Trial 82 finished with value: 0.5512300073069741 and parameters: {'learning_rate': 0.016617960497052983}. Best is trial 24 with value: 0.5915004686130063.\n",
      "[I 2024-05-13 13:57:57,577] Trial 83 finished with value: 0.5612050488211479 and parameters: {'learning_rate': 0.011271167005720473}. Best is trial 24 with value: 0.5915004686130063.\n",
      "[I 2024-05-13 13:58:01,770] Trial 84 finished with value: 0.5640815182575273 and parameters: {'learning_rate': 0.016219646434313242}. Best is trial 24 with value: 0.5915004686130063.\n",
      "[I 2024-05-13 13:58:05,513] Trial 85 finished with value: 0.5621179214929215 and parameters: {'learning_rate': 0.016503666440534942}. Best is trial 24 with value: 0.5915004686130063.\n",
      "[I 2024-05-13 13:58:09,234] Trial 86 finished with value: 0.5468719346611736 and parameters: {'learning_rate': 0.024592123566761277}. Best is trial 24 with value: 0.5915004686130063.\n",
      "[I 2024-05-13 13:58:12,911] Trial 87 finished with value: 0.562734540708109 and parameters: {'learning_rate': 0.02275114942710426}. Best is trial 24 with value: 0.5915004686130063.\n",
      "[I 2024-05-13 13:58:17,028] Trial 88 finished with value: 0.5584282140966694 and parameters: {'learning_rate': 0.027744254851526526}. Best is trial 24 with value: 0.5915004686130063.\n",
      "[I 2024-05-13 13:58:20,892] Trial 89 finished with value: 0.5533333333333333 and parameters: {'learning_rate': 0.019444298503238984}. Best is trial 24 with value: 0.5915004686130063.\n",
      "[I 2024-05-13 13:58:24,726] Trial 90 finished with value: 0.5720821079523513 and parameters: {'learning_rate': 0.012391884918766034}. Best is trial 24 with value: 0.5915004686130063.\n",
      "[I 2024-05-13 13:58:28,474] Trial 91 finished with value: 0.5607133490689746 and parameters: {'learning_rate': 0.024264895744459898}. Best is trial 24 with value: 0.5915004686130063.\n",
      "[I 2024-05-13 13:58:33,045] Trial 92 finished with value: 0.5607517482517482 and parameters: {'learning_rate': 0.025215700972337947}. Best is trial 24 with value: 0.5915004686130063.\n",
      "[I 2024-05-13 13:58:36,664] Trial 93 finished with value: 0.5537178225938678 and parameters: {'learning_rate': 0.021225543951389925}. Best is trial 24 with value: 0.5915004686130063.\n",
      "[I 2024-05-13 13:58:39,703] Trial 94 finished with value: 0.5468073593073592 and parameters: {'learning_rate': 0.025419343599091218}. Best is trial 24 with value: 0.5915004686130063.\n",
      "[I 2024-05-13 13:58:43,241] Trial 95 finished with value: 0.5559022679066732 and parameters: {'learning_rate': 0.019875911927287812}. Best is trial 24 with value: 0.5915004686130063.\n",
      "[I 2024-05-13 13:58:45,933] Trial 96 finished with value: 0.5445204413123126 and parameters: {'learning_rate': 0.02045465658763988}. Best is trial 24 with value: 0.5915004686130063.\n",
      "[I 2024-05-13 13:58:48,603] Trial 97 finished with value: 0.5755912162162162 and parameters: {'learning_rate': 0.01855082036717099}. Best is trial 24 with value: 0.5915004686130063.\n",
      "[I 2024-05-13 13:58:51,346] Trial 98 finished with value: 0.5455445642594738 and parameters: {'learning_rate': 0.010508382534881905}. Best is trial 24 with value: 0.5915004686130063.\n",
      "[I 2024-05-13 13:58:54,080] Trial 99 finished with value: 0.5569355913326239 and parameters: {'learning_rate': 0.012157828539866088}. Best is trial 24 with value: 0.5915004686130063.\n",
      "[I 2024-05-13 13:58:56,553] Trial 100 finished with value: 0.565992984134577 and parameters: {'learning_rate': 0.010628583713734685}. Best is trial 24 with value: 0.5915004686130063.\n",
      "[I 2024-05-13 13:58:58,993] Trial 101 finished with value: 0.5537178225938678 and parameters: {'learning_rate': 0.022728208225275607}. Best is trial 24 with value: 0.5915004686130063.\n",
      "[I 2024-05-13 13:59:01,420] Trial 102 finished with value: 0.5698112819880626 and parameters: {'learning_rate': 0.016287119621526534}. Best is trial 24 with value: 0.5915004686130063.\n",
      "[I 2024-05-13 13:59:03,870] Trial 103 finished with value: 0.5601010101010101 and parameters: {'learning_rate': 0.020171413823294054}. Best is trial 24 with value: 0.5915004686130063.\n",
      "[I 2024-05-13 13:59:06,765] Trial 104 finished with value: 0.567741935483871 and parameters: {'learning_rate': 0.028151329478521857}. Best is trial 24 with value: 0.5915004686130063.\n",
      "[I 2024-05-13 13:59:09,791] Trial 105 finished with value: 0.5726700151478912 and parameters: {'learning_rate': 0.014985844582977498}. Best is trial 24 with value: 0.5915004686130063.\n",
      "[I 2024-05-13 13:59:12,696] Trial 106 finished with value: 0.5422792040352986 and parameters: {'learning_rate': 0.018207658460712595}. Best is trial 24 with value: 0.5915004686130063.\n",
      "[I 2024-05-13 13:59:15,341] Trial 107 finished with value: 0.5398351648351648 and parameters: {'learning_rate': 0.02511102277086097}. Best is trial 24 with value: 0.5915004686130063.\n",
      "[I 2024-05-13 13:59:18,311] Trial 108 finished with value: 0.5573750800768738 and parameters: {'learning_rate': 0.014575963309832449}. Best is trial 24 with value: 0.5915004686130063.\n",
      "[I 2024-05-13 13:59:20,935] Trial 109 finished with value: 0.5621179214929215 and parameters: {'learning_rate': 0.01153959819657586}. Best is trial 24 with value: 0.5915004686130063.\n",
      "[I 2024-05-13 13:59:23,494] Trial 110 finished with value: 0.5465656565656566 and parameters: {'learning_rate': 0.01579502905827536}. Best is trial 24 with value: 0.5915004686130063.\n",
      "[I 2024-05-13 13:59:26,048] Trial 111 finished with value: 0.5506686418962203 and parameters: {'learning_rate': 0.013224425745080088}. Best is trial 24 with value: 0.5915004686130063.\n",
      "[I 2024-05-13 13:59:28,594] Trial 112 finished with value: 0.5513927932532584 and parameters: {'learning_rate': 0.02859395304685146}. Best is trial 24 with value: 0.5915004686130063.\n",
      "[I 2024-05-13 13:59:31,138] Trial 113 finished with value: 0.5418875704788353 and parameters: {'learning_rate': 0.026162407591288336}. Best is trial 24 with value: 0.5915004686130063.\n",
      "[I 2024-05-13 13:59:34,131] Trial 114 finished with value: 0.5629282624998716 and parameters: {'learning_rate': 0.02266807513020847}. Best is trial 24 with value: 0.5915004686130063.\n",
      "[I 2024-05-13 13:59:36,928] Trial 115 finished with value: 0.5653821004888478 and parameters: {'learning_rate': 0.02742921180375435}. Best is trial 24 with value: 0.5915004686130063.\n",
      "[I 2024-05-13 13:59:39,702] Trial 116 finished with value: 0.5630434782608695 and parameters: {'learning_rate': 0.026073441537982286}. Best is trial 24 with value: 0.5915004686130063.\n",
      "[I 2024-05-13 13:59:42,358] Trial 117 finished with value: 0.5577401767628415 and parameters: {'learning_rate': 0.013731401177720717}. Best is trial 24 with value: 0.5915004686130063.\n",
      "[I 2024-05-13 13:59:44,843] Trial 118 finished with value: 0.5536847626540782 and parameters: {'learning_rate': 0.02785117996979955}. Best is trial 24 with value: 0.5915004686130063.\n",
      "[I 2024-05-13 13:59:47,359] Trial 119 finished with value: 0.5580295526508079 and parameters: {'learning_rate': 0.020786844838313015}. Best is trial 24 with value: 0.5915004686130063.\n",
      "[I 2024-05-13 13:59:49,991] Trial 120 finished with value: 0.5583752162807942 and parameters: {'learning_rate': 0.02614880310328125}. Best is trial 24 with value: 0.5915004686130063.\n",
      "[I 2024-05-13 13:59:52,721] Trial 121 finished with value: 0.5607079061219011 and parameters: {'learning_rate': 0.02792182599846986}. Best is trial 24 with value: 0.5915004686130063.\n",
      "[I 2024-05-13 13:59:56,192] Trial 122 finished with value: 0.5692474359363768 and parameters: {'learning_rate': 0.016360069499437278}. Best is trial 24 with value: 0.5915004686130063.\n",
      "[I 2024-05-13 13:59:59,384] Trial 123 finished with value: 0.5439622037155669 and parameters: {'learning_rate': 0.012201038490553534}. Best is trial 24 with value: 0.5915004686130063.\n",
      "[I 2024-05-13 14:00:02,472] Trial 124 finished with value: 0.5616978776529338 and parameters: {'learning_rate': 0.014558703250838833}. Best is trial 24 with value: 0.5915004686130063.\n",
      "[I 2024-05-13 14:00:06,627] Trial 125 finished with value: 0.5671966714478998 and parameters: {'learning_rate': 0.018542155772525125}. Best is trial 24 with value: 0.5915004686130063.\n",
      "[I 2024-05-13 14:00:10,868] Trial 126 finished with value: 0.5677239427239427 and parameters: {'learning_rate': 0.026360295318449863}. Best is trial 24 with value: 0.5915004686130063.\n",
      "[I 2024-05-13 14:00:14,849] Trial 127 finished with value: 0.5630434782608695 and parameters: {'learning_rate': 0.027214611665126863}. Best is trial 24 with value: 0.5915004686130063.\n",
      "[I 2024-05-13 14:00:18,852] Trial 128 finished with value: 0.5416229712858927 and parameters: {'learning_rate': 0.010139042610623815}. Best is trial 24 with value: 0.5915004686130063.\n",
      "[I 2024-05-13 14:00:23,614] Trial 129 finished with value: 0.5533333333333333 and parameters: {'learning_rate': 0.020214946051551313}. Best is trial 24 with value: 0.5915004686130063.\n",
      "[I 2024-05-13 14:00:27,691] Trial 130 finished with value: 0.562463930990493 and parameters: {'learning_rate': 0.018348220062975578}. Best is trial 24 with value: 0.5915004686130063.\n",
      "[I 2024-05-13 14:00:31,671] Trial 131 finished with value: 0.562463930990493 and parameters: {'learning_rate': 0.014442156209414605}. Best is trial 24 with value: 0.5915004686130063.\n",
      "[I 2024-05-13 14:00:35,611] Trial 132 finished with value: 0.5545566404699531 and parameters: {'learning_rate': 0.012397307346673657}. Best is trial 24 with value: 0.5915004686130063.\n",
      "[I 2024-05-13 14:00:39,744] Trial 133 finished with value: 0.562463930990493 and parameters: {'learning_rate': 0.01675230342807256}. Best is trial 24 with value: 0.5915004686130063.\n",
      "[I 2024-05-13 14:00:43,718] Trial 134 finished with value: 0.5398351648351648 and parameters: {'learning_rate': 0.028858194078250382}. Best is trial 24 with value: 0.5915004686130063.\n",
      "[I 2024-05-13 14:00:47,680] Trial 135 finished with value: 0.5712442935029074 and parameters: {'learning_rate': 0.016464058640415103}. Best is trial 24 with value: 0.5915004686130063.\n",
      "[I 2024-05-13 14:00:51,672] Trial 136 finished with value: 0.5559022679066732 and parameters: {'learning_rate': 0.020375812434867323}. Best is trial 24 with value: 0.5915004686130063.\n",
      "[I 2024-05-13 14:00:56,040] Trial 137 finished with value: 0.5308458982877587 and parameters: {'learning_rate': 0.024060379177903553}. Best is trial 24 with value: 0.5915004686130063.\n",
      "[I 2024-05-13 14:00:59,758] Trial 138 finished with value: 0.5583752162807942 and parameters: {'learning_rate': 0.01727259204758588}. Best is trial 24 with value: 0.5915004686130063.\n",
      "[I 2024-05-13 14:01:02,847] Trial 139 finished with value: 0.5698112819880626 and parameters: {'learning_rate': 0.029435641654419212}. Best is trial 24 with value: 0.5915004686130063.\n",
      "[I 2024-05-13 14:01:06,046] Trial 140 finished with value: 0.567741935483871 and parameters: {'learning_rate': 0.02924894589884222}. Best is trial 24 with value: 0.5915004686130063.\n",
      "[I 2024-05-13 14:01:09,525] Trial 141 finished with value: 0.5640815182575273 and parameters: {'learning_rate': 0.015035645916507284}. Best is trial 24 with value: 0.5915004686130063.\n",
      "[I 2024-05-13 14:01:12,544] Trial 142 finished with value: 0.5676258918522649 and parameters: {'learning_rate': 0.01994497011784771}. Best is trial 24 with value: 0.5915004686130063.\n",
      "[I 2024-05-13 14:01:15,692] Trial 143 finished with value: 0.5644922351328745 and parameters: {'learning_rate': 0.016017566196335393}. Best is trial 24 with value: 0.5915004686130063.\n",
      "[I 2024-05-13 14:01:19,736] Trial 144 finished with value: 0.5621179214929215 and parameters: {'learning_rate': 0.015696809887549353}. Best is trial 24 with value: 0.5915004686130063.\n",
      "[I 2024-05-13 14:01:23,002] Trial 145 finished with value: 0.5577401767628415 and parameters: {'learning_rate': 0.010737738947090656}. Best is trial 24 with value: 0.5915004686130063.\n",
      "[I 2024-05-13 14:01:26,202] Trial 146 finished with value: 0.5330359632004461 and parameters: {'learning_rate': 0.022191286679597935}. Best is trial 24 with value: 0.5915004686130063.\n",
      "[I 2024-05-13 14:01:30,219] Trial 147 finished with value: 0.5692474359363768 and parameters: {'learning_rate': 0.02005358046457723}. Best is trial 24 with value: 0.5915004686130063.\n",
      "[I 2024-05-13 14:01:34,733] Trial 148 finished with value: 0.5455445642594738 and parameters: {'learning_rate': 0.011029575024999787}. Best is trial 24 with value: 0.5915004686130063.\n",
      "[I 2024-05-13 14:01:39,722] Trial 149 finished with value: 0.5416229712858927 and parameters: {'learning_rate': 0.015572929284732228}. Best is trial 24 with value: 0.5915004686130063.\n",
      "[I 2024-05-13 14:01:43,882] Trial 150 finished with value: 0.5698112819880626 and parameters: {'learning_rate': 0.028165317719333074}. Best is trial 24 with value: 0.5915004686130063.\n",
      "[I 2024-05-13 14:01:47,924] Trial 151 finished with value: 0.5654477220291318 and parameters: {'learning_rate': 0.014791237813339447}. Best is trial 24 with value: 0.5915004686130063.\n",
      "[I 2024-05-13 14:01:51,912] Trial 152 finished with value: 0.5678534571723426 and parameters: {'learning_rate': 0.012897897441824461}. Best is trial 24 with value: 0.5915004686130063.\n",
      "[I 2024-05-13 14:01:55,824] Trial 153 finished with value: 0.5537178225938678 and parameters: {'learning_rate': 0.019789055205551256}. Best is trial 24 with value: 0.5915004686130063.\n",
      "[I 2024-05-13 14:01:59,777] Trial 154 finished with value: 0.5561076604554865 and parameters: {'learning_rate': 0.029713009082212014}. Best is trial 24 with value: 0.5915004686130063.\n",
      "[I 2024-05-13 14:02:03,870] Trial 155 finished with value: 0.5530241470290226 and parameters: {'learning_rate': 0.014841105430230008}. Best is trial 24 with value: 0.5915004686130063.\n",
      "[I 2024-05-13 14:02:07,837] Trial 156 finished with value: 0.5583752162807942 and parameters: {'learning_rate': 0.02344271094811757}. Best is trial 24 with value: 0.5915004686130063.\n",
      "[I 2024-05-13 14:02:11,694] Trial 157 finished with value: 0.5629282624998716 and parameters: {'learning_rate': 0.02523239230657435}. Best is trial 24 with value: 0.5915004686130063.\n",
      "[I 2024-05-13 14:02:15,542] Trial 158 finished with value: 0.553565070548621 and parameters: {'learning_rate': 0.014752750879847992}. Best is trial 24 with value: 0.5915004686130063.\n",
      "[I 2024-05-13 14:02:19,505] Trial 159 finished with value: 0.5561076604554865 and parameters: {'learning_rate': 0.02456432697223719}. Best is trial 24 with value: 0.5915004686130063.\n",
      "[I 2024-05-13 14:02:23,845] Trial 160 finished with value: 0.5488969210987253 and parameters: {'learning_rate': 0.017355662654385064}. Best is trial 24 with value: 0.5915004686130063.\n",
      "[I 2024-05-13 14:02:27,364] Trial 161 finished with value: 0.5871717171717172 and parameters: {'learning_rate': 0.02264611661187159}. Best is trial 24 with value: 0.5915004686130063.\n",
      "[I 2024-05-13 14:02:30,527] Trial 162 finished with value: 0.5330359632004461 and parameters: {'learning_rate': 0.022670594215217894}. Best is trial 24 with value: 0.5915004686130063.\n",
      "[I 2024-05-13 14:02:33,382] Trial 163 finished with value: 0.571939688218758 and parameters: {'learning_rate': 0.020715493681495167}. Best is trial 24 with value: 0.5915004686130063.\n",
      "[I 2024-05-13 14:02:37,028] Trial 164 finished with value: 0.5569355913326239 and parameters: {'learning_rate': 0.011805795401088165}. Best is trial 24 with value: 0.5915004686130063.\n",
      "[I 2024-05-13 14:02:40,594] Trial 165 finished with value: 0.5537178225938678 and parameters: {'learning_rate': 0.026706049911784754}. Best is trial 24 with value: 0.5915004686130063.\n",
      "[I 2024-05-13 14:02:44,292] Trial 166 finished with value: 0.577494394618834 and parameters: {'learning_rate': 0.016415601299434715}. Best is trial 24 with value: 0.5915004686130063.\n",
      "[I 2024-05-13 14:02:47,355] Trial 167 finished with value: 0.5569355913326239 and parameters: {'learning_rate': 0.013730370207997084}. Best is trial 24 with value: 0.5915004686130063.\n",
      "[I 2024-05-13 14:02:51,682] Trial 168 finished with value: 0.5612050488211479 and parameters: {'learning_rate': 0.010815502831095279}. Best is trial 24 with value: 0.5915004686130063.\n",
      "[I 2024-05-13 14:02:56,088] Trial 169 finished with value: 0.5640815182575273 and parameters: {'learning_rate': 0.021817858863764833}. Best is trial 24 with value: 0.5915004686130063.\n",
      "[I 2024-05-13 14:03:00,075] Trial 170 finished with value: 0.5746961371961372 and parameters: {'learning_rate': 0.023551287236845644}. Best is trial 24 with value: 0.5915004686130063.\n",
      "[I 2024-05-13 14:03:03,907] Trial 171 finished with value: 0.5641477133773539 and parameters: {'learning_rate': 0.010331756578557123}. Best is trial 24 with value: 0.5915004686130063.\n",
      "[I 2024-05-13 14:03:07,919] Trial 172 finished with value: 0.5607079061219011 and parameters: {'learning_rate': 0.020241861165985617}. Best is trial 24 with value: 0.5915004686130063.\n",
      "[I 2024-05-13 14:03:11,722] Trial 173 finished with value: 0.5397979797979798 and parameters: {'learning_rate': 0.014529915503958758}. Best is trial 24 with value: 0.5915004686130063.\n",
      "[I 2024-05-13 14:03:15,551] Trial 174 finished with value: 0.5537899203915373 and parameters: {'learning_rate': 0.022903455808188998}. Best is trial 24 with value: 0.5915004686130063.\n",
      "[I 2024-05-13 14:03:19,684] Trial 175 finished with value: 0.5486446267696268 and parameters: {'learning_rate': 0.013487328580099829}. Best is trial 24 with value: 0.5915004686130063.\n",
      "[I 2024-05-13 14:03:23,676] Trial 176 finished with value: 0.5654084365584198 and parameters: {'learning_rate': 0.023818754762049317}. Best is trial 24 with value: 0.5915004686130063.\n",
      "[I 2024-05-13 14:03:27,641] Trial 177 finished with value: 0.5580295526508079 and parameters: {'learning_rate': 0.017734706926010747}. Best is trial 24 with value: 0.5915004686130063.\n",
      "[I 2024-05-13 14:03:31,688] Trial 178 finished with value: 0.5399334696493423 and parameters: {'learning_rate': 0.028734599774734686}. Best is trial 24 with value: 0.5915004686130063.\n",
      "[I 2024-05-13 14:03:35,821] Trial 179 finished with value: 0.5780192095732956 and parameters: {'learning_rate': 0.012750418882919865}. Best is trial 24 with value: 0.5915004686130063.\n",
      "[I 2024-05-13 14:03:40,392] Trial 180 finished with value: 0.5668686868686869 and parameters: {'learning_rate': 0.01682132702100517}. Best is trial 24 with value: 0.5915004686130063.\n",
      "[I 2024-05-13 14:03:44,169] Trial 181 finished with value: 0.5412598237675637 and parameters: {'learning_rate': 0.01226947042481178}. Best is trial 24 with value: 0.5915004686130063.\n",
      "[I 2024-05-13 14:03:47,379] Trial 182 finished with value: 0.5418875704788353 and parameters: {'learning_rate': 0.02849387236557125}. Best is trial 24 with value: 0.5915004686130063.\n",
      "[I 2024-05-13 14:03:50,243] Trial 183 finished with value: 0.5466561762391817 and parameters: {'learning_rate': 0.027546787067619614}. Best is trial 24 with value: 0.5915004686130063.\n",
      "[I 2024-05-13 14:03:53,449] Trial 184 finished with value: 0.5621179214929215 and parameters: {'learning_rate': 0.015158832554303111}. Best is trial 24 with value: 0.5915004686130063.\n",
      "[I 2024-05-13 14:03:56,563] Trial 185 finished with value: 0.5537795537795538 and parameters: {'learning_rate': 0.02319968092068358}. Best is trial 24 with value: 0.5915004686130063.\n",
      "[I 2024-05-13 14:03:59,338] Trial 186 finished with value: 0.5560876868980916 and parameters: {'learning_rate': 0.026344444004024317}. Best is trial 24 with value: 0.5915004686130063.\n",
      "[I 2024-05-13 14:04:02,104] Trial 187 finished with value: 0.5677239427239427 and parameters: {'learning_rate': 0.021104016231989244}. Best is trial 24 with value: 0.5915004686130063.\n",
      "[I 2024-05-13 14:04:05,637] Trial 188 finished with value: 0.5832313591124164 and parameters: {'learning_rate': 0.02059301156712013}. Best is trial 24 with value: 0.5915004686130063.\n",
      "[I 2024-05-13 14:04:08,425] Trial 189 finished with value: 0.5793470461612055 and parameters: {'learning_rate': 0.014837045818009032}. Best is trial 24 with value: 0.5915004686130063.\n",
      "[I 2024-05-13 14:04:11,152] Trial 190 finished with value: 0.5439622037155669 and parameters: {'learning_rate': 0.011862055356117984}. Best is trial 24 with value: 0.5915004686130063.\n",
      "[I 2024-05-13 14:04:14,068] Trial 191 finished with value: 0.544574441789569 and parameters: {'learning_rate': 0.027944315159066535}. Best is trial 24 with value: 0.5915004686130063.\n",
      "[I 2024-05-13 14:04:17,398] Trial 192 finished with value: 0.5490969418098726 and parameters: {'learning_rate': 0.02800836114326661}. Best is trial 24 with value: 0.5915004686130063.\n",
      "[I 2024-05-13 14:04:20,626] Trial 193 finished with value: 0.5561076604554865 and parameters: {'learning_rate': 0.022662029145465355}. Best is trial 24 with value: 0.5915004686130063.\n",
      "[I 2024-05-13 14:04:23,595] Trial 194 finished with value: 0.577494394618834 and parameters: {'learning_rate': 0.016780595820974013}. Best is trial 24 with value: 0.5915004686130063.\n",
      "[I 2024-05-13 14:04:27,363] Trial 195 finished with value: 0.5467492700989818 and parameters: {'learning_rate': 0.016984191492253217}. Best is trial 24 with value: 0.5915004686130063.\n",
      "[I 2024-05-13 14:04:30,213] Trial 196 finished with value: 0.5630434782608695 and parameters: {'learning_rate': 0.024519113577404786}. Best is trial 24 with value: 0.5915004686130063.\n",
      "[I 2024-05-13 14:04:33,321] Trial 197 finished with value: 0.555983337541025 and parameters: {'learning_rate': 0.027942205199051537}. Best is trial 24 with value: 0.5915004686130063.\n",
      "[I 2024-05-13 14:04:36,742] Trial 198 finished with value: 0.5376740545439564 and parameters: {'learning_rate': 0.02774172848530234}. Best is trial 24 with value: 0.5915004686130063.\n",
      "[I 2024-05-13 14:04:39,555] Trial 199 finished with value: 0.5721759907720194 and parameters: {'learning_rate': 0.025597510917152476}. Best is trial 24 with value: 0.5915004686130063.\n"
     ]
    }
   ],
   "source": [
    "import optuna\n",
    "\n",
    "study = optuna.create_study(sampler=optuna.samplers.RandomSampler(seed=42), direction=\"maximize\")\n",
    "study.optimize(objective, n_trials=200)"
   ]
  },
  {
   "cell_type": "code",
   "execution_count": 13,
   "metadata": {},
   "outputs": [
    {
     "data": {
      "text/plain": [
       "{'learning_rate': 0.019121399684340717}"
      ]
     },
     "execution_count": 13,
     "metadata": {},
     "output_type": "execute_result"
    }
   ],
   "source": [
    "trial = study.best_trial\n",
    "trial.params"
   ]
  },
  {
   "cell_type": "code",
   "execution_count": 14,
   "metadata": {},
   "outputs": [
    {
     "data": {
      "text/plain": [
       "0.5915004686130063"
      ]
     },
     "execution_count": 14,
     "metadata": {},
     "output_type": "execute_result"
    }
   ],
   "source": [
    "trial.value"
   ]
  },
  {
   "cell_type": "code",
   "execution_count": 15,
   "metadata": {},
   "outputs": [
    {
     "data": {
      "application/vnd.plotly.v1+json": {
       "config": {
        "plotlyServerURL": "https://plot.ly"
       },
       "data": [
        {
         "cliponaxis": false,
         "hovertemplate": [
          "learning_rate (FloatDistribution): 1.0<extra></extra>"
         ],
         "name": "Objective Value",
         "orientation": "h",
         "text": [
          "1.00"
         ],
         "textposition": "outside",
         "type": "bar",
         "x": [
          1
         ],
         "y": [
          "learning_rate"
         ]
        }
       ],
       "layout": {
        "template": {
         "data": {
          "bar": [
           {
            "error_x": {
             "color": "#2a3f5f"
            },
            "error_y": {
             "color": "#2a3f5f"
            },
            "marker": {
             "line": {
              "color": "#E5ECF6",
              "width": 0.5
             },
             "pattern": {
              "fillmode": "overlay",
              "size": 10,
              "solidity": 0.2
             }
            },
            "type": "bar"
           }
          ],
          "barpolar": [
           {
            "marker": {
             "line": {
              "color": "#E5ECF6",
              "width": 0.5
             },
             "pattern": {
              "fillmode": "overlay",
              "size": 10,
              "solidity": 0.2
             }
            },
            "type": "barpolar"
           }
          ],
          "carpet": [
           {
            "aaxis": {
             "endlinecolor": "#2a3f5f",
             "gridcolor": "white",
             "linecolor": "white",
             "minorgridcolor": "white",
             "startlinecolor": "#2a3f5f"
            },
            "baxis": {
             "endlinecolor": "#2a3f5f",
             "gridcolor": "white",
             "linecolor": "white",
             "minorgridcolor": "white",
             "startlinecolor": "#2a3f5f"
            },
            "type": "carpet"
           }
          ],
          "choropleth": [
           {
            "colorbar": {
             "outlinewidth": 0,
             "ticks": ""
            },
            "type": "choropleth"
           }
          ],
          "contour": [
           {
            "colorbar": {
             "outlinewidth": 0,
             "ticks": ""
            },
            "colorscale": [
             [
              0,
              "#0d0887"
             ],
             [
              0.1111111111111111,
              "#46039f"
             ],
             [
              0.2222222222222222,
              "#7201a8"
             ],
             [
              0.3333333333333333,
              "#9c179e"
             ],
             [
              0.4444444444444444,
              "#bd3786"
             ],
             [
              0.5555555555555556,
              "#d8576b"
             ],
             [
              0.6666666666666666,
              "#ed7953"
             ],
             [
              0.7777777777777778,
              "#fb9f3a"
             ],
             [
              0.8888888888888888,
              "#fdca26"
             ],
             [
              1,
              "#f0f921"
             ]
            ],
            "type": "contour"
           }
          ],
          "contourcarpet": [
           {
            "colorbar": {
             "outlinewidth": 0,
             "ticks": ""
            },
            "type": "contourcarpet"
           }
          ],
          "heatmap": [
           {
            "colorbar": {
             "outlinewidth": 0,
             "ticks": ""
            },
            "colorscale": [
             [
              0,
              "#0d0887"
             ],
             [
              0.1111111111111111,
              "#46039f"
             ],
             [
              0.2222222222222222,
              "#7201a8"
             ],
             [
              0.3333333333333333,
              "#9c179e"
             ],
             [
              0.4444444444444444,
              "#bd3786"
             ],
             [
              0.5555555555555556,
              "#d8576b"
             ],
             [
              0.6666666666666666,
              "#ed7953"
             ],
             [
              0.7777777777777778,
              "#fb9f3a"
             ],
             [
              0.8888888888888888,
              "#fdca26"
             ],
             [
              1,
              "#f0f921"
             ]
            ],
            "type": "heatmap"
           }
          ],
          "heatmapgl": [
           {
            "colorbar": {
             "outlinewidth": 0,
             "ticks": ""
            },
            "colorscale": [
             [
              0,
              "#0d0887"
             ],
             [
              0.1111111111111111,
              "#46039f"
             ],
             [
              0.2222222222222222,
              "#7201a8"
             ],
             [
              0.3333333333333333,
              "#9c179e"
             ],
             [
              0.4444444444444444,
              "#bd3786"
             ],
             [
              0.5555555555555556,
              "#d8576b"
             ],
             [
              0.6666666666666666,
              "#ed7953"
             ],
             [
              0.7777777777777778,
              "#fb9f3a"
             ],
             [
              0.8888888888888888,
              "#fdca26"
             ],
             [
              1,
              "#f0f921"
             ]
            ],
            "type": "heatmapgl"
           }
          ],
          "histogram": [
           {
            "marker": {
             "pattern": {
              "fillmode": "overlay",
              "size": 10,
              "solidity": 0.2
             }
            },
            "type": "histogram"
           }
          ],
          "histogram2d": [
           {
            "colorbar": {
             "outlinewidth": 0,
             "ticks": ""
            },
            "colorscale": [
             [
              0,
              "#0d0887"
             ],
             [
              0.1111111111111111,
              "#46039f"
             ],
             [
              0.2222222222222222,
              "#7201a8"
             ],
             [
              0.3333333333333333,
              "#9c179e"
             ],
             [
              0.4444444444444444,
              "#bd3786"
             ],
             [
              0.5555555555555556,
              "#d8576b"
             ],
             [
              0.6666666666666666,
              "#ed7953"
             ],
             [
              0.7777777777777778,
              "#fb9f3a"
             ],
             [
              0.8888888888888888,
              "#fdca26"
             ],
             [
              1,
              "#f0f921"
             ]
            ],
            "type": "histogram2d"
           }
          ],
          "histogram2dcontour": [
           {
            "colorbar": {
             "outlinewidth": 0,
             "ticks": ""
            },
            "colorscale": [
             [
              0,
              "#0d0887"
             ],
             [
              0.1111111111111111,
              "#46039f"
             ],
             [
              0.2222222222222222,
              "#7201a8"
             ],
             [
              0.3333333333333333,
              "#9c179e"
             ],
             [
              0.4444444444444444,
              "#bd3786"
             ],
             [
              0.5555555555555556,
              "#d8576b"
             ],
             [
              0.6666666666666666,
              "#ed7953"
             ],
             [
              0.7777777777777778,
              "#fb9f3a"
             ],
             [
              0.8888888888888888,
              "#fdca26"
             ],
             [
              1,
              "#f0f921"
             ]
            ],
            "type": "histogram2dcontour"
           }
          ],
          "mesh3d": [
           {
            "colorbar": {
             "outlinewidth": 0,
             "ticks": ""
            },
            "type": "mesh3d"
           }
          ],
          "parcoords": [
           {
            "line": {
             "colorbar": {
              "outlinewidth": 0,
              "ticks": ""
             }
            },
            "type": "parcoords"
           }
          ],
          "pie": [
           {
            "automargin": true,
            "type": "pie"
           }
          ],
          "scatter": [
           {
            "fillpattern": {
             "fillmode": "overlay",
             "size": 10,
             "solidity": 0.2
            },
            "type": "scatter"
           }
          ],
          "scatter3d": [
           {
            "line": {
             "colorbar": {
              "outlinewidth": 0,
              "ticks": ""
             }
            },
            "marker": {
             "colorbar": {
              "outlinewidth": 0,
              "ticks": ""
             }
            },
            "type": "scatter3d"
           }
          ],
          "scattercarpet": [
           {
            "marker": {
             "colorbar": {
              "outlinewidth": 0,
              "ticks": ""
             }
            },
            "type": "scattercarpet"
           }
          ],
          "scattergeo": [
           {
            "marker": {
             "colorbar": {
              "outlinewidth": 0,
              "ticks": ""
             }
            },
            "type": "scattergeo"
           }
          ],
          "scattergl": [
           {
            "marker": {
             "colorbar": {
              "outlinewidth": 0,
              "ticks": ""
             }
            },
            "type": "scattergl"
           }
          ],
          "scattermapbox": [
           {
            "marker": {
             "colorbar": {
              "outlinewidth": 0,
              "ticks": ""
             }
            },
            "type": "scattermapbox"
           }
          ],
          "scatterpolar": [
           {
            "marker": {
             "colorbar": {
              "outlinewidth": 0,
              "ticks": ""
             }
            },
            "type": "scatterpolar"
           }
          ],
          "scatterpolargl": [
           {
            "marker": {
             "colorbar": {
              "outlinewidth": 0,
              "ticks": ""
             }
            },
            "type": "scatterpolargl"
           }
          ],
          "scatterternary": [
           {
            "marker": {
             "colorbar": {
              "outlinewidth": 0,
              "ticks": ""
             }
            },
            "type": "scatterternary"
           }
          ],
          "surface": [
           {
            "colorbar": {
             "outlinewidth": 0,
             "ticks": ""
            },
            "colorscale": [
             [
              0,
              "#0d0887"
             ],
             [
              0.1111111111111111,
              "#46039f"
             ],
             [
              0.2222222222222222,
              "#7201a8"
             ],
             [
              0.3333333333333333,
              "#9c179e"
             ],
             [
              0.4444444444444444,
              "#bd3786"
             ],
             [
              0.5555555555555556,
              "#d8576b"
             ],
             [
              0.6666666666666666,
              "#ed7953"
             ],
             [
              0.7777777777777778,
              "#fb9f3a"
             ],
             [
              0.8888888888888888,
              "#fdca26"
             ],
             [
              1,
              "#f0f921"
             ]
            ],
            "type": "surface"
           }
          ],
          "table": [
           {
            "cells": {
             "fill": {
              "color": "#EBF0F8"
             },
             "line": {
              "color": "white"
             }
            },
            "header": {
             "fill": {
              "color": "#C8D4E3"
             },
             "line": {
              "color": "white"
             }
            },
            "type": "table"
           }
          ]
         },
         "layout": {
          "annotationdefaults": {
           "arrowcolor": "#2a3f5f",
           "arrowhead": 0,
           "arrowwidth": 1
          },
          "autotypenumbers": "strict",
          "coloraxis": {
           "colorbar": {
            "outlinewidth": 0,
            "ticks": ""
           }
          },
          "colorscale": {
           "diverging": [
            [
             0,
             "#8e0152"
            ],
            [
             0.1,
             "#c51b7d"
            ],
            [
             0.2,
             "#de77ae"
            ],
            [
             0.3,
             "#f1b6da"
            ],
            [
             0.4,
             "#fde0ef"
            ],
            [
             0.5,
             "#f7f7f7"
            ],
            [
             0.6,
             "#e6f5d0"
            ],
            [
             0.7,
             "#b8e186"
            ],
            [
             0.8,
             "#7fbc41"
            ],
            [
             0.9,
             "#4d9221"
            ],
            [
             1,
             "#276419"
            ]
           ],
           "sequential": [
            [
             0,
             "#0d0887"
            ],
            [
             0.1111111111111111,
             "#46039f"
            ],
            [
             0.2222222222222222,
             "#7201a8"
            ],
            [
             0.3333333333333333,
             "#9c179e"
            ],
            [
             0.4444444444444444,
             "#bd3786"
            ],
            [
             0.5555555555555556,
             "#d8576b"
            ],
            [
             0.6666666666666666,
             "#ed7953"
            ],
            [
             0.7777777777777778,
             "#fb9f3a"
            ],
            [
             0.8888888888888888,
             "#fdca26"
            ],
            [
             1,
             "#f0f921"
            ]
           ],
           "sequentialminus": [
            [
             0,
             "#0d0887"
            ],
            [
             0.1111111111111111,
             "#46039f"
            ],
            [
             0.2222222222222222,
             "#7201a8"
            ],
            [
             0.3333333333333333,
             "#9c179e"
            ],
            [
             0.4444444444444444,
             "#bd3786"
            ],
            [
             0.5555555555555556,
             "#d8576b"
            ],
            [
             0.6666666666666666,
             "#ed7953"
            ],
            [
             0.7777777777777778,
             "#fb9f3a"
            ],
            [
             0.8888888888888888,
             "#fdca26"
            ],
            [
             1,
             "#f0f921"
            ]
           ]
          },
          "colorway": [
           "#636efa",
           "#EF553B",
           "#00cc96",
           "#ab63fa",
           "#FFA15A",
           "#19d3f3",
           "#FF6692",
           "#B6E880",
           "#FF97FF",
           "#FECB52"
          ],
          "font": {
           "color": "#2a3f5f"
          },
          "geo": {
           "bgcolor": "white",
           "lakecolor": "white",
           "landcolor": "#E5ECF6",
           "showlakes": true,
           "showland": true,
           "subunitcolor": "white"
          },
          "hoverlabel": {
           "align": "left"
          },
          "hovermode": "closest",
          "mapbox": {
           "style": "light"
          },
          "paper_bgcolor": "white",
          "plot_bgcolor": "#E5ECF6",
          "polar": {
           "angularaxis": {
            "gridcolor": "white",
            "linecolor": "white",
            "ticks": ""
           },
           "bgcolor": "#E5ECF6",
           "radialaxis": {
            "gridcolor": "white",
            "linecolor": "white",
            "ticks": ""
           }
          },
          "scene": {
           "xaxis": {
            "backgroundcolor": "#E5ECF6",
            "gridcolor": "white",
            "gridwidth": 2,
            "linecolor": "white",
            "showbackground": true,
            "ticks": "",
            "zerolinecolor": "white"
           },
           "yaxis": {
            "backgroundcolor": "#E5ECF6",
            "gridcolor": "white",
            "gridwidth": 2,
            "linecolor": "white",
            "showbackground": true,
            "ticks": "",
            "zerolinecolor": "white"
           },
           "zaxis": {
            "backgroundcolor": "#E5ECF6",
            "gridcolor": "white",
            "gridwidth": 2,
            "linecolor": "white",
            "showbackground": true,
            "ticks": "",
            "zerolinecolor": "white"
           }
          },
          "shapedefaults": {
           "line": {
            "color": "#2a3f5f"
           }
          },
          "ternary": {
           "aaxis": {
            "gridcolor": "white",
            "linecolor": "white",
            "ticks": ""
           },
           "baxis": {
            "gridcolor": "white",
            "linecolor": "white",
            "ticks": ""
           },
           "bgcolor": "#E5ECF6",
           "caxis": {
            "gridcolor": "white",
            "linecolor": "white",
            "ticks": ""
           }
          },
          "title": {
           "x": 0.05
          },
          "xaxis": {
           "automargin": true,
           "gridcolor": "white",
           "linecolor": "white",
           "ticks": "",
           "title": {
            "standoff": 15
           },
           "zerolinecolor": "white",
           "zerolinewidth": 2
          },
          "yaxis": {
           "automargin": true,
           "gridcolor": "white",
           "linecolor": "white",
           "ticks": "",
           "title": {
            "standoff": 15
           },
           "zerolinecolor": "white",
           "zerolinewidth": 2
          }
         }
        },
        "title": {
         "text": "Hyperparameter Importances"
        },
        "xaxis": {
         "title": {
          "text": "Hyperparameter Importance"
         }
        },
        "yaxis": {
         "title": {
          "text": "Hyperparameter"
         }
        }
       }
      }
     },
     "metadata": {},
     "output_type": "display_data"
    }
   ],
   "source": [
    "import plotly\n",
    "import nbformat\n",
    "optuna.visualization.plot_param_importances(study).show()"
   ]
  },
  {
   "cell_type": "code",
   "execution_count": 16,
   "metadata": {},
   "outputs": [
    {
     "data": {
      "application/vnd.plotly.v1+json": {
       "config": {
        "plotlyServerURL": "https://plot.ly"
       },
       "data": [
        {
         "marker": {
          "color": [
           0,
           1,
           2,
           3,
           4,
           5,
           6,
           7,
           8,
           9,
           10,
           11,
           12,
           13,
           14,
           15,
           16,
           17,
           18,
           19,
           20,
           21,
           22,
           23,
           24,
           25,
           26,
           27,
           28,
           29,
           30,
           31,
           32,
           33,
           34,
           35,
           36,
           37,
           38,
           39,
           40,
           41,
           42,
           43,
           44,
           45,
           46,
           47,
           48,
           49,
           50,
           51,
           52,
           53,
           54,
           55,
           56,
           57,
           58,
           59,
           60,
           61,
           62,
           63,
           64,
           65,
           66,
           67,
           68,
           69,
           70,
           71,
           72,
           73,
           74,
           75,
           76,
           77,
           78,
           79,
           80,
           81,
           82,
           83,
           84,
           85,
           86,
           87,
           88,
           89,
           90,
           91,
           92,
           93,
           94,
           95,
           96,
           97,
           98,
           99,
           100,
           101,
           102,
           103,
           104,
           105,
           106,
           107,
           108,
           109,
           110,
           111,
           112,
           113,
           114,
           115,
           116,
           117,
           118,
           119,
           120,
           121,
           122,
           123,
           124,
           125,
           126,
           127,
           128,
           129,
           130,
           131,
           132,
           133,
           134,
           135,
           136,
           137,
           138,
           139,
           140,
           141,
           142,
           143,
           144,
           145,
           146,
           147,
           148,
           149,
           150,
           151,
           152,
           153,
           154,
           155,
           156,
           157,
           158,
           159,
           160,
           161,
           162,
           163,
           164,
           165,
           166,
           167,
           168,
           169,
           170,
           171,
           172,
           173,
           174,
           175,
           176,
           177,
           178,
           179,
           180,
           181,
           182,
           183,
           184,
           185,
           186,
           187,
           188,
           189,
           190,
           191,
           192,
           193,
           194,
           195,
           196,
           197,
           198,
           199
          ],
          "colorbar": {
           "title": {
            "text": "Trial"
           },
           "x": 1,
           "xpad": 40
          },
          "colorscale": [
           [
            0,
            "rgb(247,251,255)"
           ],
           [
            0.125,
            "rgb(222,235,247)"
           ],
           [
            0.25,
            "rgb(198,219,239)"
           ],
           [
            0.375,
            "rgb(158,202,225)"
           ],
           [
            0.5,
            "rgb(107,174,214)"
           ],
           [
            0.625,
            "rgb(66,146,198)"
           ],
           [
            0.75,
            "rgb(33,113,181)"
           ],
           [
            0.875,
            "rgb(8,81,156)"
           ],
           [
            1,
            "rgb(8,48,107)"
           ]
          ],
          "line": {
           "color": "Grey",
           "width": 0.5
          }
         },
         "mode": "markers",
         "name": "Feasible Trial",
         "showlegend": false,
         "type": "scatter",
         "x": [
          0.01749080237694725,
          0.02901428612819832,
          0.024639878836228098,
          0.02197316968394073,
          0.01312037280884873,
          0.013119890406724052,
          0.01116167224336399,
          0.0273235229154987,
          0.022022300234864175,
          0.024161451555920907,
          0.010411689885916049,
          0.029398197043239885,
          0.026648852816008435,
          0.014246782213565522,
          0.013636499344142012,
          0.013668090197068676,
          0.016084844859190754,
          0.020495128632644757,
          0.018638900372842312,
          0.01582458280396084,
          0.02223705789444759,
          0.012789877213040837,
          0.01584289297070436,
          0.017327236865873834,
          0.019121399684340717,
          0.025703519227860266,
          0.013993475643167195,
          0.020284688768272233,
          0.02184829137724085,
          0.010929008254399955,
          0.022150897038028763,
          0.01341048247374583,
          0.011301031859705591,
          0.028977710745066665,
          0.029312640661491182,
          0.02616794696232922,
          0.016092275383467414,
          0.011953442280127678,
          0.023684660530243137,
          0.018803049874792026,
          0.012440764696895576,
          0.0199035382022254,
          0.010687770422304368,
          0.028186408041575642,
          0.015175599632000339,
          0.023250445687079638,
          0.016234221521788217,
          0.020401360423556215,
          0.02093420558686559,
          0.01369708911051054,
          0.02939169255529117,
          0.025502656467222287,
          0.02878997883128378,
          0.02789654700855297,
          0.0219579995762217,
          0.028437484700462333,
          0.01176985004103839,
          0.013919657248382903,
          0.010904545778210761,
          0.016506606615265287,
          0.01777354579378964,
          0.015426980635477917,
          0.026574750183038585,
          0.017135066533871784,
          0.015618690193747614,
          0.02085392166316497,
          0.012818484499495252,
          0.026043939615080794,
          0.011491012873595417,
          0.02973773873201034,
          0.02544489538593315,
          0.013974313630683449,
          0.010110442342472048,
          0.026309228569096683,
          0.024137146876952342,
          0.024580143360819744,
          0.025425406933718912,
          0.011480893034681807,
          0.01716931457088545,
          0.012317381190502595,
          0.027262068517511867,
          0.022465962536551157,
          0.016617960497052983,
          0.011271167005720473,
          0.016219646434313242,
          0.016503666440534942,
          0.024592123566761277,
          0.02275114942710426,
          0.027744254851526526,
          0.019444298503238984,
          0.012391884918766034,
          0.024264895744459898,
          0.025215700972337947,
          0.021225543951389925,
          0.025419343599091218,
          0.019875911927287812,
          0.02045465658763988,
          0.01855082036717099,
          0.010508382534881905,
          0.012157828539866088,
          0.010628583713734685,
          0.022728208225275607,
          0.016287119621526534,
          0.020171413823294054,
          0.028151329478521857,
          0.014985844582977498,
          0.018207658460712595,
          0.02511102277086097,
          0.014575963309832449,
          0.01153959819657586,
          0.01579502905827536,
          0.013224425745080088,
          0.02859395304685146,
          0.026162407591288336,
          0.02266807513020847,
          0.02742921180375435,
          0.026073441537982286,
          0.013731401177720717,
          0.02785117996979955,
          0.020786844838313015,
          0.02614880310328125,
          0.02792182599846986,
          0.016360069499437278,
          0.012201038490553534,
          0.014558703250838833,
          0.018542155772525125,
          0.026360295318449863,
          0.027214611665126863,
          0.010139042610623815,
          0.020214946051551313,
          0.018348220062975578,
          0.014442156209414605,
          0.012397307346673657,
          0.01675230342807256,
          0.028858194078250382,
          0.016464058640415103,
          0.020375812434867323,
          0.024060379177903553,
          0.01727259204758588,
          0.029435641654419212,
          0.02924894589884222,
          0.015035645916507284,
          0.01994497011784771,
          0.016017566196335393,
          0.015696809887549353,
          0.010737738947090656,
          0.022191286679597935,
          0.02005358046457723,
          0.011029575024999787,
          0.015572929284732228,
          0.028165317719333074,
          0.014791237813339447,
          0.012897897441824461,
          0.019789055205551256,
          0.029713009082212014,
          0.014841105430230008,
          0.02344271094811757,
          0.02523239230657435,
          0.014752750879847992,
          0.02456432697223719,
          0.017355662654385064,
          0.02264611661187159,
          0.022670594215217894,
          0.020715493681495167,
          0.011805795401088165,
          0.026706049911784754,
          0.016415601299434715,
          0.013730370207997084,
          0.010815502831095279,
          0.021817858863764833,
          0.023551287236845644,
          0.010331756578557123,
          0.020241861165985617,
          0.014529915503958758,
          0.022903455808188998,
          0.013487328580099829,
          0.023818754762049317,
          0.017734706926010747,
          0.028734599774734686,
          0.012750418882919865,
          0.01682132702100517,
          0.01226947042481178,
          0.02849387236557125,
          0.027546787067619614,
          0.015158832554303111,
          0.02319968092068358,
          0.026344444004024317,
          0.021104016231989244,
          0.02059301156712013,
          0.014837045818009032,
          0.011862055356117984,
          0.027944315159066535,
          0.02800836114326661,
          0.022662029145465355,
          0.016780595820974013,
          0.016984191492253217,
          0.024519113577404786,
          0.027942205199051537,
          0.02774172848530234,
          0.025597510917152476
         ],
         "y": [
          0.5755912162162162,
          0.5794275192500837,
          0.5582417582417583,
          0.5835773209644446,
          0.5559022679066732,
          0.5559022679066732,
          0.564832309872461,
          0.5746961371961372,
          0.579076378017632,
          0.5560452430116806,
          0.5738543916220453,
          0.5607079061219011,
          0.5607079061219011,
          0.5743154615510739,
          0.5621179214929215,
          0.5302851005857141,
          0.5582417582417583,
          0.5630434782608695,
          0.5629282624998716,
          0.5668686868686869,
          0.579076378017632,
          0.5630434782608695,
          0.5486446267696268,
          0.5491622235234896,
          0.5915004686130063,
          0.5769151138716356,
          0.5486446267696268,
          0.5537178225938678,
          0.5559022679066732,
          0.5534384066494158,
          0.5560452430116806,
          0.5556804260446091,
          0.5640815182575273,
          0.5348396869477405,
          0.5468719346611736,
          0.5441503781605679,
          0.5740124718975392,
          0.5745018655235373,
          0.5652756035264068,
          0.562734540708109,
          0.5526389221079486,
          0.5601010101010101,
          0.5521789501826931,
          0.5629282624998716,
          0.5509881183928086,
          0.5654084365584198,
          0.5823278635778636,
          0.5580295526508079,
          0.5607079061219011,
          0.5509881183928086,
          0.5491718426501035,
          0.5698112819880626,
          0.5584282140966694,
          0.5607517482517482,
          0.5607079061219011,
          0.5399860632890637,
          0.5463027056309627,
          0.5616978776529338,
          0.5534384066494158,
          0.5577401767628415,
          0.562463930990493,
          0.5573750800768738,
          0.5514748290351816,
          0.5695668135095447,
          0.5664670298251422,
          0.5630434782608695,
          0.5672474829650228,
          0.5629282624998716,
          0.5486446267696268,
          0.5766943014762536,
          0.571939688218758,
          0.5799099126212618,
          0.5606405743080003,
          0.5560452430116806,
          0.5721759907720194,
          0.5668686868686869,
          0.5514748290351816,
          0.5678534571723426,
          0.553565070548621,
          0.5569355913326239,
          0.5677239427239427,
          0.5766943014762536,
          0.5512300073069741,
          0.5612050488211479,
          0.5640815182575273,
          0.5621179214929215,
          0.5468719346611736,
          0.562734540708109,
          0.5584282140966694,
          0.5533333333333333,
          0.5720821079523513,
          0.5607133490689746,
          0.5607517482517482,
          0.5537178225938678,
          0.5468073593073592,
          0.5559022679066732,
          0.5445204413123126,
          0.5755912162162162,
          0.5455445642594738,
          0.5569355913326239,
          0.565992984134577,
          0.5537178225938678,
          0.5698112819880626,
          0.5601010101010101,
          0.567741935483871,
          0.5726700151478912,
          0.5422792040352986,
          0.5398351648351648,
          0.5573750800768738,
          0.5621179214929215,
          0.5465656565656566,
          0.5506686418962203,
          0.5513927932532584,
          0.5418875704788353,
          0.5629282624998716,
          0.5653821004888478,
          0.5630434782608695,
          0.5577401767628415,
          0.5536847626540782,
          0.5580295526508079,
          0.5583752162807942,
          0.5607079061219011,
          0.5692474359363768,
          0.5439622037155669,
          0.5616978776529338,
          0.5671966714478998,
          0.5677239427239427,
          0.5630434782608695,
          0.5416229712858927,
          0.5533333333333333,
          0.562463930990493,
          0.562463930990493,
          0.5545566404699531,
          0.562463930990493,
          0.5398351648351648,
          0.5712442935029074,
          0.5559022679066732,
          0.5308458982877587,
          0.5583752162807942,
          0.5698112819880626,
          0.567741935483871,
          0.5640815182575273,
          0.5676258918522649,
          0.5644922351328745,
          0.5621179214929215,
          0.5577401767628415,
          0.5330359632004461,
          0.5692474359363768,
          0.5455445642594738,
          0.5416229712858927,
          0.5698112819880626,
          0.5654477220291318,
          0.5678534571723426,
          0.5537178225938678,
          0.5561076604554865,
          0.5530241470290226,
          0.5583752162807942,
          0.5629282624998716,
          0.553565070548621,
          0.5561076604554865,
          0.5488969210987253,
          0.5871717171717172,
          0.5330359632004461,
          0.571939688218758,
          0.5569355913326239,
          0.5537178225938678,
          0.577494394618834,
          0.5569355913326239,
          0.5612050488211479,
          0.5640815182575273,
          0.5746961371961372,
          0.5641477133773539,
          0.5607079061219011,
          0.5397979797979798,
          0.5537899203915373,
          0.5486446267696268,
          0.5654084365584198,
          0.5580295526508079,
          0.5399334696493423,
          0.5780192095732956,
          0.5668686868686869,
          0.5412598237675637,
          0.5418875704788353,
          0.5466561762391817,
          0.5621179214929215,
          0.5537795537795538,
          0.5560876868980916,
          0.5677239427239427,
          0.5832313591124164,
          0.5793470461612055,
          0.5439622037155669,
          0.544574441789569,
          0.5490969418098726,
          0.5561076604554865,
          0.577494394618834,
          0.5467492700989818,
          0.5630434782608695,
          0.555983337541025,
          0.5376740545439564,
          0.5721759907720194
         ]
        }
       ],
       "layout": {
        "template": {
         "data": {
          "bar": [
           {
            "error_x": {
             "color": "#2a3f5f"
            },
            "error_y": {
             "color": "#2a3f5f"
            },
            "marker": {
             "line": {
              "color": "#E5ECF6",
              "width": 0.5
             },
             "pattern": {
              "fillmode": "overlay",
              "size": 10,
              "solidity": 0.2
             }
            },
            "type": "bar"
           }
          ],
          "barpolar": [
           {
            "marker": {
             "line": {
              "color": "#E5ECF6",
              "width": 0.5
             },
             "pattern": {
              "fillmode": "overlay",
              "size": 10,
              "solidity": 0.2
             }
            },
            "type": "barpolar"
           }
          ],
          "carpet": [
           {
            "aaxis": {
             "endlinecolor": "#2a3f5f",
             "gridcolor": "white",
             "linecolor": "white",
             "minorgridcolor": "white",
             "startlinecolor": "#2a3f5f"
            },
            "baxis": {
             "endlinecolor": "#2a3f5f",
             "gridcolor": "white",
             "linecolor": "white",
             "minorgridcolor": "white",
             "startlinecolor": "#2a3f5f"
            },
            "type": "carpet"
           }
          ],
          "choropleth": [
           {
            "colorbar": {
             "outlinewidth": 0,
             "ticks": ""
            },
            "type": "choropleth"
           }
          ],
          "contour": [
           {
            "colorbar": {
             "outlinewidth": 0,
             "ticks": ""
            },
            "colorscale": [
             [
              0,
              "#0d0887"
             ],
             [
              0.1111111111111111,
              "#46039f"
             ],
             [
              0.2222222222222222,
              "#7201a8"
             ],
             [
              0.3333333333333333,
              "#9c179e"
             ],
             [
              0.4444444444444444,
              "#bd3786"
             ],
             [
              0.5555555555555556,
              "#d8576b"
             ],
             [
              0.6666666666666666,
              "#ed7953"
             ],
             [
              0.7777777777777778,
              "#fb9f3a"
             ],
             [
              0.8888888888888888,
              "#fdca26"
             ],
             [
              1,
              "#f0f921"
             ]
            ],
            "type": "contour"
           }
          ],
          "contourcarpet": [
           {
            "colorbar": {
             "outlinewidth": 0,
             "ticks": ""
            },
            "type": "contourcarpet"
           }
          ],
          "heatmap": [
           {
            "colorbar": {
             "outlinewidth": 0,
             "ticks": ""
            },
            "colorscale": [
             [
              0,
              "#0d0887"
             ],
             [
              0.1111111111111111,
              "#46039f"
             ],
             [
              0.2222222222222222,
              "#7201a8"
             ],
             [
              0.3333333333333333,
              "#9c179e"
             ],
             [
              0.4444444444444444,
              "#bd3786"
             ],
             [
              0.5555555555555556,
              "#d8576b"
             ],
             [
              0.6666666666666666,
              "#ed7953"
             ],
             [
              0.7777777777777778,
              "#fb9f3a"
             ],
             [
              0.8888888888888888,
              "#fdca26"
             ],
             [
              1,
              "#f0f921"
             ]
            ],
            "type": "heatmap"
           }
          ],
          "heatmapgl": [
           {
            "colorbar": {
             "outlinewidth": 0,
             "ticks": ""
            },
            "colorscale": [
             [
              0,
              "#0d0887"
             ],
             [
              0.1111111111111111,
              "#46039f"
             ],
             [
              0.2222222222222222,
              "#7201a8"
             ],
             [
              0.3333333333333333,
              "#9c179e"
             ],
             [
              0.4444444444444444,
              "#bd3786"
             ],
             [
              0.5555555555555556,
              "#d8576b"
             ],
             [
              0.6666666666666666,
              "#ed7953"
             ],
             [
              0.7777777777777778,
              "#fb9f3a"
             ],
             [
              0.8888888888888888,
              "#fdca26"
             ],
             [
              1,
              "#f0f921"
             ]
            ],
            "type": "heatmapgl"
           }
          ],
          "histogram": [
           {
            "marker": {
             "pattern": {
              "fillmode": "overlay",
              "size": 10,
              "solidity": 0.2
             }
            },
            "type": "histogram"
           }
          ],
          "histogram2d": [
           {
            "colorbar": {
             "outlinewidth": 0,
             "ticks": ""
            },
            "colorscale": [
             [
              0,
              "#0d0887"
             ],
             [
              0.1111111111111111,
              "#46039f"
             ],
             [
              0.2222222222222222,
              "#7201a8"
             ],
             [
              0.3333333333333333,
              "#9c179e"
             ],
             [
              0.4444444444444444,
              "#bd3786"
             ],
             [
              0.5555555555555556,
              "#d8576b"
             ],
             [
              0.6666666666666666,
              "#ed7953"
             ],
             [
              0.7777777777777778,
              "#fb9f3a"
             ],
             [
              0.8888888888888888,
              "#fdca26"
             ],
             [
              1,
              "#f0f921"
             ]
            ],
            "type": "histogram2d"
           }
          ],
          "histogram2dcontour": [
           {
            "colorbar": {
             "outlinewidth": 0,
             "ticks": ""
            },
            "colorscale": [
             [
              0,
              "#0d0887"
             ],
             [
              0.1111111111111111,
              "#46039f"
             ],
             [
              0.2222222222222222,
              "#7201a8"
             ],
             [
              0.3333333333333333,
              "#9c179e"
             ],
             [
              0.4444444444444444,
              "#bd3786"
             ],
             [
              0.5555555555555556,
              "#d8576b"
             ],
             [
              0.6666666666666666,
              "#ed7953"
             ],
             [
              0.7777777777777778,
              "#fb9f3a"
             ],
             [
              0.8888888888888888,
              "#fdca26"
             ],
             [
              1,
              "#f0f921"
             ]
            ],
            "type": "histogram2dcontour"
           }
          ],
          "mesh3d": [
           {
            "colorbar": {
             "outlinewidth": 0,
             "ticks": ""
            },
            "type": "mesh3d"
           }
          ],
          "parcoords": [
           {
            "line": {
             "colorbar": {
              "outlinewidth": 0,
              "ticks": ""
             }
            },
            "type": "parcoords"
           }
          ],
          "pie": [
           {
            "automargin": true,
            "type": "pie"
           }
          ],
          "scatter": [
           {
            "fillpattern": {
             "fillmode": "overlay",
             "size": 10,
             "solidity": 0.2
            },
            "type": "scatter"
           }
          ],
          "scatter3d": [
           {
            "line": {
             "colorbar": {
              "outlinewidth": 0,
              "ticks": ""
             }
            },
            "marker": {
             "colorbar": {
              "outlinewidth": 0,
              "ticks": ""
             }
            },
            "type": "scatter3d"
           }
          ],
          "scattercarpet": [
           {
            "marker": {
             "colorbar": {
              "outlinewidth": 0,
              "ticks": ""
             }
            },
            "type": "scattercarpet"
           }
          ],
          "scattergeo": [
           {
            "marker": {
             "colorbar": {
              "outlinewidth": 0,
              "ticks": ""
             }
            },
            "type": "scattergeo"
           }
          ],
          "scattergl": [
           {
            "marker": {
             "colorbar": {
              "outlinewidth": 0,
              "ticks": ""
             }
            },
            "type": "scattergl"
           }
          ],
          "scattermapbox": [
           {
            "marker": {
             "colorbar": {
              "outlinewidth": 0,
              "ticks": ""
             }
            },
            "type": "scattermapbox"
           }
          ],
          "scatterpolar": [
           {
            "marker": {
             "colorbar": {
              "outlinewidth": 0,
              "ticks": ""
             }
            },
            "type": "scatterpolar"
           }
          ],
          "scatterpolargl": [
           {
            "marker": {
             "colorbar": {
              "outlinewidth": 0,
              "ticks": ""
             }
            },
            "type": "scatterpolargl"
           }
          ],
          "scatterternary": [
           {
            "marker": {
             "colorbar": {
              "outlinewidth": 0,
              "ticks": ""
             }
            },
            "type": "scatterternary"
           }
          ],
          "surface": [
           {
            "colorbar": {
             "outlinewidth": 0,
             "ticks": ""
            },
            "colorscale": [
             [
              0,
              "#0d0887"
             ],
             [
              0.1111111111111111,
              "#46039f"
             ],
             [
              0.2222222222222222,
              "#7201a8"
             ],
             [
              0.3333333333333333,
              "#9c179e"
             ],
             [
              0.4444444444444444,
              "#bd3786"
             ],
             [
              0.5555555555555556,
              "#d8576b"
             ],
             [
              0.6666666666666666,
              "#ed7953"
             ],
             [
              0.7777777777777778,
              "#fb9f3a"
             ],
             [
              0.8888888888888888,
              "#fdca26"
             ],
             [
              1,
              "#f0f921"
             ]
            ],
            "type": "surface"
           }
          ],
          "table": [
           {
            "cells": {
             "fill": {
              "color": "#EBF0F8"
             },
             "line": {
              "color": "white"
             }
            },
            "header": {
             "fill": {
              "color": "#C8D4E3"
             },
             "line": {
              "color": "white"
             }
            },
            "type": "table"
           }
          ]
         },
         "layout": {
          "annotationdefaults": {
           "arrowcolor": "#2a3f5f",
           "arrowhead": 0,
           "arrowwidth": 1
          },
          "autotypenumbers": "strict",
          "coloraxis": {
           "colorbar": {
            "outlinewidth": 0,
            "ticks": ""
           }
          },
          "colorscale": {
           "diverging": [
            [
             0,
             "#8e0152"
            ],
            [
             0.1,
             "#c51b7d"
            ],
            [
             0.2,
             "#de77ae"
            ],
            [
             0.3,
             "#f1b6da"
            ],
            [
             0.4,
             "#fde0ef"
            ],
            [
             0.5,
             "#f7f7f7"
            ],
            [
             0.6,
             "#e6f5d0"
            ],
            [
             0.7,
             "#b8e186"
            ],
            [
             0.8,
             "#7fbc41"
            ],
            [
             0.9,
             "#4d9221"
            ],
            [
             1,
             "#276419"
            ]
           ],
           "sequential": [
            [
             0,
             "#0d0887"
            ],
            [
             0.1111111111111111,
             "#46039f"
            ],
            [
             0.2222222222222222,
             "#7201a8"
            ],
            [
             0.3333333333333333,
             "#9c179e"
            ],
            [
             0.4444444444444444,
             "#bd3786"
            ],
            [
             0.5555555555555556,
             "#d8576b"
            ],
            [
             0.6666666666666666,
             "#ed7953"
            ],
            [
             0.7777777777777778,
             "#fb9f3a"
            ],
            [
             0.8888888888888888,
             "#fdca26"
            ],
            [
             1,
             "#f0f921"
            ]
           ],
           "sequentialminus": [
            [
             0,
             "#0d0887"
            ],
            [
             0.1111111111111111,
             "#46039f"
            ],
            [
             0.2222222222222222,
             "#7201a8"
            ],
            [
             0.3333333333333333,
             "#9c179e"
            ],
            [
             0.4444444444444444,
             "#bd3786"
            ],
            [
             0.5555555555555556,
             "#d8576b"
            ],
            [
             0.6666666666666666,
             "#ed7953"
            ],
            [
             0.7777777777777778,
             "#fb9f3a"
            ],
            [
             0.8888888888888888,
             "#fdca26"
            ],
            [
             1,
             "#f0f921"
            ]
           ]
          },
          "colorway": [
           "#636efa",
           "#EF553B",
           "#00cc96",
           "#ab63fa",
           "#FFA15A",
           "#19d3f3",
           "#FF6692",
           "#B6E880",
           "#FF97FF",
           "#FECB52"
          ],
          "font": {
           "color": "#2a3f5f"
          },
          "geo": {
           "bgcolor": "white",
           "lakecolor": "white",
           "landcolor": "#E5ECF6",
           "showlakes": true,
           "showland": true,
           "subunitcolor": "white"
          },
          "hoverlabel": {
           "align": "left"
          },
          "hovermode": "closest",
          "mapbox": {
           "style": "light"
          },
          "paper_bgcolor": "white",
          "plot_bgcolor": "#E5ECF6",
          "polar": {
           "angularaxis": {
            "gridcolor": "white",
            "linecolor": "white",
            "ticks": ""
           },
           "bgcolor": "#E5ECF6",
           "radialaxis": {
            "gridcolor": "white",
            "linecolor": "white",
            "ticks": ""
           }
          },
          "scene": {
           "xaxis": {
            "backgroundcolor": "#E5ECF6",
            "gridcolor": "white",
            "gridwidth": 2,
            "linecolor": "white",
            "showbackground": true,
            "ticks": "",
            "zerolinecolor": "white"
           },
           "yaxis": {
            "backgroundcolor": "#E5ECF6",
            "gridcolor": "white",
            "gridwidth": 2,
            "linecolor": "white",
            "showbackground": true,
            "ticks": "",
            "zerolinecolor": "white"
           },
           "zaxis": {
            "backgroundcolor": "#E5ECF6",
            "gridcolor": "white",
            "gridwidth": 2,
            "linecolor": "white",
            "showbackground": true,
            "ticks": "",
            "zerolinecolor": "white"
           }
          },
          "shapedefaults": {
           "line": {
            "color": "#2a3f5f"
           }
          },
          "ternary": {
           "aaxis": {
            "gridcolor": "white",
            "linecolor": "white",
            "ticks": ""
           },
           "baxis": {
            "gridcolor": "white",
            "linecolor": "white",
            "ticks": ""
           },
           "bgcolor": "#E5ECF6",
           "caxis": {
            "gridcolor": "white",
            "linecolor": "white",
            "ticks": ""
           }
          },
          "title": {
           "x": 0.05
          },
          "xaxis": {
           "automargin": true,
           "gridcolor": "white",
           "linecolor": "white",
           "ticks": "",
           "title": {
            "standoff": 15
           },
           "zerolinecolor": "white",
           "zerolinewidth": 2
          },
          "yaxis": {
           "automargin": true,
           "gridcolor": "white",
           "linecolor": "white",
           "ticks": "",
           "title": {
            "standoff": 15
           },
           "zerolinecolor": "white",
           "zerolinewidth": 2
          }
         }
        },
        "title": {
         "text": "Slice Plot"
        },
        "xaxis": {
         "title": {
          "text": "learning_rate"
         }
        },
        "yaxis": {
         "title": {
          "text": "Objective Value"
         }
        }
       }
      }
     },
     "metadata": {},
     "output_type": "display_data"
    }
   ],
   "source": [
    "optuna.visualization.plot_slice(study, params=[\"learning_rate\"])"
   ]
  },
  {
   "cell_type": "code",
   "execution_count": 17,
   "metadata": {},
   "outputs": [
    {
     "data": {
      "application/vnd.plotly.v1+json": {
       "config": {
        "plotlyServerURL": "https://plot.ly"
       },
       "data": [
        {
         "mode": "markers",
         "name": "Objective Value",
         "type": "scatter",
         "x": [
          0,
          1,
          2,
          3,
          4,
          5,
          6,
          7,
          8,
          9,
          10,
          11,
          12,
          13,
          14,
          15,
          16,
          17,
          18,
          19,
          20,
          21,
          22,
          23,
          24,
          25,
          26,
          27,
          28,
          29,
          30,
          31,
          32,
          33,
          34,
          35,
          36,
          37,
          38,
          39,
          40,
          41,
          42,
          43,
          44,
          45,
          46,
          47,
          48,
          49,
          50,
          51,
          52,
          53,
          54,
          55,
          56,
          57,
          58,
          59,
          60,
          61,
          62,
          63,
          64,
          65,
          66,
          67,
          68,
          69,
          70,
          71,
          72,
          73,
          74,
          75,
          76,
          77,
          78,
          79,
          80,
          81,
          82,
          83,
          84,
          85,
          86,
          87,
          88,
          89,
          90,
          91,
          92,
          93,
          94,
          95,
          96,
          97,
          98,
          99,
          100,
          101,
          102,
          103,
          104,
          105,
          106,
          107,
          108,
          109,
          110,
          111,
          112,
          113,
          114,
          115,
          116,
          117,
          118,
          119,
          120,
          121,
          122,
          123,
          124,
          125,
          126,
          127,
          128,
          129,
          130,
          131,
          132,
          133,
          134,
          135,
          136,
          137,
          138,
          139,
          140,
          141,
          142,
          143,
          144,
          145,
          146,
          147,
          148,
          149,
          150,
          151,
          152,
          153,
          154,
          155,
          156,
          157,
          158,
          159,
          160,
          161,
          162,
          163,
          164,
          165,
          166,
          167,
          168,
          169,
          170,
          171,
          172,
          173,
          174,
          175,
          176,
          177,
          178,
          179,
          180,
          181,
          182,
          183,
          184,
          185,
          186,
          187,
          188,
          189,
          190,
          191,
          192,
          193,
          194,
          195,
          196,
          197,
          198,
          199
         ],
         "y": [
          0.5755912162162162,
          0.5794275192500837,
          0.5582417582417583,
          0.5835773209644446,
          0.5559022679066732,
          0.5559022679066732,
          0.564832309872461,
          0.5746961371961372,
          0.579076378017632,
          0.5560452430116806,
          0.5738543916220453,
          0.5607079061219011,
          0.5607079061219011,
          0.5743154615510739,
          0.5621179214929215,
          0.5302851005857141,
          0.5582417582417583,
          0.5630434782608695,
          0.5629282624998716,
          0.5668686868686869,
          0.579076378017632,
          0.5630434782608695,
          0.5486446267696268,
          0.5491622235234896,
          0.5915004686130063,
          0.5769151138716356,
          0.5486446267696268,
          0.5537178225938678,
          0.5559022679066732,
          0.5534384066494158,
          0.5560452430116806,
          0.5556804260446091,
          0.5640815182575273,
          0.5348396869477405,
          0.5468719346611736,
          0.5441503781605679,
          0.5740124718975392,
          0.5745018655235373,
          0.5652756035264068,
          0.562734540708109,
          0.5526389221079486,
          0.5601010101010101,
          0.5521789501826931,
          0.5629282624998716,
          0.5509881183928086,
          0.5654084365584198,
          0.5823278635778636,
          0.5580295526508079,
          0.5607079061219011,
          0.5509881183928086,
          0.5491718426501035,
          0.5698112819880626,
          0.5584282140966694,
          0.5607517482517482,
          0.5607079061219011,
          0.5399860632890637,
          0.5463027056309627,
          0.5616978776529338,
          0.5534384066494158,
          0.5577401767628415,
          0.562463930990493,
          0.5573750800768738,
          0.5514748290351816,
          0.5695668135095447,
          0.5664670298251422,
          0.5630434782608695,
          0.5672474829650228,
          0.5629282624998716,
          0.5486446267696268,
          0.5766943014762536,
          0.571939688218758,
          0.5799099126212618,
          0.5606405743080003,
          0.5560452430116806,
          0.5721759907720194,
          0.5668686868686869,
          0.5514748290351816,
          0.5678534571723426,
          0.553565070548621,
          0.5569355913326239,
          0.5677239427239427,
          0.5766943014762536,
          0.5512300073069741,
          0.5612050488211479,
          0.5640815182575273,
          0.5621179214929215,
          0.5468719346611736,
          0.562734540708109,
          0.5584282140966694,
          0.5533333333333333,
          0.5720821079523513,
          0.5607133490689746,
          0.5607517482517482,
          0.5537178225938678,
          0.5468073593073592,
          0.5559022679066732,
          0.5445204413123126,
          0.5755912162162162,
          0.5455445642594738,
          0.5569355913326239,
          0.565992984134577,
          0.5537178225938678,
          0.5698112819880626,
          0.5601010101010101,
          0.567741935483871,
          0.5726700151478912,
          0.5422792040352986,
          0.5398351648351648,
          0.5573750800768738,
          0.5621179214929215,
          0.5465656565656566,
          0.5506686418962203,
          0.5513927932532584,
          0.5418875704788353,
          0.5629282624998716,
          0.5653821004888478,
          0.5630434782608695,
          0.5577401767628415,
          0.5536847626540782,
          0.5580295526508079,
          0.5583752162807942,
          0.5607079061219011,
          0.5692474359363768,
          0.5439622037155669,
          0.5616978776529338,
          0.5671966714478998,
          0.5677239427239427,
          0.5630434782608695,
          0.5416229712858927,
          0.5533333333333333,
          0.562463930990493,
          0.562463930990493,
          0.5545566404699531,
          0.562463930990493,
          0.5398351648351648,
          0.5712442935029074,
          0.5559022679066732,
          0.5308458982877587,
          0.5583752162807942,
          0.5698112819880626,
          0.567741935483871,
          0.5640815182575273,
          0.5676258918522649,
          0.5644922351328745,
          0.5621179214929215,
          0.5577401767628415,
          0.5330359632004461,
          0.5692474359363768,
          0.5455445642594738,
          0.5416229712858927,
          0.5698112819880626,
          0.5654477220291318,
          0.5678534571723426,
          0.5537178225938678,
          0.5561076604554865,
          0.5530241470290226,
          0.5583752162807942,
          0.5629282624998716,
          0.553565070548621,
          0.5561076604554865,
          0.5488969210987253,
          0.5871717171717172,
          0.5330359632004461,
          0.571939688218758,
          0.5569355913326239,
          0.5537178225938678,
          0.577494394618834,
          0.5569355913326239,
          0.5612050488211479,
          0.5640815182575273,
          0.5746961371961372,
          0.5641477133773539,
          0.5607079061219011,
          0.5397979797979798,
          0.5537899203915373,
          0.5486446267696268,
          0.5654084365584198,
          0.5580295526508079,
          0.5399334696493423,
          0.5780192095732956,
          0.5668686868686869,
          0.5412598237675637,
          0.5418875704788353,
          0.5466561762391817,
          0.5621179214929215,
          0.5537795537795538,
          0.5560876868980916,
          0.5677239427239427,
          0.5832313591124164,
          0.5793470461612055,
          0.5439622037155669,
          0.544574441789569,
          0.5490969418098726,
          0.5561076604554865,
          0.577494394618834,
          0.5467492700989818,
          0.5630434782608695,
          0.555983337541025,
          0.5376740545439564,
          0.5721759907720194
         ]
        },
        {
         "mode": "lines",
         "name": "Best Value",
         "type": "scatter",
         "x": [
          0,
          1,
          2,
          3,
          4,
          5,
          6,
          7,
          8,
          9,
          10,
          11,
          12,
          13,
          14,
          15,
          16,
          17,
          18,
          19,
          20,
          21,
          22,
          23,
          24,
          25,
          26,
          27,
          28,
          29,
          30,
          31,
          32,
          33,
          34,
          35,
          36,
          37,
          38,
          39,
          40,
          41,
          42,
          43,
          44,
          45,
          46,
          47,
          48,
          49,
          50,
          51,
          52,
          53,
          54,
          55,
          56,
          57,
          58,
          59,
          60,
          61,
          62,
          63,
          64,
          65,
          66,
          67,
          68,
          69,
          70,
          71,
          72,
          73,
          74,
          75,
          76,
          77,
          78,
          79,
          80,
          81,
          82,
          83,
          84,
          85,
          86,
          87,
          88,
          89,
          90,
          91,
          92,
          93,
          94,
          95,
          96,
          97,
          98,
          99,
          100,
          101,
          102,
          103,
          104,
          105,
          106,
          107,
          108,
          109,
          110,
          111,
          112,
          113,
          114,
          115,
          116,
          117,
          118,
          119,
          120,
          121,
          122,
          123,
          124,
          125,
          126,
          127,
          128,
          129,
          130,
          131,
          132,
          133,
          134,
          135,
          136,
          137,
          138,
          139,
          140,
          141,
          142,
          143,
          144,
          145,
          146,
          147,
          148,
          149,
          150,
          151,
          152,
          153,
          154,
          155,
          156,
          157,
          158,
          159,
          160,
          161,
          162,
          163,
          164,
          165,
          166,
          167,
          168,
          169,
          170,
          171,
          172,
          173,
          174,
          175,
          176,
          177,
          178,
          179,
          180,
          181,
          182,
          183,
          184,
          185,
          186,
          187,
          188,
          189,
          190,
          191,
          192,
          193,
          194,
          195,
          196,
          197,
          198,
          199
         ],
         "y": [
          0.5755912162162162,
          0.5794275192500837,
          0.5794275192500837,
          0.5835773209644446,
          0.5835773209644446,
          0.5835773209644446,
          0.5835773209644446,
          0.5835773209644446,
          0.5835773209644446,
          0.5835773209644446,
          0.5835773209644446,
          0.5835773209644446,
          0.5835773209644446,
          0.5835773209644446,
          0.5835773209644446,
          0.5835773209644446,
          0.5835773209644446,
          0.5835773209644446,
          0.5835773209644446,
          0.5835773209644446,
          0.5835773209644446,
          0.5835773209644446,
          0.5835773209644446,
          0.5835773209644446,
          0.5915004686130063,
          0.5915004686130063,
          0.5915004686130063,
          0.5915004686130063,
          0.5915004686130063,
          0.5915004686130063,
          0.5915004686130063,
          0.5915004686130063,
          0.5915004686130063,
          0.5915004686130063,
          0.5915004686130063,
          0.5915004686130063,
          0.5915004686130063,
          0.5915004686130063,
          0.5915004686130063,
          0.5915004686130063,
          0.5915004686130063,
          0.5915004686130063,
          0.5915004686130063,
          0.5915004686130063,
          0.5915004686130063,
          0.5915004686130063,
          0.5915004686130063,
          0.5915004686130063,
          0.5915004686130063,
          0.5915004686130063,
          0.5915004686130063,
          0.5915004686130063,
          0.5915004686130063,
          0.5915004686130063,
          0.5915004686130063,
          0.5915004686130063,
          0.5915004686130063,
          0.5915004686130063,
          0.5915004686130063,
          0.5915004686130063,
          0.5915004686130063,
          0.5915004686130063,
          0.5915004686130063,
          0.5915004686130063,
          0.5915004686130063,
          0.5915004686130063,
          0.5915004686130063,
          0.5915004686130063,
          0.5915004686130063,
          0.5915004686130063,
          0.5915004686130063,
          0.5915004686130063,
          0.5915004686130063,
          0.5915004686130063,
          0.5915004686130063,
          0.5915004686130063,
          0.5915004686130063,
          0.5915004686130063,
          0.5915004686130063,
          0.5915004686130063,
          0.5915004686130063,
          0.5915004686130063,
          0.5915004686130063,
          0.5915004686130063,
          0.5915004686130063,
          0.5915004686130063,
          0.5915004686130063,
          0.5915004686130063,
          0.5915004686130063,
          0.5915004686130063,
          0.5915004686130063,
          0.5915004686130063,
          0.5915004686130063,
          0.5915004686130063,
          0.5915004686130063,
          0.5915004686130063,
          0.5915004686130063,
          0.5915004686130063,
          0.5915004686130063,
          0.5915004686130063,
          0.5915004686130063,
          0.5915004686130063,
          0.5915004686130063,
          0.5915004686130063,
          0.5915004686130063,
          0.5915004686130063,
          0.5915004686130063,
          0.5915004686130063,
          0.5915004686130063,
          0.5915004686130063,
          0.5915004686130063,
          0.5915004686130063,
          0.5915004686130063,
          0.5915004686130063,
          0.5915004686130063,
          0.5915004686130063,
          0.5915004686130063,
          0.5915004686130063,
          0.5915004686130063,
          0.5915004686130063,
          0.5915004686130063,
          0.5915004686130063,
          0.5915004686130063,
          0.5915004686130063,
          0.5915004686130063,
          0.5915004686130063,
          0.5915004686130063,
          0.5915004686130063,
          0.5915004686130063,
          0.5915004686130063,
          0.5915004686130063,
          0.5915004686130063,
          0.5915004686130063,
          0.5915004686130063,
          0.5915004686130063,
          0.5915004686130063,
          0.5915004686130063,
          0.5915004686130063,
          0.5915004686130063,
          0.5915004686130063,
          0.5915004686130063,
          0.5915004686130063,
          0.5915004686130063,
          0.5915004686130063,
          0.5915004686130063,
          0.5915004686130063,
          0.5915004686130063,
          0.5915004686130063,
          0.5915004686130063,
          0.5915004686130063,
          0.5915004686130063,
          0.5915004686130063,
          0.5915004686130063,
          0.5915004686130063,
          0.5915004686130063,
          0.5915004686130063,
          0.5915004686130063,
          0.5915004686130063,
          0.5915004686130063,
          0.5915004686130063,
          0.5915004686130063,
          0.5915004686130063,
          0.5915004686130063,
          0.5915004686130063,
          0.5915004686130063,
          0.5915004686130063,
          0.5915004686130063,
          0.5915004686130063,
          0.5915004686130063,
          0.5915004686130063,
          0.5915004686130063,
          0.5915004686130063,
          0.5915004686130063,
          0.5915004686130063,
          0.5915004686130063,
          0.5915004686130063,
          0.5915004686130063,
          0.5915004686130063,
          0.5915004686130063,
          0.5915004686130063,
          0.5915004686130063,
          0.5915004686130063,
          0.5915004686130063,
          0.5915004686130063,
          0.5915004686130063,
          0.5915004686130063,
          0.5915004686130063,
          0.5915004686130063,
          0.5915004686130063,
          0.5915004686130063,
          0.5915004686130063,
          0.5915004686130063,
          0.5915004686130063,
          0.5915004686130063,
          0.5915004686130063,
          0.5915004686130063,
          0.5915004686130063,
          0.5915004686130063,
          0.5915004686130063,
          0.5915004686130063
         ]
        },
        {
         "marker": {
          "color": "#cccccc"
         },
         "mode": "markers",
         "name": "Infeasible Trial",
         "showlegend": false,
         "type": "scatter",
         "x": [],
         "y": []
        }
       ],
       "layout": {
        "template": {
         "data": {
          "bar": [
           {
            "error_x": {
             "color": "#2a3f5f"
            },
            "error_y": {
             "color": "#2a3f5f"
            },
            "marker": {
             "line": {
              "color": "#E5ECF6",
              "width": 0.5
             },
             "pattern": {
              "fillmode": "overlay",
              "size": 10,
              "solidity": 0.2
             }
            },
            "type": "bar"
           }
          ],
          "barpolar": [
           {
            "marker": {
             "line": {
              "color": "#E5ECF6",
              "width": 0.5
             },
             "pattern": {
              "fillmode": "overlay",
              "size": 10,
              "solidity": 0.2
             }
            },
            "type": "barpolar"
           }
          ],
          "carpet": [
           {
            "aaxis": {
             "endlinecolor": "#2a3f5f",
             "gridcolor": "white",
             "linecolor": "white",
             "minorgridcolor": "white",
             "startlinecolor": "#2a3f5f"
            },
            "baxis": {
             "endlinecolor": "#2a3f5f",
             "gridcolor": "white",
             "linecolor": "white",
             "minorgridcolor": "white",
             "startlinecolor": "#2a3f5f"
            },
            "type": "carpet"
           }
          ],
          "choropleth": [
           {
            "colorbar": {
             "outlinewidth": 0,
             "ticks": ""
            },
            "type": "choropleth"
           }
          ],
          "contour": [
           {
            "colorbar": {
             "outlinewidth": 0,
             "ticks": ""
            },
            "colorscale": [
             [
              0,
              "#0d0887"
             ],
             [
              0.1111111111111111,
              "#46039f"
             ],
             [
              0.2222222222222222,
              "#7201a8"
             ],
             [
              0.3333333333333333,
              "#9c179e"
             ],
             [
              0.4444444444444444,
              "#bd3786"
             ],
             [
              0.5555555555555556,
              "#d8576b"
             ],
             [
              0.6666666666666666,
              "#ed7953"
             ],
             [
              0.7777777777777778,
              "#fb9f3a"
             ],
             [
              0.8888888888888888,
              "#fdca26"
             ],
             [
              1,
              "#f0f921"
             ]
            ],
            "type": "contour"
           }
          ],
          "contourcarpet": [
           {
            "colorbar": {
             "outlinewidth": 0,
             "ticks": ""
            },
            "type": "contourcarpet"
           }
          ],
          "heatmap": [
           {
            "colorbar": {
             "outlinewidth": 0,
             "ticks": ""
            },
            "colorscale": [
             [
              0,
              "#0d0887"
             ],
             [
              0.1111111111111111,
              "#46039f"
             ],
             [
              0.2222222222222222,
              "#7201a8"
             ],
             [
              0.3333333333333333,
              "#9c179e"
             ],
             [
              0.4444444444444444,
              "#bd3786"
             ],
             [
              0.5555555555555556,
              "#d8576b"
             ],
             [
              0.6666666666666666,
              "#ed7953"
             ],
             [
              0.7777777777777778,
              "#fb9f3a"
             ],
             [
              0.8888888888888888,
              "#fdca26"
             ],
             [
              1,
              "#f0f921"
             ]
            ],
            "type": "heatmap"
           }
          ],
          "heatmapgl": [
           {
            "colorbar": {
             "outlinewidth": 0,
             "ticks": ""
            },
            "colorscale": [
             [
              0,
              "#0d0887"
             ],
             [
              0.1111111111111111,
              "#46039f"
             ],
             [
              0.2222222222222222,
              "#7201a8"
             ],
             [
              0.3333333333333333,
              "#9c179e"
             ],
             [
              0.4444444444444444,
              "#bd3786"
             ],
             [
              0.5555555555555556,
              "#d8576b"
             ],
             [
              0.6666666666666666,
              "#ed7953"
             ],
             [
              0.7777777777777778,
              "#fb9f3a"
             ],
             [
              0.8888888888888888,
              "#fdca26"
             ],
             [
              1,
              "#f0f921"
             ]
            ],
            "type": "heatmapgl"
           }
          ],
          "histogram": [
           {
            "marker": {
             "pattern": {
              "fillmode": "overlay",
              "size": 10,
              "solidity": 0.2
             }
            },
            "type": "histogram"
           }
          ],
          "histogram2d": [
           {
            "colorbar": {
             "outlinewidth": 0,
             "ticks": ""
            },
            "colorscale": [
             [
              0,
              "#0d0887"
             ],
             [
              0.1111111111111111,
              "#46039f"
             ],
             [
              0.2222222222222222,
              "#7201a8"
             ],
             [
              0.3333333333333333,
              "#9c179e"
             ],
             [
              0.4444444444444444,
              "#bd3786"
             ],
             [
              0.5555555555555556,
              "#d8576b"
             ],
             [
              0.6666666666666666,
              "#ed7953"
             ],
             [
              0.7777777777777778,
              "#fb9f3a"
             ],
             [
              0.8888888888888888,
              "#fdca26"
             ],
             [
              1,
              "#f0f921"
             ]
            ],
            "type": "histogram2d"
           }
          ],
          "histogram2dcontour": [
           {
            "colorbar": {
             "outlinewidth": 0,
             "ticks": ""
            },
            "colorscale": [
             [
              0,
              "#0d0887"
             ],
             [
              0.1111111111111111,
              "#46039f"
             ],
             [
              0.2222222222222222,
              "#7201a8"
             ],
             [
              0.3333333333333333,
              "#9c179e"
             ],
             [
              0.4444444444444444,
              "#bd3786"
             ],
             [
              0.5555555555555556,
              "#d8576b"
             ],
             [
              0.6666666666666666,
              "#ed7953"
             ],
             [
              0.7777777777777778,
              "#fb9f3a"
             ],
             [
              0.8888888888888888,
              "#fdca26"
             ],
             [
              1,
              "#f0f921"
             ]
            ],
            "type": "histogram2dcontour"
           }
          ],
          "mesh3d": [
           {
            "colorbar": {
             "outlinewidth": 0,
             "ticks": ""
            },
            "type": "mesh3d"
           }
          ],
          "parcoords": [
           {
            "line": {
             "colorbar": {
              "outlinewidth": 0,
              "ticks": ""
             }
            },
            "type": "parcoords"
           }
          ],
          "pie": [
           {
            "automargin": true,
            "type": "pie"
           }
          ],
          "scatter": [
           {
            "fillpattern": {
             "fillmode": "overlay",
             "size": 10,
             "solidity": 0.2
            },
            "type": "scatter"
           }
          ],
          "scatter3d": [
           {
            "line": {
             "colorbar": {
              "outlinewidth": 0,
              "ticks": ""
             }
            },
            "marker": {
             "colorbar": {
              "outlinewidth": 0,
              "ticks": ""
             }
            },
            "type": "scatter3d"
           }
          ],
          "scattercarpet": [
           {
            "marker": {
             "colorbar": {
              "outlinewidth": 0,
              "ticks": ""
             }
            },
            "type": "scattercarpet"
           }
          ],
          "scattergeo": [
           {
            "marker": {
             "colorbar": {
              "outlinewidth": 0,
              "ticks": ""
             }
            },
            "type": "scattergeo"
           }
          ],
          "scattergl": [
           {
            "marker": {
             "colorbar": {
              "outlinewidth": 0,
              "ticks": ""
             }
            },
            "type": "scattergl"
           }
          ],
          "scattermapbox": [
           {
            "marker": {
             "colorbar": {
              "outlinewidth": 0,
              "ticks": ""
             }
            },
            "type": "scattermapbox"
           }
          ],
          "scatterpolar": [
           {
            "marker": {
             "colorbar": {
              "outlinewidth": 0,
              "ticks": ""
             }
            },
            "type": "scatterpolar"
           }
          ],
          "scatterpolargl": [
           {
            "marker": {
             "colorbar": {
              "outlinewidth": 0,
              "ticks": ""
             }
            },
            "type": "scatterpolargl"
           }
          ],
          "scatterternary": [
           {
            "marker": {
             "colorbar": {
              "outlinewidth": 0,
              "ticks": ""
             }
            },
            "type": "scatterternary"
           }
          ],
          "surface": [
           {
            "colorbar": {
             "outlinewidth": 0,
             "ticks": ""
            },
            "colorscale": [
             [
              0,
              "#0d0887"
             ],
             [
              0.1111111111111111,
              "#46039f"
             ],
             [
              0.2222222222222222,
              "#7201a8"
             ],
             [
              0.3333333333333333,
              "#9c179e"
             ],
             [
              0.4444444444444444,
              "#bd3786"
             ],
             [
              0.5555555555555556,
              "#d8576b"
             ],
             [
              0.6666666666666666,
              "#ed7953"
             ],
             [
              0.7777777777777778,
              "#fb9f3a"
             ],
             [
              0.8888888888888888,
              "#fdca26"
             ],
             [
              1,
              "#f0f921"
             ]
            ],
            "type": "surface"
           }
          ],
          "table": [
           {
            "cells": {
             "fill": {
              "color": "#EBF0F8"
             },
             "line": {
              "color": "white"
             }
            },
            "header": {
             "fill": {
              "color": "#C8D4E3"
             },
             "line": {
              "color": "white"
             }
            },
            "type": "table"
           }
          ]
         },
         "layout": {
          "annotationdefaults": {
           "arrowcolor": "#2a3f5f",
           "arrowhead": 0,
           "arrowwidth": 1
          },
          "autotypenumbers": "strict",
          "coloraxis": {
           "colorbar": {
            "outlinewidth": 0,
            "ticks": ""
           }
          },
          "colorscale": {
           "diverging": [
            [
             0,
             "#8e0152"
            ],
            [
             0.1,
             "#c51b7d"
            ],
            [
             0.2,
             "#de77ae"
            ],
            [
             0.3,
             "#f1b6da"
            ],
            [
             0.4,
             "#fde0ef"
            ],
            [
             0.5,
             "#f7f7f7"
            ],
            [
             0.6,
             "#e6f5d0"
            ],
            [
             0.7,
             "#b8e186"
            ],
            [
             0.8,
             "#7fbc41"
            ],
            [
             0.9,
             "#4d9221"
            ],
            [
             1,
             "#276419"
            ]
           ],
           "sequential": [
            [
             0,
             "#0d0887"
            ],
            [
             0.1111111111111111,
             "#46039f"
            ],
            [
             0.2222222222222222,
             "#7201a8"
            ],
            [
             0.3333333333333333,
             "#9c179e"
            ],
            [
             0.4444444444444444,
             "#bd3786"
            ],
            [
             0.5555555555555556,
             "#d8576b"
            ],
            [
             0.6666666666666666,
             "#ed7953"
            ],
            [
             0.7777777777777778,
             "#fb9f3a"
            ],
            [
             0.8888888888888888,
             "#fdca26"
            ],
            [
             1,
             "#f0f921"
            ]
           ],
           "sequentialminus": [
            [
             0,
             "#0d0887"
            ],
            [
             0.1111111111111111,
             "#46039f"
            ],
            [
             0.2222222222222222,
             "#7201a8"
            ],
            [
             0.3333333333333333,
             "#9c179e"
            ],
            [
             0.4444444444444444,
             "#bd3786"
            ],
            [
             0.5555555555555556,
             "#d8576b"
            ],
            [
             0.6666666666666666,
             "#ed7953"
            ],
            [
             0.7777777777777778,
             "#fb9f3a"
            ],
            [
             0.8888888888888888,
             "#fdca26"
            ],
            [
             1,
             "#f0f921"
            ]
           ]
          },
          "colorway": [
           "#636efa",
           "#EF553B",
           "#00cc96",
           "#ab63fa",
           "#FFA15A",
           "#19d3f3",
           "#FF6692",
           "#B6E880",
           "#FF97FF",
           "#FECB52"
          ],
          "font": {
           "color": "#2a3f5f"
          },
          "geo": {
           "bgcolor": "white",
           "lakecolor": "white",
           "landcolor": "#E5ECF6",
           "showlakes": true,
           "showland": true,
           "subunitcolor": "white"
          },
          "hoverlabel": {
           "align": "left"
          },
          "hovermode": "closest",
          "mapbox": {
           "style": "light"
          },
          "paper_bgcolor": "white",
          "plot_bgcolor": "#E5ECF6",
          "polar": {
           "angularaxis": {
            "gridcolor": "white",
            "linecolor": "white",
            "ticks": ""
           },
           "bgcolor": "#E5ECF6",
           "radialaxis": {
            "gridcolor": "white",
            "linecolor": "white",
            "ticks": ""
           }
          },
          "scene": {
           "xaxis": {
            "backgroundcolor": "#E5ECF6",
            "gridcolor": "white",
            "gridwidth": 2,
            "linecolor": "white",
            "showbackground": true,
            "ticks": "",
            "zerolinecolor": "white"
           },
           "yaxis": {
            "backgroundcolor": "#E5ECF6",
            "gridcolor": "white",
            "gridwidth": 2,
            "linecolor": "white",
            "showbackground": true,
            "ticks": "",
            "zerolinecolor": "white"
           },
           "zaxis": {
            "backgroundcolor": "#E5ECF6",
            "gridcolor": "white",
            "gridwidth": 2,
            "linecolor": "white",
            "showbackground": true,
            "ticks": "",
            "zerolinecolor": "white"
           }
          },
          "shapedefaults": {
           "line": {
            "color": "#2a3f5f"
           }
          },
          "ternary": {
           "aaxis": {
            "gridcolor": "white",
            "linecolor": "white",
            "ticks": ""
           },
           "baxis": {
            "gridcolor": "white",
            "linecolor": "white",
            "ticks": ""
           },
           "bgcolor": "#E5ECF6",
           "caxis": {
            "gridcolor": "white",
            "linecolor": "white",
            "ticks": ""
           }
          },
          "title": {
           "x": 0.05
          },
          "xaxis": {
           "automargin": true,
           "gridcolor": "white",
           "linecolor": "white",
           "ticks": "",
           "title": {
            "standoff": 15
           },
           "zerolinecolor": "white",
           "zerolinewidth": 2
          },
          "yaxis": {
           "automargin": true,
           "gridcolor": "white",
           "linecolor": "white",
           "ticks": "",
           "title": {
            "standoff": 15
           },
           "zerolinecolor": "white",
           "zerolinewidth": 2
          }
         }
        },
        "title": {
         "text": "Optimization History Plot"
        },
        "xaxis": {
         "title": {
          "text": "Trial"
         }
        },
        "yaxis": {
         "title": {
          "text": "Objective Value"
         }
        }
       }
      }
     },
     "metadata": {},
     "output_type": "display_data"
    }
   ],
   "source": [
    "optuna.visualization.plot_optimization_history(study)"
   ]
  }
 ],
 "metadata": {
  "kernelspec": {
   "display_name": ".venv",
   "language": "python",
   "name": "python3"
  },
  "language_info": {
   "codemirror_mode": {
    "name": "ipython",
    "version": 3
   },
   "file_extension": ".py",
   "mimetype": "text/x-python",
   "name": "python",
   "nbconvert_exporter": "python",
   "pygments_lexer": "ipython3",
   "version": "3.11.8"
  }
 },
 "nbformat": 4,
 "nbformat_minor": 2
}
