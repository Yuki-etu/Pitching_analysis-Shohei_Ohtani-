{
 "cells": [
  {
   "cell_type": "markdown",
   "metadata": {},
   "source": [
    "### <font color=\"orange\">ライブラリ読み込み</font>"
   ]
  },
  {
   "cell_type": "code",
   "execution_count": 1,
   "metadata": {},
   "outputs": [],
   "source": [
    "import numpy as np\n",
    "import pandas as pd\n",
    "import matplotlib.pyplot as plt"
   ]
  },
  {
   "cell_type": "code",
   "execution_count": 2,
   "metadata": {},
   "outputs": [],
   "source": [
    "pd.set_option('display.max_rows', 50)\n",
    "pd.set_option('display.max_columns', 50)"
   ]
  },
  {
   "cell_type": "code",
   "execution_count": 3,
   "metadata": {},
   "outputs": [],
   "source": [
    "# データフレームを水平に表示する。\n",
    "def show_many_dfs(*dfs, n=10):\n",
    "    class HorizontalDisplay:\n",
    "        def _repr_html_(self):\n",
    "            template = '<div style=\"float: left; padding: 5px;\">{}</div>'\n",
    "            return  ''.join(template.format(df.head(n)._repr_html_()) for df in dfs)\n",
    "    return HorizontalDisplay()"
   ]
  },
  {
   "cell_type": "markdown",
   "metadata": {},
   "source": [
    "### <font color=\"orange\">データ読み込み</font>"
   ]
  },
  {
   "cell_type": "code",
   "execution_count": 4,
   "metadata": {},
   "outputs": [],
   "source": [
    "data_path = \"./make_data_for_mainmodel/maked_data.csv\""
   ]
  },
  {
   "cell_type": "code",
   "execution_count": 5,
   "metadata": {},
   "outputs": [
    {
     "data": {
      "text/html": [
       "<div>\n",
       "<style scoped>\n",
       "    .dataframe tbody tr th:only-of-type {\n",
       "        vertical-align: middle;\n",
       "    }\n",
       "\n",
       "    .dataframe tbody tr th {\n",
       "        vertical-align: top;\n",
       "    }\n",
       "\n",
       "    .dataframe thead th {\n",
       "        text-align: right;\n",
       "    }\n",
       "</style>\n",
       "<table border=\"1\" class=\"dataframe\">\n",
       "  <thead>\n",
       "    <tr style=\"text-align: right;\">\n",
       "      <th></th>\n",
       "      <th>pitch_name</th>\n",
       "      <th>game_year</th>\n",
       "      <th>game_month</th>\n",
       "      <th>game_day</th>\n",
       "      <th>home_team</th>\n",
       "      <th>LAA_score</th>\n",
       "      <th>ENEMY_score</th>\n",
       "      <th>score_difference</th>\n",
       "      <th>is_LAA_score_is_higher</th>\n",
       "      <th>stand</th>\n",
       "      <th>on_3b</th>\n",
       "      <th>on_2b</th>\n",
       "      <th>on_1b</th>\n",
       "      <th>count_runner</th>\n",
       "      <th>inning</th>\n",
       "      <th>pitch_number</th>\n",
       "      <th>pitch_count_per_inning</th>\n",
       "      <th>pitch_count_per_game</th>\n",
       "      <th>outs_when_up</th>\n",
       "      <th>balls</th>\n",
       "      <th>strikes</th>\n",
       "      <th>sz_top</th>\n",
       "      <th>sz_bot</th>\n",
       "      <th>is_first_pitch_number</th>\n",
       "      <th>release_speed</th>\n",
       "      <th>release_pos_x</th>\n",
       "      <th>release_pos_y</th>\n",
       "      <th>is_incourse_ball</th>\n",
       "      <th>is_high_ball</th>\n",
       "      <th>release_pos_z</th>\n",
       "      <th>release_spin_rate</th>\n",
       "      <th>release_extension</th>\n",
       "      <th>plate_x</th>\n",
       "      <th>plate_z</th>\n",
       "      <th>events</th>\n",
       "      <th>description</th>\n",
       "      <th>zone</th>\n",
       "      <th>type</th>\n",
       "      <th>hc_x</th>\n",
       "      <th>hc_y</th>\n",
       "      <th>one_pitch_ago</th>\n",
       "      <th>two_pitches_ago</th>\n",
       "      <th>three_pitches_ago</th>\n",
       "    </tr>\n",
       "  </thead>\n",
       "  <tbody>\n",
       "    <tr>\n",
       "      <th>0</th>\n",
       "      <td>1</td>\n",
       "      <td>2018</td>\n",
       "      <td>4</td>\n",
       "      <td>1</td>\n",
       "      <td>1</td>\n",
       "      <td>0</td>\n",
       "      <td>0</td>\n",
       "      <td>0</td>\n",
       "      <td>0</td>\n",
       "      <td>0</td>\n",
       "      <td>0</td>\n",
       "      <td>0</td>\n",
       "      <td>0</td>\n",
       "      <td>0</td>\n",
       "      <td>1</td>\n",
       "      <td>1</td>\n",
       "      <td>1</td>\n",
       "      <td>1</td>\n",
       "      <td>0</td>\n",
       "      <td>0</td>\n",
       "      <td>0</td>\n",
       "      <td>3.54</td>\n",
       "      <td>1.60</td>\n",
       "      <td>1</td>\n",
       "      <td>NaN</td>\n",
       "      <td>NaN</td>\n",
       "      <td>NaN</td>\n",
       "      <td>NaN</td>\n",
       "      <td>NaN</td>\n",
       "      <td>NaN</td>\n",
       "      <td>NaN</td>\n",
       "      <td>NaN</td>\n",
       "      <td>NaN</td>\n",
       "      <td>NaN</td>\n",
       "      <td>NaN</td>\n",
       "      <td>NaN</td>\n",
       "      <td>NaN</td>\n",
       "      <td>NaN</td>\n",
       "      <td>NaN</td>\n",
       "      <td>NaN</td>\n",
       "      <td>NaN</td>\n",
       "      <td>NaN</td>\n",
       "      <td>NaN</td>\n",
       "    </tr>\n",
       "    <tr>\n",
       "      <th>1</th>\n",
       "      <td>0</td>\n",
       "      <td>2018</td>\n",
       "      <td>4</td>\n",
       "      <td>1</td>\n",
       "      <td>1</td>\n",
       "      <td>0</td>\n",
       "      <td>0</td>\n",
       "      <td>0</td>\n",
       "      <td>0</td>\n",
       "      <td>0</td>\n",
       "      <td>0</td>\n",
       "      <td>0</td>\n",
       "      <td>0</td>\n",
       "      <td>0</td>\n",
       "      <td>1</td>\n",
       "      <td>2</td>\n",
       "      <td>2</td>\n",
       "      <td>2</td>\n",
       "      <td>0</td>\n",
       "      <td>0</td>\n",
       "      <td>1</td>\n",
       "      <td>3.33</td>\n",
       "      <td>1.46</td>\n",
       "      <td>0</td>\n",
       "      <td>96.4</td>\n",
       "      <td>-2.16</td>\n",
       "      <td>54.05</td>\n",
       "      <td>1.0</td>\n",
       "      <td>0.0</td>\n",
       "      <td>6.20</td>\n",
       "      <td>2107.0</td>\n",
       "      <td>6.4</td>\n",
       "      <td>-0.36</td>\n",
       "      <td>2.81</td>\n",
       "      <td>19.0</td>\n",
       "      <td>2.0</td>\n",
       "      <td>4.0</td>\n",
       "      <td>0.0</td>\n",
       "      <td>0.0</td>\n",
       "      <td>0.0</td>\n",
       "      <td>4-Seam Fastball</td>\n",
       "      <td>NaN</td>\n",
       "      <td>NaN</td>\n",
       "    </tr>\n",
       "    <tr>\n",
       "      <th>2</th>\n",
       "      <td>0</td>\n",
       "      <td>2018</td>\n",
       "      <td>4</td>\n",
       "      <td>1</td>\n",
       "      <td>1</td>\n",
       "      <td>0</td>\n",
       "      <td>0</td>\n",
       "      <td>0</td>\n",
       "      <td>0</td>\n",
       "      <td>0</td>\n",
       "      <td>0</td>\n",
       "      <td>0</td>\n",
       "      <td>0</td>\n",
       "      <td>0</td>\n",
       "      <td>1</td>\n",
       "      <td>3</td>\n",
       "      <td>3</td>\n",
       "      <td>3</td>\n",
       "      <td>0</td>\n",
       "      <td>0</td>\n",
       "      <td>2</td>\n",
       "      <td>3.59</td>\n",
       "      <td>1.66</td>\n",
       "      <td>0</td>\n",
       "      <td>81.5</td>\n",
       "      <td>-2.36</td>\n",
       "      <td>54.42</td>\n",
       "      <td>0.0</td>\n",
       "      <td>1.0</td>\n",
       "      <td>6.03</td>\n",
       "      <td>2355.0</td>\n",
       "      <td>6.1</td>\n",
       "      <td>0.21</td>\n",
       "      <td>3.43</td>\n",
       "      <td>19.0</td>\n",
       "      <td>9.0</td>\n",
       "      <td>2.0</td>\n",
       "      <td>0.0</td>\n",
       "      <td>0.0</td>\n",
       "      <td>0.0</td>\n",
       "      <td>Sweeper</td>\n",
       "      <td>4-Seam Fastball</td>\n",
       "      <td>NaN</td>\n",
       "    </tr>\n",
       "    <tr>\n",
       "      <th>3</th>\n",
       "      <td>0</td>\n",
       "      <td>2018</td>\n",
       "      <td>4</td>\n",
       "      <td>1</td>\n",
       "      <td>1</td>\n",
       "      <td>0</td>\n",
       "      <td>0</td>\n",
       "      <td>0</td>\n",
       "      <td>0</td>\n",
       "      <td>0</td>\n",
       "      <td>0</td>\n",
       "      <td>0</td>\n",
       "      <td>0</td>\n",
       "      <td>0</td>\n",
       "      <td>1</td>\n",
       "      <td>4</td>\n",
       "      <td>4</td>\n",
       "      <td>4</td>\n",
       "      <td>0</td>\n",
       "      <td>1</td>\n",
       "      <td>2</td>\n",
       "      <td>3.33</td>\n",
       "      <td>1.46</td>\n",
       "      <td>0</td>\n",
       "      <td>83.6</td>\n",
       "      <td>-2.36</td>\n",
       "      <td>54.43</td>\n",
       "      <td>0.0</td>\n",
       "      <td>1.0</td>\n",
       "      <td>6.01</td>\n",
       "      <td>2368.0</td>\n",
       "      <td>6.1</td>\n",
       "      <td>0.24</td>\n",
       "      <td>3.67</td>\n",
       "      <td>19.0</td>\n",
       "      <td>0.0</td>\n",
       "      <td>2.0</td>\n",
       "      <td>1.0</td>\n",
       "      <td>0.0</td>\n",
       "      <td>0.0</td>\n",
       "      <td>Sweeper</td>\n",
       "      <td>Sweeper</td>\n",
       "      <td>4-Seam Fastball</td>\n",
       "    </tr>\n",
       "    <tr>\n",
       "      <th>4</th>\n",
       "      <td>1</td>\n",
       "      <td>2018</td>\n",
       "      <td>4</td>\n",
       "      <td>1</td>\n",
       "      <td>1</td>\n",
       "      <td>0</td>\n",
       "      <td>0</td>\n",
       "      <td>0</td>\n",
       "      <td>0</td>\n",
       "      <td>1</td>\n",
       "      <td>0</td>\n",
       "      <td>0</td>\n",
       "      <td>0</td>\n",
       "      <td>0</td>\n",
       "      <td>1</td>\n",
       "      <td>1</td>\n",
       "      <td>5</td>\n",
       "      <td>5</td>\n",
       "      <td>1</td>\n",
       "      <td>0</td>\n",
       "      <td>0</td>\n",
       "      <td>3.22</td>\n",
       "      <td>1.40</td>\n",
       "      <td>1</td>\n",
       "      <td>NaN</td>\n",
       "      <td>NaN</td>\n",
       "      <td>NaN</td>\n",
       "      <td>NaN</td>\n",
       "      <td>NaN</td>\n",
       "      <td>NaN</td>\n",
       "      <td>NaN</td>\n",
       "      <td>NaN</td>\n",
       "      <td>NaN</td>\n",
       "      <td>NaN</td>\n",
       "      <td>NaN</td>\n",
       "      <td>NaN</td>\n",
       "      <td>NaN</td>\n",
       "      <td>NaN</td>\n",
       "      <td>NaN</td>\n",
       "      <td>NaN</td>\n",
       "      <td>NaN</td>\n",
       "      <td>NaN</td>\n",
       "      <td>NaN</td>\n",
       "    </tr>\n",
       "  </tbody>\n",
       "</table>\n",
       "</div>"
      ],
      "text/plain": [
       "   pitch_name  game_year  game_month  game_day  home_team  LAA_score  \\\n",
       "0           1       2018           4         1          1          0   \n",
       "1           0       2018           4         1          1          0   \n",
       "2           0       2018           4         1          1          0   \n",
       "3           0       2018           4         1          1          0   \n",
       "4           1       2018           4         1          1          0   \n",
       "\n",
       "   ENEMY_score  score_difference  is_LAA_score_is_higher  stand  on_3b  on_2b  \\\n",
       "0            0                 0                       0      0      0      0   \n",
       "1            0                 0                       0      0      0      0   \n",
       "2            0                 0                       0      0      0      0   \n",
       "3            0                 0                       0      0      0      0   \n",
       "4            0                 0                       0      1      0      0   \n",
       "\n",
       "   on_1b  count_runner  inning  pitch_number  pitch_count_per_inning  \\\n",
       "0      0             0       1             1                       1   \n",
       "1      0             0       1             2                       2   \n",
       "2      0             0       1             3                       3   \n",
       "3      0             0       1             4                       4   \n",
       "4      0             0       1             1                       5   \n",
       "\n",
       "   pitch_count_per_game  outs_when_up  balls  strikes  sz_top  sz_bot  \\\n",
       "0                     1             0      0        0    3.54    1.60   \n",
       "1                     2             0      0        1    3.33    1.46   \n",
       "2                     3             0      0        2    3.59    1.66   \n",
       "3                     4             0      1        2    3.33    1.46   \n",
       "4                     5             1      0        0    3.22    1.40   \n",
       "\n",
       "   is_first_pitch_number  release_speed  release_pos_x  release_pos_y  \\\n",
       "0                      1            NaN            NaN            NaN   \n",
       "1                      0           96.4          -2.16          54.05   \n",
       "2                      0           81.5          -2.36          54.42   \n",
       "3                      0           83.6          -2.36          54.43   \n",
       "4                      1            NaN            NaN            NaN   \n",
       "\n",
       "   is_incourse_ball  is_high_ball  release_pos_z  release_spin_rate  \\\n",
       "0               NaN           NaN            NaN                NaN   \n",
       "1               1.0           0.0           6.20             2107.0   \n",
       "2               0.0           1.0           6.03             2355.0   \n",
       "3               0.0           1.0           6.01             2368.0   \n",
       "4               NaN           NaN            NaN                NaN   \n",
       "\n",
       "   release_extension  plate_x  plate_z  events  description  zone  type  hc_x  \\\n",
       "0                NaN      NaN      NaN     NaN          NaN   NaN   NaN   NaN   \n",
       "1                6.4    -0.36     2.81    19.0          2.0   4.0   0.0   0.0   \n",
       "2                6.1     0.21     3.43    19.0          9.0   2.0   0.0   0.0   \n",
       "3                6.1     0.24     3.67    19.0          0.0   2.0   1.0   0.0   \n",
       "4                NaN      NaN      NaN     NaN          NaN   NaN   NaN   NaN   \n",
       "\n",
       "   hc_y    one_pitch_ago  two_pitches_ago three_pitches_ago  \n",
       "0   NaN              NaN              NaN               NaN  \n",
       "1   0.0  4-Seam Fastball              NaN               NaN  \n",
       "2   0.0          Sweeper  4-Seam Fastball               NaN  \n",
       "3   0.0          Sweeper          Sweeper   4-Seam Fastball  \n",
       "4   NaN              NaN              NaN               NaN  "
      ]
     },
     "execution_count": 5,
     "metadata": {},
     "output_type": "execute_result"
    }
   ],
   "source": [
    "data = pd.read_csv(data_path)\n",
    "data.head()"
   ]
  },
  {
   "cell_type": "code",
   "execution_count": 6,
   "metadata": {},
   "outputs": [
    {
     "name": "stdout",
     "output_type": "stream",
     "text": [
      "2022年 : (2629, 43)\n"
     ]
    }
   ],
   "source": [
    "print(f\"2022年 : {data[data['game_year'].isin([2022])].shape}\")"
   ]
  },
  {
   "cell_type": "markdown",
   "metadata": {},
   "source": [
    "### <font color=\"orange\">データタイプ確認</font>"
   ]
  },
  {
   "cell_type": "code",
   "execution_count": 7,
   "metadata": {},
   "outputs": [
    {
     "data": {
      "text/plain": [
       "['one_pitch_ago', 'two_pitches_ago', 'three_pitches_ago']"
      ]
     },
     "execution_count": 7,
     "metadata": {},
     "output_type": "execute_result"
    }
   ],
   "source": [
    "# int, float以外のカラムがあるか確認\n",
    "data.select_dtypes(exclude=[\"int\", \"float\"]).columns.to_list()"
   ]
  },
  {
   "cell_type": "markdown",
   "metadata": {},
   "source": [
    "### <font color=\"orange\">train_data, test_dataに分割</font>"
   ]
  },
  {
   "cell_type": "code",
   "execution_count": 8,
   "metadata": {},
   "outputs": [
    {
     "data": {
      "text/plain": [
       "((1621, 39), (406, 39))"
      ]
     },
     "execution_count": 8,
     "metadata": {},
     "output_type": "execute_result"
    }
   ],
   "source": [
    "def make_train_test_data(select_game_year):\n",
    "    \n",
    "    data = pd.read_csv(data_path)\n",
    "    \n",
    "    categolical_list = [\n",
    "        \"outs_when_up\",\n",
    "        \"balls\",\n",
    "        \"strikes\",\n",
    "        \"events\",\n",
    "        \"description\",\n",
    "        \"zone\",\n",
    "        \"type\",\n",
    "        \"one_pitch_ago\",\n",
    "        \"two_pitches_ago\",\n",
    "        \"three_pitches_ago\",\n",
    "    ]\n",
    "    \n",
    "    data[categolical_list] = data[categolical_list].astype(\"category\")\n",
    "    \n",
    "    # 対象年度の抽出\n",
    "    data = data[data[\"game_year\"].isin(select_game_year)]\n",
    "    del data[\"game_year\"]\n",
    "    del data[\"game_month\"]\n",
    "    del data[\"game_day\"]\n",
    "    \n",
    "    X = data.drop(\"pitch_name\", axis=1)\n",
    "    y = data[\"pitch_name\"]\n",
    "    \n",
    "    # データを前半80%（train_data）と後半20%（test_data）に分割\n",
    "    split_index = int(len(data) * 0.8)\n",
    "    X_train = X.iloc[: split_index]\n",
    "    y_train = y.iloc[: split_index]\n",
    "    X_test = X.iloc[split_index : ]\n",
    "    y_test = y.iloc[split_index : ]\n",
    "\n",
    "    \n",
    "    if y_train.nunique() != y_test.nunique():\n",
    "        raise ValueError(\"train_dataとtest_dataの要素が一致していません。\")\n",
    "    \n",
    "    \n",
    "    return X_train, y_train, X_test, y_test\n",
    "\n",
    "X_train, y_train, X_test, y_test = make_train_test_data(select_game_year=[2021])\n",
    "\n",
    "# 確認\n",
    "X_train.shape, X_test.shape"
   ]
  },
  {
   "cell_type": "code",
   "execution_count": 9,
   "metadata": {},
   "outputs": [
    {
     "data": {
      "text/plain": [
       "Index(['outs_when_up', 'balls', 'strikes', 'events', 'description', 'zone',\n",
       "       'type', 'one_pitch_ago', 'two_pitches_ago', 'three_pitches_ago'],\n",
       "      dtype='object')"
      ]
     },
     "execution_count": 9,
     "metadata": {},
     "output_type": "execute_result"
    }
   ],
   "source": [
    "# カテゴリー変数の確認\n",
    "X_train.select_dtypes(include=\"category\").columns"
   ]
  },
  {
   "cell_type": "markdown",
   "metadata": {},
   "source": [
    "### <font color=\"orange\">モデル学習、予測</font>"
   ]
  },
  {
   "cell_type": "code",
   "execution_count": 10,
   "metadata": {},
   "outputs": [],
   "source": [
    "# カスタムメトリック定義\n",
    "from sklearn.metrics import f1_score, accuracy_score, log_loss\n",
    "\n",
    "def custom_f1(y_pred, dataset):\n",
    "    y_true = dataset.get_label()\n",
    "    score = f1_score(y_true=y_true, y_pred=np.round(y_pred), average=\"macro\")\n",
    "    return \"f1\", score, True\n",
    "\n",
    "def custom_accuracy(y_pred, dataset):\n",
    "    y_true = dataset.get_label()\n",
    "    auc_score = accuracy_score(y_true=y_true, y_pred=np.round(y_pred))\n",
    "    return \"acu\", auc_score, True\n",
    "\n",
    "def custom_multi_logloss(y_pred, dataset):\n",
    "    y_true = dataset.get_label()\n",
    "    multi_logloss = log_loss(y_true=y_true, y_pred=y_pred)\n",
    "    return \"multi_logloss\", multi_logloss, False"
   ]
  },
  {
   "cell_type": "code",
   "execution_count": 11,
   "metadata": {},
   "outputs": [],
   "source": [
    "import lightgbm as lgb\n",
    "\n",
    "num_boost_round = 500\n",
    "\n",
    "# data作成\n",
    "select_game_year = [2022]\n",
    "X_train, y_train, X_test, y_test = make_train_test_data(select_game_year=select_game_year)\n",
    "\n",
    "# train_dataをtrain_data（前半80%）とvalid_data（後半20%）に分割\n",
    "split_index = int(len(X_train) * 0.8)\n",
    "X_valid = X_train.iloc[split_index : ].copy()\n",
    "y_valid = y_train.iloc[split_index : ].copy()\n",
    "X_train = X_train.iloc[ : split_index].copy()\n",
    "y_train = y_train.iloc[ : split_index].copy()\n",
    "\n",
    "def objective(trial):\n",
    "    \n",
    "    params = {\n",
    "        \"boosting\" : \"gbdt\",\n",
    "        \"objective\" : \"binary\",\n",
    "        \"metric\" : \"None\",\n",
    "        \"seed\" : 42,\n",
    "        \"verbose\" : -1,\n",
    "        \"num_threads\" : 2,\n",
    "        \n",
    "        \"learning_rate\" : trial.suggest_float(\"learning_rate\", 0.01, 0.02),\n",
    "        \"is_unbalance\" : True,\n",
    "        \"extra_trees\" : True\n",
    "    }\n",
    "\n",
    "    lgb_train = lgb.Dataset(X_train, y_train)\n",
    "    lgb_eval = lgb.Dataset(X_valid, y_valid, reference=lgb_train)\n",
    "\n",
    "    # 誤差プロットの格納用データ\n",
    "    evals_result = {}\n",
    "\n",
    "    model = lgb.train(params=params,\n",
    "                      train_set=lgb_train,\n",
    "                      num_boost_round=num_boost_round,\n",
    "                      valid_sets=[lgb_train, lgb_eval],\n",
    "                      valid_names=[\"train\", \"valid\"],\n",
    "                      feval= [custom_f1, custom_accuracy, custom_multi_logloss],\n",
    "                      callbacks=[lgb.record_evaluation(evals_result)]\n",
    "                      )\n",
    "\n",
    "    # 予測\n",
    "    best_iteration = np.array(evals_result[\"valid\"][\"f1\"]).argmax() + 1\n",
    "    # y_valid_pred_proba = model.predict(X_valid, num_iteration=best_iteration)\n",
    "    y_valid_pred_proba = model.predict(X_valid, num_iteration=model.best_iteration)\n",
    "    y_valid_pred = np.round(y_valid_pred_proba)\n",
    "    f1 = f1_score(y_pred=y_valid_pred, y_true=y_valid, average=\"macro\")\n",
    "    \n",
    "    return f1\n"
   ]
  },
  {
   "cell_type": "code",
   "execution_count": 12,
   "metadata": {},
   "outputs": [
    {
     "name": "stderr",
     "output_type": "stream",
     "text": [
      "[I 2024-05-09 11:38:42,925] A new study created in memory with name: no-name-76100877-3d1e-4a91-af4d-47d10f3b6646\n",
      "[I 2024-05-09 11:38:45,645] Trial 0 finished with value: 0.5405685600480166 and parameters: {'learning_rate': 0.013745401188473625}. Best is trial 0 with value: 0.5405685600480166.\n",
      "[I 2024-05-09 11:38:48,194] Trial 1 finished with value: 0.5632570058465068 and parameters: {'learning_rate': 0.01950714306409916}. Best is trial 1 with value: 0.5632570058465068.\n",
      "[I 2024-05-09 11:38:50,864] Trial 2 finished with value: 0.542344374935904 and parameters: {'learning_rate': 0.01731993941811405}. Best is trial 1 with value: 0.5632570058465068.\n",
      "[I 2024-05-09 11:38:53,326] Trial 3 finished with value: 0.563766025315427 and parameters: {'learning_rate': 0.015986584841970367}. Best is trial 3 with value: 0.563766025315427.\n",
      "[I 2024-05-09 11:38:55,862] Trial 4 finished with value: 0.5476859504132231 and parameters: {'learning_rate': 0.011560186404424366}. Best is trial 3 with value: 0.563766025315427.\n",
      "[I 2024-05-09 11:38:58,457] Trial 5 finished with value: 0.5601013880181474 and parameters: {'learning_rate': 0.011559945203362027}. Best is trial 3 with value: 0.563766025315427.\n",
      "[I 2024-05-09 11:39:00,938] Trial 6 finished with value: 0.5714536102628404 and parameters: {'learning_rate': 0.010580836121681994}. Best is trial 6 with value: 0.5714536102628404.\n",
      "[I 2024-05-09 11:39:04,108] Trial 7 finished with value: 0.5669113027388654 and parameters: {'learning_rate': 0.01866176145774935}. Best is trial 6 with value: 0.5714536102628404.\n",
      "[I 2024-05-09 11:39:07,305] Trial 8 finished with value: 0.5541707396546106 and parameters: {'learning_rate': 0.016011150117432087}. Best is trial 6 with value: 0.5714536102628404.\n",
      "[I 2024-05-09 11:39:10,398] Trial 9 finished with value: 0.5505540540540541 and parameters: {'learning_rate': 0.017080725777960454}. Best is trial 6 with value: 0.5714536102628404.\n",
      "[I 2024-05-09 11:39:12,998] Trial 10 finished with value: 0.5505540540540541 and parameters: {'learning_rate': 0.010205302096870318}. Best is trial 6 with value: 0.5714536102628404.\n",
      "[I 2024-05-09 11:39:15,761] Trial 11 finished with value: 0.579 and parameters: {'learning_rate': 0.01401799833535625}. Best is trial 11 with value: 0.579.\n",
      "[I 2024-05-09 11:39:18,228] Trial 12 finished with value: 0.5409564057240768 and parameters: {'learning_rate': 0.013767518717637664}. Best is trial 11 with value: 0.579.\n",
      "[I 2024-05-09 11:39:20,684] Trial 13 finished with value: 0.563766025315427 and parameters: {'learning_rate': 0.013468508914066219}. Best is trial 11 with value: 0.579.\n",
      "[I 2024-05-09 11:39:23,165] Trial 14 finished with value: 0.5714536102628404 and parameters: {'learning_rate': 0.010119534776081726}. Best is trial 11 with value: 0.579.\n",
      "[I 2024-05-09 11:39:25,599] Trial 15 finished with value: 0.5564465799204118 and parameters: {'learning_rate': 0.012339085391962119}. Best is trial 11 with value: 0.579.\n",
      "[I 2024-05-09 11:39:28,043] Trial 16 finished with value: 0.5619324324324324 and parameters: {'learning_rate': 0.014762116087025627}. Best is trial 11 with value: 0.579.\n",
      "[I 2024-05-09 11:39:30,487] Trial 17 finished with value: 0.5598864994026285 and parameters: {'learning_rate': 0.012068123230605084}. Best is trial 11 with value: 0.579.\n",
      "[I 2024-05-09 11:39:32,937] Trial 18 finished with value: 0.5672048906190033 and parameters: {'learning_rate': 0.014946443014220542}. Best is trial 11 with value: 0.579.\n",
      "[I 2024-05-09 11:39:35,382] Trial 19 finished with value: 0.5650826446280992 and parameters: {'learning_rate': 0.012791452486723701}. Best is trial 11 with value: 0.579.\n",
      "[I 2024-05-09 11:39:37,982] Trial 20 finished with value: 0.5544252768958009 and parameters: {'learning_rate': 0.010587050731194298}. Best is trial 11 with value: 0.579.\n",
      "[I 2024-05-09 11:39:40,429] Trial 21 finished with value: 0.5564465799204118 and parameters: {'learning_rate': 0.010071575212493574}. Best is trial 11 with value: 0.579.\n",
      "[I 2024-05-09 11:39:42,873] Trial 22 finished with value: 0.5469464622006994 and parameters: {'learning_rate': 0.011069934591117065}. Best is trial 11 with value: 0.579.\n",
      "[I 2024-05-09 11:39:45,305] Trial 23 finished with value: 0.5620969419596422 and parameters: {'learning_rate': 0.01105130487034612}. Best is trial 11 with value: 0.579.\n",
      "[I 2024-05-09 11:39:47,751] Trial 24 finished with value: 0.5484549799065928 and parameters: {'learning_rate': 0.012816807675765643}. Best is trial 11 with value: 0.579.\n",
      "[I 2024-05-09 11:39:50,197] Trial 25 finished with value: 0.5809254775356469 and parameters: {'learning_rate': 0.011504054508939618}. Best is trial 25 with value: 0.5809254775356469.\n",
      "[I 2024-05-09 11:39:52,645] Trial 26 finished with value: 0.555982716973429 and parameters: {'learning_rate': 0.014198850522523059}. Best is trial 25 with value: 0.5809254775356469.\n",
      "[I 2024-05-09 11:39:55,192] Trial 27 finished with value: 0.5602603246022819 and parameters: {'learning_rate': 0.01210390066709848}. Best is trial 25 with value: 0.5809254775356469.\n",
      "[I 2024-05-09 11:39:57,658] Trial 28 finished with value: 0.5622066979522184 and parameters: {'learning_rate': 0.013011322956016397}. Best is trial 25 with value: 0.5809254775356469.\n",
      "[I 2024-05-09 11:40:00,191] Trial 29 finished with value: 0.5692830250450156 and parameters: {'learning_rate': 0.01568244785919348}. Best is trial 25 with value: 0.5809254775356469.\n",
      "[I 2024-05-09 11:40:02,666] Trial 30 finished with value: 0.5453684940273038 and parameters: {'learning_rate': 0.01097360156450895}. Best is trial 25 with value: 0.5809254775356469.\n",
      "[I 2024-05-09 11:40:05,105] Trial 31 finished with value: 0.5750259180444154 and parameters: {'learning_rate': 0.010047048566288444}. Best is trial 25 with value: 0.5809254775356469.\n",
      "[I 2024-05-09 11:40:07,546] Trial 32 finished with value: 0.5620969419596422 and parameters: {'learning_rate': 0.0114638059627656}. Best is trial 25 with value: 0.5809254775356469.\n",
      "[I 2024-05-09 11:40:10,030] Trial 33 finished with value: 0.550981228668942 and parameters: {'learning_rate': 0.010702116898821053}. Best is trial 25 with value: 0.5809254775356469.\n",
      "[I 2024-05-09 11:40:12,635] Trial 34 finished with value: 0.5640511741323446 and parameters: {'learning_rate': 0.011940264037203888}. Best is trial 25 with value: 0.5809254775356469.\n",
      "[I 2024-05-09 11:40:15,119] Trial 35 finished with value: 0.5603644949948452 and parameters: {'learning_rate': 0.010669479592766758}. Best is trial 25 with value: 0.5809254775356469.\n",
      "[I 2024-05-09 11:40:17,568] Trial 36 finished with value: 0.5564465799204118 and parameters: {'learning_rate': 0.011551339771596187}. Best is trial 25 with value: 0.5809254775356469.\n",
      "[I 2024-05-09 11:40:20,023] Trial 37 finished with value: 0.5705780719831803 and parameters: {'learning_rate': 0.019960165317474354}. Best is trial 25 with value: 0.5809254775356469.\n",
      "[I 2024-05-09 11:40:22,470] Trial 38 finished with value: 0.5574723304272553 and parameters: {'learning_rate': 0.018469961233886657}. Best is trial 25 with value: 0.5809254775356469.\n",
      "[I 2024-05-09 11:40:24,928] Trial 39 finished with value: 0.5819908262012642 and parameters: {'learning_rate': 0.016672456104786352}. Best is trial 39 with value: 0.5819908262012642.\n",
      "[I 2024-05-09 11:40:27,438] Trial 40 finished with value: 0.5425356654632129 and parameters: {'learning_rate': 0.016898726707902576}. Best is trial 39 with value: 0.5819908262012642.\n",
      "[I 2024-05-09 11:40:30,046] Trial 41 finished with value: 0.5614342891605899 and parameters: {'learning_rate': 0.01626571773057863}. Best is trial 39 with value: 0.5819908262012642.\n",
      "[I 2024-05-09 11:40:32,512] Trial 42 finished with value: 0.5530506463498408 and parameters: {'learning_rate': 0.01810068563128883}. Best is trial 39 with value: 0.5819908262012642.\n",
      "[I 2024-05-09 11:40:34,969] Trial 43 finished with value: 0.5466588106219143 and parameters: {'learning_rate': 0.015344061140433863}. Best is trial 39 with value: 0.5819908262012642.\n",
      "[I 2024-05-09 11:40:37,414] Trial 44 finished with value: 0.5650826446280992 and parameters: {'learning_rate': 0.01400955969682044}. Best is trial 39 with value: 0.5819908262012642.\n",
      "[I 2024-05-09 11:40:39,858] Trial 45 finished with value: 0.5635401320456158 and parameters: {'learning_rate': 0.016458478070232808}. Best is trial 39 with value: 0.5819908262012642.\n",
      "[I 2024-05-09 11:40:42,302] Trial 46 finished with value: 0.5534848484848485 and parameters: {'learning_rate': 0.017648092849370852}. Best is trial 39 with value: 0.5819908262012642.\n",
      "[I 2024-05-09 11:40:44,798] Trial 47 finished with value: 0.5614342891605899 and parameters: {'learning_rate': 0.013287943079894417}. Best is trial 39 with value: 0.5819908262012642.\n",
      "[I 2024-05-09 11:40:47,314] Trial 48 finished with value: 0.5635401320456158 and parameters: {'learning_rate': 0.014431482097447922}. Best is trial 39 with value: 0.5819908262012642.\n",
      "[I 2024-05-09 11:40:49,778] Trial 49 finished with value: 0.5526096314231908 and parameters: {'learning_rate': 0.01000961357643676}. Best is trial 39 with value: 0.5819908262012642.\n",
      "[I 2024-05-09 11:40:52,345] Trial 50 finished with value: 0.5546226364561573 and parameters: {'learning_rate': 0.011336242042615229}. Best is trial 39 with value: 0.5819908262012642.\n",
      "[I 2024-05-09 11:40:54,819] Trial 51 finished with value: 0.5437219138250067 and parameters: {'learning_rate': 0.010361970398419768}. Best is trial 39 with value: 0.5819908262012642.\n",
      "[I 2024-05-09 11:40:57,287] Trial 52 finished with value: 0.5674412275031471 and parameters: {'learning_rate': 0.01243650267626023}. Best is trial 39 with value: 0.5819908262012642.\n",
      "[I 2024-05-09 11:40:59,878] Trial 53 finished with value: 0.5619324324324324 and parameters: {'learning_rate': 0.010328356356170222}. Best is trial 39 with value: 0.5819908262012642.\n",
      "[I 2024-05-09 11:41:02,414] Trial 54 finished with value: 0.5659649472879045 and parameters: {'learning_rate': 0.010721077907963117}. Best is trial 39 with value: 0.5819908262012642.\n",
      "[I 2024-05-09 11:41:04,894] Trial 55 finished with value: 0.5620969419596422 and parameters: {'learning_rate': 0.011908196757309013}. Best is trial 39 with value: 0.5819908262012642.\n",
      "[I 2024-05-09 11:41:07,362] Trial 56 finished with value: 0.5603644949948452 and parameters: {'learning_rate': 0.011269901093959403}. Best is trial 39 with value: 0.5819908262012642.\n",
      "[I 2024-05-09 11:41:09,878] Trial 57 finished with value: 0.5448648648648649 and parameters: {'learning_rate': 0.010012974533410803}. Best is trial 39 with value: 0.5819908262012642.\n",
      "[I 2024-05-09 11:41:12,359] Trial 58 finished with value: 0.550981228668942 and parameters: {'learning_rate': 0.010915395042658992}. Best is trial 39 with value: 0.5819908262012642.\n",
      "[I 2024-05-09 11:41:14,855] Trial 59 finished with value: 0.5564465799204118 and parameters: {'learning_rate': 0.01050429909931338}. Best is trial 39 with value: 0.5819908262012642.\n",
      "[I 2024-05-09 11:41:17,355] Trial 60 finished with value: 0.5677473039988726 and parameters: {'learning_rate': 0.01244597418335952}. Best is trial 39 with value: 0.5819908262012642.\n",
      "[I 2024-05-09 11:41:19,842] Trial 61 finished with value: 0.5588931215609539 and parameters: {'learning_rate': 0.019794255917727443}. Best is trial 39 with value: 0.5819908262012642.\n",
      "[I 2024-05-09 11:41:22,339] Trial 62 finished with value: 0.5647355967720671 and parameters: {'learning_rate': 0.018961510754248453}. Best is trial 39 with value: 0.5819908262012642.\n",
      "[I 2024-05-09 11:41:25,044] Trial 63 finished with value: 0.5657774991404938 and parameters: {'learning_rate': 0.01524405044943287}. Best is trial 39 with value: 0.5819908262012642.\n",
      "[I 2024-05-09 11:41:27,537] Trial 64 finished with value: 0.5538577239941203 and parameters: {'learning_rate': 0.01899453506711269}. Best is trial 39 with value: 0.5819908262012642.\n",
      "[I 2024-05-09 11:41:30,038] Trial 65 finished with value: 0.5711277475814446 and parameters: {'learning_rate': 0.017303622545821507}. Best is trial 39 with value: 0.5819908262012642.\n",
      "[I 2024-05-09 11:41:32,560] Trial 66 finished with value: 0.5552847605305128 and parameters: {'learning_rate': 0.017248982685005593}. Best is trial 39 with value: 0.5819908262012642.\n",
      "[I 2024-05-09 11:41:35,055] Trial 67 finished with value: 0.5436582183221601 and parameters: {'learning_rate': 0.01780608462739529}. Best is trial 39 with value: 0.5819908262012642.\n",
      "[I 2024-05-09 11:41:37,576] Trial 68 finished with value: 0.5534848484848485 and parameters: {'learning_rate': 0.016781531362284993}. Best is trial 39 with value: 0.5819908262012642.\n",
      "[I 2024-05-09 11:41:40,133] Trial 69 finished with value: 0.5489849483100326 and parameters: {'learning_rate': 0.011817492194202164}. Best is trial 39 with value: 0.5819908262012642.\n",
      "[I 2024-05-09 11:41:42,640] Trial 70 finished with value: 0.5584260279921168 and parameters: {'learning_rate': 0.010334911302548138}. Best is trial 39 with value: 0.5819908262012642.\n",
      "[I 2024-05-09 11:41:45,148] Trial 71 finished with value: 0.5598864994026285 and parameters: {'learning_rate': 0.01563592083327225}. Best is trial 39 with value: 0.5819908262012642.\n",
      "[I 2024-05-09 11:41:47,649] Trial 72 finished with value: 0.5507689088816822 and parameters: {'learning_rate': 0.018420265916915472}. Best is trial 39 with value: 0.5819908262012642.\n",
      "[I 2024-05-09 11:41:50,153] Trial 73 finished with value: 0.5658980127484065 and parameters: {'learning_rate': 0.01350528159470603}. Best is trial 39 with value: 0.5819908262012642.\n",
      "[I 2024-05-09 11:41:52,677] Trial 74 finished with value: 0.5614342891605899 and parameters: {'learning_rate': 0.019017293363550233}. Best is trial 39 with value: 0.5819908262012642.\n",
      "[I 2024-05-09 11:41:55,191] Trial 75 finished with value: 0.5683858144157339 and parameters: {'learning_rate': 0.01931816820147001}. Best is trial 39 with value: 0.5819908262012642.\n",
      "[I 2024-05-09 11:41:57,705] Trial 76 finished with value: 0.5770337786466819 and parameters: {'learning_rate': 0.01459446374110834}. Best is trial 39 with value: 0.5819908262012642.\n",
      "[I 2024-05-09 11:42:00,289] Trial 77 finished with value: 0.5614342891605899 and parameters: {'learning_rate': 0.014862207046532544}. Best is trial 39 with value: 0.5819908262012642.\n",
      "[I 2024-05-09 11:42:02,859] Trial 78 finished with value: 0.5601013880181474 and parameters: {'learning_rate': 0.014426925925523628}. Best is trial 39 with value: 0.5819908262012642.\n",
      "[I 2024-05-09 11:42:05,387] Trial 79 finished with value: 0.5516876550080038 and parameters: {'learning_rate': 0.015876011287565422}. Best is trial 39 with value: 0.5819908262012642.\n",
      "[I 2024-05-09 11:42:07,917] Trial 80 finished with value: 0.5494714894263365 and parameters: {'learning_rate': 0.016605478635717416}. Best is trial 39 with value: 0.5819908262012642.\n",
      "[I 2024-05-09 11:42:10,459] Trial 81 finished with value: 0.5534848484848485 and parameters: {'learning_rate': 0.013955564554763102}. Best is trial 39 with value: 0.5819908262012642.\n",
      "[I 2024-05-09 11:42:12,981] Trial 82 finished with value: 0.5619324324324324 and parameters: {'learning_rate': 0.015172127782391853}. Best is trial 39 with value: 0.5819908262012642.\n",
      "[I 2024-05-09 11:42:15,511] Trial 83 finished with value: 0.5635401320456158 and parameters: {'learning_rate': 0.014541849464263531}. Best is trial 39 with value: 0.5819908262012642.\n",
      "[I 2024-05-09 11:42:18,078] Trial 84 finished with value: 0.5734153658681961 and parameters: {'learning_rate': 0.010811098867541585}. Best is trial 39 with value: 0.5819908262012642.\n",
      "[I 2024-05-09 11:42:20,661] Trial 85 finished with value: 0.5491635904087266 and parameters: {'learning_rate': 0.010893447131851527}. Best is trial 39 with value: 0.5819908262012642.\n",
      "[I 2024-05-09 11:42:23,195] Trial 86 finished with value: 0.5695991390906645 and parameters: {'learning_rate': 0.011181040698509857}. Best is trial 39 with value: 0.5819908262012642.\n",
      "[I 2024-05-09 11:42:25,794] Trial 87 finished with value: 0.573397666038103 and parameters: {'learning_rate': 0.011704612785321129}. Best is trial 39 with value: 0.5819908262012642.\n",
      "[I 2024-05-09 11:42:28,316] Trial 88 finished with value: 0.573170482768006 and parameters: {'learning_rate': 0.011535298336712864}. Best is trial 39 with value: 0.5819908262012642.\n",
      "[I 2024-05-09 11:42:30,858] Trial 89 finished with value: 0.558272800645682 and parameters: {'learning_rate': 0.011603690164832871}. Best is trial 39 with value: 0.5819908262012642.\n",
      "[I 2024-05-09 11:42:33,416] Trial 90 finished with value: 0.552800881851889 and parameters: {'learning_rate': 0.01227666831670625}. Best is trial 39 with value: 0.5819908262012642.\n",
      "[I 2024-05-09 11:42:35,948] Trial 91 finished with value: 0.552936179250292 and parameters: {'learning_rate': 0.010529613923668147}. Best is trial 39 with value: 0.5819908262012642.\n",
      "[I 2024-05-09 11:42:38,483] Trial 92 finished with value: 0.5640511741323446 and parameters: {'learning_rate': 0.0106968785856375}. Best is trial 39 with value: 0.5819908262012642.\n",
      "[I 2024-05-09 11:42:41,075] Trial 93 finished with value: 0.5601013880181474 and parameters: {'learning_rate': 0.010253133637761452}. Best is trial 39 with value: 0.5819908262012642.\n",
      "[I 2024-05-09 11:42:43,662] Trial 94 finished with value: 0.5580636204175894 and parameters: {'learning_rate': 0.011762671183111863}. Best is trial 39 with value: 0.5819908262012642.\n",
      "[I 2024-05-09 11:42:46,203] Trial 95 finished with value: 0.5676216216216217 and parameters: {'learning_rate': 0.011407820734906022}. Best is trial 39 with value: 0.5819908262012642.\n",
      "[I 2024-05-09 11:42:48,730] Trial 96 finished with value: 0.555982716973429 and parameters: {'learning_rate': 0.01283994079527849}. Best is trial 39 with value: 0.5819908262012642.\n",
      "[I 2024-05-09 11:42:51,293] Trial 97 finished with value: 0.5641218403993643 and parameters: {'learning_rate': 0.011064830183262021}. Best is trial 39 with value: 0.5819908262012642.\n",
      "[I 2024-05-09 11:42:53,840] Trial 98 finished with value: 0.5622066979522184 and parameters: {'learning_rate': 0.010835113564974585}. Best is trial 39 with value: 0.5819908262012642.\n",
      "[I 2024-05-09 11:42:56,398] Trial 99 finished with value: 0.5677473039988726 and parameters: {'learning_rate': 0.010458667086548403}. Best is trial 39 with value: 0.5819908262012642.\n",
      "[I 2024-05-09 11:42:58,960] Trial 100 finished with value: 0.5677473039988726 and parameters: {'learning_rate': 0.011624427019310808}. Best is trial 39 with value: 0.5819908262012642.\n",
      "[I 2024-05-09 11:43:01,552] Trial 101 finished with value: 0.544524206443711 and parameters: {'learning_rate': 0.017409242075219912}. Best is trial 39 with value: 0.5819908262012642.\n",
      "[I 2024-05-09 11:43:04,126] Trial 102 finished with value: 0.5526096314231908 and parameters: {'learning_rate': 0.010146944860927416}. Best is trial 39 with value: 0.5819908262012642.\n",
      "[I 2024-05-09 11:43:06,712] Trial 103 finished with value: 0.536171285972178 and parameters: {'learning_rate': 0.012185243058420215}. Best is trial 39 with value: 0.5819908262012642.\n",
      "[I 2024-05-09 11:43:09,422] Trial 104 finished with value: 0.5441224847853501 and parameters: {'learning_rate': 0.01623079250469421}. Best is trial 39 with value: 0.5819908262012642.\n",
      "[I 2024-05-09 11:43:12,007] Trial 105 finished with value: 0.552800881851889 and parameters: {'learning_rate': 0.011192630766473484}. Best is trial 39 with value: 0.5819908262012642.\n",
      "[I 2024-05-09 11:43:14,615] Trial 106 finished with value: 0.5472081711387276 and parameters: {'learning_rate': 0.017944552589740537}. Best is trial 39 with value: 0.5819908262012642.\n",
      "[I 2024-05-09 11:43:17,199] Trial 107 finished with value: 0.5808732400089396 and parameters: {'learning_rate': 0.012591409843288524}. Best is trial 39 with value: 0.5819908262012642.\n",
      "[I 2024-05-09 11:43:19,896] Trial 108 finished with value: 0.558272800645682 and parameters: {'learning_rate': 0.012007551896493053}. Best is trial 39 with value: 0.5819908262012642.\n",
      "[I 2024-05-09 11:43:22,454] Trial 109 finished with value: 0.5658980127484065 and parameters: {'learning_rate': 0.013362461974449211}. Best is trial 39 with value: 0.5819908262012642.\n",
      "[I 2024-05-09 11:43:25,333] Trial 110 finished with value: 0.563766025315427 and parameters: {'learning_rate': 0.011352986707874116}. Best is trial 39 with value: 0.5819908262012642.\n",
      "[I 2024-05-09 11:43:27,933] Trial 111 finished with value: 0.5584260279921168 and parameters: {'learning_rate': 0.013067352133676657}. Best is trial 39 with value: 0.5819908262012642.\n",
      "[I 2024-05-09 11:43:30,541] Trial 112 finished with value: 0.5541707396546106 and parameters: {'learning_rate': 0.01261555168642666}. Best is trial 39 with value: 0.5819908262012642.\n",
      "[I 2024-05-09 11:43:33,156] Trial 113 finished with value: 0.5650826446280992 and parameters: {'learning_rate': 0.01468541386340869}. Best is trial 39 with value: 0.5819908262012642.\n",
      "[I 2024-05-09 11:43:35,738] Trial 114 finished with value: 0.5526096314231908 and parameters: {'learning_rate': 0.014151020353500635}. Best is trial 39 with value: 0.5819908262012642.\n",
      "[I 2024-05-09 11:43:38,326] Trial 115 finished with value: 0.5603644949948452 and parameters: {'learning_rate': 0.010669307246782243}. Best is trial 39 with value: 0.5819908262012642.\n",
      "[I 2024-05-09 11:43:40,915] Trial 116 finished with value: 0.5601013880181474 and parameters: {'learning_rate': 0.010173584035057685}. Best is trial 39 with value: 0.5819908262012642.\n",
      "[I 2024-05-09 11:43:43,464] Trial 117 finished with value: 0.5585244770096633 and parameters: {'learning_rate': 0.013678911155730052}. Best is trial 39 with value: 0.5819908262012642.\n",
      "[I 2024-05-09 11:43:46,043] Trial 118 finished with value: 0.5507962178811814 and parameters: {'learning_rate': 0.011060802847686192}. Best is trial 39 with value: 0.5819908262012642.\n",
      "[I 2024-05-09 11:43:48,622] Trial 119 finished with value: 0.5674412275031471 and parameters: {'learning_rate': 0.017014843046008303}. Best is trial 39 with value: 0.5819908262012642.\n",
      "[I 2024-05-09 11:43:51,207] Trial 120 finished with value: 0.5622066979522184 and parameters: {'learning_rate': 0.010814199928305504}. Best is trial 39 with value: 0.5819908262012642.\n",
      "[I 2024-05-09 11:43:53,893] Trial 121 finished with value: 0.5588931215609539 and parameters: {'learning_rate': 0.01989461255532115}. Best is trial 39 with value: 0.5819908262012642.\n",
      "[I 2024-05-09 11:43:56,518] Trial 122 finished with value: 0.5677473039988726 and parameters: {'learning_rate': 0.01171552640138117}. Best is trial 39 with value: 0.5819908262012642.\n",
      "[I 2024-05-09 11:43:59,156] Trial 123 finished with value: 0.586511704043215 and parameters: {'learning_rate': 0.015467674362525642}. Best is trial 123 with value: 0.586511704043215.\n",
      "[I 2024-05-09 11:44:01,785] Trial 124 finished with value: 0.5632570058465068 and parameters: {'learning_rate': 0.017310506919814412}. Best is trial 123 with value: 0.586511704043215.\n",
      "[I 2024-05-09 11:44:04,404] Trial 125 finished with value: 0.5585244770096633 and parameters: {'learning_rate': 0.01054317079084758}. Best is trial 123 with value: 0.586511704043215.\n",
      "[I 2024-05-09 11:44:07,029] Trial 126 finished with value: 0.5494714894263365 and parameters: {'learning_rate': 0.017570417835512657}. Best is trial 123 with value: 0.586511704043215.\n",
      "[I 2024-05-09 11:44:09,575] Trial 127 finished with value: 0.5598864994026285 and parameters: {'learning_rate': 0.015688524743385036}. Best is trial 123 with value: 0.586511704043215.\n",
      "[I 2024-05-09 11:44:12,158] Trial 128 finished with value: 0.5641127747690348 and parameters: {'learning_rate': 0.010343249773255342}. Best is trial 123 with value: 0.586511704043215.\n",
      "[I 2024-05-09 11:44:14,759] Trial 129 finished with value: 0.5562432432432433 and parameters: {'learning_rate': 0.015394991570296866}. Best is trial 123 with value: 0.586511704043215.\n",
      "[I 2024-05-09 11:44:17,351] Trial 130 finished with value: 0.5635401320456158 and parameters: {'learning_rate': 0.01504325495570252}. Best is trial 123 with value: 0.586511704043215.\n",
      "[I 2024-05-09 11:44:19,922] Trial 131 finished with value: 0.5489871445266848 and parameters: {'learning_rate': 0.018290500885384267}. Best is trial 123 with value: 0.586511704043215.\n",
      "[I 2024-05-09 11:44:22,511] Trial 132 finished with value: 0.5824793388429752 and parameters: {'learning_rate': 0.016056794669480186}. Best is trial 123 with value: 0.586511704043215.\n",
      "[I 2024-05-09 11:44:25,104] Trial 133 finished with value: 0.5629152823920266 and parameters: {'learning_rate': 0.0164109166671631}. Best is trial 123 with value: 0.586511704043215.\n",
      "[I 2024-05-09 11:44:27,885] Trial 134 finished with value: 0.5656022591506462 and parameters: {'learning_rate': 0.015919526558949255}. Best is trial 123 with value: 0.586511704043215.\n",
      "[I 2024-05-09 11:44:30,484] Trial 135 finished with value: 0.5653710730523365 and parameters: {'learning_rate': 0.01677505322886623}. Best is trial 123 with value: 0.586511704043215.\n",
      "[I 2024-05-09 11:44:33,082] Trial 136 finished with value: 0.5469464622006994 and parameters: {'learning_rate': 0.015548917387686465}. Best is trial 123 with value: 0.586511704043215.\n",
      "[I 2024-05-09 11:44:35,732] Trial 137 finished with value: 0.5489849483100326 and parameters: {'learning_rate': 0.010003598172831293}. Best is trial 123 with value: 0.586511704043215.\n",
      "[I 2024-05-09 11:44:38,370] Trial 138 finished with value: 0.5476859504132231 and parameters: {'learning_rate': 0.01633640413453597}. Best is trial 123 with value: 0.586511704043215.\n",
      "[I 2024-05-09 11:44:40,971] Trial 139 finished with value: 0.5602603246022819 and parameters: {'learning_rate': 0.010927047017784406}. Best is trial 123 with value: 0.586511704043215.\n",
      "[I 2024-05-09 11:44:43,560] Trial 140 finished with value: 0.5764205471942936 and parameters: {'learning_rate': 0.016684885025621425}. Best is trial 123 with value: 0.586511704043215.\n",
      "[I 2024-05-09 11:44:46,186] Trial 141 finished with value: 0.5596143985232284 and parameters: {'learning_rate': 0.016646131194648597}. Best is trial 123 with value: 0.586511704043215.\n",
      "[I 2024-05-09 11:44:48,759] Trial 142 finished with value: 0.5659649472879045 and parameters: {'learning_rate': 0.01145839370380425}. Best is trial 123 with value: 0.586511704043215.\n",
      "[I 2024-05-09 11:44:51,359] Trial 143 finished with value: 0.5614342891605899 and parameters: {'learning_rate': 0.016061649531968585}. Best is trial 123 with value: 0.586511704043215.\n",
      "[I 2024-05-09 11:44:53,972] Trial 144 finished with value: 0.573170482768006 and parameters: {'learning_rate': 0.016866482688649032}. Best is trial 123 with value: 0.586511704043215.\n",
      "[I 2024-05-09 11:44:56,561] Trial 145 finished with value: 0.5610980316346891 and parameters: {'learning_rate': 0.01620873930930693}. Best is trial 123 with value: 0.586511704043215.\n",
      "[I 2024-05-09 11:44:59,253] Trial 146 finished with value: 0.5566412107263661 and parameters: {'learning_rate': 0.016597150140466005}. Best is trial 123 with value: 0.586511704043215.\n",
      "[I 2024-05-09 11:45:01,871] Trial 147 finished with value: 0.5454318936877076 and parameters: {'learning_rate': 0.016915906879862986}. Best is trial 123 with value: 0.586511704043215.\n",
      "[I 2024-05-09 11:45:04,490] Trial 148 finished with value: 0.57482635668501 and parameters: {'learning_rate': 0.016117497283048503}. Best is trial 123 with value: 0.586511704043215.\n",
      "[I 2024-05-09 11:45:07,240] Trial 149 finished with value: 0.5598864994026285 and parameters: {'learning_rate': 0.01573284166043304}. Best is trial 123 with value: 0.586511704043215.\n",
      "[I 2024-05-09 11:45:09,915] Trial 150 finished with value: 0.5520543460468161 and parameters: {'learning_rate': 0.01610282712513301}. Best is trial 123 with value: 0.586511704043215.\n",
      "[I 2024-05-09 11:45:12,518] Trial 151 finished with value: 0.5484549799065928 and parameters: {'learning_rate': 0.01653531315382268}. Best is trial 123 with value: 0.586511704043215.\n",
      "[I 2024-05-09 11:45:15,212] Trial 152 finished with value: 0.5580636204175894 and parameters: {'learning_rate': 0.0150421234270071}. Best is trial 123 with value: 0.586511704043215.\n",
      "[I 2024-05-09 11:45:17,850] Trial 153 finished with value: 0.5409564057240768 and parameters: {'learning_rate': 0.015817958196547702}. Best is trial 123 with value: 0.586511704043215.\n",
      "[I 2024-05-09 11:45:20,495] Trial 154 finished with value: 0.5556636877021767 and parameters: {'learning_rate': 0.01542891729718216}. Best is trial 123 with value: 0.586511704043215.\n",
      "[I 2024-05-09 11:45:23,097] Trial 155 finished with value: 0.5745708748615725 and parameters: {'learning_rate': 0.014322286904593452}. Best is trial 123 with value: 0.586511704043215.\n",
      "[I 2024-05-09 11:45:25,712] Trial 156 finished with value: 0.5534848484848485 and parameters: {'learning_rate': 0.017108943744599293}. Best is trial 123 with value: 0.586511704043215.\n",
      "[I 2024-05-09 11:45:28,308] Trial 157 finished with value: 0.5733108108108108 and parameters: {'learning_rate': 0.014300256919335366}. Best is trial 123 with value: 0.586511704043215.\n",
      "[I 2024-05-09 11:45:30,923] Trial 158 finished with value: 0.5505540540540541 and parameters: {'learning_rate': 0.01434161187369015}. Best is trial 123 with value: 0.586511704043215.\n",
      "[I 2024-05-09 11:45:33,678] Trial 159 finished with value: 0.5577972390462159 and parameters: {'learning_rate': 0.014711528823793407}. Best is trial 123 with value: 0.586511704043215.\n",
      "[I 2024-05-09 11:45:36,268] Trial 160 finished with value: 0.5635401320456158 and parameters: {'learning_rate': 0.01415977201896802}. Best is trial 123 with value: 0.586511704043215.\n",
      "[I 2024-05-09 11:45:38,873] Trial 161 finished with value: 0.5632570058465068 and parameters: {'learning_rate': 0.013609094533707617}. Best is trial 123 with value: 0.586511704043215.\n",
      "[I 2024-05-09 11:45:41,487] Trial 162 finished with value: 0.5733108108108108 and parameters: {'learning_rate': 0.014587256349538155}. Best is trial 123 with value: 0.586511704043215.\n",
      "[I 2024-05-09 11:45:44,106] Trial 163 finished with value: 0.563766025315427 and parameters: {'learning_rate': 0.014381249582863352}. Best is trial 123 with value: 0.586511704043215.\n",
      "[I 2024-05-09 11:45:46,680] Trial 164 finished with value: 0.5601013880181474 and parameters: {'learning_rate': 0.013929132665839276}. Best is trial 123 with value: 0.586511704043215.\n",
      "[I 2024-05-09 11:45:49,291] Trial 165 finished with value: 0.5713180188986641 and parameters: {'learning_rate': 0.014589612385321093}. Best is trial 123 with value: 0.586511704043215.\n",
      "[I 2024-05-09 11:45:51,885] Trial 166 finished with value: 0.5690416812657584 and parameters: {'learning_rate': 0.014876566398641634}. Best is trial 123 with value: 0.586511704043215.\n",
      "[I 2024-05-09 11:45:54,515] Trial 167 finished with value: 0.5596143985232284 and parameters: {'learning_rate': 0.013772490279684255}. Best is trial 123 with value: 0.586511704043215.\n",
      "[I 2024-05-09 11:45:57,106] Trial 168 finished with value: 0.558272800645682 and parameters: {'learning_rate': 0.015218965254080324}. Best is trial 123 with value: 0.586511704043215.\n",
      "[I 2024-05-09 11:45:59,743] Trial 169 finished with value: 0.5674412275031471 and parameters: {'learning_rate': 0.014023592278722482}. Best is trial 123 with value: 0.586511704043215.\n",
      "[I 2024-05-09 11:46:02,349] Trial 170 finished with value: 0.5768844221105528 and parameters: {'learning_rate': 0.014230491537955739}. Best is trial 123 with value: 0.586511704043215.\n",
      "[I 2024-05-09 11:46:04,948] Trial 171 finished with value: 0.5580636204175894 and parameters: {'learning_rate': 0.014375170094928637}. Best is trial 123 with value: 0.586511704043215.\n",
      "[I 2024-05-09 11:46:07,560] Trial 172 finished with value: 0.5619324324324324 and parameters: {'learning_rate': 0.014614454260571941}. Best is trial 123 with value: 0.586511704043215.\n",
      "[I 2024-05-09 11:46:10,134] Trial 173 finished with value: 0.5541707396546106 and parameters: {'learning_rate': 0.014220050145225765}. Best is trial 123 with value: 0.586511704043215.\n",
      "[I 2024-05-09 11:46:12,741] Trial 174 finished with value: 0.586511704043215 and parameters: {'learning_rate': 0.014756746520696026}. Best is trial 123 with value: 0.586511704043215.\n",
      "[I 2024-05-09 11:46:15,323] Trial 175 finished with value: 0.5752623083131558 and parameters: {'learning_rate': 0.015053944003318387}. Best is trial 123 with value: 0.586511704043215.\n",
      "[I 2024-05-09 11:46:17,923] Trial 176 finished with value: 0.5750259180444154 and parameters: {'learning_rate': 0.01483133813107059}. Best is trial 123 with value: 0.586511704043215.\n",
      "[I 2024-05-09 11:46:20,502] Trial 177 finished with value: 0.5656022591506462 and parameters: {'learning_rate': 0.015009173595703168}. Best is trial 123 with value: 0.586511704043215.\n",
      "[I 2024-05-09 11:46:23,114] Trial 178 finished with value: 0.5672048906190033 and parameters: {'learning_rate': 0.014996337325817176}. Best is trial 123 with value: 0.586511704043215.\n",
      "[I 2024-05-09 11:46:25,711] Trial 179 finished with value: 0.5733108108108108 and parameters: {'learning_rate': 0.014861751570109513}. Best is trial 123 with value: 0.586511704043215.\n",
      "[I 2024-05-09 11:46:28,307] Trial 180 finished with value: 0.5526096314231908 and parameters: {'learning_rate': 0.015216635775474432}. Best is trial 123 with value: 0.586511704043215.\n",
      "[I 2024-05-09 11:46:30,928] Trial 181 finished with value: 0.552800881851889 and parameters: {'learning_rate': 0.014780295579518482}. Best is trial 123 with value: 0.586511704043215.\n",
      "[I 2024-05-09 11:46:33,572] Trial 182 finished with value: 0.5598864994026285 and parameters: {'learning_rate': 0.013881088370370451}. Best is trial 123 with value: 0.586511704043215.\n",
      "[I 2024-05-09 11:46:36,217] Trial 183 finished with value: 0.5674412275031471 and parameters: {'learning_rate': 0.014552132891567385}. Best is trial 123 with value: 0.586511704043215.\n",
      "[I 2024-05-09 11:46:38,852] Trial 184 finished with value: 0.5674412275031471 and parameters: {'learning_rate': 0.015532114924849577}. Best is trial 123 with value: 0.586511704043215.\n",
      "[I 2024-05-09 11:46:41,460] Trial 185 finished with value: 0.5523612155197518 and parameters: {'learning_rate': 0.014179564233768562}. Best is trial 123 with value: 0.586511704043215.\n",
      "[I 2024-05-09 11:46:44,065] Trial 186 finished with value: 0.5580636204175894 and parameters: {'learning_rate': 0.01477331250909228}. Best is trial 123 with value: 0.586511704043215.\n",
      "[I 2024-05-09 11:46:46,685] Trial 187 finished with value: 0.5635401320456158 and parameters: {'learning_rate': 0.014542216849011831}. Best is trial 123 with value: 0.586511704043215.\n",
      "[I 2024-05-09 11:46:49,493] Trial 188 finished with value: 0.5656022591506462 and parameters: {'learning_rate': 0.01439148663082184}. Best is trial 123 with value: 0.586511704043215.\n",
      "[I 2024-05-09 11:46:52,079] Trial 189 finished with value: 0.5523612155197518 and parameters: {'learning_rate': 0.015140274658101287}. Best is trial 123 with value: 0.586511704043215.\n",
      "[I 2024-05-09 11:46:54,674] Trial 190 finished with value: 0.563766025315427 and parameters: {'learning_rate': 0.015986448579074754}. Best is trial 123 with value: 0.586511704043215.\n",
      "[I 2024-05-09 11:46:57,315] Trial 191 finished with value: 0.5713180188986641 and parameters: {'learning_rate': 0.014787077143666463}. Best is trial 123 with value: 0.586511704043215.\n",
      "[I 2024-05-09 11:46:59,965] Trial 192 finished with value: 0.5596143985232284 and parameters: {'learning_rate': 0.014901302499394632}. Best is trial 123 with value: 0.586511704043215.\n",
      "[I 2024-05-09 11:47:02,588] Trial 193 finished with value: 0.5635401320456158 and parameters: {'learning_rate': 0.015373087356003982}. Best is trial 123 with value: 0.586511704043215.\n",
      "[I 2024-05-09 11:47:05,215] Trial 194 finished with value: 0.5694684302132645 and parameters: {'learning_rate': 0.014567397497594567}. Best is trial 123 with value: 0.586511704043215.\n",
      "[I 2024-05-09 11:47:08,160] Trial 195 finished with value: 0.5632570058465068 and parameters: {'learning_rate': 0.014864402242388554}. Best is trial 123 with value: 0.586511704043215.\n",
      "[I 2024-05-09 11:47:10,812] Trial 196 finished with value: 0.5574723304272553 and parameters: {'learning_rate': 0.014214498949275279}. Best is trial 123 with value: 0.586511704043215.\n",
      "[I 2024-05-09 11:47:13,427] Trial 197 finished with value: 0.5714536102628404 and parameters: {'learning_rate': 0.014063406939482773}. Best is trial 123 with value: 0.586511704043215.\n",
      "[I 2024-05-09 11:47:16,044] Trial 198 finished with value: 0.5601013880181474 and parameters: {'learning_rate': 0.012610443578946208}. Best is trial 123 with value: 0.586511704043215.\n",
      "[I 2024-05-09 11:47:18,650] Trial 199 finished with value: 0.5727245738430417 and parameters: {'learning_rate': 0.016400299005229487}. Best is trial 123 with value: 0.586511704043215.\n"
     ]
    }
   ],
   "source": [
    "import optuna\n",
    "\n",
    "study = optuna.create_study(sampler=optuna.samplers.TPESampler(seed=42), direction=\"maximize\")\n",
    "study.optimize(objective, n_trials=200)"
   ]
  },
  {
   "cell_type": "code",
   "execution_count": 13,
   "metadata": {},
   "outputs": [
    {
     "data": {
      "text/plain": [
       "{'learning_rate': 0.015467674362525642}"
      ]
     },
     "execution_count": 13,
     "metadata": {},
     "output_type": "execute_result"
    }
   ],
   "source": [
    "trial = study.best_trial\n",
    "trial.params"
   ]
  },
  {
   "cell_type": "code",
   "execution_count": 14,
   "metadata": {},
   "outputs": [
    {
     "data": {
      "text/plain": [
       "0.586511704043215"
      ]
     },
     "execution_count": 14,
     "metadata": {},
     "output_type": "execute_result"
    }
   ],
   "source": [
    "trial.value"
   ]
  },
  {
   "cell_type": "code",
   "execution_count": 15,
   "metadata": {},
   "outputs": [
    {
     "data": {
      "application/vnd.plotly.v1+json": {
       "config": {
        "plotlyServerURL": "https://plot.ly"
       },
       "data": [
        {
         "cliponaxis": false,
         "hovertemplate": [
          "learning_rate (FloatDistribution): 1.0<extra></extra>"
         ],
         "name": "Objective Value",
         "orientation": "h",
         "text": [
          "1.00"
         ],
         "textposition": "outside",
         "type": "bar",
         "x": [
          1
         ],
         "y": [
          "learning_rate"
         ]
        }
       ],
       "layout": {
        "template": {
         "data": {
          "bar": [
           {
            "error_x": {
             "color": "#2a3f5f"
            },
            "error_y": {
             "color": "#2a3f5f"
            },
            "marker": {
             "line": {
              "color": "#E5ECF6",
              "width": 0.5
             },
             "pattern": {
              "fillmode": "overlay",
              "size": 10,
              "solidity": 0.2
             }
            },
            "type": "bar"
           }
          ],
          "barpolar": [
           {
            "marker": {
             "line": {
              "color": "#E5ECF6",
              "width": 0.5
             },
             "pattern": {
              "fillmode": "overlay",
              "size": 10,
              "solidity": 0.2
             }
            },
            "type": "barpolar"
           }
          ],
          "carpet": [
           {
            "aaxis": {
             "endlinecolor": "#2a3f5f",
             "gridcolor": "white",
             "linecolor": "white",
             "minorgridcolor": "white",
             "startlinecolor": "#2a3f5f"
            },
            "baxis": {
             "endlinecolor": "#2a3f5f",
             "gridcolor": "white",
             "linecolor": "white",
             "minorgridcolor": "white",
             "startlinecolor": "#2a3f5f"
            },
            "type": "carpet"
           }
          ],
          "choropleth": [
           {
            "colorbar": {
             "outlinewidth": 0,
             "ticks": ""
            },
            "type": "choropleth"
           }
          ],
          "contour": [
           {
            "colorbar": {
             "outlinewidth": 0,
             "ticks": ""
            },
            "colorscale": [
             [
              0,
              "#0d0887"
             ],
             [
              0.1111111111111111,
              "#46039f"
             ],
             [
              0.2222222222222222,
              "#7201a8"
             ],
             [
              0.3333333333333333,
              "#9c179e"
             ],
             [
              0.4444444444444444,
              "#bd3786"
             ],
             [
              0.5555555555555556,
              "#d8576b"
             ],
             [
              0.6666666666666666,
              "#ed7953"
             ],
             [
              0.7777777777777778,
              "#fb9f3a"
             ],
             [
              0.8888888888888888,
              "#fdca26"
             ],
             [
              1,
              "#f0f921"
             ]
            ],
            "type": "contour"
           }
          ],
          "contourcarpet": [
           {
            "colorbar": {
             "outlinewidth": 0,
             "ticks": ""
            },
            "type": "contourcarpet"
           }
          ],
          "heatmap": [
           {
            "colorbar": {
             "outlinewidth": 0,
             "ticks": ""
            },
            "colorscale": [
             [
              0,
              "#0d0887"
             ],
             [
              0.1111111111111111,
              "#46039f"
             ],
             [
              0.2222222222222222,
              "#7201a8"
             ],
             [
              0.3333333333333333,
              "#9c179e"
             ],
             [
              0.4444444444444444,
              "#bd3786"
             ],
             [
              0.5555555555555556,
              "#d8576b"
             ],
             [
              0.6666666666666666,
              "#ed7953"
             ],
             [
              0.7777777777777778,
              "#fb9f3a"
             ],
             [
              0.8888888888888888,
              "#fdca26"
             ],
             [
              1,
              "#f0f921"
             ]
            ],
            "type": "heatmap"
           }
          ],
          "heatmapgl": [
           {
            "colorbar": {
             "outlinewidth": 0,
             "ticks": ""
            },
            "colorscale": [
             [
              0,
              "#0d0887"
             ],
             [
              0.1111111111111111,
              "#46039f"
             ],
             [
              0.2222222222222222,
              "#7201a8"
             ],
             [
              0.3333333333333333,
              "#9c179e"
             ],
             [
              0.4444444444444444,
              "#bd3786"
             ],
             [
              0.5555555555555556,
              "#d8576b"
             ],
             [
              0.6666666666666666,
              "#ed7953"
             ],
             [
              0.7777777777777778,
              "#fb9f3a"
             ],
             [
              0.8888888888888888,
              "#fdca26"
             ],
             [
              1,
              "#f0f921"
             ]
            ],
            "type": "heatmapgl"
           }
          ],
          "histogram": [
           {
            "marker": {
             "pattern": {
              "fillmode": "overlay",
              "size": 10,
              "solidity": 0.2
             }
            },
            "type": "histogram"
           }
          ],
          "histogram2d": [
           {
            "colorbar": {
             "outlinewidth": 0,
             "ticks": ""
            },
            "colorscale": [
             [
              0,
              "#0d0887"
             ],
             [
              0.1111111111111111,
              "#46039f"
             ],
             [
              0.2222222222222222,
              "#7201a8"
             ],
             [
              0.3333333333333333,
              "#9c179e"
             ],
             [
              0.4444444444444444,
              "#bd3786"
             ],
             [
              0.5555555555555556,
              "#d8576b"
             ],
             [
              0.6666666666666666,
              "#ed7953"
             ],
             [
              0.7777777777777778,
              "#fb9f3a"
             ],
             [
              0.8888888888888888,
              "#fdca26"
             ],
             [
              1,
              "#f0f921"
             ]
            ],
            "type": "histogram2d"
           }
          ],
          "histogram2dcontour": [
           {
            "colorbar": {
             "outlinewidth": 0,
             "ticks": ""
            },
            "colorscale": [
             [
              0,
              "#0d0887"
             ],
             [
              0.1111111111111111,
              "#46039f"
             ],
             [
              0.2222222222222222,
              "#7201a8"
             ],
             [
              0.3333333333333333,
              "#9c179e"
             ],
             [
              0.4444444444444444,
              "#bd3786"
             ],
             [
              0.5555555555555556,
              "#d8576b"
             ],
             [
              0.6666666666666666,
              "#ed7953"
             ],
             [
              0.7777777777777778,
              "#fb9f3a"
             ],
             [
              0.8888888888888888,
              "#fdca26"
             ],
             [
              1,
              "#f0f921"
             ]
            ],
            "type": "histogram2dcontour"
           }
          ],
          "mesh3d": [
           {
            "colorbar": {
             "outlinewidth": 0,
             "ticks": ""
            },
            "type": "mesh3d"
           }
          ],
          "parcoords": [
           {
            "line": {
             "colorbar": {
              "outlinewidth": 0,
              "ticks": ""
             }
            },
            "type": "parcoords"
           }
          ],
          "pie": [
           {
            "automargin": true,
            "type": "pie"
           }
          ],
          "scatter": [
           {
            "fillpattern": {
             "fillmode": "overlay",
             "size": 10,
             "solidity": 0.2
            },
            "type": "scatter"
           }
          ],
          "scatter3d": [
           {
            "line": {
             "colorbar": {
              "outlinewidth": 0,
              "ticks": ""
             }
            },
            "marker": {
             "colorbar": {
              "outlinewidth": 0,
              "ticks": ""
             }
            },
            "type": "scatter3d"
           }
          ],
          "scattercarpet": [
           {
            "marker": {
             "colorbar": {
              "outlinewidth": 0,
              "ticks": ""
             }
            },
            "type": "scattercarpet"
           }
          ],
          "scattergeo": [
           {
            "marker": {
             "colorbar": {
              "outlinewidth": 0,
              "ticks": ""
             }
            },
            "type": "scattergeo"
           }
          ],
          "scattergl": [
           {
            "marker": {
             "colorbar": {
              "outlinewidth": 0,
              "ticks": ""
             }
            },
            "type": "scattergl"
           }
          ],
          "scattermapbox": [
           {
            "marker": {
             "colorbar": {
              "outlinewidth": 0,
              "ticks": ""
             }
            },
            "type": "scattermapbox"
           }
          ],
          "scatterpolar": [
           {
            "marker": {
             "colorbar": {
              "outlinewidth": 0,
              "ticks": ""
             }
            },
            "type": "scatterpolar"
           }
          ],
          "scatterpolargl": [
           {
            "marker": {
             "colorbar": {
              "outlinewidth": 0,
              "ticks": ""
             }
            },
            "type": "scatterpolargl"
           }
          ],
          "scatterternary": [
           {
            "marker": {
             "colorbar": {
              "outlinewidth": 0,
              "ticks": ""
             }
            },
            "type": "scatterternary"
           }
          ],
          "surface": [
           {
            "colorbar": {
             "outlinewidth": 0,
             "ticks": ""
            },
            "colorscale": [
             [
              0,
              "#0d0887"
             ],
             [
              0.1111111111111111,
              "#46039f"
             ],
             [
              0.2222222222222222,
              "#7201a8"
             ],
             [
              0.3333333333333333,
              "#9c179e"
             ],
             [
              0.4444444444444444,
              "#bd3786"
             ],
             [
              0.5555555555555556,
              "#d8576b"
             ],
             [
              0.6666666666666666,
              "#ed7953"
             ],
             [
              0.7777777777777778,
              "#fb9f3a"
             ],
             [
              0.8888888888888888,
              "#fdca26"
             ],
             [
              1,
              "#f0f921"
             ]
            ],
            "type": "surface"
           }
          ],
          "table": [
           {
            "cells": {
             "fill": {
              "color": "#EBF0F8"
             },
             "line": {
              "color": "white"
             }
            },
            "header": {
             "fill": {
              "color": "#C8D4E3"
             },
             "line": {
              "color": "white"
             }
            },
            "type": "table"
           }
          ]
         },
         "layout": {
          "annotationdefaults": {
           "arrowcolor": "#2a3f5f",
           "arrowhead": 0,
           "arrowwidth": 1
          },
          "autotypenumbers": "strict",
          "coloraxis": {
           "colorbar": {
            "outlinewidth": 0,
            "ticks": ""
           }
          },
          "colorscale": {
           "diverging": [
            [
             0,
             "#8e0152"
            ],
            [
             0.1,
             "#c51b7d"
            ],
            [
             0.2,
             "#de77ae"
            ],
            [
             0.3,
             "#f1b6da"
            ],
            [
             0.4,
             "#fde0ef"
            ],
            [
             0.5,
             "#f7f7f7"
            ],
            [
             0.6,
             "#e6f5d0"
            ],
            [
             0.7,
             "#b8e186"
            ],
            [
             0.8,
             "#7fbc41"
            ],
            [
             0.9,
             "#4d9221"
            ],
            [
             1,
             "#276419"
            ]
           ],
           "sequential": [
            [
             0,
             "#0d0887"
            ],
            [
             0.1111111111111111,
             "#46039f"
            ],
            [
             0.2222222222222222,
             "#7201a8"
            ],
            [
             0.3333333333333333,
             "#9c179e"
            ],
            [
             0.4444444444444444,
             "#bd3786"
            ],
            [
             0.5555555555555556,
             "#d8576b"
            ],
            [
             0.6666666666666666,
             "#ed7953"
            ],
            [
             0.7777777777777778,
             "#fb9f3a"
            ],
            [
             0.8888888888888888,
             "#fdca26"
            ],
            [
             1,
             "#f0f921"
            ]
           ],
           "sequentialminus": [
            [
             0,
             "#0d0887"
            ],
            [
             0.1111111111111111,
             "#46039f"
            ],
            [
             0.2222222222222222,
             "#7201a8"
            ],
            [
             0.3333333333333333,
             "#9c179e"
            ],
            [
             0.4444444444444444,
             "#bd3786"
            ],
            [
             0.5555555555555556,
             "#d8576b"
            ],
            [
             0.6666666666666666,
             "#ed7953"
            ],
            [
             0.7777777777777778,
             "#fb9f3a"
            ],
            [
             0.8888888888888888,
             "#fdca26"
            ],
            [
             1,
             "#f0f921"
            ]
           ]
          },
          "colorway": [
           "#636efa",
           "#EF553B",
           "#00cc96",
           "#ab63fa",
           "#FFA15A",
           "#19d3f3",
           "#FF6692",
           "#B6E880",
           "#FF97FF",
           "#FECB52"
          ],
          "font": {
           "color": "#2a3f5f"
          },
          "geo": {
           "bgcolor": "white",
           "lakecolor": "white",
           "landcolor": "#E5ECF6",
           "showlakes": true,
           "showland": true,
           "subunitcolor": "white"
          },
          "hoverlabel": {
           "align": "left"
          },
          "hovermode": "closest",
          "mapbox": {
           "style": "light"
          },
          "paper_bgcolor": "white",
          "plot_bgcolor": "#E5ECF6",
          "polar": {
           "angularaxis": {
            "gridcolor": "white",
            "linecolor": "white",
            "ticks": ""
           },
           "bgcolor": "#E5ECF6",
           "radialaxis": {
            "gridcolor": "white",
            "linecolor": "white",
            "ticks": ""
           }
          },
          "scene": {
           "xaxis": {
            "backgroundcolor": "#E5ECF6",
            "gridcolor": "white",
            "gridwidth": 2,
            "linecolor": "white",
            "showbackground": true,
            "ticks": "",
            "zerolinecolor": "white"
           },
           "yaxis": {
            "backgroundcolor": "#E5ECF6",
            "gridcolor": "white",
            "gridwidth": 2,
            "linecolor": "white",
            "showbackground": true,
            "ticks": "",
            "zerolinecolor": "white"
           },
           "zaxis": {
            "backgroundcolor": "#E5ECF6",
            "gridcolor": "white",
            "gridwidth": 2,
            "linecolor": "white",
            "showbackground": true,
            "ticks": "",
            "zerolinecolor": "white"
           }
          },
          "shapedefaults": {
           "line": {
            "color": "#2a3f5f"
           }
          },
          "ternary": {
           "aaxis": {
            "gridcolor": "white",
            "linecolor": "white",
            "ticks": ""
           },
           "baxis": {
            "gridcolor": "white",
            "linecolor": "white",
            "ticks": ""
           },
           "bgcolor": "#E5ECF6",
           "caxis": {
            "gridcolor": "white",
            "linecolor": "white",
            "ticks": ""
           }
          },
          "title": {
           "x": 0.05
          },
          "xaxis": {
           "automargin": true,
           "gridcolor": "white",
           "linecolor": "white",
           "ticks": "",
           "title": {
            "standoff": 15
           },
           "zerolinecolor": "white",
           "zerolinewidth": 2
          },
          "yaxis": {
           "automargin": true,
           "gridcolor": "white",
           "linecolor": "white",
           "ticks": "",
           "title": {
            "standoff": 15
           },
           "zerolinecolor": "white",
           "zerolinewidth": 2
          }
         }
        },
        "title": {
         "text": "Hyperparameter Importances"
        },
        "xaxis": {
         "title": {
          "text": "Hyperparameter Importance"
         }
        },
        "yaxis": {
         "title": {
          "text": "Hyperparameter"
         }
        }
       }
      }
     },
     "metadata": {},
     "output_type": "display_data"
    }
   ],
   "source": [
    "import plotly\n",
    "import nbformat\n",
    "optuna.visualization.plot_param_importances(study).show()"
   ]
  },
  {
   "cell_type": "code",
   "execution_count": 16,
   "metadata": {},
   "outputs": [
    {
     "data": {
      "application/vnd.plotly.v1+json": {
       "config": {
        "plotlyServerURL": "https://plot.ly"
       },
       "data": [
        {
         "marker": {
          "color": [
           0,
           1,
           2,
           3,
           4,
           5,
           6,
           7,
           8,
           9,
           10,
           11,
           12,
           13,
           14,
           15,
           16,
           17,
           18,
           19,
           20,
           21,
           22,
           23,
           24,
           25,
           26,
           27,
           28,
           29,
           30,
           31,
           32,
           33,
           34,
           35,
           36,
           37,
           38,
           39,
           40,
           41,
           42,
           43,
           44,
           45,
           46,
           47,
           48,
           49,
           50,
           51,
           52,
           53,
           54,
           55,
           56,
           57,
           58,
           59,
           60,
           61,
           62,
           63,
           64,
           65,
           66,
           67,
           68,
           69,
           70,
           71,
           72,
           73,
           74,
           75,
           76,
           77,
           78,
           79,
           80,
           81,
           82,
           83,
           84,
           85,
           86,
           87,
           88,
           89,
           90,
           91,
           92,
           93,
           94,
           95,
           96,
           97,
           98,
           99,
           100,
           101,
           102,
           103,
           104,
           105,
           106,
           107,
           108,
           109,
           110,
           111,
           112,
           113,
           114,
           115,
           116,
           117,
           118,
           119,
           120,
           121,
           122,
           123,
           124,
           125,
           126,
           127,
           128,
           129,
           130,
           131,
           132,
           133,
           134,
           135,
           136,
           137,
           138,
           139,
           140,
           141,
           142,
           143,
           144,
           145,
           146,
           147,
           148,
           149,
           150,
           151,
           152,
           153,
           154,
           155,
           156,
           157,
           158,
           159,
           160,
           161,
           162,
           163,
           164,
           165,
           166,
           167,
           168,
           169,
           170,
           171,
           172,
           173,
           174,
           175,
           176,
           177,
           178,
           179,
           180,
           181,
           182,
           183,
           184,
           185,
           186,
           187,
           188,
           189,
           190,
           191,
           192,
           193,
           194,
           195,
           196,
           197,
           198,
           199
          ],
          "colorbar": {
           "title": {
            "text": "Trial"
           },
           "x": 1,
           "xpad": 40
          },
          "colorscale": [
           [
            0,
            "rgb(247,251,255)"
           ],
           [
            0.125,
            "rgb(222,235,247)"
           ],
           [
            0.25,
            "rgb(198,219,239)"
           ],
           [
            0.375,
            "rgb(158,202,225)"
           ],
           [
            0.5,
            "rgb(107,174,214)"
           ],
           [
            0.625,
            "rgb(66,146,198)"
           ],
           [
            0.75,
            "rgb(33,113,181)"
           ],
           [
            0.875,
            "rgb(8,81,156)"
           ],
           [
            1,
            "rgb(8,48,107)"
           ]
          ],
          "line": {
           "color": "Grey",
           "width": 0.5
          }
         },
         "mode": "markers",
         "name": "Feasible Trial",
         "showlegend": false,
         "type": "scatter",
         "x": [
          0.013745401188473625,
          0.01950714306409916,
          0.01731993941811405,
          0.015986584841970367,
          0.011560186404424366,
          0.011559945203362027,
          0.010580836121681994,
          0.01866176145774935,
          0.016011150117432087,
          0.017080725777960454,
          0.010205302096870318,
          0.01401799833535625,
          0.013767518717637664,
          0.013468508914066219,
          0.010119534776081726,
          0.012339085391962119,
          0.014762116087025627,
          0.012068123230605084,
          0.014946443014220542,
          0.012791452486723701,
          0.010587050731194298,
          0.010071575212493574,
          0.011069934591117065,
          0.01105130487034612,
          0.012816807675765643,
          0.011504054508939618,
          0.014198850522523059,
          0.01210390066709848,
          0.013011322956016397,
          0.01568244785919348,
          0.01097360156450895,
          0.010047048566288444,
          0.0114638059627656,
          0.010702116898821053,
          0.011940264037203888,
          0.010669479592766758,
          0.011551339771596187,
          0.019960165317474354,
          0.018469961233886657,
          0.016672456104786352,
          0.016898726707902576,
          0.01626571773057863,
          0.01810068563128883,
          0.015344061140433863,
          0.01400955969682044,
          0.016458478070232808,
          0.017648092849370852,
          0.013287943079894417,
          0.014431482097447922,
          0.01000961357643676,
          0.011336242042615229,
          0.010361970398419768,
          0.01243650267626023,
          0.010328356356170222,
          0.010721077907963117,
          0.011908196757309013,
          0.011269901093959403,
          0.010012974533410803,
          0.010915395042658992,
          0.01050429909931338,
          0.01244597418335952,
          0.019794255917727443,
          0.018961510754248453,
          0.01524405044943287,
          0.01899453506711269,
          0.017303622545821507,
          0.017248982685005593,
          0.01780608462739529,
          0.016781531362284993,
          0.011817492194202164,
          0.010334911302548138,
          0.01563592083327225,
          0.018420265916915472,
          0.01350528159470603,
          0.019017293363550233,
          0.01931816820147001,
          0.01459446374110834,
          0.014862207046532544,
          0.014426925925523628,
          0.015876011287565422,
          0.016605478635717416,
          0.013955564554763102,
          0.015172127782391853,
          0.014541849464263531,
          0.010811098867541585,
          0.010893447131851527,
          0.011181040698509857,
          0.011704612785321129,
          0.011535298336712864,
          0.011603690164832871,
          0.01227666831670625,
          0.010529613923668147,
          0.0106968785856375,
          0.010253133637761452,
          0.011762671183111863,
          0.011407820734906022,
          0.01283994079527849,
          0.011064830183262021,
          0.010835113564974585,
          0.010458667086548403,
          0.011624427019310808,
          0.017409242075219912,
          0.010146944860927416,
          0.012185243058420215,
          0.01623079250469421,
          0.011192630766473484,
          0.017944552589740537,
          0.012591409843288524,
          0.012007551896493053,
          0.013362461974449211,
          0.011352986707874116,
          0.013067352133676657,
          0.01261555168642666,
          0.01468541386340869,
          0.014151020353500635,
          0.010669307246782243,
          0.010173584035057685,
          0.013678911155730052,
          0.011060802847686192,
          0.017014843046008303,
          0.010814199928305504,
          0.01989461255532115,
          0.01171552640138117,
          0.015467674362525642,
          0.017310506919814412,
          0.01054317079084758,
          0.017570417835512657,
          0.015688524743385036,
          0.010343249773255342,
          0.015394991570296866,
          0.01504325495570252,
          0.018290500885384267,
          0.016056794669480186,
          0.0164109166671631,
          0.015919526558949255,
          0.01677505322886623,
          0.015548917387686465,
          0.010003598172831293,
          0.01633640413453597,
          0.010927047017784406,
          0.016684885025621425,
          0.016646131194648597,
          0.01145839370380425,
          0.016061649531968585,
          0.016866482688649032,
          0.01620873930930693,
          0.016597150140466005,
          0.016915906879862986,
          0.016117497283048503,
          0.01573284166043304,
          0.01610282712513301,
          0.01653531315382268,
          0.0150421234270071,
          0.015817958196547702,
          0.01542891729718216,
          0.014322286904593452,
          0.017108943744599293,
          0.014300256919335366,
          0.01434161187369015,
          0.014711528823793407,
          0.01415977201896802,
          0.013609094533707617,
          0.014587256349538155,
          0.014381249582863352,
          0.013929132665839276,
          0.014589612385321093,
          0.014876566398641634,
          0.013772490279684255,
          0.015218965254080324,
          0.014023592278722482,
          0.014230491537955739,
          0.014375170094928637,
          0.014614454260571941,
          0.014220050145225765,
          0.014756746520696026,
          0.015053944003318387,
          0.01483133813107059,
          0.015009173595703168,
          0.014996337325817176,
          0.014861751570109513,
          0.015216635775474432,
          0.014780295579518482,
          0.013881088370370451,
          0.014552132891567385,
          0.015532114924849577,
          0.014179564233768562,
          0.01477331250909228,
          0.014542216849011831,
          0.01439148663082184,
          0.015140274658101287,
          0.015986448579074754,
          0.014787077143666463,
          0.014901302499394632,
          0.015373087356003982,
          0.014567397497594567,
          0.014864402242388554,
          0.014214498949275279,
          0.014063406939482773,
          0.012610443578946208,
          0.016400299005229487
         ],
         "y": [
          0.5405685600480166,
          0.5632570058465068,
          0.542344374935904,
          0.563766025315427,
          0.5476859504132231,
          0.5601013880181474,
          0.5714536102628404,
          0.5669113027388654,
          0.5541707396546106,
          0.5505540540540541,
          0.5505540540540541,
          0.579,
          0.5409564057240768,
          0.563766025315427,
          0.5714536102628404,
          0.5564465799204118,
          0.5619324324324324,
          0.5598864994026285,
          0.5672048906190033,
          0.5650826446280992,
          0.5544252768958009,
          0.5564465799204118,
          0.5469464622006994,
          0.5620969419596422,
          0.5484549799065928,
          0.5809254775356469,
          0.555982716973429,
          0.5602603246022819,
          0.5622066979522184,
          0.5692830250450156,
          0.5453684940273038,
          0.5750259180444154,
          0.5620969419596422,
          0.550981228668942,
          0.5640511741323446,
          0.5603644949948452,
          0.5564465799204118,
          0.5705780719831803,
          0.5574723304272553,
          0.5819908262012642,
          0.5425356654632129,
          0.5614342891605899,
          0.5530506463498408,
          0.5466588106219143,
          0.5650826446280992,
          0.5635401320456158,
          0.5534848484848485,
          0.5614342891605899,
          0.5635401320456158,
          0.5526096314231908,
          0.5546226364561573,
          0.5437219138250067,
          0.5674412275031471,
          0.5619324324324324,
          0.5659649472879045,
          0.5620969419596422,
          0.5603644949948452,
          0.5448648648648649,
          0.550981228668942,
          0.5564465799204118,
          0.5677473039988726,
          0.5588931215609539,
          0.5647355967720671,
          0.5657774991404938,
          0.5538577239941203,
          0.5711277475814446,
          0.5552847605305128,
          0.5436582183221601,
          0.5534848484848485,
          0.5489849483100326,
          0.5584260279921168,
          0.5598864994026285,
          0.5507689088816822,
          0.5658980127484065,
          0.5614342891605899,
          0.5683858144157339,
          0.5770337786466819,
          0.5614342891605899,
          0.5601013880181474,
          0.5516876550080038,
          0.5494714894263365,
          0.5534848484848485,
          0.5619324324324324,
          0.5635401320456158,
          0.5734153658681961,
          0.5491635904087266,
          0.5695991390906645,
          0.573397666038103,
          0.573170482768006,
          0.558272800645682,
          0.552800881851889,
          0.552936179250292,
          0.5640511741323446,
          0.5601013880181474,
          0.5580636204175894,
          0.5676216216216217,
          0.555982716973429,
          0.5641218403993643,
          0.5622066979522184,
          0.5677473039988726,
          0.5677473039988726,
          0.544524206443711,
          0.5526096314231908,
          0.536171285972178,
          0.5441224847853501,
          0.552800881851889,
          0.5472081711387276,
          0.5808732400089396,
          0.558272800645682,
          0.5658980127484065,
          0.563766025315427,
          0.5584260279921168,
          0.5541707396546106,
          0.5650826446280992,
          0.5526096314231908,
          0.5603644949948452,
          0.5601013880181474,
          0.5585244770096633,
          0.5507962178811814,
          0.5674412275031471,
          0.5622066979522184,
          0.5588931215609539,
          0.5677473039988726,
          0.586511704043215,
          0.5632570058465068,
          0.5585244770096633,
          0.5494714894263365,
          0.5598864994026285,
          0.5641127747690348,
          0.5562432432432433,
          0.5635401320456158,
          0.5489871445266848,
          0.5824793388429752,
          0.5629152823920266,
          0.5656022591506462,
          0.5653710730523365,
          0.5469464622006994,
          0.5489849483100326,
          0.5476859504132231,
          0.5602603246022819,
          0.5764205471942936,
          0.5596143985232284,
          0.5659649472879045,
          0.5614342891605899,
          0.573170482768006,
          0.5610980316346891,
          0.5566412107263661,
          0.5454318936877076,
          0.57482635668501,
          0.5598864994026285,
          0.5520543460468161,
          0.5484549799065928,
          0.5580636204175894,
          0.5409564057240768,
          0.5556636877021767,
          0.5745708748615725,
          0.5534848484848485,
          0.5733108108108108,
          0.5505540540540541,
          0.5577972390462159,
          0.5635401320456158,
          0.5632570058465068,
          0.5733108108108108,
          0.563766025315427,
          0.5601013880181474,
          0.5713180188986641,
          0.5690416812657584,
          0.5596143985232284,
          0.558272800645682,
          0.5674412275031471,
          0.5768844221105528,
          0.5580636204175894,
          0.5619324324324324,
          0.5541707396546106,
          0.586511704043215,
          0.5752623083131558,
          0.5750259180444154,
          0.5656022591506462,
          0.5672048906190033,
          0.5733108108108108,
          0.5526096314231908,
          0.552800881851889,
          0.5598864994026285,
          0.5674412275031471,
          0.5674412275031471,
          0.5523612155197518,
          0.5580636204175894,
          0.5635401320456158,
          0.5656022591506462,
          0.5523612155197518,
          0.563766025315427,
          0.5713180188986641,
          0.5596143985232284,
          0.5635401320456158,
          0.5694684302132645,
          0.5632570058465068,
          0.5574723304272553,
          0.5714536102628404,
          0.5601013880181474,
          0.5727245738430417
         ]
        }
       ],
       "layout": {
        "template": {
         "data": {
          "bar": [
           {
            "error_x": {
             "color": "#2a3f5f"
            },
            "error_y": {
             "color": "#2a3f5f"
            },
            "marker": {
             "line": {
              "color": "#E5ECF6",
              "width": 0.5
             },
             "pattern": {
              "fillmode": "overlay",
              "size": 10,
              "solidity": 0.2
             }
            },
            "type": "bar"
           }
          ],
          "barpolar": [
           {
            "marker": {
             "line": {
              "color": "#E5ECF6",
              "width": 0.5
             },
             "pattern": {
              "fillmode": "overlay",
              "size": 10,
              "solidity": 0.2
             }
            },
            "type": "barpolar"
           }
          ],
          "carpet": [
           {
            "aaxis": {
             "endlinecolor": "#2a3f5f",
             "gridcolor": "white",
             "linecolor": "white",
             "minorgridcolor": "white",
             "startlinecolor": "#2a3f5f"
            },
            "baxis": {
             "endlinecolor": "#2a3f5f",
             "gridcolor": "white",
             "linecolor": "white",
             "minorgridcolor": "white",
             "startlinecolor": "#2a3f5f"
            },
            "type": "carpet"
           }
          ],
          "choropleth": [
           {
            "colorbar": {
             "outlinewidth": 0,
             "ticks": ""
            },
            "type": "choropleth"
           }
          ],
          "contour": [
           {
            "colorbar": {
             "outlinewidth": 0,
             "ticks": ""
            },
            "colorscale": [
             [
              0,
              "#0d0887"
             ],
             [
              0.1111111111111111,
              "#46039f"
             ],
             [
              0.2222222222222222,
              "#7201a8"
             ],
             [
              0.3333333333333333,
              "#9c179e"
             ],
             [
              0.4444444444444444,
              "#bd3786"
             ],
             [
              0.5555555555555556,
              "#d8576b"
             ],
             [
              0.6666666666666666,
              "#ed7953"
             ],
             [
              0.7777777777777778,
              "#fb9f3a"
             ],
             [
              0.8888888888888888,
              "#fdca26"
             ],
             [
              1,
              "#f0f921"
             ]
            ],
            "type": "contour"
           }
          ],
          "contourcarpet": [
           {
            "colorbar": {
             "outlinewidth": 0,
             "ticks": ""
            },
            "type": "contourcarpet"
           }
          ],
          "heatmap": [
           {
            "colorbar": {
             "outlinewidth": 0,
             "ticks": ""
            },
            "colorscale": [
             [
              0,
              "#0d0887"
             ],
             [
              0.1111111111111111,
              "#46039f"
             ],
             [
              0.2222222222222222,
              "#7201a8"
             ],
             [
              0.3333333333333333,
              "#9c179e"
             ],
             [
              0.4444444444444444,
              "#bd3786"
             ],
             [
              0.5555555555555556,
              "#d8576b"
             ],
             [
              0.6666666666666666,
              "#ed7953"
             ],
             [
              0.7777777777777778,
              "#fb9f3a"
             ],
             [
              0.8888888888888888,
              "#fdca26"
             ],
             [
              1,
              "#f0f921"
             ]
            ],
            "type": "heatmap"
           }
          ],
          "heatmapgl": [
           {
            "colorbar": {
             "outlinewidth": 0,
             "ticks": ""
            },
            "colorscale": [
             [
              0,
              "#0d0887"
             ],
             [
              0.1111111111111111,
              "#46039f"
             ],
             [
              0.2222222222222222,
              "#7201a8"
             ],
             [
              0.3333333333333333,
              "#9c179e"
             ],
             [
              0.4444444444444444,
              "#bd3786"
             ],
             [
              0.5555555555555556,
              "#d8576b"
             ],
             [
              0.6666666666666666,
              "#ed7953"
             ],
             [
              0.7777777777777778,
              "#fb9f3a"
             ],
             [
              0.8888888888888888,
              "#fdca26"
             ],
             [
              1,
              "#f0f921"
             ]
            ],
            "type": "heatmapgl"
           }
          ],
          "histogram": [
           {
            "marker": {
             "pattern": {
              "fillmode": "overlay",
              "size": 10,
              "solidity": 0.2
             }
            },
            "type": "histogram"
           }
          ],
          "histogram2d": [
           {
            "colorbar": {
             "outlinewidth": 0,
             "ticks": ""
            },
            "colorscale": [
             [
              0,
              "#0d0887"
             ],
             [
              0.1111111111111111,
              "#46039f"
             ],
             [
              0.2222222222222222,
              "#7201a8"
             ],
             [
              0.3333333333333333,
              "#9c179e"
             ],
             [
              0.4444444444444444,
              "#bd3786"
             ],
             [
              0.5555555555555556,
              "#d8576b"
             ],
             [
              0.6666666666666666,
              "#ed7953"
             ],
             [
              0.7777777777777778,
              "#fb9f3a"
             ],
             [
              0.8888888888888888,
              "#fdca26"
             ],
             [
              1,
              "#f0f921"
             ]
            ],
            "type": "histogram2d"
           }
          ],
          "histogram2dcontour": [
           {
            "colorbar": {
             "outlinewidth": 0,
             "ticks": ""
            },
            "colorscale": [
             [
              0,
              "#0d0887"
             ],
             [
              0.1111111111111111,
              "#46039f"
             ],
             [
              0.2222222222222222,
              "#7201a8"
             ],
             [
              0.3333333333333333,
              "#9c179e"
             ],
             [
              0.4444444444444444,
              "#bd3786"
             ],
             [
              0.5555555555555556,
              "#d8576b"
             ],
             [
              0.6666666666666666,
              "#ed7953"
             ],
             [
              0.7777777777777778,
              "#fb9f3a"
             ],
             [
              0.8888888888888888,
              "#fdca26"
             ],
             [
              1,
              "#f0f921"
             ]
            ],
            "type": "histogram2dcontour"
           }
          ],
          "mesh3d": [
           {
            "colorbar": {
             "outlinewidth": 0,
             "ticks": ""
            },
            "type": "mesh3d"
           }
          ],
          "parcoords": [
           {
            "line": {
             "colorbar": {
              "outlinewidth": 0,
              "ticks": ""
             }
            },
            "type": "parcoords"
           }
          ],
          "pie": [
           {
            "automargin": true,
            "type": "pie"
           }
          ],
          "scatter": [
           {
            "fillpattern": {
             "fillmode": "overlay",
             "size": 10,
             "solidity": 0.2
            },
            "type": "scatter"
           }
          ],
          "scatter3d": [
           {
            "line": {
             "colorbar": {
              "outlinewidth": 0,
              "ticks": ""
             }
            },
            "marker": {
             "colorbar": {
              "outlinewidth": 0,
              "ticks": ""
             }
            },
            "type": "scatter3d"
           }
          ],
          "scattercarpet": [
           {
            "marker": {
             "colorbar": {
              "outlinewidth": 0,
              "ticks": ""
             }
            },
            "type": "scattercarpet"
           }
          ],
          "scattergeo": [
           {
            "marker": {
             "colorbar": {
              "outlinewidth": 0,
              "ticks": ""
             }
            },
            "type": "scattergeo"
           }
          ],
          "scattergl": [
           {
            "marker": {
             "colorbar": {
              "outlinewidth": 0,
              "ticks": ""
             }
            },
            "type": "scattergl"
           }
          ],
          "scattermapbox": [
           {
            "marker": {
             "colorbar": {
              "outlinewidth": 0,
              "ticks": ""
             }
            },
            "type": "scattermapbox"
           }
          ],
          "scatterpolar": [
           {
            "marker": {
             "colorbar": {
              "outlinewidth": 0,
              "ticks": ""
             }
            },
            "type": "scatterpolar"
           }
          ],
          "scatterpolargl": [
           {
            "marker": {
             "colorbar": {
              "outlinewidth": 0,
              "ticks": ""
             }
            },
            "type": "scatterpolargl"
           }
          ],
          "scatterternary": [
           {
            "marker": {
             "colorbar": {
              "outlinewidth": 0,
              "ticks": ""
             }
            },
            "type": "scatterternary"
           }
          ],
          "surface": [
           {
            "colorbar": {
             "outlinewidth": 0,
             "ticks": ""
            },
            "colorscale": [
             [
              0,
              "#0d0887"
             ],
             [
              0.1111111111111111,
              "#46039f"
             ],
             [
              0.2222222222222222,
              "#7201a8"
             ],
             [
              0.3333333333333333,
              "#9c179e"
             ],
             [
              0.4444444444444444,
              "#bd3786"
             ],
             [
              0.5555555555555556,
              "#d8576b"
             ],
             [
              0.6666666666666666,
              "#ed7953"
             ],
             [
              0.7777777777777778,
              "#fb9f3a"
             ],
             [
              0.8888888888888888,
              "#fdca26"
             ],
             [
              1,
              "#f0f921"
             ]
            ],
            "type": "surface"
           }
          ],
          "table": [
           {
            "cells": {
             "fill": {
              "color": "#EBF0F8"
             },
             "line": {
              "color": "white"
             }
            },
            "header": {
             "fill": {
              "color": "#C8D4E3"
             },
             "line": {
              "color": "white"
             }
            },
            "type": "table"
           }
          ]
         },
         "layout": {
          "annotationdefaults": {
           "arrowcolor": "#2a3f5f",
           "arrowhead": 0,
           "arrowwidth": 1
          },
          "autotypenumbers": "strict",
          "coloraxis": {
           "colorbar": {
            "outlinewidth": 0,
            "ticks": ""
           }
          },
          "colorscale": {
           "diverging": [
            [
             0,
             "#8e0152"
            ],
            [
             0.1,
             "#c51b7d"
            ],
            [
             0.2,
             "#de77ae"
            ],
            [
             0.3,
             "#f1b6da"
            ],
            [
             0.4,
             "#fde0ef"
            ],
            [
             0.5,
             "#f7f7f7"
            ],
            [
             0.6,
             "#e6f5d0"
            ],
            [
             0.7,
             "#b8e186"
            ],
            [
             0.8,
             "#7fbc41"
            ],
            [
             0.9,
             "#4d9221"
            ],
            [
             1,
             "#276419"
            ]
           ],
           "sequential": [
            [
             0,
             "#0d0887"
            ],
            [
             0.1111111111111111,
             "#46039f"
            ],
            [
             0.2222222222222222,
             "#7201a8"
            ],
            [
             0.3333333333333333,
             "#9c179e"
            ],
            [
             0.4444444444444444,
             "#bd3786"
            ],
            [
             0.5555555555555556,
             "#d8576b"
            ],
            [
             0.6666666666666666,
             "#ed7953"
            ],
            [
             0.7777777777777778,
             "#fb9f3a"
            ],
            [
             0.8888888888888888,
             "#fdca26"
            ],
            [
             1,
             "#f0f921"
            ]
           ],
           "sequentialminus": [
            [
             0,
             "#0d0887"
            ],
            [
             0.1111111111111111,
             "#46039f"
            ],
            [
             0.2222222222222222,
             "#7201a8"
            ],
            [
             0.3333333333333333,
             "#9c179e"
            ],
            [
             0.4444444444444444,
             "#bd3786"
            ],
            [
             0.5555555555555556,
             "#d8576b"
            ],
            [
             0.6666666666666666,
             "#ed7953"
            ],
            [
             0.7777777777777778,
             "#fb9f3a"
            ],
            [
             0.8888888888888888,
             "#fdca26"
            ],
            [
             1,
             "#f0f921"
            ]
           ]
          },
          "colorway": [
           "#636efa",
           "#EF553B",
           "#00cc96",
           "#ab63fa",
           "#FFA15A",
           "#19d3f3",
           "#FF6692",
           "#B6E880",
           "#FF97FF",
           "#FECB52"
          ],
          "font": {
           "color": "#2a3f5f"
          },
          "geo": {
           "bgcolor": "white",
           "lakecolor": "white",
           "landcolor": "#E5ECF6",
           "showlakes": true,
           "showland": true,
           "subunitcolor": "white"
          },
          "hoverlabel": {
           "align": "left"
          },
          "hovermode": "closest",
          "mapbox": {
           "style": "light"
          },
          "paper_bgcolor": "white",
          "plot_bgcolor": "#E5ECF6",
          "polar": {
           "angularaxis": {
            "gridcolor": "white",
            "linecolor": "white",
            "ticks": ""
           },
           "bgcolor": "#E5ECF6",
           "radialaxis": {
            "gridcolor": "white",
            "linecolor": "white",
            "ticks": ""
           }
          },
          "scene": {
           "xaxis": {
            "backgroundcolor": "#E5ECF6",
            "gridcolor": "white",
            "gridwidth": 2,
            "linecolor": "white",
            "showbackground": true,
            "ticks": "",
            "zerolinecolor": "white"
           },
           "yaxis": {
            "backgroundcolor": "#E5ECF6",
            "gridcolor": "white",
            "gridwidth": 2,
            "linecolor": "white",
            "showbackground": true,
            "ticks": "",
            "zerolinecolor": "white"
           },
           "zaxis": {
            "backgroundcolor": "#E5ECF6",
            "gridcolor": "white",
            "gridwidth": 2,
            "linecolor": "white",
            "showbackground": true,
            "ticks": "",
            "zerolinecolor": "white"
           }
          },
          "shapedefaults": {
           "line": {
            "color": "#2a3f5f"
           }
          },
          "ternary": {
           "aaxis": {
            "gridcolor": "white",
            "linecolor": "white",
            "ticks": ""
           },
           "baxis": {
            "gridcolor": "white",
            "linecolor": "white",
            "ticks": ""
           },
           "bgcolor": "#E5ECF6",
           "caxis": {
            "gridcolor": "white",
            "linecolor": "white",
            "ticks": ""
           }
          },
          "title": {
           "x": 0.05
          },
          "xaxis": {
           "automargin": true,
           "gridcolor": "white",
           "linecolor": "white",
           "ticks": "",
           "title": {
            "standoff": 15
           },
           "zerolinecolor": "white",
           "zerolinewidth": 2
          },
          "yaxis": {
           "automargin": true,
           "gridcolor": "white",
           "linecolor": "white",
           "ticks": "",
           "title": {
            "standoff": 15
           },
           "zerolinecolor": "white",
           "zerolinewidth": 2
          }
         }
        },
        "title": {
         "text": "Slice Plot"
        },
        "xaxis": {
         "title": {
          "text": "learning_rate"
         }
        },
        "yaxis": {
         "title": {
          "text": "Objective Value"
         }
        }
       }
      }
     },
     "metadata": {},
     "output_type": "display_data"
    }
   ],
   "source": [
    "optuna.visualization.plot_slice(study, params=[\"learning_rate\"])"
   ]
  },
  {
   "cell_type": "code",
   "execution_count": 18,
   "metadata": {},
   "outputs": [
    {
     "data": {
      "application/vnd.plotly.v1+json": {
       "config": {
        "plotlyServerURL": "https://plot.ly"
       },
       "data": [
        {
         "mode": "markers",
         "name": "Objective Value",
         "type": "scatter",
         "x": [
          0,
          1,
          2,
          3,
          4,
          5,
          6,
          7,
          8,
          9,
          10,
          11,
          12,
          13,
          14,
          15,
          16,
          17,
          18,
          19,
          20,
          21,
          22,
          23,
          24,
          25,
          26,
          27,
          28,
          29,
          30,
          31,
          32,
          33,
          34,
          35,
          36,
          37,
          38,
          39,
          40,
          41,
          42,
          43,
          44,
          45,
          46,
          47,
          48,
          49,
          50,
          51,
          52,
          53,
          54,
          55,
          56,
          57,
          58,
          59,
          60,
          61,
          62,
          63,
          64,
          65,
          66,
          67,
          68,
          69,
          70,
          71,
          72,
          73,
          74,
          75,
          76,
          77,
          78,
          79,
          80,
          81,
          82,
          83,
          84,
          85,
          86,
          87,
          88,
          89,
          90,
          91,
          92,
          93,
          94,
          95,
          96,
          97,
          98,
          99,
          100,
          101,
          102,
          103,
          104,
          105,
          106,
          107,
          108,
          109,
          110,
          111,
          112,
          113,
          114,
          115,
          116,
          117,
          118,
          119,
          120,
          121,
          122,
          123,
          124,
          125,
          126,
          127,
          128,
          129,
          130,
          131,
          132,
          133,
          134,
          135,
          136,
          137,
          138,
          139,
          140,
          141,
          142,
          143,
          144,
          145,
          146,
          147,
          148,
          149,
          150,
          151,
          152,
          153,
          154,
          155,
          156,
          157,
          158,
          159,
          160,
          161,
          162,
          163,
          164,
          165,
          166,
          167,
          168,
          169,
          170,
          171,
          172,
          173,
          174,
          175,
          176,
          177,
          178,
          179,
          180,
          181,
          182,
          183,
          184,
          185,
          186,
          187,
          188,
          189,
          190,
          191,
          192,
          193,
          194,
          195,
          196,
          197,
          198,
          199
         ],
         "y": [
          0.5405685600480166,
          0.5632570058465068,
          0.542344374935904,
          0.563766025315427,
          0.5476859504132231,
          0.5601013880181474,
          0.5714536102628404,
          0.5669113027388654,
          0.5541707396546106,
          0.5505540540540541,
          0.5505540540540541,
          0.579,
          0.5409564057240768,
          0.563766025315427,
          0.5714536102628404,
          0.5564465799204118,
          0.5619324324324324,
          0.5598864994026285,
          0.5672048906190033,
          0.5650826446280992,
          0.5544252768958009,
          0.5564465799204118,
          0.5469464622006994,
          0.5620969419596422,
          0.5484549799065928,
          0.5809254775356469,
          0.555982716973429,
          0.5602603246022819,
          0.5622066979522184,
          0.5692830250450156,
          0.5453684940273038,
          0.5750259180444154,
          0.5620969419596422,
          0.550981228668942,
          0.5640511741323446,
          0.5603644949948452,
          0.5564465799204118,
          0.5705780719831803,
          0.5574723304272553,
          0.5819908262012642,
          0.5425356654632129,
          0.5614342891605899,
          0.5530506463498408,
          0.5466588106219143,
          0.5650826446280992,
          0.5635401320456158,
          0.5534848484848485,
          0.5614342891605899,
          0.5635401320456158,
          0.5526096314231908,
          0.5546226364561573,
          0.5437219138250067,
          0.5674412275031471,
          0.5619324324324324,
          0.5659649472879045,
          0.5620969419596422,
          0.5603644949948452,
          0.5448648648648649,
          0.550981228668942,
          0.5564465799204118,
          0.5677473039988726,
          0.5588931215609539,
          0.5647355967720671,
          0.5657774991404938,
          0.5538577239941203,
          0.5711277475814446,
          0.5552847605305128,
          0.5436582183221601,
          0.5534848484848485,
          0.5489849483100326,
          0.5584260279921168,
          0.5598864994026285,
          0.5507689088816822,
          0.5658980127484065,
          0.5614342891605899,
          0.5683858144157339,
          0.5770337786466819,
          0.5614342891605899,
          0.5601013880181474,
          0.5516876550080038,
          0.5494714894263365,
          0.5534848484848485,
          0.5619324324324324,
          0.5635401320456158,
          0.5734153658681961,
          0.5491635904087266,
          0.5695991390906645,
          0.573397666038103,
          0.573170482768006,
          0.558272800645682,
          0.552800881851889,
          0.552936179250292,
          0.5640511741323446,
          0.5601013880181474,
          0.5580636204175894,
          0.5676216216216217,
          0.555982716973429,
          0.5641218403993643,
          0.5622066979522184,
          0.5677473039988726,
          0.5677473039988726,
          0.544524206443711,
          0.5526096314231908,
          0.536171285972178,
          0.5441224847853501,
          0.552800881851889,
          0.5472081711387276,
          0.5808732400089396,
          0.558272800645682,
          0.5658980127484065,
          0.563766025315427,
          0.5584260279921168,
          0.5541707396546106,
          0.5650826446280992,
          0.5526096314231908,
          0.5603644949948452,
          0.5601013880181474,
          0.5585244770096633,
          0.5507962178811814,
          0.5674412275031471,
          0.5622066979522184,
          0.5588931215609539,
          0.5677473039988726,
          0.586511704043215,
          0.5632570058465068,
          0.5585244770096633,
          0.5494714894263365,
          0.5598864994026285,
          0.5641127747690348,
          0.5562432432432433,
          0.5635401320456158,
          0.5489871445266848,
          0.5824793388429752,
          0.5629152823920266,
          0.5656022591506462,
          0.5653710730523365,
          0.5469464622006994,
          0.5489849483100326,
          0.5476859504132231,
          0.5602603246022819,
          0.5764205471942936,
          0.5596143985232284,
          0.5659649472879045,
          0.5614342891605899,
          0.573170482768006,
          0.5610980316346891,
          0.5566412107263661,
          0.5454318936877076,
          0.57482635668501,
          0.5598864994026285,
          0.5520543460468161,
          0.5484549799065928,
          0.5580636204175894,
          0.5409564057240768,
          0.5556636877021767,
          0.5745708748615725,
          0.5534848484848485,
          0.5733108108108108,
          0.5505540540540541,
          0.5577972390462159,
          0.5635401320456158,
          0.5632570058465068,
          0.5733108108108108,
          0.563766025315427,
          0.5601013880181474,
          0.5713180188986641,
          0.5690416812657584,
          0.5596143985232284,
          0.558272800645682,
          0.5674412275031471,
          0.5768844221105528,
          0.5580636204175894,
          0.5619324324324324,
          0.5541707396546106,
          0.586511704043215,
          0.5752623083131558,
          0.5750259180444154,
          0.5656022591506462,
          0.5672048906190033,
          0.5733108108108108,
          0.5526096314231908,
          0.552800881851889,
          0.5598864994026285,
          0.5674412275031471,
          0.5674412275031471,
          0.5523612155197518,
          0.5580636204175894,
          0.5635401320456158,
          0.5656022591506462,
          0.5523612155197518,
          0.563766025315427,
          0.5713180188986641,
          0.5596143985232284,
          0.5635401320456158,
          0.5694684302132645,
          0.5632570058465068,
          0.5574723304272553,
          0.5714536102628404,
          0.5601013880181474,
          0.5727245738430417
         ]
        },
        {
         "mode": "lines",
         "name": "Best Value",
         "type": "scatter",
         "x": [
          0,
          1,
          2,
          3,
          4,
          5,
          6,
          7,
          8,
          9,
          10,
          11,
          12,
          13,
          14,
          15,
          16,
          17,
          18,
          19,
          20,
          21,
          22,
          23,
          24,
          25,
          26,
          27,
          28,
          29,
          30,
          31,
          32,
          33,
          34,
          35,
          36,
          37,
          38,
          39,
          40,
          41,
          42,
          43,
          44,
          45,
          46,
          47,
          48,
          49,
          50,
          51,
          52,
          53,
          54,
          55,
          56,
          57,
          58,
          59,
          60,
          61,
          62,
          63,
          64,
          65,
          66,
          67,
          68,
          69,
          70,
          71,
          72,
          73,
          74,
          75,
          76,
          77,
          78,
          79,
          80,
          81,
          82,
          83,
          84,
          85,
          86,
          87,
          88,
          89,
          90,
          91,
          92,
          93,
          94,
          95,
          96,
          97,
          98,
          99,
          100,
          101,
          102,
          103,
          104,
          105,
          106,
          107,
          108,
          109,
          110,
          111,
          112,
          113,
          114,
          115,
          116,
          117,
          118,
          119,
          120,
          121,
          122,
          123,
          124,
          125,
          126,
          127,
          128,
          129,
          130,
          131,
          132,
          133,
          134,
          135,
          136,
          137,
          138,
          139,
          140,
          141,
          142,
          143,
          144,
          145,
          146,
          147,
          148,
          149,
          150,
          151,
          152,
          153,
          154,
          155,
          156,
          157,
          158,
          159,
          160,
          161,
          162,
          163,
          164,
          165,
          166,
          167,
          168,
          169,
          170,
          171,
          172,
          173,
          174,
          175,
          176,
          177,
          178,
          179,
          180,
          181,
          182,
          183,
          184,
          185,
          186,
          187,
          188,
          189,
          190,
          191,
          192,
          193,
          194,
          195,
          196,
          197,
          198,
          199
         ],
         "y": [
          0.5405685600480166,
          0.5632570058465068,
          0.5632570058465068,
          0.563766025315427,
          0.563766025315427,
          0.563766025315427,
          0.5714536102628404,
          0.5714536102628404,
          0.5714536102628404,
          0.5714536102628404,
          0.5714536102628404,
          0.579,
          0.579,
          0.579,
          0.579,
          0.579,
          0.579,
          0.579,
          0.579,
          0.579,
          0.579,
          0.579,
          0.579,
          0.579,
          0.579,
          0.5809254775356469,
          0.5809254775356469,
          0.5809254775356469,
          0.5809254775356469,
          0.5809254775356469,
          0.5809254775356469,
          0.5809254775356469,
          0.5809254775356469,
          0.5809254775356469,
          0.5809254775356469,
          0.5809254775356469,
          0.5809254775356469,
          0.5809254775356469,
          0.5809254775356469,
          0.5819908262012642,
          0.5819908262012642,
          0.5819908262012642,
          0.5819908262012642,
          0.5819908262012642,
          0.5819908262012642,
          0.5819908262012642,
          0.5819908262012642,
          0.5819908262012642,
          0.5819908262012642,
          0.5819908262012642,
          0.5819908262012642,
          0.5819908262012642,
          0.5819908262012642,
          0.5819908262012642,
          0.5819908262012642,
          0.5819908262012642,
          0.5819908262012642,
          0.5819908262012642,
          0.5819908262012642,
          0.5819908262012642,
          0.5819908262012642,
          0.5819908262012642,
          0.5819908262012642,
          0.5819908262012642,
          0.5819908262012642,
          0.5819908262012642,
          0.5819908262012642,
          0.5819908262012642,
          0.5819908262012642,
          0.5819908262012642,
          0.5819908262012642,
          0.5819908262012642,
          0.5819908262012642,
          0.5819908262012642,
          0.5819908262012642,
          0.5819908262012642,
          0.5819908262012642,
          0.5819908262012642,
          0.5819908262012642,
          0.5819908262012642,
          0.5819908262012642,
          0.5819908262012642,
          0.5819908262012642,
          0.5819908262012642,
          0.5819908262012642,
          0.5819908262012642,
          0.5819908262012642,
          0.5819908262012642,
          0.5819908262012642,
          0.5819908262012642,
          0.5819908262012642,
          0.5819908262012642,
          0.5819908262012642,
          0.5819908262012642,
          0.5819908262012642,
          0.5819908262012642,
          0.5819908262012642,
          0.5819908262012642,
          0.5819908262012642,
          0.5819908262012642,
          0.5819908262012642,
          0.5819908262012642,
          0.5819908262012642,
          0.5819908262012642,
          0.5819908262012642,
          0.5819908262012642,
          0.5819908262012642,
          0.5819908262012642,
          0.5819908262012642,
          0.5819908262012642,
          0.5819908262012642,
          0.5819908262012642,
          0.5819908262012642,
          0.5819908262012642,
          0.5819908262012642,
          0.5819908262012642,
          0.5819908262012642,
          0.5819908262012642,
          0.5819908262012642,
          0.5819908262012642,
          0.5819908262012642,
          0.5819908262012642,
          0.5819908262012642,
          0.586511704043215,
          0.586511704043215,
          0.586511704043215,
          0.586511704043215,
          0.586511704043215,
          0.586511704043215,
          0.586511704043215,
          0.586511704043215,
          0.586511704043215,
          0.586511704043215,
          0.586511704043215,
          0.586511704043215,
          0.586511704043215,
          0.586511704043215,
          0.586511704043215,
          0.586511704043215,
          0.586511704043215,
          0.586511704043215,
          0.586511704043215,
          0.586511704043215,
          0.586511704043215,
          0.586511704043215,
          0.586511704043215,
          0.586511704043215,
          0.586511704043215,
          0.586511704043215,
          0.586511704043215,
          0.586511704043215,
          0.586511704043215,
          0.586511704043215,
          0.586511704043215,
          0.586511704043215,
          0.586511704043215,
          0.586511704043215,
          0.586511704043215,
          0.586511704043215,
          0.586511704043215,
          0.586511704043215,
          0.586511704043215,
          0.586511704043215,
          0.586511704043215,
          0.586511704043215,
          0.586511704043215,
          0.586511704043215,
          0.586511704043215,
          0.586511704043215,
          0.586511704043215,
          0.586511704043215,
          0.586511704043215,
          0.586511704043215,
          0.586511704043215,
          0.586511704043215,
          0.586511704043215,
          0.586511704043215,
          0.586511704043215,
          0.586511704043215,
          0.586511704043215,
          0.586511704043215,
          0.586511704043215,
          0.586511704043215,
          0.586511704043215,
          0.586511704043215,
          0.586511704043215,
          0.586511704043215,
          0.586511704043215,
          0.586511704043215,
          0.586511704043215,
          0.586511704043215,
          0.586511704043215,
          0.586511704043215,
          0.586511704043215,
          0.586511704043215,
          0.586511704043215,
          0.586511704043215,
          0.586511704043215,
          0.586511704043215,
          0.586511704043215
         ]
        },
        {
         "marker": {
          "color": "#cccccc"
         },
         "mode": "markers",
         "name": "Infeasible Trial",
         "showlegend": false,
         "type": "scatter",
         "x": [],
         "y": []
        }
       ],
       "layout": {
        "template": {
         "data": {
          "bar": [
           {
            "error_x": {
             "color": "#2a3f5f"
            },
            "error_y": {
             "color": "#2a3f5f"
            },
            "marker": {
             "line": {
              "color": "#E5ECF6",
              "width": 0.5
             },
             "pattern": {
              "fillmode": "overlay",
              "size": 10,
              "solidity": 0.2
             }
            },
            "type": "bar"
           }
          ],
          "barpolar": [
           {
            "marker": {
             "line": {
              "color": "#E5ECF6",
              "width": 0.5
             },
             "pattern": {
              "fillmode": "overlay",
              "size": 10,
              "solidity": 0.2
             }
            },
            "type": "barpolar"
           }
          ],
          "carpet": [
           {
            "aaxis": {
             "endlinecolor": "#2a3f5f",
             "gridcolor": "white",
             "linecolor": "white",
             "minorgridcolor": "white",
             "startlinecolor": "#2a3f5f"
            },
            "baxis": {
             "endlinecolor": "#2a3f5f",
             "gridcolor": "white",
             "linecolor": "white",
             "minorgridcolor": "white",
             "startlinecolor": "#2a3f5f"
            },
            "type": "carpet"
           }
          ],
          "choropleth": [
           {
            "colorbar": {
             "outlinewidth": 0,
             "ticks": ""
            },
            "type": "choropleth"
           }
          ],
          "contour": [
           {
            "colorbar": {
             "outlinewidth": 0,
             "ticks": ""
            },
            "colorscale": [
             [
              0,
              "#0d0887"
             ],
             [
              0.1111111111111111,
              "#46039f"
             ],
             [
              0.2222222222222222,
              "#7201a8"
             ],
             [
              0.3333333333333333,
              "#9c179e"
             ],
             [
              0.4444444444444444,
              "#bd3786"
             ],
             [
              0.5555555555555556,
              "#d8576b"
             ],
             [
              0.6666666666666666,
              "#ed7953"
             ],
             [
              0.7777777777777778,
              "#fb9f3a"
             ],
             [
              0.8888888888888888,
              "#fdca26"
             ],
             [
              1,
              "#f0f921"
             ]
            ],
            "type": "contour"
           }
          ],
          "contourcarpet": [
           {
            "colorbar": {
             "outlinewidth": 0,
             "ticks": ""
            },
            "type": "contourcarpet"
           }
          ],
          "heatmap": [
           {
            "colorbar": {
             "outlinewidth": 0,
             "ticks": ""
            },
            "colorscale": [
             [
              0,
              "#0d0887"
             ],
             [
              0.1111111111111111,
              "#46039f"
             ],
             [
              0.2222222222222222,
              "#7201a8"
             ],
             [
              0.3333333333333333,
              "#9c179e"
             ],
             [
              0.4444444444444444,
              "#bd3786"
             ],
             [
              0.5555555555555556,
              "#d8576b"
             ],
             [
              0.6666666666666666,
              "#ed7953"
             ],
             [
              0.7777777777777778,
              "#fb9f3a"
             ],
             [
              0.8888888888888888,
              "#fdca26"
             ],
             [
              1,
              "#f0f921"
             ]
            ],
            "type": "heatmap"
           }
          ],
          "heatmapgl": [
           {
            "colorbar": {
             "outlinewidth": 0,
             "ticks": ""
            },
            "colorscale": [
             [
              0,
              "#0d0887"
             ],
             [
              0.1111111111111111,
              "#46039f"
             ],
             [
              0.2222222222222222,
              "#7201a8"
             ],
             [
              0.3333333333333333,
              "#9c179e"
             ],
             [
              0.4444444444444444,
              "#bd3786"
             ],
             [
              0.5555555555555556,
              "#d8576b"
             ],
             [
              0.6666666666666666,
              "#ed7953"
             ],
             [
              0.7777777777777778,
              "#fb9f3a"
             ],
             [
              0.8888888888888888,
              "#fdca26"
             ],
             [
              1,
              "#f0f921"
             ]
            ],
            "type": "heatmapgl"
           }
          ],
          "histogram": [
           {
            "marker": {
             "pattern": {
              "fillmode": "overlay",
              "size": 10,
              "solidity": 0.2
             }
            },
            "type": "histogram"
           }
          ],
          "histogram2d": [
           {
            "colorbar": {
             "outlinewidth": 0,
             "ticks": ""
            },
            "colorscale": [
             [
              0,
              "#0d0887"
             ],
             [
              0.1111111111111111,
              "#46039f"
             ],
             [
              0.2222222222222222,
              "#7201a8"
             ],
             [
              0.3333333333333333,
              "#9c179e"
             ],
             [
              0.4444444444444444,
              "#bd3786"
             ],
             [
              0.5555555555555556,
              "#d8576b"
             ],
             [
              0.6666666666666666,
              "#ed7953"
             ],
             [
              0.7777777777777778,
              "#fb9f3a"
             ],
             [
              0.8888888888888888,
              "#fdca26"
             ],
             [
              1,
              "#f0f921"
             ]
            ],
            "type": "histogram2d"
           }
          ],
          "histogram2dcontour": [
           {
            "colorbar": {
             "outlinewidth": 0,
             "ticks": ""
            },
            "colorscale": [
             [
              0,
              "#0d0887"
             ],
             [
              0.1111111111111111,
              "#46039f"
             ],
             [
              0.2222222222222222,
              "#7201a8"
             ],
             [
              0.3333333333333333,
              "#9c179e"
             ],
             [
              0.4444444444444444,
              "#bd3786"
             ],
             [
              0.5555555555555556,
              "#d8576b"
             ],
             [
              0.6666666666666666,
              "#ed7953"
             ],
             [
              0.7777777777777778,
              "#fb9f3a"
             ],
             [
              0.8888888888888888,
              "#fdca26"
             ],
             [
              1,
              "#f0f921"
             ]
            ],
            "type": "histogram2dcontour"
           }
          ],
          "mesh3d": [
           {
            "colorbar": {
             "outlinewidth": 0,
             "ticks": ""
            },
            "type": "mesh3d"
           }
          ],
          "parcoords": [
           {
            "line": {
             "colorbar": {
              "outlinewidth": 0,
              "ticks": ""
             }
            },
            "type": "parcoords"
           }
          ],
          "pie": [
           {
            "automargin": true,
            "type": "pie"
           }
          ],
          "scatter": [
           {
            "fillpattern": {
             "fillmode": "overlay",
             "size": 10,
             "solidity": 0.2
            },
            "type": "scatter"
           }
          ],
          "scatter3d": [
           {
            "line": {
             "colorbar": {
              "outlinewidth": 0,
              "ticks": ""
             }
            },
            "marker": {
             "colorbar": {
              "outlinewidth": 0,
              "ticks": ""
             }
            },
            "type": "scatter3d"
           }
          ],
          "scattercarpet": [
           {
            "marker": {
             "colorbar": {
              "outlinewidth": 0,
              "ticks": ""
             }
            },
            "type": "scattercarpet"
           }
          ],
          "scattergeo": [
           {
            "marker": {
             "colorbar": {
              "outlinewidth": 0,
              "ticks": ""
             }
            },
            "type": "scattergeo"
           }
          ],
          "scattergl": [
           {
            "marker": {
             "colorbar": {
              "outlinewidth": 0,
              "ticks": ""
             }
            },
            "type": "scattergl"
           }
          ],
          "scattermapbox": [
           {
            "marker": {
             "colorbar": {
              "outlinewidth": 0,
              "ticks": ""
             }
            },
            "type": "scattermapbox"
           }
          ],
          "scatterpolar": [
           {
            "marker": {
             "colorbar": {
              "outlinewidth": 0,
              "ticks": ""
             }
            },
            "type": "scatterpolar"
           }
          ],
          "scatterpolargl": [
           {
            "marker": {
             "colorbar": {
              "outlinewidth": 0,
              "ticks": ""
             }
            },
            "type": "scatterpolargl"
           }
          ],
          "scatterternary": [
           {
            "marker": {
             "colorbar": {
              "outlinewidth": 0,
              "ticks": ""
             }
            },
            "type": "scatterternary"
           }
          ],
          "surface": [
           {
            "colorbar": {
             "outlinewidth": 0,
             "ticks": ""
            },
            "colorscale": [
             [
              0,
              "#0d0887"
             ],
             [
              0.1111111111111111,
              "#46039f"
             ],
             [
              0.2222222222222222,
              "#7201a8"
             ],
             [
              0.3333333333333333,
              "#9c179e"
             ],
             [
              0.4444444444444444,
              "#bd3786"
             ],
             [
              0.5555555555555556,
              "#d8576b"
             ],
             [
              0.6666666666666666,
              "#ed7953"
             ],
             [
              0.7777777777777778,
              "#fb9f3a"
             ],
             [
              0.8888888888888888,
              "#fdca26"
             ],
             [
              1,
              "#f0f921"
             ]
            ],
            "type": "surface"
           }
          ],
          "table": [
           {
            "cells": {
             "fill": {
              "color": "#EBF0F8"
             },
             "line": {
              "color": "white"
             }
            },
            "header": {
             "fill": {
              "color": "#C8D4E3"
             },
             "line": {
              "color": "white"
             }
            },
            "type": "table"
           }
          ]
         },
         "layout": {
          "annotationdefaults": {
           "arrowcolor": "#2a3f5f",
           "arrowhead": 0,
           "arrowwidth": 1
          },
          "autotypenumbers": "strict",
          "coloraxis": {
           "colorbar": {
            "outlinewidth": 0,
            "ticks": ""
           }
          },
          "colorscale": {
           "diverging": [
            [
             0,
             "#8e0152"
            ],
            [
             0.1,
             "#c51b7d"
            ],
            [
             0.2,
             "#de77ae"
            ],
            [
             0.3,
             "#f1b6da"
            ],
            [
             0.4,
             "#fde0ef"
            ],
            [
             0.5,
             "#f7f7f7"
            ],
            [
             0.6,
             "#e6f5d0"
            ],
            [
             0.7,
             "#b8e186"
            ],
            [
             0.8,
             "#7fbc41"
            ],
            [
             0.9,
             "#4d9221"
            ],
            [
             1,
             "#276419"
            ]
           ],
           "sequential": [
            [
             0,
             "#0d0887"
            ],
            [
             0.1111111111111111,
             "#46039f"
            ],
            [
             0.2222222222222222,
             "#7201a8"
            ],
            [
             0.3333333333333333,
             "#9c179e"
            ],
            [
             0.4444444444444444,
             "#bd3786"
            ],
            [
             0.5555555555555556,
             "#d8576b"
            ],
            [
             0.6666666666666666,
             "#ed7953"
            ],
            [
             0.7777777777777778,
             "#fb9f3a"
            ],
            [
             0.8888888888888888,
             "#fdca26"
            ],
            [
             1,
             "#f0f921"
            ]
           ],
           "sequentialminus": [
            [
             0,
             "#0d0887"
            ],
            [
             0.1111111111111111,
             "#46039f"
            ],
            [
             0.2222222222222222,
             "#7201a8"
            ],
            [
             0.3333333333333333,
             "#9c179e"
            ],
            [
             0.4444444444444444,
             "#bd3786"
            ],
            [
             0.5555555555555556,
             "#d8576b"
            ],
            [
             0.6666666666666666,
             "#ed7953"
            ],
            [
             0.7777777777777778,
             "#fb9f3a"
            ],
            [
             0.8888888888888888,
             "#fdca26"
            ],
            [
             1,
             "#f0f921"
            ]
           ]
          },
          "colorway": [
           "#636efa",
           "#EF553B",
           "#00cc96",
           "#ab63fa",
           "#FFA15A",
           "#19d3f3",
           "#FF6692",
           "#B6E880",
           "#FF97FF",
           "#FECB52"
          ],
          "font": {
           "color": "#2a3f5f"
          },
          "geo": {
           "bgcolor": "white",
           "lakecolor": "white",
           "landcolor": "#E5ECF6",
           "showlakes": true,
           "showland": true,
           "subunitcolor": "white"
          },
          "hoverlabel": {
           "align": "left"
          },
          "hovermode": "closest",
          "mapbox": {
           "style": "light"
          },
          "paper_bgcolor": "white",
          "plot_bgcolor": "#E5ECF6",
          "polar": {
           "angularaxis": {
            "gridcolor": "white",
            "linecolor": "white",
            "ticks": ""
           },
           "bgcolor": "#E5ECF6",
           "radialaxis": {
            "gridcolor": "white",
            "linecolor": "white",
            "ticks": ""
           }
          },
          "scene": {
           "xaxis": {
            "backgroundcolor": "#E5ECF6",
            "gridcolor": "white",
            "gridwidth": 2,
            "linecolor": "white",
            "showbackground": true,
            "ticks": "",
            "zerolinecolor": "white"
           },
           "yaxis": {
            "backgroundcolor": "#E5ECF6",
            "gridcolor": "white",
            "gridwidth": 2,
            "linecolor": "white",
            "showbackground": true,
            "ticks": "",
            "zerolinecolor": "white"
           },
           "zaxis": {
            "backgroundcolor": "#E5ECF6",
            "gridcolor": "white",
            "gridwidth": 2,
            "linecolor": "white",
            "showbackground": true,
            "ticks": "",
            "zerolinecolor": "white"
           }
          },
          "shapedefaults": {
           "line": {
            "color": "#2a3f5f"
           }
          },
          "ternary": {
           "aaxis": {
            "gridcolor": "white",
            "linecolor": "white",
            "ticks": ""
           },
           "baxis": {
            "gridcolor": "white",
            "linecolor": "white",
            "ticks": ""
           },
           "bgcolor": "#E5ECF6",
           "caxis": {
            "gridcolor": "white",
            "linecolor": "white",
            "ticks": ""
           }
          },
          "title": {
           "x": 0.05
          },
          "xaxis": {
           "automargin": true,
           "gridcolor": "white",
           "linecolor": "white",
           "ticks": "",
           "title": {
            "standoff": 15
           },
           "zerolinecolor": "white",
           "zerolinewidth": 2
          },
          "yaxis": {
           "automargin": true,
           "gridcolor": "white",
           "linecolor": "white",
           "ticks": "",
           "title": {
            "standoff": 15
           },
           "zerolinecolor": "white",
           "zerolinewidth": 2
          }
         }
        },
        "title": {
         "text": "Optimization History Plot"
        },
        "xaxis": {
         "title": {
          "text": "Trial"
         }
        },
        "yaxis": {
         "title": {
          "text": "Objective Value"
         }
        }
       }
      }
     },
     "metadata": {},
     "output_type": "display_data"
    }
   ],
   "source": [
    "optuna.visualization.plot_optimization_history(study)"
   ]
  }
 ],
 "metadata": {
  "kernelspec": {
   "display_name": ".venv",
   "language": "python",
   "name": "python3"
  },
  "language_info": {
   "codemirror_mode": {
    "name": "ipython",
    "version": 3
   },
   "file_extension": ".py",
   "mimetype": "text/x-python",
   "name": "python",
   "nbconvert_exporter": "python",
   "pygments_lexer": "ipython3",
   "version": "3.11.8"
  }
 },
 "nbformat": 4,
 "nbformat_minor": 2
}
