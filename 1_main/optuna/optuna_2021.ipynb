{
 "cells": [
  {
   "cell_type": "markdown",
   "metadata": {},
   "source": [
    "### <font color=\"orange\">ライブラリ読み込み</font>"
   ]
  },
  {
   "cell_type": "code",
   "execution_count": 1,
   "metadata": {},
   "outputs": [],
   "source": [
    "import numpy as np\n",
    "import pandas as pd\n",
    "import matplotlib.pyplot as plt"
   ]
  },
  {
   "cell_type": "code",
   "execution_count": 2,
   "metadata": {},
   "outputs": [],
   "source": [
    "pd.set_option('display.max_rows', 50)\n",
    "pd.set_option('display.max_columns', 50)"
   ]
  },
  {
   "cell_type": "code",
   "execution_count": 3,
   "metadata": {},
   "outputs": [],
   "source": [
    "# データフレームを水平に表示する。\n",
    "def show_many_dfs(*dfs, n=10):\n",
    "    class HorizontalDisplay:\n",
    "        def _repr_html_(self):\n",
    "            template = '<div style=\"float: left; padding: 5px;\">{}</div>'\n",
    "            return  ''.join(template.format(df.head(n)._repr_html_()) for df in dfs)\n",
    "    return HorizontalDisplay()"
   ]
  },
  {
   "cell_type": "markdown",
   "metadata": {},
   "source": [
    "### <font color=\"orange\">データ読み込み</font>"
   ]
  },
  {
   "cell_type": "code",
   "execution_count": 4,
   "metadata": {},
   "outputs": [],
   "source": [
    "data_path = \"./make_data_for_mainmodel/maked_data.csv\""
   ]
  },
  {
   "cell_type": "code",
   "execution_count": 5,
   "metadata": {},
   "outputs": [
    {
     "data": {
      "text/html": [
       "<div>\n",
       "<style scoped>\n",
       "    .dataframe tbody tr th:only-of-type {\n",
       "        vertical-align: middle;\n",
       "    }\n",
       "\n",
       "    .dataframe tbody tr th {\n",
       "        vertical-align: top;\n",
       "    }\n",
       "\n",
       "    .dataframe thead th {\n",
       "        text-align: right;\n",
       "    }\n",
       "</style>\n",
       "<table border=\"1\" class=\"dataframe\">\n",
       "  <thead>\n",
       "    <tr style=\"text-align: right;\">\n",
       "      <th></th>\n",
       "      <th>pitch_name</th>\n",
       "      <th>game_year</th>\n",
       "      <th>game_month</th>\n",
       "      <th>game_day</th>\n",
       "      <th>home_team</th>\n",
       "      <th>LAA_score</th>\n",
       "      <th>ENEMY_score</th>\n",
       "      <th>score_difference</th>\n",
       "      <th>is_LAA_score_is_higher</th>\n",
       "      <th>stand</th>\n",
       "      <th>on_3b</th>\n",
       "      <th>on_2b</th>\n",
       "      <th>on_1b</th>\n",
       "      <th>count_runner</th>\n",
       "      <th>inning</th>\n",
       "      <th>pitch_number</th>\n",
       "      <th>pitch_count_per_inning</th>\n",
       "      <th>pitch_count_per_game</th>\n",
       "      <th>outs_when_up</th>\n",
       "      <th>balls</th>\n",
       "      <th>strikes</th>\n",
       "      <th>sz_top</th>\n",
       "      <th>sz_bot</th>\n",
       "      <th>is_first_pitch_number</th>\n",
       "      <th>release_speed</th>\n",
       "      <th>release_pos_x</th>\n",
       "      <th>release_pos_y</th>\n",
       "      <th>is_incourse_ball</th>\n",
       "      <th>is_high_ball</th>\n",
       "      <th>release_pos_z</th>\n",
       "      <th>release_spin_rate</th>\n",
       "      <th>release_extension</th>\n",
       "      <th>plate_x</th>\n",
       "      <th>plate_z</th>\n",
       "      <th>events</th>\n",
       "      <th>description</th>\n",
       "      <th>zone</th>\n",
       "      <th>type</th>\n",
       "      <th>hc_x</th>\n",
       "      <th>hc_y</th>\n",
       "      <th>one_pitch_ago</th>\n",
       "      <th>two_pitches_ago</th>\n",
       "      <th>three_pitches_ago</th>\n",
       "    </tr>\n",
       "  </thead>\n",
       "  <tbody>\n",
       "    <tr>\n",
       "      <th>0</th>\n",
       "      <td>1</td>\n",
       "      <td>2018</td>\n",
       "      <td>4</td>\n",
       "      <td>1</td>\n",
       "      <td>1</td>\n",
       "      <td>0</td>\n",
       "      <td>0</td>\n",
       "      <td>0</td>\n",
       "      <td>0</td>\n",
       "      <td>0</td>\n",
       "      <td>0</td>\n",
       "      <td>0</td>\n",
       "      <td>0</td>\n",
       "      <td>0</td>\n",
       "      <td>1</td>\n",
       "      <td>1</td>\n",
       "      <td>1</td>\n",
       "      <td>1</td>\n",
       "      <td>0</td>\n",
       "      <td>0</td>\n",
       "      <td>0</td>\n",
       "      <td>3.54</td>\n",
       "      <td>1.60</td>\n",
       "      <td>1</td>\n",
       "      <td>NaN</td>\n",
       "      <td>NaN</td>\n",
       "      <td>NaN</td>\n",
       "      <td>NaN</td>\n",
       "      <td>NaN</td>\n",
       "      <td>NaN</td>\n",
       "      <td>NaN</td>\n",
       "      <td>NaN</td>\n",
       "      <td>NaN</td>\n",
       "      <td>NaN</td>\n",
       "      <td>NaN</td>\n",
       "      <td>NaN</td>\n",
       "      <td>NaN</td>\n",
       "      <td>NaN</td>\n",
       "      <td>NaN</td>\n",
       "      <td>NaN</td>\n",
       "      <td>NaN</td>\n",
       "      <td>NaN</td>\n",
       "      <td>NaN</td>\n",
       "    </tr>\n",
       "    <tr>\n",
       "      <th>1</th>\n",
       "      <td>0</td>\n",
       "      <td>2018</td>\n",
       "      <td>4</td>\n",
       "      <td>1</td>\n",
       "      <td>1</td>\n",
       "      <td>0</td>\n",
       "      <td>0</td>\n",
       "      <td>0</td>\n",
       "      <td>0</td>\n",
       "      <td>0</td>\n",
       "      <td>0</td>\n",
       "      <td>0</td>\n",
       "      <td>0</td>\n",
       "      <td>0</td>\n",
       "      <td>1</td>\n",
       "      <td>2</td>\n",
       "      <td>2</td>\n",
       "      <td>2</td>\n",
       "      <td>0</td>\n",
       "      <td>0</td>\n",
       "      <td>1</td>\n",
       "      <td>3.33</td>\n",
       "      <td>1.46</td>\n",
       "      <td>0</td>\n",
       "      <td>96.4</td>\n",
       "      <td>-2.16</td>\n",
       "      <td>54.05</td>\n",
       "      <td>1.0</td>\n",
       "      <td>0.0</td>\n",
       "      <td>6.20</td>\n",
       "      <td>2107.0</td>\n",
       "      <td>6.4</td>\n",
       "      <td>-0.36</td>\n",
       "      <td>2.81</td>\n",
       "      <td>19.0</td>\n",
       "      <td>2.0</td>\n",
       "      <td>4.0</td>\n",
       "      <td>0.0</td>\n",
       "      <td>0.0</td>\n",
       "      <td>0.0</td>\n",
       "      <td>4-Seam Fastball</td>\n",
       "      <td>NaN</td>\n",
       "      <td>NaN</td>\n",
       "    </tr>\n",
       "    <tr>\n",
       "      <th>2</th>\n",
       "      <td>0</td>\n",
       "      <td>2018</td>\n",
       "      <td>4</td>\n",
       "      <td>1</td>\n",
       "      <td>1</td>\n",
       "      <td>0</td>\n",
       "      <td>0</td>\n",
       "      <td>0</td>\n",
       "      <td>0</td>\n",
       "      <td>0</td>\n",
       "      <td>0</td>\n",
       "      <td>0</td>\n",
       "      <td>0</td>\n",
       "      <td>0</td>\n",
       "      <td>1</td>\n",
       "      <td>3</td>\n",
       "      <td>3</td>\n",
       "      <td>3</td>\n",
       "      <td>0</td>\n",
       "      <td>0</td>\n",
       "      <td>2</td>\n",
       "      <td>3.59</td>\n",
       "      <td>1.66</td>\n",
       "      <td>0</td>\n",
       "      <td>81.5</td>\n",
       "      <td>-2.36</td>\n",
       "      <td>54.42</td>\n",
       "      <td>0.0</td>\n",
       "      <td>1.0</td>\n",
       "      <td>6.03</td>\n",
       "      <td>2355.0</td>\n",
       "      <td>6.1</td>\n",
       "      <td>0.21</td>\n",
       "      <td>3.43</td>\n",
       "      <td>19.0</td>\n",
       "      <td>9.0</td>\n",
       "      <td>2.0</td>\n",
       "      <td>0.0</td>\n",
       "      <td>0.0</td>\n",
       "      <td>0.0</td>\n",
       "      <td>Sweeper</td>\n",
       "      <td>4-Seam Fastball</td>\n",
       "      <td>NaN</td>\n",
       "    </tr>\n",
       "    <tr>\n",
       "      <th>3</th>\n",
       "      <td>0</td>\n",
       "      <td>2018</td>\n",
       "      <td>4</td>\n",
       "      <td>1</td>\n",
       "      <td>1</td>\n",
       "      <td>0</td>\n",
       "      <td>0</td>\n",
       "      <td>0</td>\n",
       "      <td>0</td>\n",
       "      <td>0</td>\n",
       "      <td>0</td>\n",
       "      <td>0</td>\n",
       "      <td>0</td>\n",
       "      <td>0</td>\n",
       "      <td>1</td>\n",
       "      <td>4</td>\n",
       "      <td>4</td>\n",
       "      <td>4</td>\n",
       "      <td>0</td>\n",
       "      <td>1</td>\n",
       "      <td>2</td>\n",
       "      <td>3.33</td>\n",
       "      <td>1.46</td>\n",
       "      <td>0</td>\n",
       "      <td>83.6</td>\n",
       "      <td>-2.36</td>\n",
       "      <td>54.43</td>\n",
       "      <td>0.0</td>\n",
       "      <td>1.0</td>\n",
       "      <td>6.01</td>\n",
       "      <td>2368.0</td>\n",
       "      <td>6.1</td>\n",
       "      <td>0.24</td>\n",
       "      <td>3.67</td>\n",
       "      <td>19.0</td>\n",
       "      <td>0.0</td>\n",
       "      <td>2.0</td>\n",
       "      <td>1.0</td>\n",
       "      <td>0.0</td>\n",
       "      <td>0.0</td>\n",
       "      <td>Sweeper</td>\n",
       "      <td>Sweeper</td>\n",
       "      <td>4-Seam Fastball</td>\n",
       "    </tr>\n",
       "    <tr>\n",
       "      <th>4</th>\n",
       "      <td>1</td>\n",
       "      <td>2018</td>\n",
       "      <td>4</td>\n",
       "      <td>1</td>\n",
       "      <td>1</td>\n",
       "      <td>0</td>\n",
       "      <td>0</td>\n",
       "      <td>0</td>\n",
       "      <td>0</td>\n",
       "      <td>1</td>\n",
       "      <td>0</td>\n",
       "      <td>0</td>\n",
       "      <td>0</td>\n",
       "      <td>0</td>\n",
       "      <td>1</td>\n",
       "      <td>1</td>\n",
       "      <td>5</td>\n",
       "      <td>5</td>\n",
       "      <td>1</td>\n",
       "      <td>0</td>\n",
       "      <td>0</td>\n",
       "      <td>3.22</td>\n",
       "      <td>1.40</td>\n",
       "      <td>1</td>\n",
       "      <td>NaN</td>\n",
       "      <td>NaN</td>\n",
       "      <td>NaN</td>\n",
       "      <td>NaN</td>\n",
       "      <td>NaN</td>\n",
       "      <td>NaN</td>\n",
       "      <td>NaN</td>\n",
       "      <td>NaN</td>\n",
       "      <td>NaN</td>\n",
       "      <td>NaN</td>\n",
       "      <td>NaN</td>\n",
       "      <td>NaN</td>\n",
       "      <td>NaN</td>\n",
       "      <td>NaN</td>\n",
       "      <td>NaN</td>\n",
       "      <td>NaN</td>\n",
       "      <td>NaN</td>\n",
       "      <td>NaN</td>\n",
       "      <td>NaN</td>\n",
       "    </tr>\n",
       "  </tbody>\n",
       "</table>\n",
       "</div>"
      ],
      "text/plain": [
       "   pitch_name  game_year  game_month  game_day  home_team  LAA_score  \\\n",
       "0           1       2018           4         1          1          0   \n",
       "1           0       2018           4         1          1          0   \n",
       "2           0       2018           4         1          1          0   \n",
       "3           0       2018           4         1          1          0   \n",
       "4           1       2018           4         1          1          0   \n",
       "\n",
       "   ENEMY_score  score_difference  is_LAA_score_is_higher  stand  on_3b  on_2b  \\\n",
       "0            0                 0                       0      0      0      0   \n",
       "1            0                 0                       0      0      0      0   \n",
       "2            0                 0                       0      0      0      0   \n",
       "3            0                 0                       0      0      0      0   \n",
       "4            0                 0                       0      1      0      0   \n",
       "\n",
       "   on_1b  count_runner  inning  pitch_number  pitch_count_per_inning  \\\n",
       "0      0             0       1             1                       1   \n",
       "1      0             0       1             2                       2   \n",
       "2      0             0       1             3                       3   \n",
       "3      0             0       1             4                       4   \n",
       "4      0             0       1             1                       5   \n",
       "\n",
       "   pitch_count_per_game  outs_when_up  balls  strikes  sz_top  sz_bot  \\\n",
       "0                     1             0      0        0    3.54    1.60   \n",
       "1                     2             0      0        1    3.33    1.46   \n",
       "2                     3             0      0        2    3.59    1.66   \n",
       "3                     4             0      1        2    3.33    1.46   \n",
       "4                     5             1      0        0    3.22    1.40   \n",
       "\n",
       "   is_first_pitch_number  release_speed  release_pos_x  release_pos_y  \\\n",
       "0                      1            NaN            NaN            NaN   \n",
       "1                      0           96.4          -2.16          54.05   \n",
       "2                      0           81.5          -2.36          54.42   \n",
       "3                      0           83.6          -2.36          54.43   \n",
       "4                      1            NaN            NaN            NaN   \n",
       "\n",
       "   is_incourse_ball  is_high_ball  release_pos_z  release_spin_rate  \\\n",
       "0               NaN           NaN            NaN                NaN   \n",
       "1               1.0           0.0           6.20             2107.0   \n",
       "2               0.0           1.0           6.03             2355.0   \n",
       "3               0.0           1.0           6.01             2368.0   \n",
       "4               NaN           NaN            NaN                NaN   \n",
       "\n",
       "   release_extension  plate_x  plate_z  events  description  zone  type  hc_x  \\\n",
       "0                NaN      NaN      NaN     NaN          NaN   NaN   NaN   NaN   \n",
       "1                6.4    -0.36     2.81    19.0          2.0   4.0   0.0   0.0   \n",
       "2                6.1     0.21     3.43    19.0          9.0   2.0   0.0   0.0   \n",
       "3                6.1     0.24     3.67    19.0          0.0   2.0   1.0   0.0   \n",
       "4                NaN      NaN      NaN     NaN          NaN   NaN   NaN   NaN   \n",
       "\n",
       "   hc_y    one_pitch_ago  two_pitches_ago three_pitches_ago  \n",
       "0   NaN              NaN              NaN               NaN  \n",
       "1   0.0  4-Seam Fastball              NaN               NaN  \n",
       "2   0.0          Sweeper  4-Seam Fastball               NaN  \n",
       "3   0.0          Sweeper          Sweeper   4-Seam Fastball  \n",
       "4   NaN              NaN              NaN               NaN  "
      ]
     },
     "execution_count": 5,
     "metadata": {},
     "output_type": "execute_result"
    }
   ],
   "source": [
    "data = pd.read_csv(data_path)\n",
    "data.head()"
   ]
  },
  {
   "cell_type": "code",
   "execution_count": 6,
   "metadata": {},
   "outputs": [
    {
     "name": "stdout",
     "output_type": "stream",
     "text": [
      "2022年 : (2629, 43)\n",
      "2023年 : (2094, 43)\n"
     ]
    }
   ],
   "source": [
    "print(f\"2022年 : {data[data['game_year'].isin([2022])].shape}\")\n",
    "print(f\"2023年 : {data[data['game_year'].isin([2023])].shape}\")"
   ]
  },
  {
   "cell_type": "markdown",
   "metadata": {},
   "source": [
    "### <font color=\"orange\">データタイプ確認</font>"
   ]
  },
  {
   "cell_type": "code",
   "execution_count": 7,
   "metadata": {},
   "outputs": [
    {
     "data": {
      "text/plain": [
       "['one_pitch_ago', 'two_pitches_ago', 'three_pitches_ago']"
      ]
     },
     "execution_count": 7,
     "metadata": {},
     "output_type": "execute_result"
    }
   ],
   "source": [
    "# int, float以外のカラムがあるか確認\n",
    "data.select_dtypes(exclude=[\"int\", \"float\"]).columns.to_list()"
   ]
  },
  {
   "cell_type": "markdown",
   "metadata": {},
   "source": [
    "### <font color=\"orange\">train_data, test_dataに分割</font>"
   ]
  },
  {
   "cell_type": "code",
   "execution_count": 8,
   "metadata": {},
   "outputs": [
    {
     "data": {
      "text/plain": [
       "((1621, 39), (406, 39))"
      ]
     },
     "execution_count": 8,
     "metadata": {},
     "output_type": "execute_result"
    }
   ],
   "source": [
    "def make_train_test_data(select_game_year):\n",
    "    \n",
    "    data = pd.read_csv(data_path)\n",
    "    \n",
    "    categolical_list = [\n",
    "        \"outs_when_up\",\n",
    "        \"balls\",\n",
    "        \"strikes\",\n",
    "        \"events\",\n",
    "        \"description\",\n",
    "        \"zone\",\n",
    "        \"type\",\n",
    "        \"one_pitch_ago\",\n",
    "        \"two_pitches_ago\",\n",
    "        \"three_pitches_ago\",\n",
    "    ]\n",
    "    \n",
    "    data[categolical_list] = data[categolical_list].astype(\"category\")\n",
    "    \n",
    "    # 対象年度の抽出\n",
    "    data = data[data[\"game_year\"].isin(select_game_year)]\n",
    "    del data[\"game_year\"]\n",
    "    del data[\"game_month\"]\n",
    "    del data[\"game_day\"]\n",
    "    \n",
    "    X = data.drop(\"pitch_name\", axis=1)\n",
    "    y = data[\"pitch_name\"]\n",
    "    \n",
    "    # データを前半80%（train_data）と後半20%（test_data）に分割\n",
    "    split_index = int(len(data) * 0.8)\n",
    "    X_train = X.iloc[: split_index]\n",
    "    y_train = y.iloc[: split_index]\n",
    "    X_test = X.iloc[split_index : ]\n",
    "    y_test = y.iloc[split_index : ]\n",
    "\n",
    "    \n",
    "    if y_train.nunique() != y_test.nunique():\n",
    "        raise ValueError(\"train_dataとtest_dataの要素が一致していません。\")\n",
    "    \n",
    "    \n",
    "    return X_train, y_train, X_test, y_test\n",
    "\n",
    "X_train, y_train, X_test, y_test = make_train_test_data(select_game_year=[2021])\n",
    "\n",
    "# 確認\n",
    "X_train.shape, X_test.shape"
   ]
  },
  {
   "cell_type": "code",
   "execution_count": 9,
   "metadata": {},
   "outputs": [
    {
     "data": {
      "text/plain": [
       "Index(['outs_when_up', 'balls', 'strikes', 'events', 'description', 'zone',\n",
       "       'type', 'one_pitch_ago', 'two_pitches_ago', 'three_pitches_ago'],\n",
       "      dtype='object')"
      ]
     },
     "execution_count": 9,
     "metadata": {},
     "output_type": "execute_result"
    }
   ],
   "source": [
    "# カテゴリー変数の確認\n",
    "X_train.select_dtypes(include=\"category\").columns"
   ]
  },
  {
   "cell_type": "markdown",
   "metadata": {},
   "source": [
    "### <font color=\"orange\">モデル学習、予測</font>"
   ]
  },
  {
   "cell_type": "code",
   "execution_count": 10,
   "metadata": {},
   "outputs": [],
   "source": [
    "# カスタムメトリック定義\n",
    "from sklearn.metrics import f1_score, accuracy_score, log_loss\n",
    "\n",
    "def custom_f1(y_pred, dataset):\n",
    "    y_true = dataset.get_label()\n",
    "    score = f1_score(y_true=y_true, y_pred=np.round(y_pred), average=\"macro\")\n",
    "    return \"f1\", score, True\n",
    "\n",
    "def custom_accuracy(y_pred, dataset):\n",
    "    y_true = dataset.get_label()\n",
    "    auc_score = accuracy_score(y_true=y_true, y_pred=np.round(y_pred))\n",
    "    return \"acu\", auc_score, True\n",
    "\n",
    "def custom_multi_logloss(y_pred, dataset):\n",
    "    y_true = dataset.get_label()\n",
    "    multi_logloss = log_loss(y_true=y_true, y_pred=y_pred)\n",
    "    return \"multi_logloss\", multi_logloss, False"
   ]
  },
  {
   "cell_type": "code",
   "execution_count": 11,
   "metadata": {},
   "outputs": [],
   "source": [
    "import lightgbm as lgb\n",
    "\n",
    "num_boost_round = 500\n",
    "\n",
    "# data作成\n",
    "select_game_year = [2021]\n",
    "X_train, y_train, X_test, y_test = make_train_test_data(select_game_year=select_game_year)\n",
    "\n",
    "# train_dataをtrain_data（前半80%）とvalid_data（後半20%）に分割\n",
    "split_index = int(len(X_train) * 0.8)\n",
    "X_valid = X_train.iloc[split_index : ].copy()\n",
    "y_valid = y_train.iloc[split_index : ].copy()\n",
    "X_train = X_train.iloc[ : split_index].copy()\n",
    "y_train = y_train.iloc[ : split_index].copy()\n",
    "\n",
    "def objective(trial):\n",
    "    \n",
    "    params = {\n",
    "        \"boosting\" : \"gbdt\",\n",
    "        \"objective\" : \"binary\",\n",
    "        \"metric\" : \"None\",\n",
    "        \"seed\" : 42,\n",
    "        \"verbose\" : -1,\n",
    "        \"num_threads\" : 2,\n",
    "        \n",
    "        \"learning_rate\" : trial.suggest_float(\"learning_rate\", 0.06, 0.1),\n",
    "        \"is_unbalance\" : trial.suggest_categorical(\"is_unbalance\", [True, False]),\n",
    "        \"extra_trees\" : True\n",
    "    }\n",
    "\n",
    "    lgb_train = lgb.Dataset(X_train, y_train)\n",
    "    lgb_eval = lgb.Dataset(X_valid, y_valid, reference=lgb_train)\n",
    "\n",
    "    # 誤差プロットの格納用データ\n",
    "    evals_result = {}\n",
    "\n",
    "    model = lgb.train(params=params,\n",
    "                      train_set=lgb_train,\n",
    "                      num_boost_round=num_boost_round,\n",
    "                      valid_sets=[lgb_train, lgb_eval],\n",
    "                      valid_names=[\"train\", \"valid\"],\n",
    "                      feval= [custom_f1, custom_accuracy, custom_multi_logloss],\n",
    "                      callbacks=[lgb.record_evaluation(evals_result)]\n",
    "                      )\n",
    "\n",
    "    # 予測\n",
    "    best_iteration = np.array(evals_result[\"valid\"][\"f1\"]).argmax() + 1\n",
    "    # y_valid_pred_proba = model.predict(X_valid, num_iteration=best_iteration)\n",
    "    y_valid_pred_proba = model.predict(X_valid, num_iteration=model.best_iteration)\n",
    "    y_valid_pred = np.round(y_valid_pred_proba)\n",
    "    f1 = f1_score(y_pred=y_valid_pred, y_true=y_valid, average=\"macro\")\n",
    "    \n",
    "    return f1\n"
   ]
  },
  {
   "cell_type": "code",
   "execution_count": 12,
   "metadata": {},
   "outputs": [
    {
     "name": "stderr",
     "output_type": "stream",
     "text": [
      "[I 2024-05-08 20:09:24,583] A new study created in memory with name: no-name-d59f000f-bd87-47df-9bc5-7c1f7b77882f\n",
      "[I 2024-05-08 20:09:26,875] Trial 0 finished with value: 0.570110228146629 and parameters: {'learning_rate': 0.0749816047538945, 'is_unbalance': True}. Best is trial 0 with value: 0.570110228146629.\n",
      "[I 2024-05-08 20:09:29,135] Trial 1 finished with value: 0.564373897707231 and parameters: {'learning_rate': 0.08394633936788147, 'is_unbalance': True}. Best is trial 0 with value: 0.570110228146629.\n",
      "[I 2024-05-08 20:09:31,407] Trial 2 finished with value: 0.576775185849782 and parameters: {'learning_rate': 0.06232334448672798, 'is_unbalance': True}. Best is trial 2 with value: 0.576775185849782.\n",
      "[I 2024-05-08 20:09:33,679] Trial 3 finished with value: 0.5904471544715447 and parameters: {'learning_rate': 0.08832290311184182, 'is_unbalance': False}. Best is trial 3 with value: 0.5904471544715447.\n",
      "[I 2024-05-08 20:09:35,942] Trial 4 finished with value: 0.5834401435529352 and parameters: {'learning_rate': 0.09329770563201686, 'is_unbalance': True}. Best is trial 3 with value: 0.5904471544715447.\n",
      "[I 2024-05-08 20:09:38,214] Trial 5 finished with value: 0.5879618449649843 and parameters: {'learning_rate': 0.06733618039413736, 'is_unbalance': False}. Best is trial 3 with value: 0.5904471544715447.\n",
      "[I 2024-05-08 20:09:40,504] Trial 6 finished with value: 0.5879063773177018 and parameters: {'learning_rate': 0.07727780074568463, 'is_unbalance': False}. Best is trial 3 with value: 0.5904471544715447.\n",
      "[I 2024-05-08 20:09:42,764] Trial 7 finished with value: 0.5802725516329335 and parameters: {'learning_rate': 0.06557975442608167, 'is_unbalance': False}. Best is trial 3 with value: 0.5904471544715447.\n",
      "[I 2024-05-08 20:09:45,018] Trial 8 finished with value: 0.5742241873413576 and parameters: {'learning_rate': 0.07824279936868143, 'is_unbalance': True}. Best is trial 3 with value: 0.5904471544715447.\n",
      "[I 2024-05-08 20:09:47,272] Trial 9 finished with value: 0.5757526311495472 and parameters: {'learning_rate': 0.08056937753654447, 'is_unbalance': True}. Best is trial 3 with value: 0.5904471544715447.\n",
      "[I 2024-05-08 20:09:49,534] Trial 10 finished with value: 0.5783144839141406 and parameters: {'learning_rate': 0.09871752119546261, 'is_unbalance': False}. Best is trial 3 with value: 0.5904471544715447.\n",
      "[I 2024-05-08 20:09:51,787] Trial 11 finished with value: 0.5800694500524913 and parameters: {'learning_rate': 0.08784471213433286, 'is_unbalance': False}. Best is trial 3 with value: 0.5904471544715447.\n",
      "[I 2024-05-08 20:09:54,050] Trial 12 finished with value: 0.5875296814869402 and parameters: {'learning_rate': 0.06848096266225408, 'is_unbalance': False}. Best is trial 3 with value: 0.5904471544715447.\n",
      "[I 2024-05-08 20:09:56,300] Trial 13 finished with value: 0.5716737671253869 and parameters: {'learning_rate': 0.0705789001371158, 'is_unbalance': False}. Best is trial 3 with value: 0.5904471544715447.\n",
      "[I 2024-05-08 20:09:58,551] Trial 14 finished with value: 0.5793269230769231 and parameters: {'learning_rate': 0.08978643597802943, 'is_unbalance': False}. Best is trial 3 with value: 0.5904471544715447.\n",
      "[I 2024-05-08 20:10:00,873] Trial 15 finished with value: 0.5650330503366332 and parameters: {'learning_rate': 0.06069580782968695, 'is_unbalance': False}. Best is trial 3 with value: 0.5904471544715447.\n",
      "[I 2024-05-08 20:10:03,136] Trial 16 finished with value: 0.5695190139634584 and parameters: {'learning_rate': 0.07241505151666106, 'is_unbalance': False}. Best is trial 3 with value: 0.5904471544715447.\n",
      "[I 2024-05-08 20:10:05,399] Trial 17 finished with value: 0.5864255973286912 and parameters: {'learning_rate': 0.08330759159188236, 'is_unbalance': False}. Best is trial 3 with value: 0.5904471544715447.\n",
      "[I 2024-05-08 20:10:07,693] Trial 18 finished with value: 0.5970528455284553 and parameters: {'learning_rate': 0.09712510206734515, 'is_unbalance': False}. Best is trial 18 with value: 0.5970528455284553.\n",
      "[I 2024-05-08 20:10:09,950] Trial 19 finished with value: 0.5849552007028943 and parameters: {'learning_rate': 0.0983711610313756, 'is_unbalance': False}. Best is trial 18 with value: 0.5970528455284553.\n",
      "[I 2024-05-08 20:10:12,206] Trial 20 finished with value: 0.5800694500524913 and parameters: {'learning_rate': 0.09359208054280034, 'is_unbalance': False}. Best is trial 18 with value: 0.5970528455284553.\n",
      "[I 2024-05-08 20:10:14,463] Trial 21 finished with value: 0.5827315037714653 and parameters: {'learning_rate': 0.0911361357267433, 'is_unbalance': False}. Best is trial 18 with value: 0.5970528455284553.\n",
      "[I 2024-05-08 20:10:16,718] Trial 22 finished with value: 0.5971277399848829 and parameters: {'learning_rate': 0.085105717810238, 'is_unbalance': False}. Best is trial 22 with value: 0.5971277399848829.\n",
      "[I 2024-05-08 20:10:19,023] Trial 23 finished with value: 0.5812577991051953 and parameters: {'learning_rate': 0.08611373523856866, 'is_unbalance': False}. Best is trial 22 with value: 0.5971277399848829.\n",
      "[I 2024-05-08 20:10:21,324] Trial 24 finished with value: 0.5793269230769231 and parameters: {'learning_rate': 0.09387984493554663, 'is_unbalance': False}. Best is trial 22 with value: 0.5971277399848829.\n",
      "[I 2024-05-08 20:10:23,589] Trial 25 finished with value: 0.5890103614261238 and parameters: {'learning_rate': 0.09997449754566207, 'is_unbalance': False}. Best is trial 22 with value: 0.5971277399848829.\n",
      "[I 2024-05-08 20:10:25,864] Trial 26 finished with value: 0.593042787771432 and parameters: {'learning_rate': 0.0833290861586531, 'is_unbalance': False}. Best is trial 22 with value: 0.5971277399848829.\n",
      "[I 2024-05-08 20:10:28,122] Trial 27 finished with value: 0.5726495726495726 and parameters: {'learning_rate': 0.08199131505531995, 'is_unbalance': False}. Best is trial 22 with value: 0.5971277399848829.\n",
      "[I 2024-05-08 20:10:30,429] Trial 28 finished with value: 0.5800694500524913 and parameters: {'learning_rate': 0.09589052298370178, 'is_unbalance': False}. Best is trial 22 with value: 0.5971277399848829.\n",
      "[I 2024-05-08 20:10:32,697] Trial 29 finished with value: 0.5892357003468114 and parameters: {'learning_rate': 0.07547897973807853, 'is_unbalance': True}. Best is trial 22 with value: 0.5971277399848829.\n",
      "[I 2024-05-08 20:10:34,966] Trial 30 finished with value: 0.5720912331874899 and parameters: {'learning_rate': 0.08587815664054715, 'is_unbalance': False}. Best is trial 22 with value: 0.5971277399848829.\n",
      "[I 2024-05-08 20:10:37,248] Trial 31 finished with value: 0.5757526311495472 and parameters: {'learning_rate': 0.0888658743851252, 'is_unbalance': False}. Best is trial 22 with value: 0.5971277399848829.\n",
      "[I 2024-05-08 20:10:39,524] Trial 32 finished with value: 0.5757526311495472 and parameters: {'learning_rate': 0.08395748671455137, 'is_unbalance': False}. Best is trial 22 with value: 0.5971277399848829.\n",
      "[I 2024-05-08 20:10:41,776] Trial 33 finished with value: 0.5676394778415232 and parameters: {'learning_rate': 0.08614708308837575, 'is_unbalance': False}. Best is trial 22 with value: 0.5971277399848829.\n",
      "[I 2024-05-08 20:10:44,040] Trial 34 finished with value: 0.5901051012560882 and parameters: {'learning_rate': 0.0905431132048098, 'is_unbalance': True}. Best is trial 22 with value: 0.5971277399848829.\n",
      "[I 2024-05-08 20:10:46,295] Trial 35 finished with value: 0.5665740260004682 and parameters: {'learning_rate': 0.09628178371650002, 'is_unbalance': False}. Best is trial 22 with value: 0.5971277399848829.\n",
      "[I 2024-05-08 20:10:48,550] Trial 36 finished with value: 0.6023801579357135 and parameters: {'learning_rate': 0.07938789111866021, 'is_unbalance': True}. Best is trial 36 with value: 0.6023801579357135.\n",
      "[I 2024-05-08 20:10:50,815] Trial 37 finished with value: 0.5548803376315068 and parameters: {'learning_rate': 0.07922120983460694, 'is_unbalance': True}. Best is trial 36 with value: 0.6023801579357135.\n",
      "[I 2024-05-08 20:10:53,116] Trial 38 finished with value: 0.5786744449846054 and parameters: {'learning_rate': 0.07539918977041479, 'is_unbalance': True}. Best is trial 36 with value: 0.6023801579357135.\n",
      "[I 2024-05-08 20:10:55,371] Trial 39 finished with value: 0.5760912427579095 and parameters: {'learning_rate': 0.08084944076722145, 'is_unbalance': True}. Best is trial 36 with value: 0.6023801579357135.\n",
      "[I 2024-05-08 20:10:57,647] Trial 40 finished with value: 0.5640243902439025 and parameters: {'learning_rate': 0.07242757678791986, 'is_unbalance': True}. Best is trial 36 with value: 0.6023801579357135.\n",
      "[I 2024-05-08 20:10:59,916] Trial 41 finished with value: 0.5735080352095615 and parameters: {'learning_rate': 0.0836976327182914, 'is_unbalance': True}. Best is trial 36 with value: 0.6023801579357135.\n",
      "[I 2024-05-08 20:11:02,240] Trial 42 finished with value: 0.5665740260004682 and parameters: {'learning_rate': 0.07744824684148141, 'is_unbalance': True}. Best is trial 36 with value: 0.6023801579357135.\n",
      "[I 2024-05-08 20:11:04,522] Trial 43 finished with value: 0.5691237660112589 and parameters: {'learning_rate': 0.08762844469244802, 'is_unbalance': False}. Best is trial 36 with value: 0.6023801579357135.\n",
      "[I 2024-05-08 20:11:06,797] Trial 44 finished with value: 0.5800694500524913 and parameters: {'learning_rate': 0.08171407383608544, 'is_unbalance': False}. Best is trial 36 with value: 0.6023801579357135.\n",
      "[I 2024-05-08 20:11:09,074] Trial 45 finished with value: 0.5516497422439813 and parameters: {'learning_rate': 0.08577485610830245, 'is_unbalance': True}. Best is trial 36 with value: 0.6023801579357135.\n",
      "[I 2024-05-08 20:11:11,343] Trial 46 finished with value: 0.5742241873413576 and parameters: {'learning_rate': 0.0913459147340867, 'is_unbalance': False}. Best is trial 36 with value: 0.6023801579357135.\n",
      "[I 2024-05-08 20:11:13,624] Trial 47 finished with value: 0.5864255973286912 and parameters: {'learning_rate': 0.07854423181156484, 'is_unbalance': False}. Best is trial 36 with value: 0.6023801579357135.\n",
      "[I 2024-05-08 20:11:15,911] Trial 48 finished with value: 0.593192279738351 and parameters: {'learning_rate': 0.08780630892136375, 'is_unbalance': False}. Best is trial 36 with value: 0.6023801579357135.\n",
      "[I 2024-05-08 20:11:18,192] Trial 49 finished with value: 0.5731912164432093 and parameters: {'learning_rate': 0.09224631988642196, 'is_unbalance': False}. Best is trial 36 with value: 0.6023801579357135.\n",
      "[I 2024-05-08 20:11:20,495] Trial 50 finished with value: 0.5944465298420396 and parameters: {'learning_rate': 0.08291504947830962, 'is_unbalance': True}. Best is trial 36 with value: 0.6023801579357135.\n",
      "[I 2024-05-08 20:11:22,787] Trial 51 finished with value: 0.5650330503366332 and parameters: {'learning_rate': 0.08437700269464564, 'is_unbalance': True}. Best is trial 36 with value: 0.6023801579357135.\n",
      "[I 2024-05-08 20:11:25,084] Trial 52 finished with value: 0.5875296814869402 and parameters: {'learning_rate': 0.0820195272000294, 'is_unbalance': True}. Best is trial 36 with value: 0.6023801579357135.\n",
      "[I 2024-05-08 20:11:27,392] Trial 53 finished with value: 0.583841463414634 and parameters: {'learning_rate': 0.0877404181876978, 'is_unbalance': True}. Best is trial 36 with value: 0.6023801579357135.\n",
      "[I 2024-05-08 20:11:29,710] Trial 54 finished with value: 0.5852576567817209 and parameters: {'learning_rate': 0.07731648059486759, 'is_unbalance': True}. Best is trial 36 with value: 0.6023801579357135.\n",
      "[I 2024-05-08 20:11:32,016] Trial 55 finished with value: 0.583841463414634 and parameters: {'learning_rate': 0.08007561776863761, 'is_unbalance': True}. Best is trial 36 with value: 0.6023801579357135.\n",
      "[I 2024-05-08 20:11:34,315] Trial 56 finished with value: 0.5592948717948718 and parameters: {'learning_rate': 0.08905500647020442, 'is_unbalance': False}. Best is trial 36 with value: 0.6023801579357135.\n",
      "[I 2024-05-08 20:11:36,629] Trial 57 finished with value: 0.5918408685788364 and parameters: {'learning_rate': 0.08509620586775596, 'is_unbalance': False}. Best is trial 36 with value: 0.6023801579357135.\n",
      "[I 2024-05-08 20:11:38,955] Trial 58 finished with value: 0.5931356348085609 and parameters: {'learning_rate': 0.08226454870900497, 'is_unbalance': False}. Best is trial 36 with value: 0.6023801579357135.\n",
      "[I 2024-05-08 20:11:41,287] Trial 59 finished with value: 0.563445270443476 and parameters: {'learning_rate': 0.07388095415218006, 'is_unbalance': True}. Best is trial 36 with value: 0.6023801579357135.\n",
      "[I 2024-05-08 20:11:43,614] Trial 60 finished with value: 0.5918408685788364 and parameters: {'learning_rate': 0.07978885322959928, 'is_unbalance': False}. Best is trial 36 with value: 0.6023801579357135.\n",
      "[I 2024-05-08 20:11:46,002] Trial 61 finished with value: 0.5603852055237019 and parameters: {'learning_rate': 0.0825865380151189, 'is_unbalance': False}. Best is trial 36 with value: 0.6023801579357135.\n",
      "[I 2024-05-08 20:11:48,356] Trial 62 finished with value: 0.5772357723577235 and parameters: {'learning_rate': 0.08086180882713287, 'is_unbalance': False}. Best is trial 36 with value: 0.6023801579357135.\n",
      "[I 2024-05-08 20:11:50,694] Trial 63 finished with value: 0.5864255973286912 and parameters: {'learning_rate': 0.0956083738166425, 'is_unbalance': False}. Best is trial 36 with value: 0.6023801579357135.\n",
      "[I 2024-05-08 20:11:53,014] Trial 64 finished with value: 0.5800694500524913 and parameters: {'learning_rate': 0.08726034631180507, 'is_unbalance': False}. Best is trial 36 with value: 0.6023801579357135.\n",
      "[I 2024-05-08 20:11:55,363] Trial 65 finished with value: 0.5746634337367733 and parameters: {'learning_rate': 0.08342840423300858, 'is_unbalance': False}. Best is trial 36 with value: 0.6023801579357135.\n",
      "[I 2024-05-08 20:11:57,691] Trial 66 finished with value: 0.583841463414634 and parameters: {'learning_rate': 0.08255418107806249, 'is_unbalance': False}. Best is trial 36 with value: 0.6023801579357135.\n",
      "[I 2024-05-08 20:12:00,045] Trial 67 finished with value: 0.5742241873413576 and parameters: {'learning_rate': 0.08496807409691912, 'is_unbalance': False}. Best is trial 36 with value: 0.6023801579357135.\n",
      "[I 2024-05-08 20:12:02,419] Trial 68 finished with value: 0.576775185849782 and parameters: {'learning_rate': 0.06528673108628101, 'is_unbalance': False}. Best is trial 36 with value: 0.6023801579357135.\n",
      "[I 2024-05-08 20:12:04,767] Trial 69 finished with value: 0.5589248095932587 and parameters: {'learning_rate': 0.0766061073182728, 'is_unbalance': False}. Best is trial 36 with value: 0.6023801579357135.\n",
      "[I 2024-05-08 20:12:07,111] Trial 70 finished with value: 0.5777305725127867 and parameters: {'learning_rate': 0.08657777213535532, 'is_unbalance': True}. Best is trial 36 with value: 0.6023801579357135.\n",
      "[I 2024-05-08 20:12:09,479] Trial 71 finished with value: 0.5818795607290991 and parameters: {'learning_rate': 0.08492219768955589, 'is_unbalance': False}. Best is trial 36 with value: 0.6023801579357135.\n",
      "[I 2024-05-08 20:12:11,810] Trial 72 finished with value: 0.5904471544715447 and parameters: {'learning_rate': 0.07876773384982476, 'is_unbalance': False}. Best is trial 36 with value: 0.6023801579357135.\n",
      "[I 2024-05-08 20:12:14,224] Trial 73 finished with value: 0.5793269230769231 and parameters: {'learning_rate': 0.089624020161853, 'is_unbalance': False}. Best is trial 36 with value: 0.6023801579357135.\n",
      "[I 2024-05-08 20:12:16,623] Trial 74 finished with value: 0.5800694500524913 and parameters: {'learning_rate': 0.0808231888851088, 'is_unbalance': False}. Best is trial 36 with value: 0.6023801579357135.\n",
      "[I 2024-05-08 20:12:19,007] Trial 75 finished with value: 0.5866308648954212 and parameters: {'learning_rate': 0.08511793046626381, 'is_unbalance': False}. Best is trial 36 with value: 0.6023801579357135.\n",
      "[I 2024-05-08 20:12:21,360] Trial 76 finished with value: 0.5603852055237019 and parameters: {'learning_rate': 0.0974916297360735, 'is_unbalance': False}. Best is trial 36 with value: 0.6023801579357135.\n",
      "[I 2024-05-08 20:12:23,729] Trial 77 finished with value: 0.5812577991051953 and parameters: {'learning_rate': 0.08343850758732575, 'is_unbalance': False}. Best is trial 36 with value: 0.6023801579357135.\n",
      "[I 2024-05-08 20:12:26,116] Trial 78 finished with value: 0.5812577991051953 and parameters: {'learning_rate': 0.09239492786494774, 'is_unbalance': True}. Best is trial 36 with value: 0.6023801579357135.\n",
      "[I 2024-05-08 20:12:28,540] Trial 79 finished with value: 0.5808769344141489 and parameters: {'learning_rate': 0.08140897073341571, 'is_unbalance': False}. Best is trial 36 with value: 0.6023801579357135.\n",
      "[I 2024-05-08 20:12:30,909] Trial 80 finished with value: 0.5695190139634584 and parameters: {'learning_rate': 0.09991740362195141, 'is_unbalance': False}. Best is trial 36 with value: 0.6023801579357135.\n",
      "[I 2024-05-08 20:12:33,291] Trial 81 finished with value: 0.5716737671253869 and parameters: {'learning_rate': 0.07977097489987632, 'is_unbalance': False}. Best is trial 36 with value: 0.6023801579357135.\n",
      "[I 2024-05-08 20:12:35,669] Trial 82 finished with value: 0.6048773510691554 and parameters: {'learning_rate': 0.07624709450466542, 'is_unbalance': False}. Best is trial 82 with value: 0.6048773510691554.\n",
      "[I 2024-05-08 20:12:38,069] Trial 83 finished with value: 0.5772357723577235 and parameters: {'learning_rate': 0.07482180313375013, 'is_unbalance': False}. Best is trial 82 with value: 0.6048773510691554.\n",
      "[I 2024-05-08 20:12:40,532] Trial 84 finished with value: 0.5650330503366332 and parameters: {'learning_rate': 0.07785990003173966, 'is_unbalance': False}. Best is trial 82 with value: 0.6048773510691554.\n",
      "[I 2024-05-08 20:12:42,917] Trial 85 finished with value: 0.5818795607290991 and parameters: {'learning_rate': 0.08683245444490868, 'is_unbalance': False}. Best is trial 82 with value: 0.6048773510691554.\n",
      "[I 2024-05-08 20:12:45,331] Trial 86 finished with value: 0.5731912164432093 and parameters: {'learning_rate': 0.08260699589325221, 'is_unbalance': True}. Best is trial 82 with value: 0.6048773510691554.\n",
      "[I 2024-05-08 20:12:47,741] Trial 87 finished with value: 0.563445270443476 and parameters: {'learning_rate': 0.07353079287695634, 'is_unbalance': False}. Best is trial 82 with value: 0.6048773510691554.\n",
      "[I 2024-05-08 20:12:50,141] Trial 88 finished with value: 0.5751896337007647 and parameters: {'learning_rate': 0.07630006529770376, 'is_unbalance': False}. Best is trial 82 with value: 0.6048773510691554.\n",
      "[I 2024-05-08 20:12:52,535] Trial 89 finished with value: 0.560918693195775 and parameters: {'learning_rate': 0.08407258491071404, 'is_unbalance': True}. Best is trial 82 with value: 0.6048773510691554.\n",
      "[I 2024-05-08 20:12:54,930] Trial 90 finished with value: 0.5798084068859501 and parameters: {'learning_rate': 0.0701064025340958, 'is_unbalance': False}. Best is trial 82 with value: 0.6048773510691554.\n",
      "[I 2024-05-08 20:12:57,317] Trial 91 finished with value: 0.5731912164432093 and parameters: {'learning_rate': 0.07891901882910411, 'is_unbalance': False}. Best is trial 82 with value: 0.6048773510691554.\n",
      "[I 2024-05-08 20:12:59,704] Trial 92 finished with value: 0.570630081300813 and parameters: {'learning_rate': 0.07970163008753925, 'is_unbalance': False}. Best is trial 82 with value: 0.6048773510691554.\n",
      "[I 2024-05-08 20:13:02,108] Trial 93 finished with value: 0.5772357723577235 and parameters: {'learning_rate': 0.08852098043303755, 'is_unbalance': False}. Best is trial 82 with value: 0.6048773510691554.\n",
      "[I 2024-05-08 20:13:04,503] Trial 94 finished with value: 0.583841463414634 and parameters: {'learning_rate': 0.08050629390376768, 'is_unbalance': False}. Best is trial 82 with value: 0.6048773510691554.\n",
      "[I 2024-05-08 20:13:06,916] Trial 95 finished with value: 0.5944465298420396 and parameters: {'learning_rate': 0.08164044953431977, 'is_unbalance': False}. Best is trial 82 with value: 0.6048773510691554.\n",
      "[I 2024-05-08 20:13:09,315] Trial 96 finished with value: 0.5875296814869402 and parameters: {'learning_rate': 0.0855832178952093, 'is_unbalance': True}. Best is trial 82 with value: 0.6048773510691554.\n",
      "[I 2024-05-08 20:13:11,727] Trial 97 finished with value: 0.5760912427579095 and parameters: {'learning_rate': 0.08259851725108469, 'is_unbalance': False}. Best is trial 82 with value: 0.6048773510691554.\n",
      "[I 2024-05-08 20:13:14,137] Trial 98 finished with value: 0.5860042735042734 and parameters: {'learning_rate': 0.08436080458498542, 'is_unbalance': False}. Best is trial 82 with value: 0.6048773510691554.\n",
      "[I 2024-05-08 20:13:16,541] Trial 99 finished with value: 0.5786744449846054 and parameters: {'learning_rate': 0.08139226507952915, 'is_unbalance': False}. Best is trial 82 with value: 0.6048773510691554.\n",
      "[I 2024-05-08 20:13:18,934] Trial 100 finished with value: 0.5967700589592412 and parameters: {'learning_rate': 0.0830727069810652, 'is_unbalance': True}. Best is trial 82 with value: 0.6048773510691554.\n",
      "[I 2024-05-08 20:13:21,358] Trial 101 finished with value: 0.5812577991051953 and parameters: {'learning_rate': 0.08307584435356644, 'is_unbalance': True}. Best is trial 82 with value: 0.6048773510691554.\n",
      "[I 2024-05-08 20:13:23,766] Trial 102 finished with value: 0.5915959174916481 and parameters: {'learning_rate': 0.09443431904295772, 'is_unbalance': True}. Best is trial 82 with value: 0.6048773510691554.\n",
      "[I 2024-05-08 20:13:26,157] Trial 103 finished with value: 0.5878521644736174 and parameters: {'learning_rate': 0.08191306353862599, 'is_unbalance': True}. Best is trial 82 with value: 0.6048773510691554.\n",
      "[I 2024-05-08 20:13:28,594] Trial 104 finished with value: 0.5875296814869402 and parameters: {'learning_rate': 0.08629712790444309, 'is_unbalance': True}. Best is trial 82 with value: 0.6048773510691554.\n",
      "[I 2024-05-08 20:13:31,006] Trial 105 finished with value: 0.5915959174916481 and parameters: {'learning_rate': 0.08473900134096643, 'is_unbalance': True}. Best is trial 82 with value: 0.6048773510691554.\n",
      "[I 2024-05-08 20:13:33,472] Trial 106 finished with value: 0.5890103614261238 and parameters: {'learning_rate': 0.0767902850274642, 'is_unbalance': False}. Best is trial 82 with value: 0.6048773510691554.\n",
      "[I 2024-05-08 20:13:35,897] Trial 107 finished with value: 0.5852576567817209 and parameters: {'learning_rate': 0.07790521176846342, 'is_unbalance': True}. Best is trial 82 with value: 0.6048773510691554.\n",
      "[I 2024-05-08 20:13:38,320] Trial 108 finished with value: 0.5484299255874271 and parameters: {'learning_rate': 0.0834849541638712, 'is_unbalance': False}. Best is trial 82 with value: 0.6048773510691554.\n",
      "[I 2024-05-08 20:13:40,736] Trial 109 finished with value: 0.5798084068859501 and parameters: {'learning_rate': 0.08794857733552774, 'is_unbalance': False}. Best is trial 82 with value: 0.6048773510691554.\n",
      "[I 2024-05-08 20:13:43,147] Trial 110 finished with value: 0.5901051012560882 and parameters: {'learning_rate': 0.09054502834468177, 'is_unbalance': True}. Best is trial 82 with value: 0.6048773510691554.\n",
      "[I 2024-05-08 20:13:45,578] Trial 111 finished with value: 0.5786744449846054 and parameters: {'learning_rate': 0.07928126956609308, 'is_unbalance': False}. Best is trial 82 with value: 0.6048773510691554.\n",
      "[I 2024-05-08 20:13:48,013] Trial 112 finished with value: 0.5731912164432093 and parameters: {'learning_rate': 0.08005151114667934, 'is_unbalance': False}. Best is trial 82 with value: 0.6048773510691554.\n",
      "[I 2024-05-08 20:13:50,419] Trial 113 finished with value: 0.5726495726495726 and parameters: {'learning_rate': 0.08119400964992807, 'is_unbalance': False}. Best is trial 82 with value: 0.6048773510691554.\n",
      "[I 2024-05-08 20:13:52,855] Trial 114 finished with value: 0.583841463414634 and parameters: {'learning_rate': 0.08293803490728754, 'is_unbalance': False}. Best is trial 82 with value: 0.6048773510691554.\n",
      "[I 2024-05-08 20:13:55,667] Trial 115 finished with value: 0.5879618449649843 and parameters: {'learning_rate': 0.08389008760156368, 'is_unbalance': False}. Best is trial 82 with value: 0.6048773510691554.\n",
      "[I 2024-05-08 20:13:58,268] Trial 116 finished with value: 0.5777305725127867 and parameters: {'learning_rate': 0.0856124612832034, 'is_unbalance': False}. Best is trial 82 with value: 0.6048773510691554.\n",
      "[I 2024-05-08 20:14:00,887] Trial 117 finished with value: 0.5904471544715447 and parameters: {'learning_rate': 0.07824331587890225, 'is_unbalance': False}. Best is trial 82 with value: 0.6048773510691554.\n",
      "[I 2024-05-08 20:14:03,325] Trial 118 finished with value: 0.5808769344141489 and parameters: {'learning_rate': 0.08041612427624373, 'is_unbalance': False}. Best is trial 82 with value: 0.6048773510691554.\n",
      "[I 2024-05-08 20:14:05,784] Trial 119 finished with value: 0.5905769715293525 and parameters: {'learning_rate': 0.08198997324261033, 'is_unbalance': True}. Best is trial 82 with value: 0.6048773510691554.\n",
      "[I 2024-05-08 20:14:08,220] Trial 120 finished with value: 0.5746634337367733 and parameters: {'learning_rate': 0.0822189483760976, 'is_unbalance': False}. Best is trial 82 with value: 0.6048773510691554.\n",
      "[I 2024-05-08 20:14:10,632] Trial 121 finished with value: 0.5709246661627614 and parameters: {'learning_rate': 0.09535528715013233, 'is_unbalance': True}. Best is trial 82 with value: 0.6048773510691554.\n",
      "[I 2024-05-08 20:14:13,251] Trial 122 finished with value: 0.5680690683683511 and parameters: {'learning_rate': 0.09794261770203413, 'is_unbalance': True}. Best is trial 82 with value: 0.6048773510691554.\n",
      "[I 2024-05-08 20:14:15,694] Trial 123 finished with value: 0.5786744449846054 and parameters: {'learning_rate': 0.09729294380772371, 'is_unbalance': True}. Best is trial 82 with value: 0.6048773510691554.\n",
      "[I 2024-05-08 20:14:18,104] Trial 124 finished with value: 0.570630081300813 and parameters: {'learning_rate': 0.093687859285044, 'is_unbalance': True}. Best is trial 82 with value: 0.6048773510691554.\n",
      "[I 2024-05-08 20:14:20,557] Trial 125 finished with value: 0.607487922705314 and parameters: {'learning_rate': 0.09513241631111381, 'is_unbalance': True}. Best is trial 125 with value: 0.607487922705314.\n",
      "[I 2024-05-08 20:14:23,155] Trial 126 finished with value: 0.583841463414634 and parameters: {'learning_rate': 0.09907349824806753, 'is_unbalance': False}. Best is trial 125 with value: 0.607487922705314.\n",
      "[I 2024-05-08 20:14:25,584] Trial 127 finished with value: 0.5798084068859501 and parameters: {'learning_rate': 0.08731859816612167, 'is_unbalance': True}. Best is trial 125 with value: 0.607487922705314.\n",
      "[I 2024-05-08 20:14:28,019] Trial 128 finished with value: 0.5866308648954212 and parameters: {'learning_rate': 0.09666131478264978, 'is_unbalance': False}. Best is trial 125 with value: 0.607487922705314.\n",
      "[I 2024-05-08 20:14:30,452] Trial 129 finished with value: 0.5852576567817209 and parameters: {'learning_rate': 0.07590014472086591, 'is_unbalance': False}. Best is trial 125 with value: 0.607487922705314.\n",
      "[I 2024-05-08 20:14:32,883] Trial 130 finished with value: 0.5760912427579095 and parameters: {'learning_rate': 0.08462769347681648, 'is_unbalance': True}. Best is trial 125 with value: 0.607487922705314.\n",
      "[I 2024-05-08 20:14:35,329] Trial 131 finished with value: 0.5774754346182918 and parameters: {'learning_rate': 0.09465178866321945, 'is_unbalance': True}. Best is trial 125 with value: 0.607487922705314.\n",
      "[I 2024-05-08 20:14:37,778] Trial 132 finished with value: 0.6022680917027006 and parameters: {'learning_rate': 0.09300422787844854, 'is_unbalance': True}. Best is trial 125 with value: 0.607487922705314.\n",
      "[I 2024-05-08 20:14:40,244] Trial 133 finished with value: 0.5716737671253869 and parameters: {'learning_rate': 0.09215598645026005, 'is_unbalance': True}. Best is trial 125 with value: 0.607487922705314.\n",
      "[I 2024-05-08 20:14:42,658] Trial 134 finished with value: 0.5834401435529352 and parameters: {'learning_rate': 0.09511255006901723, 'is_unbalance': True}. Best is trial 125 with value: 0.607487922705314.\n",
      "[I 2024-05-08 20:14:45,070] Trial 135 finished with value: 0.5742241873413576 and parameters: {'learning_rate': 0.08149759310699611, 'is_unbalance': True}. Best is trial 125 with value: 0.607487922705314.\n",
      "[I 2024-05-08 20:14:47,502] Trial 136 finished with value: 0.5808769344141489 and parameters: {'learning_rate': 0.08386836643919203, 'is_unbalance': False}. Best is trial 125 with value: 0.607487922705314.\n",
      "[I 2024-05-08 20:14:49,931] Trial 137 finished with value: 0.5716737671253869 and parameters: {'learning_rate': 0.08544709412138828, 'is_unbalance': True}. Best is trial 125 with value: 0.607487922705314.\n",
      "[I 2024-05-08 20:14:52,336] Trial 138 finished with value: 0.570630081300813 and parameters: {'learning_rate': 0.08298226747938463, 'is_unbalance': False}. Best is trial 125 with value: 0.607487922705314.\n",
      "[I 2024-05-08 20:14:54,782] Trial 139 finished with value: 0.5629467851690074 and parameters: {'learning_rate': 0.09690503356167474, 'is_unbalance': False}. Best is trial 125 with value: 0.607487922705314.\n",
      "[I 2024-05-08 20:14:57,269] Trial 140 finished with value: 0.5970528455284553 and parameters: {'learning_rate': 0.08975585512181071, 'is_unbalance': True}. Best is trial 125 with value: 0.607487922705314.\n",
      "[I 2024-05-08 20:14:59,700] Trial 141 finished with value: 0.5834401435529352 and parameters: {'learning_rate': 0.08935422694617076, 'is_unbalance': True}. Best is trial 125 with value: 0.607487922705314.\n",
      "[I 2024-05-08 20:15:02,172] Trial 142 finished with value: 0.5901051012560882 and parameters: {'learning_rate': 0.09252963222874631, 'is_unbalance': True}. Best is trial 125 with value: 0.607487922705314.\n",
      "[I 2024-05-08 20:15:04,600] Trial 143 finished with value: 0.576775185849782 and parameters: {'learning_rate': 0.08999888037211344, 'is_unbalance': True}. Best is trial 125 with value: 0.607487922705314.\n",
      "[I 2024-05-08 20:15:07,009] Trial 144 finished with value: 0.6010424213153023 and parameters: {'learning_rate': 0.0864001412939319, 'is_unbalance': True}. Best is trial 125 with value: 0.607487922705314.\n",
      "[I 2024-05-08 20:15:09,419] Trial 145 finished with value: 0.6010408952104618 and parameters: {'learning_rate': 0.08823208385813895, 'is_unbalance': True}. Best is trial 125 with value: 0.607487922705314.\n",
      "[I 2024-05-08 20:15:11,930] Trial 146 finished with value: 0.5984066866919159 and parameters: {'learning_rate': 0.08638513157692346, 'is_unbalance': True}. Best is trial 125 with value: 0.607487922705314.\n",
      "[I 2024-05-08 20:15:14,365] Trial 147 finished with value: 0.593042787771432 and parameters: {'learning_rate': 0.08828019773500206, 'is_unbalance': True}. Best is trial 125 with value: 0.607487922705314.\n",
      "[I 2024-05-08 20:15:16,801] Trial 148 finished with value: 0.5904471544715447 and parameters: {'learning_rate': 0.08685621404773362, 'is_unbalance': True}. Best is trial 125 with value: 0.607487922705314.\n",
      "[I 2024-05-08 20:15:19,327] Trial 149 finished with value: 0.6100999743655473 and parameters: {'learning_rate': 0.09123866048833043, 'is_unbalance': True}. Best is trial 149 with value: 0.6100999743655473.\n",
      "[I 2024-05-08 20:15:21,771] Trial 150 finished with value: 0.5956392265644121 and parameters: {'learning_rate': 0.09141486189890631, 'is_unbalance': True}. Best is trial 149 with value: 0.6100999743655473.\n",
      "[I 2024-05-08 20:15:24,251] Trial 151 finished with value: 0.5808769344141489 and parameters: {'learning_rate': 0.09116846939895319, 'is_unbalance': True}. Best is trial 149 with value: 0.6100999743655473.\n",
      "[I 2024-05-08 20:15:26,684] Trial 152 finished with value: 0.5684997066724303 and parameters: {'learning_rate': 0.0903702166001219, 'is_unbalance': True}. Best is trial 149 with value: 0.6100999743655473.\n",
      "[I 2024-05-08 20:15:29,123] Trial 153 finished with value: 0.5808769344141489 and parameters: {'learning_rate': 0.09113648167777001, 'is_unbalance': True}. Best is trial 149 with value: 0.6100999743655473.\n",
      "[I 2024-05-08 20:15:31,565] Trial 154 finished with value: 0.5665740260004682 and parameters: {'learning_rate': 0.09270942451415418, 'is_unbalance': True}. Best is trial 149 with value: 0.6100999743655473.\n",
      "[I 2024-05-08 20:15:33,978] Trial 155 finished with value: 0.5665740260004682 and parameters: {'learning_rate': 0.08910244987638596, 'is_unbalance': True}. Best is trial 149 with value: 0.6100999743655473.\n",
      "[I 2024-05-08 20:15:36,401] Trial 156 finished with value: 0.5777305725127867 and parameters: {'learning_rate': 0.08866188365894415, 'is_unbalance': True}. Best is trial 149 with value: 0.6100999743655473.\n",
      "[I 2024-05-08 20:15:38,820] Trial 157 finished with value: 0.5735080352095615 and parameters: {'learning_rate': 0.08763922649371347, 'is_unbalance': True}. Best is trial 149 with value: 0.6100999743655473.\n",
      "[I 2024-05-08 20:15:41,242] Trial 158 finished with value: 0.5860042735042734 and parameters: {'learning_rate': 0.086353065550472, 'is_unbalance': True}. Best is trial 149 with value: 0.6100999743655473.\n",
      "[I 2024-05-08 20:15:43,685] Trial 159 finished with value: 0.5746634337367733 and parameters: {'learning_rate': 0.09324786415341771, 'is_unbalance': True}. Best is trial 149 with value: 0.6100999743655473.\n",
      "[I 2024-05-08 20:15:46,144] Trial 160 finished with value: 0.5808769344141489 and parameters: {'learning_rate': 0.09610691311564369, 'is_unbalance': True}. Best is trial 149 with value: 0.6100999743655473.\n",
      "[I 2024-05-08 20:15:48,595] Trial 161 finished with value: 0.5599568355577274 and parameters: {'learning_rate': 0.09136372800147807, 'is_unbalance': True}. Best is trial 149 with value: 0.6100999743655473.\n",
      "[I 2024-05-08 20:15:51,010] Trial 162 finished with value: 0.5691237660112589 and parameters: {'learning_rate': 0.09198607450954166, 'is_unbalance': True}. Best is trial 149 with value: 0.6100999743655473.\n",
      "[I 2024-05-08 20:15:53,405] Trial 163 finished with value: 0.5849552007028943 and parameters: {'learning_rate': 0.08953390731979442, 'is_unbalance': True}. Best is trial 149 with value: 0.6100999743655473.\n",
      "[I 2024-05-08 20:15:55,827] Trial 164 finished with value: 0.5601256341113143 and parameters: {'learning_rate': 0.0869964603699387, 'is_unbalance': True}. Best is trial 149 with value: 0.6100999743655473.\n",
      "[I 2024-05-08 20:15:58,276] Trial 165 finished with value: 0.5864255973286912 and parameters: {'learning_rate': 0.08829714727778983, 'is_unbalance': True}. Best is trial 149 with value: 0.6100999743655473.\n",
      "[I 2024-05-08 20:16:00,720] Trial 166 finished with value: 0.5659722222222222 and parameters: {'learning_rate': 0.09375978543646835, 'is_unbalance': True}. Best is trial 149 with value: 0.6100999743655473.\n",
      "[I 2024-05-08 20:16:03,163] Trial 167 finished with value: 0.5691237660112589 and parameters: {'learning_rate': 0.09174133803515068, 'is_unbalance': True}. Best is trial 149 with value: 0.6100999743655473.\n",
      "[I 2024-05-08 20:16:05,597] Trial 168 finished with value: 0.5757526311495472 and parameters: {'learning_rate': 0.09014405243319043, 'is_unbalance': True}. Best is trial 149 with value: 0.6100999743655473.\n",
      "[I 2024-05-08 20:16:08,088] Trial 169 finished with value: 0.5915959174916481 and parameters: {'learning_rate': 0.08615789485657227, 'is_unbalance': True}. Best is trial 149 with value: 0.6100999743655473.\n",
      "[I 2024-05-08 20:16:10,489] Trial 170 finished with value: 0.5746634337367733 and parameters: {'learning_rate': 0.09438159334587337, 'is_unbalance': True}. Best is trial 149 with value: 0.6100999743655473.\n",
      "[I 2024-05-08 20:16:12,920] Trial 171 finished with value: 0.5875296814869402 and parameters: {'learning_rate': 0.08454727926795709, 'is_unbalance': True}. Best is trial 149 with value: 0.6100999743655473.\n",
      "[I 2024-05-08 20:16:15,359] Trial 172 finished with value: 0.5716737671253869 and parameters: {'learning_rate': 0.08388016503832817, 'is_unbalance': True}. Best is trial 149 with value: 0.6100999743655473.\n",
      "[I 2024-05-08 20:16:17,820] Trial 173 finished with value: 0.5866308648954212 and parameters: {'learning_rate': 0.060411175013266316, 'is_unbalance': True}. Best is trial 149 with value: 0.6100999743655473.\n",
      "[I 2024-05-08 20:16:20,258] Trial 174 finished with value: 0.5834401435529352 and parameters: {'learning_rate': 0.08568308239049768, 'is_unbalance': True}. Best is trial 149 with value: 0.6100999743655473.\n",
      "[I 2024-05-08 20:16:22,694] Trial 175 finished with value: 0.5849552007028943 and parameters: {'learning_rate': 0.08756953771945226, 'is_unbalance': True}. Best is trial 149 with value: 0.6100999743655473.\n",
      "[I 2024-05-08 20:16:25,234] Trial 176 finished with value: 0.5542659461229837 and parameters: {'learning_rate': 0.0932426349481702, 'is_unbalance': True}. Best is trial 149 with value: 0.6100999743655473.\n",
      "[I 2024-05-08 20:16:27,702] Trial 177 finished with value: 0.5665740260004682 and parameters: {'learning_rate': 0.07443081207631394, 'is_unbalance': True}. Best is trial 149 with value: 0.6100999743655473.\n",
      "[I 2024-05-08 20:16:30,213] Trial 178 finished with value: 0.5665740260004682 and parameters: {'learning_rate': 0.08243776318410476, 'is_unbalance': True}. Best is trial 149 with value: 0.6100999743655473.\n",
      "[I 2024-05-08 20:16:32,663] Trial 179 finished with value: 0.5915959174916481 and parameters: {'learning_rate': 0.0808017195095481, 'is_unbalance': True}. Best is trial 149 with value: 0.6100999743655473.\n",
      "[I 2024-05-08 20:16:35,118] Trial 180 finished with value: 0.5675714402685663 and parameters: {'learning_rate': 0.09044105146135797, 'is_unbalance': False}. Best is trial 149 with value: 0.6100999743655473.\n",
      "[I 2024-05-08 20:16:37,574] Trial 181 finished with value: 0.5808769344141489 and parameters: {'learning_rate': 0.08849984410229036, 'is_unbalance': True}. Best is trial 149 with value: 0.6100999743655473.\n",
      "[I 2024-05-08 20:16:39,995] Trial 182 finished with value: 0.564373897707231 and parameters: {'learning_rate': 0.08894994243552583, 'is_unbalance': True}. Best is trial 149 with value: 0.6100999743655473.\n",
      "[I 2024-05-08 20:16:42,448] Trial 183 finished with value: 0.5860042735042734 and parameters: {'learning_rate': 0.08775464198732312, 'is_unbalance': True}. Best is trial 149 with value: 0.6100999743655473.\n",
      "[I 2024-05-08 20:16:44,901] Trial 184 finished with value: 0.5849552007028943 and parameters: {'learning_rate': 0.062256935413310385, 'is_unbalance': True}. Best is trial 149 with value: 0.6100999743655473.\n",
      "[I 2024-05-08 20:16:47,338] Trial 185 finished with value: 0.5675714402685663 and parameters: {'learning_rate': 0.0869882360024404, 'is_unbalance': True}. Best is trial 149 with value: 0.6100999743655473.\n",
      "[I 2024-05-08 20:16:49,838] Trial 186 finished with value: 0.5695190139634584 and parameters: {'learning_rate': 0.08314499961008699, 'is_unbalance': True}. Best is trial 149 with value: 0.6100999743655473.\n",
      "[I 2024-05-08 20:16:52,263] Trial 187 finished with value: 0.5878521644736174 and parameters: {'learning_rate': 0.08538850705741287, 'is_unbalance': False}. Best is trial 149 with value: 0.6100999743655473.\n",
      "[I 2024-05-08 20:16:54,694] Trial 188 finished with value: 0.5878521644736174 and parameters: {'learning_rate': 0.08964041205914433, 'is_unbalance': True}. Best is trial 149 with value: 0.6100999743655473.\n",
      "[I 2024-05-08 20:16:57,143] Trial 189 finished with value: 0.5826634715523604 and parameters: {'learning_rate': 0.07274618854216362, 'is_unbalance': False}. Best is trial 149 with value: 0.6100999743655473.\n",
      "[I 2024-05-08 20:16:59,573] Trial 190 finished with value: 0.6036585365853658 and parameters: {'learning_rate': 0.08826647478091236, 'is_unbalance': True}. Best is trial 149 with value: 0.6100999743655473.\n",
      "[I 2024-05-08 20:17:02,159] Trial 191 finished with value: 0.5650330503366332 and parameters: {'learning_rate': 0.08815059595406079, 'is_unbalance': True}. Best is trial 149 with value: 0.6100999743655473.\n",
      "[I 2024-05-08 20:17:04,615] Trial 192 finished with value: 0.5849552007028943 and parameters: {'learning_rate': 0.09079581600106239, 'is_unbalance': True}. Best is trial 149 with value: 0.6100999743655473.\n",
      "[I 2024-05-08 20:17:07,050] Trial 193 finished with value: 0.5774754346182918 and parameters: {'learning_rate': 0.08641725299584596, 'is_unbalance': True}. Best is trial 149 with value: 0.6100999743655473.\n",
      "[I 2024-05-08 20:17:09,575] Trial 194 finished with value: 0.5890103614261238 and parameters: {'learning_rate': 0.08869552367550676, 'is_unbalance': True}. Best is trial 149 with value: 0.6100999743655473.\n",
      "[I 2024-05-08 20:17:12,039] Trial 195 finished with value: 0.5772357723577235 and parameters: {'learning_rate': 0.08159572161903586, 'is_unbalance': True}. Best is trial 149 with value: 0.6100999743655473.\n",
      "[I 2024-05-08 20:17:14,456] Trial 196 finished with value: 0.5786744449846054 and parameters: {'learning_rate': 0.08442580832857122, 'is_unbalance': False}. Best is trial 149 with value: 0.6100999743655473.\n",
      "[I 2024-05-08 20:17:17,042] Trial 197 finished with value: 0.6141406697781053 and parameters: {'learning_rate': 0.08948130767063646, 'is_unbalance': True}. Best is trial 197 with value: 0.6141406697781053.\n",
      "[I 2024-05-08 20:17:19,568] Trial 198 finished with value: 0.5786744449846054 and parameters: {'learning_rate': 0.0988312859528776, 'is_unbalance': True}. Best is trial 197 with value: 0.6141406697781053.\n",
      "[I 2024-05-08 20:17:22,048] Trial 199 finished with value: 0.5793269230769231 and parameters: {'learning_rate': 0.08976286865640463, 'is_unbalance': False}. Best is trial 197 with value: 0.6141406697781053.\n"
     ]
    }
   ],
   "source": [
    "import optuna\n",
    "\n",
    "study = optuna.create_study(sampler=optuna.samplers.TPESampler(seed=42), direction=\"maximize\")\n",
    "study.optimize(objective, n_trials=200)"
   ]
  },
  {
   "cell_type": "code",
   "execution_count": 13,
   "metadata": {},
   "outputs": [
    {
     "data": {
      "text/plain": [
       "{'learning_rate': 0.08948130767063646, 'is_unbalance': True}"
      ]
     },
     "execution_count": 13,
     "metadata": {},
     "output_type": "execute_result"
    }
   ],
   "source": [
    "trial = study.best_trial\n",
    "trial.params"
   ]
  },
  {
   "cell_type": "code",
   "execution_count": 14,
   "metadata": {},
   "outputs": [
    {
     "data": {
      "text/plain": [
       "0.6141406697781053"
      ]
     },
     "execution_count": 14,
     "metadata": {},
     "output_type": "execute_result"
    }
   ],
   "source": [
    "trial.value"
   ]
  },
  {
   "cell_type": "code",
   "execution_count": 15,
   "metadata": {},
   "outputs": [
    {
     "data": {
      "application/vnd.plotly.v1+json": {
       "config": {
        "plotlyServerURL": "https://plot.ly"
       },
       "data": [
        {
         "cliponaxis": false,
         "hovertemplate": [
          "is_unbalance (CategoricalDistribution): 0.012761001970956984<extra></extra>",
          "learning_rate (FloatDistribution): 0.987238998029043<extra></extra>"
         ],
         "name": "Objective Value",
         "orientation": "h",
         "text": [
          "0.01",
          "0.99"
         ],
         "textposition": "outside",
         "type": "bar",
         "x": [
          0.012761001970956984,
          0.987238998029043
         ],
         "y": [
          "is_unbalance",
          "learning_rate"
         ]
        }
       ],
       "layout": {
        "template": {
         "data": {
          "bar": [
           {
            "error_x": {
             "color": "#2a3f5f"
            },
            "error_y": {
             "color": "#2a3f5f"
            },
            "marker": {
             "line": {
              "color": "#E5ECF6",
              "width": 0.5
             },
             "pattern": {
              "fillmode": "overlay",
              "size": 10,
              "solidity": 0.2
             }
            },
            "type": "bar"
           }
          ],
          "barpolar": [
           {
            "marker": {
             "line": {
              "color": "#E5ECF6",
              "width": 0.5
             },
             "pattern": {
              "fillmode": "overlay",
              "size": 10,
              "solidity": 0.2
             }
            },
            "type": "barpolar"
           }
          ],
          "carpet": [
           {
            "aaxis": {
             "endlinecolor": "#2a3f5f",
             "gridcolor": "white",
             "linecolor": "white",
             "minorgridcolor": "white",
             "startlinecolor": "#2a3f5f"
            },
            "baxis": {
             "endlinecolor": "#2a3f5f",
             "gridcolor": "white",
             "linecolor": "white",
             "minorgridcolor": "white",
             "startlinecolor": "#2a3f5f"
            },
            "type": "carpet"
           }
          ],
          "choropleth": [
           {
            "colorbar": {
             "outlinewidth": 0,
             "ticks": ""
            },
            "type": "choropleth"
           }
          ],
          "contour": [
           {
            "colorbar": {
             "outlinewidth": 0,
             "ticks": ""
            },
            "colorscale": [
             [
              0,
              "#0d0887"
             ],
             [
              0.1111111111111111,
              "#46039f"
             ],
             [
              0.2222222222222222,
              "#7201a8"
             ],
             [
              0.3333333333333333,
              "#9c179e"
             ],
             [
              0.4444444444444444,
              "#bd3786"
             ],
             [
              0.5555555555555556,
              "#d8576b"
             ],
             [
              0.6666666666666666,
              "#ed7953"
             ],
             [
              0.7777777777777778,
              "#fb9f3a"
             ],
             [
              0.8888888888888888,
              "#fdca26"
             ],
             [
              1,
              "#f0f921"
             ]
            ],
            "type": "contour"
           }
          ],
          "contourcarpet": [
           {
            "colorbar": {
             "outlinewidth": 0,
             "ticks": ""
            },
            "type": "contourcarpet"
           }
          ],
          "heatmap": [
           {
            "colorbar": {
             "outlinewidth": 0,
             "ticks": ""
            },
            "colorscale": [
             [
              0,
              "#0d0887"
             ],
             [
              0.1111111111111111,
              "#46039f"
             ],
             [
              0.2222222222222222,
              "#7201a8"
             ],
             [
              0.3333333333333333,
              "#9c179e"
             ],
             [
              0.4444444444444444,
              "#bd3786"
             ],
             [
              0.5555555555555556,
              "#d8576b"
             ],
             [
              0.6666666666666666,
              "#ed7953"
             ],
             [
              0.7777777777777778,
              "#fb9f3a"
             ],
             [
              0.8888888888888888,
              "#fdca26"
             ],
             [
              1,
              "#f0f921"
             ]
            ],
            "type": "heatmap"
           }
          ],
          "heatmapgl": [
           {
            "colorbar": {
             "outlinewidth": 0,
             "ticks": ""
            },
            "colorscale": [
             [
              0,
              "#0d0887"
             ],
             [
              0.1111111111111111,
              "#46039f"
             ],
             [
              0.2222222222222222,
              "#7201a8"
             ],
             [
              0.3333333333333333,
              "#9c179e"
             ],
             [
              0.4444444444444444,
              "#bd3786"
             ],
             [
              0.5555555555555556,
              "#d8576b"
             ],
             [
              0.6666666666666666,
              "#ed7953"
             ],
             [
              0.7777777777777778,
              "#fb9f3a"
             ],
             [
              0.8888888888888888,
              "#fdca26"
             ],
             [
              1,
              "#f0f921"
             ]
            ],
            "type": "heatmapgl"
           }
          ],
          "histogram": [
           {
            "marker": {
             "pattern": {
              "fillmode": "overlay",
              "size": 10,
              "solidity": 0.2
             }
            },
            "type": "histogram"
           }
          ],
          "histogram2d": [
           {
            "colorbar": {
             "outlinewidth": 0,
             "ticks": ""
            },
            "colorscale": [
             [
              0,
              "#0d0887"
             ],
             [
              0.1111111111111111,
              "#46039f"
             ],
             [
              0.2222222222222222,
              "#7201a8"
             ],
             [
              0.3333333333333333,
              "#9c179e"
             ],
             [
              0.4444444444444444,
              "#bd3786"
             ],
             [
              0.5555555555555556,
              "#d8576b"
             ],
             [
              0.6666666666666666,
              "#ed7953"
             ],
             [
              0.7777777777777778,
              "#fb9f3a"
             ],
             [
              0.8888888888888888,
              "#fdca26"
             ],
             [
              1,
              "#f0f921"
             ]
            ],
            "type": "histogram2d"
           }
          ],
          "histogram2dcontour": [
           {
            "colorbar": {
             "outlinewidth": 0,
             "ticks": ""
            },
            "colorscale": [
             [
              0,
              "#0d0887"
             ],
             [
              0.1111111111111111,
              "#46039f"
             ],
             [
              0.2222222222222222,
              "#7201a8"
             ],
             [
              0.3333333333333333,
              "#9c179e"
             ],
             [
              0.4444444444444444,
              "#bd3786"
             ],
             [
              0.5555555555555556,
              "#d8576b"
             ],
             [
              0.6666666666666666,
              "#ed7953"
             ],
             [
              0.7777777777777778,
              "#fb9f3a"
             ],
             [
              0.8888888888888888,
              "#fdca26"
             ],
             [
              1,
              "#f0f921"
             ]
            ],
            "type": "histogram2dcontour"
           }
          ],
          "mesh3d": [
           {
            "colorbar": {
             "outlinewidth": 0,
             "ticks": ""
            },
            "type": "mesh3d"
           }
          ],
          "parcoords": [
           {
            "line": {
             "colorbar": {
              "outlinewidth": 0,
              "ticks": ""
             }
            },
            "type": "parcoords"
           }
          ],
          "pie": [
           {
            "automargin": true,
            "type": "pie"
           }
          ],
          "scatter": [
           {
            "fillpattern": {
             "fillmode": "overlay",
             "size": 10,
             "solidity": 0.2
            },
            "type": "scatter"
           }
          ],
          "scatter3d": [
           {
            "line": {
             "colorbar": {
              "outlinewidth": 0,
              "ticks": ""
             }
            },
            "marker": {
             "colorbar": {
              "outlinewidth": 0,
              "ticks": ""
             }
            },
            "type": "scatter3d"
           }
          ],
          "scattercarpet": [
           {
            "marker": {
             "colorbar": {
              "outlinewidth": 0,
              "ticks": ""
             }
            },
            "type": "scattercarpet"
           }
          ],
          "scattergeo": [
           {
            "marker": {
             "colorbar": {
              "outlinewidth": 0,
              "ticks": ""
             }
            },
            "type": "scattergeo"
           }
          ],
          "scattergl": [
           {
            "marker": {
             "colorbar": {
              "outlinewidth": 0,
              "ticks": ""
             }
            },
            "type": "scattergl"
           }
          ],
          "scattermapbox": [
           {
            "marker": {
             "colorbar": {
              "outlinewidth": 0,
              "ticks": ""
             }
            },
            "type": "scattermapbox"
           }
          ],
          "scatterpolar": [
           {
            "marker": {
             "colorbar": {
              "outlinewidth": 0,
              "ticks": ""
             }
            },
            "type": "scatterpolar"
           }
          ],
          "scatterpolargl": [
           {
            "marker": {
             "colorbar": {
              "outlinewidth": 0,
              "ticks": ""
             }
            },
            "type": "scatterpolargl"
           }
          ],
          "scatterternary": [
           {
            "marker": {
             "colorbar": {
              "outlinewidth": 0,
              "ticks": ""
             }
            },
            "type": "scatterternary"
           }
          ],
          "surface": [
           {
            "colorbar": {
             "outlinewidth": 0,
             "ticks": ""
            },
            "colorscale": [
             [
              0,
              "#0d0887"
             ],
             [
              0.1111111111111111,
              "#46039f"
             ],
             [
              0.2222222222222222,
              "#7201a8"
             ],
             [
              0.3333333333333333,
              "#9c179e"
             ],
             [
              0.4444444444444444,
              "#bd3786"
             ],
             [
              0.5555555555555556,
              "#d8576b"
             ],
             [
              0.6666666666666666,
              "#ed7953"
             ],
             [
              0.7777777777777778,
              "#fb9f3a"
             ],
             [
              0.8888888888888888,
              "#fdca26"
             ],
             [
              1,
              "#f0f921"
             ]
            ],
            "type": "surface"
           }
          ],
          "table": [
           {
            "cells": {
             "fill": {
              "color": "#EBF0F8"
             },
             "line": {
              "color": "white"
             }
            },
            "header": {
             "fill": {
              "color": "#C8D4E3"
             },
             "line": {
              "color": "white"
             }
            },
            "type": "table"
           }
          ]
         },
         "layout": {
          "annotationdefaults": {
           "arrowcolor": "#2a3f5f",
           "arrowhead": 0,
           "arrowwidth": 1
          },
          "autotypenumbers": "strict",
          "coloraxis": {
           "colorbar": {
            "outlinewidth": 0,
            "ticks": ""
           }
          },
          "colorscale": {
           "diverging": [
            [
             0,
             "#8e0152"
            ],
            [
             0.1,
             "#c51b7d"
            ],
            [
             0.2,
             "#de77ae"
            ],
            [
             0.3,
             "#f1b6da"
            ],
            [
             0.4,
             "#fde0ef"
            ],
            [
             0.5,
             "#f7f7f7"
            ],
            [
             0.6,
             "#e6f5d0"
            ],
            [
             0.7,
             "#b8e186"
            ],
            [
             0.8,
             "#7fbc41"
            ],
            [
             0.9,
             "#4d9221"
            ],
            [
             1,
             "#276419"
            ]
           ],
           "sequential": [
            [
             0,
             "#0d0887"
            ],
            [
             0.1111111111111111,
             "#46039f"
            ],
            [
             0.2222222222222222,
             "#7201a8"
            ],
            [
             0.3333333333333333,
             "#9c179e"
            ],
            [
             0.4444444444444444,
             "#bd3786"
            ],
            [
             0.5555555555555556,
             "#d8576b"
            ],
            [
             0.6666666666666666,
             "#ed7953"
            ],
            [
             0.7777777777777778,
             "#fb9f3a"
            ],
            [
             0.8888888888888888,
             "#fdca26"
            ],
            [
             1,
             "#f0f921"
            ]
           ],
           "sequentialminus": [
            [
             0,
             "#0d0887"
            ],
            [
             0.1111111111111111,
             "#46039f"
            ],
            [
             0.2222222222222222,
             "#7201a8"
            ],
            [
             0.3333333333333333,
             "#9c179e"
            ],
            [
             0.4444444444444444,
             "#bd3786"
            ],
            [
             0.5555555555555556,
             "#d8576b"
            ],
            [
             0.6666666666666666,
             "#ed7953"
            ],
            [
             0.7777777777777778,
             "#fb9f3a"
            ],
            [
             0.8888888888888888,
             "#fdca26"
            ],
            [
             1,
             "#f0f921"
            ]
           ]
          },
          "colorway": [
           "#636efa",
           "#EF553B",
           "#00cc96",
           "#ab63fa",
           "#FFA15A",
           "#19d3f3",
           "#FF6692",
           "#B6E880",
           "#FF97FF",
           "#FECB52"
          ],
          "font": {
           "color": "#2a3f5f"
          },
          "geo": {
           "bgcolor": "white",
           "lakecolor": "white",
           "landcolor": "#E5ECF6",
           "showlakes": true,
           "showland": true,
           "subunitcolor": "white"
          },
          "hoverlabel": {
           "align": "left"
          },
          "hovermode": "closest",
          "mapbox": {
           "style": "light"
          },
          "paper_bgcolor": "white",
          "plot_bgcolor": "#E5ECF6",
          "polar": {
           "angularaxis": {
            "gridcolor": "white",
            "linecolor": "white",
            "ticks": ""
           },
           "bgcolor": "#E5ECF6",
           "radialaxis": {
            "gridcolor": "white",
            "linecolor": "white",
            "ticks": ""
           }
          },
          "scene": {
           "xaxis": {
            "backgroundcolor": "#E5ECF6",
            "gridcolor": "white",
            "gridwidth": 2,
            "linecolor": "white",
            "showbackground": true,
            "ticks": "",
            "zerolinecolor": "white"
           },
           "yaxis": {
            "backgroundcolor": "#E5ECF6",
            "gridcolor": "white",
            "gridwidth": 2,
            "linecolor": "white",
            "showbackground": true,
            "ticks": "",
            "zerolinecolor": "white"
           },
           "zaxis": {
            "backgroundcolor": "#E5ECF6",
            "gridcolor": "white",
            "gridwidth": 2,
            "linecolor": "white",
            "showbackground": true,
            "ticks": "",
            "zerolinecolor": "white"
           }
          },
          "shapedefaults": {
           "line": {
            "color": "#2a3f5f"
           }
          },
          "ternary": {
           "aaxis": {
            "gridcolor": "white",
            "linecolor": "white",
            "ticks": ""
           },
           "baxis": {
            "gridcolor": "white",
            "linecolor": "white",
            "ticks": ""
           },
           "bgcolor": "#E5ECF6",
           "caxis": {
            "gridcolor": "white",
            "linecolor": "white",
            "ticks": ""
           }
          },
          "title": {
           "x": 0.05
          },
          "xaxis": {
           "automargin": true,
           "gridcolor": "white",
           "linecolor": "white",
           "ticks": "",
           "title": {
            "standoff": 15
           },
           "zerolinecolor": "white",
           "zerolinewidth": 2
          },
          "yaxis": {
           "automargin": true,
           "gridcolor": "white",
           "linecolor": "white",
           "ticks": "",
           "title": {
            "standoff": 15
           },
           "zerolinecolor": "white",
           "zerolinewidth": 2
          }
         }
        },
        "title": {
         "text": "Hyperparameter Importances"
        },
        "xaxis": {
         "title": {
          "text": "Hyperparameter Importance"
         }
        },
        "yaxis": {
         "title": {
          "text": "Hyperparameter"
         }
        }
       }
      }
     },
     "metadata": {},
     "output_type": "display_data"
    }
   ],
   "source": [
    "import plotly\n",
    "import nbformat\n",
    "optuna.visualization.plot_param_importances(study).show()"
   ]
  },
  {
   "cell_type": "code",
   "execution_count": 16,
   "metadata": {},
   "outputs": [
    {
     "data": {
      "application/vnd.plotly.v1+json": {
       "config": {
        "plotlyServerURL": "https://plot.ly"
       },
       "data": [
        {
         "marker": {
          "color": [
           0,
           1,
           2,
           3,
           4,
           5,
           6,
           7,
           8,
           9,
           10,
           11,
           12,
           13,
           14,
           15,
           16,
           17,
           18,
           19,
           20,
           21,
           22,
           23,
           24,
           25,
           26,
           27,
           28,
           29,
           30,
           31,
           32,
           33,
           34,
           35,
           36,
           37,
           38,
           39,
           40,
           41,
           42,
           43,
           44,
           45,
           46,
           47,
           48,
           49,
           50,
           51,
           52,
           53,
           54,
           55,
           56,
           57,
           58,
           59,
           60,
           61,
           62,
           63,
           64,
           65,
           66,
           67,
           68,
           69,
           70,
           71,
           72,
           73,
           74,
           75,
           76,
           77,
           78,
           79,
           80,
           81,
           82,
           83,
           84,
           85,
           86,
           87,
           88,
           89,
           90,
           91,
           92,
           93,
           94,
           95,
           96,
           97,
           98,
           99,
           100,
           101,
           102,
           103,
           104,
           105,
           106,
           107,
           108,
           109,
           110,
           111,
           112,
           113,
           114,
           115,
           116,
           117,
           118,
           119,
           120,
           121,
           122,
           123,
           124,
           125,
           126,
           127,
           128,
           129,
           130,
           131,
           132,
           133,
           134,
           135,
           136,
           137,
           138,
           139,
           140,
           141,
           142,
           143,
           144,
           145,
           146,
           147,
           148,
           149,
           150,
           151,
           152,
           153,
           154,
           155,
           156,
           157,
           158,
           159,
           160,
           161,
           162,
           163,
           164,
           165,
           166,
           167,
           168,
           169,
           170,
           171,
           172,
           173,
           174,
           175,
           176,
           177,
           178,
           179,
           180,
           181,
           182,
           183,
           184,
           185,
           186,
           187,
           188,
           189,
           190,
           191,
           192,
           193,
           194,
           195,
           196,
           197,
           198,
           199
          ],
          "colorbar": {
           "title": {
            "text": "Trial"
           },
           "x": 1,
           "xpad": 40
          },
          "colorscale": [
           [
            0,
            "rgb(247,251,255)"
           ],
           [
            0.125,
            "rgb(222,235,247)"
           ],
           [
            0.25,
            "rgb(198,219,239)"
           ],
           [
            0.375,
            "rgb(158,202,225)"
           ],
           [
            0.5,
            "rgb(107,174,214)"
           ],
           [
            0.625,
            "rgb(66,146,198)"
           ],
           [
            0.75,
            "rgb(33,113,181)"
           ],
           [
            0.875,
            "rgb(8,81,156)"
           ],
           [
            1,
            "rgb(8,48,107)"
           ]
          ],
          "line": {
           "color": "Grey",
           "width": 0.5
          }
         },
         "mode": "markers",
         "name": "Feasible Trial",
         "showlegend": false,
         "type": "scatter",
         "x": [
          0.0749816047538945,
          0.08394633936788147,
          0.06232334448672798,
          0.08832290311184182,
          0.09329770563201686,
          0.06733618039413736,
          0.07727780074568463,
          0.06557975442608167,
          0.07824279936868143,
          0.08056937753654447,
          0.09871752119546261,
          0.08784471213433286,
          0.06848096266225408,
          0.0705789001371158,
          0.08978643597802943,
          0.06069580782968695,
          0.07241505151666106,
          0.08330759159188236,
          0.09712510206734515,
          0.0983711610313756,
          0.09359208054280034,
          0.0911361357267433,
          0.085105717810238,
          0.08611373523856866,
          0.09387984493554663,
          0.09997449754566207,
          0.0833290861586531,
          0.08199131505531995,
          0.09589052298370178,
          0.07547897973807853,
          0.08587815664054715,
          0.0888658743851252,
          0.08395748671455137,
          0.08614708308837575,
          0.0905431132048098,
          0.09628178371650002,
          0.07938789111866021,
          0.07922120983460694,
          0.07539918977041479,
          0.08084944076722145,
          0.07242757678791986,
          0.0836976327182914,
          0.07744824684148141,
          0.08762844469244802,
          0.08171407383608544,
          0.08577485610830245,
          0.0913459147340867,
          0.07854423181156484,
          0.08780630892136375,
          0.09224631988642196,
          0.08291504947830962,
          0.08437700269464564,
          0.0820195272000294,
          0.0877404181876978,
          0.07731648059486759,
          0.08007561776863761,
          0.08905500647020442,
          0.08509620586775596,
          0.08226454870900497,
          0.07388095415218006,
          0.07978885322959928,
          0.0825865380151189,
          0.08086180882713287,
          0.0956083738166425,
          0.08726034631180507,
          0.08342840423300858,
          0.08255418107806249,
          0.08496807409691912,
          0.06528673108628101,
          0.0766061073182728,
          0.08657777213535532,
          0.08492219768955589,
          0.07876773384982476,
          0.089624020161853,
          0.0808231888851088,
          0.08511793046626381,
          0.0974916297360735,
          0.08343850758732575,
          0.09239492786494774,
          0.08140897073341571,
          0.09991740362195141,
          0.07977097489987632,
          0.07624709450466542,
          0.07482180313375013,
          0.07785990003173966,
          0.08683245444490868,
          0.08260699589325221,
          0.07353079287695634,
          0.07630006529770376,
          0.08407258491071404,
          0.0701064025340958,
          0.07891901882910411,
          0.07970163008753925,
          0.08852098043303755,
          0.08050629390376768,
          0.08164044953431977,
          0.0855832178952093,
          0.08259851725108469,
          0.08436080458498542,
          0.08139226507952915,
          0.0830727069810652,
          0.08307584435356644,
          0.09443431904295772,
          0.08191306353862599,
          0.08629712790444309,
          0.08473900134096643,
          0.0767902850274642,
          0.07790521176846342,
          0.0834849541638712,
          0.08794857733552774,
          0.09054502834468177,
          0.07928126956609308,
          0.08005151114667934,
          0.08119400964992807,
          0.08293803490728754,
          0.08389008760156368,
          0.0856124612832034,
          0.07824331587890225,
          0.08041612427624373,
          0.08198997324261033,
          0.0822189483760976,
          0.09535528715013233,
          0.09794261770203413,
          0.09729294380772371,
          0.093687859285044,
          0.09513241631111381,
          0.09907349824806753,
          0.08731859816612167,
          0.09666131478264978,
          0.07590014472086591,
          0.08462769347681648,
          0.09465178866321945,
          0.09300422787844854,
          0.09215598645026005,
          0.09511255006901723,
          0.08149759310699611,
          0.08386836643919203,
          0.08544709412138828,
          0.08298226747938463,
          0.09690503356167474,
          0.08975585512181071,
          0.08935422694617076,
          0.09252963222874631,
          0.08999888037211344,
          0.0864001412939319,
          0.08823208385813895,
          0.08638513157692346,
          0.08828019773500206,
          0.08685621404773362,
          0.09123866048833043,
          0.09141486189890631,
          0.09116846939895319,
          0.0903702166001219,
          0.09113648167777001,
          0.09270942451415418,
          0.08910244987638596,
          0.08866188365894415,
          0.08763922649371347,
          0.086353065550472,
          0.09324786415341771,
          0.09610691311564369,
          0.09136372800147807,
          0.09198607450954166,
          0.08953390731979442,
          0.0869964603699387,
          0.08829714727778983,
          0.09375978543646835,
          0.09174133803515068,
          0.09014405243319043,
          0.08615789485657227,
          0.09438159334587337,
          0.08454727926795709,
          0.08388016503832817,
          0.060411175013266316,
          0.08568308239049768,
          0.08756953771945226,
          0.0932426349481702,
          0.07443081207631394,
          0.08243776318410476,
          0.0808017195095481,
          0.09044105146135797,
          0.08849984410229036,
          0.08894994243552583,
          0.08775464198732312,
          0.062256935413310385,
          0.0869882360024404,
          0.08314499961008699,
          0.08538850705741287,
          0.08964041205914433,
          0.07274618854216362,
          0.08826647478091236,
          0.08815059595406079,
          0.09079581600106239,
          0.08641725299584596,
          0.08869552367550676,
          0.08159572161903586,
          0.08442580832857122,
          0.08948130767063646,
          0.0988312859528776,
          0.08976286865640463
         ],
         "y": [
          0.570110228146629,
          0.564373897707231,
          0.576775185849782,
          0.5904471544715447,
          0.5834401435529352,
          0.5879618449649843,
          0.5879063773177018,
          0.5802725516329335,
          0.5742241873413576,
          0.5757526311495472,
          0.5783144839141406,
          0.5800694500524913,
          0.5875296814869402,
          0.5716737671253869,
          0.5793269230769231,
          0.5650330503366332,
          0.5695190139634584,
          0.5864255973286912,
          0.5970528455284553,
          0.5849552007028943,
          0.5800694500524913,
          0.5827315037714653,
          0.5971277399848829,
          0.5812577991051953,
          0.5793269230769231,
          0.5890103614261238,
          0.593042787771432,
          0.5726495726495726,
          0.5800694500524913,
          0.5892357003468114,
          0.5720912331874899,
          0.5757526311495472,
          0.5757526311495472,
          0.5676394778415232,
          0.5901051012560882,
          0.5665740260004682,
          0.6023801579357135,
          0.5548803376315068,
          0.5786744449846054,
          0.5760912427579095,
          0.5640243902439025,
          0.5735080352095615,
          0.5665740260004682,
          0.5691237660112589,
          0.5800694500524913,
          0.5516497422439813,
          0.5742241873413576,
          0.5864255973286912,
          0.593192279738351,
          0.5731912164432093,
          0.5944465298420396,
          0.5650330503366332,
          0.5875296814869402,
          0.583841463414634,
          0.5852576567817209,
          0.583841463414634,
          0.5592948717948718,
          0.5918408685788364,
          0.5931356348085609,
          0.563445270443476,
          0.5918408685788364,
          0.5603852055237019,
          0.5772357723577235,
          0.5864255973286912,
          0.5800694500524913,
          0.5746634337367733,
          0.583841463414634,
          0.5742241873413576,
          0.576775185849782,
          0.5589248095932587,
          0.5777305725127867,
          0.5818795607290991,
          0.5904471544715447,
          0.5793269230769231,
          0.5800694500524913,
          0.5866308648954212,
          0.5603852055237019,
          0.5812577991051953,
          0.5812577991051953,
          0.5808769344141489,
          0.5695190139634584,
          0.5716737671253869,
          0.6048773510691554,
          0.5772357723577235,
          0.5650330503366332,
          0.5818795607290991,
          0.5731912164432093,
          0.563445270443476,
          0.5751896337007647,
          0.560918693195775,
          0.5798084068859501,
          0.5731912164432093,
          0.570630081300813,
          0.5772357723577235,
          0.583841463414634,
          0.5944465298420396,
          0.5875296814869402,
          0.5760912427579095,
          0.5860042735042734,
          0.5786744449846054,
          0.5967700589592412,
          0.5812577991051953,
          0.5915959174916481,
          0.5878521644736174,
          0.5875296814869402,
          0.5915959174916481,
          0.5890103614261238,
          0.5852576567817209,
          0.5484299255874271,
          0.5798084068859501,
          0.5901051012560882,
          0.5786744449846054,
          0.5731912164432093,
          0.5726495726495726,
          0.583841463414634,
          0.5879618449649843,
          0.5777305725127867,
          0.5904471544715447,
          0.5808769344141489,
          0.5905769715293525,
          0.5746634337367733,
          0.5709246661627614,
          0.5680690683683511,
          0.5786744449846054,
          0.570630081300813,
          0.607487922705314,
          0.583841463414634,
          0.5798084068859501,
          0.5866308648954212,
          0.5852576567817209,
          0.5760912427579095,
          0.5774754346182918,
          0.6022680917027006,
          0.5716737671253869,
          0.5834401435529352,
          0.5742241873413576,
          0.5808769344141489,
          0.5716737671253869,
          0.570630081300813,
          0.5629467851690074,
          0.5970528455284553,
          0.5834401435529352,
          0.5901051012560882,
          0.576775185849782,
          0.6010424213153023,
          0.6010408952104618,
          0.5984066866919159,
          0.593042787771432,
          0.5904471544715447,
          0.6100999743655473,
          0.5956392265644121,
          0.5808769344141489,
          0.5684997066724303,
          0.5808769344141489,
          0.5665740260004682,
          0.5665740260004682,
          0.5777305725127867,
          0.5735080352095615,
          0.5860042735042734,
          0.5746634337367733,
          0.5808769344141489,
          0.5599568355577274,
          0.5691237660112589,
          0.5849552007028943,
          0.5601256341113143,
          0.5864255973286912,
          0.5659722222222222,
          0.5691237660112589,
          0.5757526311495472,
          0.5915959174916481,
          0.5746634337367733,
          0.5875296814869402,
          0.5716737671253869,
          0.5866308648954212,
          0.5834401435529352,
          0.5849552007028943,
          0.5542659461229837,
          0.5665740260004682,
          0.5665740260004682,
          0.5915959174916481,
          0.5675714402685663,
          0.5808769344141489,
          0.564373897707231,
          0.5860042735042734,
          0.5849552007028943,
          0.5675714402685663,
          0.5695190139634584,
          0.5878521644736174,
          0.5878521644736174,
          0.5826634715523604,
          0.6036585365853658,
          0.5650330503366332,
          0.5849552007028943,
          0.5774754346182918,
          0.5890103614261238,
          0.5772357723577235,
          0.5786744449846054,
          0.6141406697781053,
          0.5786744449846054,
          0.5793269230769231
         ]
        }
       ],
       "layout": {
        "template": {
         "data": {
          "bar": [
           {
            "error_x": {
             "color": "#2a3f5f"
            },
            "error_y": {
             "color": "#2a3f5f"
            },
            "marker": {
             "line": {
              "color": "#E5ECF6",
              "width": 0.5
             },
             "pattern": {
              "fillmode": "overlay",
              "size": 10,
              "solidity": 0.2
             }
            },
            "type": "bar"
           }
          ],
          "barpolar": [
           {
            "marker": {
             "line": {
              "color": "#E5ECF6",
              "width": 0.5
             },
             "pattern": {
              "fillmode": "overlay",
              "size": 10,
              "solidity": 0.2
             }
            },
            "type": "barpolar"
           }
          ],
          "carpet": [
           {
            "aaxis": {
             "endlinecolor": "#2a3f5f",
             "gridcolor": "white",
             "linecolor": "white",
             "minorgridcolor": "white",
             "startlinecolor": "#2a3f5f"
            },
            "baxis": {
             "endlinecolor": "#2a3f5f",
             "gridcolor": "white",
             "linecolor": "white",
             "minorgridcolor": "white",
             "startlinecolor": "#2a3f5f"
            },
            "type": "carpet"
           }
          ],
          "choropleth": [
           {
            "colorbar": {
             "outlinewidth": 0,
             "ticks": ""
            },
            "type": "choropleth"
           }
          ],
          "contour": [
           {
            "colorbar": {
             "outlinewidth": 0,
             "ticks": ""
            },
            "colorscale": [
             [
              0,
              "#0d0887"
             ],
             [
              0.1111111111111111,
              "#46039f"
             ],
             [
              0.2222222222222222,
              "#7201a8"
             ],
             [
              0.3333333333333333,
              "#9c179e"
             ],
             [
              0.4444444444444444,
              "#bd3786"
             ],
             [
              0.5555555555555556,
              "#d8576b"
             ],
             [
              0.6666666666666666,
              "#ed7953"
             ],
             [
              0.7777777777777778,
              "#fb9f3a"
             ],
             [
              0.8888888888888888,
              "#fdca26"
             ],
             [
              1,
              "#f0f921"
             ]
            ],
            "type": "contour"
           }
          ],
          "contourcarpet": [
           {
            "colorbar": {
             "outlinewidth": 0,
             "ticks": ""
            },
            "type": "contourcarpet"
           }
          ],
          "heatmap": [
           {
            "colorbar": {
             "outlinewidth": 0,
             "ticks": ""
            },
            "colorscale": [
             [
              0,
              "#0d0887"
             ],
             [
              0.1111111111111111,
              "#46039f"
             ],
             [
              0.2222222222222222,
              "#7201a8"
             ],
             [
              0.3333333333333333,
              "#9c179e"
             ],
             [
              0.4444444444444444,
              "#bd3786"
             ],
             [
              0.5555555555555556,
              "#d8576b"
             ],
             [
              0.6666666666666666,
              "#ed7953"
             ],
             [
              0.7777777777777778,
              "#fb9f3a"
             ],
             [
              0.8888888888888888,
              "#fdca26"
             ],
             [
              1,
              "#f0f921"
             ]
            ],
            "type": "heatmap"
           }
          ],
          "heatmapgl": [
           {
            "colorbar": {
             "outlinewidth": 0,
             "ticks": ""
            },
            "colorscale": [
             [
              0,
              "#0d0887"
             ],
             [
              0.1111111111111111,
              "#46039f"
             ],
             [
              0.2222222222222222,
              "#7201a8"
             ],
             [
              0.3333333333333333,
              "#9c179e"
             ],
             [
              0.4444444444444444,
              "#bd3786"
             ],
             [
              0.5555555555555556,
              "#d8576b"
             ],
             [
              0.6666666666666666,
              "#ed7953"
             ],
             [
              0.7777777777777778,
              "#fb9f3a"
             ],
             [
              0.8888888888888888,
              "#fdca26"
             ],
             [
              1,
              "#f0f921"
             ]
            ],
            "type": "heatmapgl"
           }
          ],
          "histogram": [
           {
            "marker": {
             "pattern": {
              "fillmode": "overlay",
              "size": 10,
              "solidity": 0.2
             }
            },
            "type": "histogram"
           }
          ],
          "histogram2d": [
           {
            "colorbar": {
             "outlinewidth": 0,
             "ticks": ""
            },
            "colorscale": [
             [
              0,
              "#0d0887"
             ],
             [
              0.1111111111111111,
              "#46039f"
             ],
             [
              0.2222222222222222,
              "#7201a8"
             ],
             [
              0.3333333333333333,
              "#9c179e"
             ],
             [
              0.4444444444444444,
              "#bd3786"
             ],
             [
              0.5555555555555556,
              "#d8576b"
             ],
             [
              0.6666666666666666,
              "#ed7953"
             ],
             [
              0.7777777777777778,
              "#fb9f3a"
             ],
             [
              0.8888888888888888,
              "#fdca26"
             ],
             [
              1,
              "#f0f921"
             ]
            ],
            "type": "histogram2d"
           }
          ],
          "histogram2dcontour": [
           {
            "colorbar": {
             "outlinewidth": 0,
             "ticks": ""
            },
            "colorscale": [
             [
              0,
              "#0d0887"
             ],
             [
              0.1111111111111111,
              "#46039f"
             ],
             [
              0.2222222222222222,
              "#7201a8"
             ],
             [
              0.3333333333333333,
              "#9c179e"
             ],
             [
              0.4444444444444444,
              "#bd3786"
             ],
             [
              0.5555555555555556,
              "#d8576b"
             ],
             [
              0.6666666666666666,
              "#ed7953"
             ],
             [
              0.7777777777777778,
              "#fb9f3a"
             ],
             [
              0.8888888888888888,
              "#fdca26"
             ],
             [
              1,
              "#f0f921"
             ]
            ],
            "type": "histogram2dcontour"
           }
          ],
          "mesh3d": [
           {
            "colorbar": {
             "outlinewidth": 0,
             "ticks": ""
            },
            "type": "mesh3d"
           }
          ],
          "parcoords": [
           {
            "line": {
             "colorbar": {
              "outlinewidth": 0,
              "ticks": ""
             }
            },
            "type": "parcoords"
           }
          ],
          "pie": [
           {
            "automargin": true,
            "type": "pie"
           }
          ],
          "scatter": [
           {
            "fillpattern": {
             "fillmode": "overlay",
             "size": 10,
             "solidity": 0.2
            },
            "type": "scatter"
           }
          ],
          "scatter3d": [
           {
            "line": {
             "colorbar": {
              "outlinewidth": 0,
              "ticks": ""
             }
            },
            "marker": {
             "colorbar": {
              "outlinewidth": 0,
              "ticks": ""
             }
            },
            "type": "scatter3d"
           }
          ],
          "scattercarpet": [
           {
            "marker": {
             "colorbar": {
              "outlinewidth": 0,
              "ticks": ""
             }
            },
            "type": "scattercarpet"
           }
          ],
          "scattergeo": [
           {
            "marker": {
             "colorbar": {
              "outlinewidth": 0,
              "ticks": ""
             }
            },
            "type": "scattergeo"
           }
          ],
          "scattergl": [
           {
            "marker": {
             "colorbar": {
              "outlinewidth": 0,
              "ticks": ""
             }
            },
            "type": "scattergl"
           }
          ],
          "scattermapbox": [
           {
            "marker": {
             "colorbar": {
              "outlinewidth": 0,
              "ticks": ""
             }
            },
            "type": "scattermapbox"
           }
          ],
          "scatterpolar": [
           {
            "marker": {
             "colorbar": {
              "outlinewidth": 0,
              "ticks": ""
             }
            },
            "type": "scatterpolar"
           }
          ],
          "scatterpolargl": [
           {
            "marker": {
             "colorbar": {
              "outlinewidth": 0,
              "ticks": ""
             }
            },
            "type": "scatterpolargl"
           }
          ],
          "scatterternary": [
           {
            "marker": {
             "colorbar": {
              "outlinewidth": 0,
              "ticks": ""
             }
            },
            "type": "scatterternary"
           }
          ],
          "surface": [
           {
            "colorbar": {
             "outlinewidth": 0,
             "ticks": ""
            },
            "colorscale": [
             [
              0,
              "#0d0887"
             ],
             [
              0.1111111111111111,
              "#46039f"
             ],
             [
              0.2222222222222222,
              "#7201a8"
             ],
             [
              0.3333333333333333,
              "#9c179e"
             ],
             [
              0.4444444444444444,
              "#bd3786"
             ],
             [
              0.5555555555555556,
              "#d8576b"
             ],
             [
              0.6666666666666666,
              "#ed7953"
             ],
             [
              0.7777777777777778,
              "#fb9f3a"
             ],
             [
              0.8888888888888888,
              "#fdca26"
             ],
             [
              1,
              "#f0f921"
             ]
            ],
            "type": "surface"
           }
          ],
          "table": [
           {
            "cells": {
             "fill": {
              "color": "#EBF0F8"
             },
             "line": {
              "color": "white"
             }
            },
            "header": {
             "fill": {
              "color": "#C8D4E3"
             },
             "line": {
              "color": "white"
             }
            },
            "type": "table"
           }
          ]
         },
         "layout": {
          "annotationdefaults": {
           "arrowcolor": "#2a3f5f",
           "arrowhead": 0,
           "arrowwidth": 1
          },
          "autotypenumbers": "strict",
          "coloraxis": {
           "colorbar": {
            "outlinewidth": 0,
            "ticks": ""
           }
          },
          "colorscale": {
           "diverging": [
            [
             0,
             "#8e0152"
            ],
            [
             0.1,
             "#c51b7d"
            ],
            [
             0.2,
             "#de77ae"
            ],
            [
             0.3,
             "#f1b6da"
            ],
            [
             0.4,
             "#fde0ef"
            ],
            [
             0.5,
             "#f7f7f7"
            ],
            [
             0.6,
             "#e6f5d0"
            ],
            [
             0.7,
             "#b8e186"
            ],
            [
             0.8,
             "#7fbc41"
            ],
            [
             0.9,
             "#4d9221"
            ],
            [
             1,
             "#276419"
            ]
           ],
           "sequential": [
            [
             0,
             "#0d0887"
            ],
            [
             0.1111111111111111,
             "#46039f"
            ],
            [
             0.2222222222222222,
             "#7201a8"
            ],
            [
             0.3333333333333333,
             "#9c179e"
            ],
            [
             0.4444444444444444,
             "#bd3786"
            ],
            [
             0.5555555555555556,
             "#d8576b"
            ],
            [
             0.6666666666666666,
             "#ed7953"
            ],
            [
             0.7777777777777778,
             "#fb9f3a"
            ],
            [
             0.8888888888888888,
             "#fdca26"
            ],
            [
             1,
             "#f0f921"
            ]
           ],
           "sequentialminus": [
            [
             0,
             "#0d0887"
            ],
            [
             0.1111111111111111,
             "#46039f"
            ],
            [
             0.2222222222222222,
             "#7201a8"
            ],
            [
             0.3333333333333333,
             "#9c179e"
            ],
            [
             0.4444444444444444,
             "#bd3786"
            ],
            [
             0.5555555555555556,
             "#d8576b"
            ],
            [
             0.6666666666666666,
             "#ed7953"
            ],
            [
             0.7777777777777778,
             "#fb9f3a"
            ],
            [
             0.8888888888888888,
             "#fdca26"
            ],
            [
             1,
             "#f0f921"
            ]
           ]
          },
          "colorway": [
           "#636efa",
           "#EF553B",
           "#00cc96",
           "#ab63fa",
           "#FFA15A",
           "#19d3f3",
           "#FF6692",
           "#B6E880",
           "#FF97FF",
           "#FECB52"
          ],
          "font": {
           "color": "#2a3f5f"
          },
          "geo": {
           "bgcolor": "white",
           "lakecolor": "white",
           "landcolor": "#E5ECF6",
           "showlakes": true,
           "showland": true,
           "subunitcolor": "white"
          },
          "hoverlabel": {
           "align": "left"
          },
          "hovermode": "closest",
          "mapbox": {
           "style": "light"
          },
          "paper_bgcolor": "white",
          "plot_bgcolor": "#E5ECF6",
          "polar": {
           "angularaxis": {
            "gridcolor": "white",
            "linecolor": "white",
            "ticks": ""
           },
           "bgcolor": "#E5ECF6",
           "radialaxis": {
            "gridcolor": "white",
            "linecolor": "white",
            "ticks": ""
           }
          },
          "scene": {
           "xaxis": {
            "backgroundcolor": "#E5ECF6",
            "gridcolor": "white",
            "gridwidth": 2,
            "linecolor": "white",
            "showbackground": true,
            "ticks": "",
            "zerolinecolor": "white"
           },
           "yaxis": {
            "backgroundcolor": "#E5ECF6",
            "gridcolor": "white",
            "gridwidth": 2,
            "linecolor": "white",
            "showbackground": true,
            "ticks": "",
            "zerolinecolor": "white"
           },
           "zaxis": {
            "backgroundcolor": "#E5ECF6",
            "gridcolor": "white",
            "gridwidth": 2,
            "linecolor": "white",
            "showbackground": true,
            "ticks": "",
            "zerolinecolor": "white"
           }
          },
          "shapedefaults": {
           "line": {
            "color": "#2a3f5f"
           }
          },
          "ternary": {
           "aaxis": {
            "gridcolor": "white",
            "linecolor": "white",
            "ticks": ""
           },
           "baxis": {
            "gridcolor": "white",
            "linecolor": "white",
            "ticks": ""
           },
           "bgcolor": "#E5ECF6",
           "caxis": {
            "gridcolor": "white",
            "linecolor": "white",
            "ticks": ""
           }
          },
          "title": {
           "x": 0.05
          },
          "xaxis": {
           "automargin": true,
           "gridcolor": "white",
           "linecolor": "white",
           "ticks": "",
           "title": {
            "standoff": 15
           },
           "zerolinecolor": "white",
           "zerolinewidth": 2
          },
          "yaxis": {
           "automargin": true,
           "gridcolor": "white",
           "linecolor": "white",
           "ticks": "",
           "title": {
            "standoff": 15
           },
           "zerolinecolor": "white",
           "zerolinewidth": 2
          }
         }
        },
        "title": {
         "text": "Slice Plot"
        },
        "xaxis": {
         "title": {
          "text": "learning_rate"
         }
        },
        "yaxis": {
         "title": {
          "text": "Objective Value"
         }
        }
       }
      }
     },
     "metadata": {},
     "output_type": "display_data"
    }
   ],
   "source": [
    "optuna.visualization.plot_slice(study, params=[\"learning_rate\"])"
   ]
  },
  {
   "cell_type": "code",
   "execution_count": 17,
   "metadata": {},
   "outputs": [
    {
     "data": {
      "application/vnd.plotly.v1+json": {
       "config": {
        "plotlyServerURL": "https://plot.ly"
       },
       "data": [
        {
         "marker": {
          "color": [
           0,
           1,
           2,
           3,
           4,
           5,
           6,
           7,
           8,
           9,
           10,
           11,
           12,
           13,
           14,
           15,
           16,
           17,
           18,
           19,
           20,
           21,
           22,
           23,
           24,
           25,
           26,
           27,
           28,
           29,
           30,
           31,
           32,
           33,
           34,
           35,
           36,
           37,
           38,
           39,
           40,
           41,
           42,
           43,
           44,
           45,
           46,
           47,
           48,
           49,
           50,
           51,
           52,
           53,
           54,
           55,
           56,
           57,
           58,
           59,
           60,
           61,
           62,
           63,
           64,
           65,
           66,
           67,
           68,
           69,
           70,
           71,
           72,
           73,
           74,
           75,
           76,
           77,
           78,
           79,
           80,
           81,
           82,
           83,
           84,
           85,
           86,
           87,
           88,
           89,
           90,
           91,
           92,
           93,
           94,
           95,
           96,
           97,
           98,
           99,
           100,
           101,
           102,
           103,
           104,
           105,
           106,
           107,
           108,
           109,
           110,
           111,
           112,
           113,
           114,
           115,
           116,
           117,
           118,
           119,
           120,
           121,
           122,
           123,
           124,
           125,
           126,
           127,
           128,
           129,
           130,
           131,
           132,
           133,
           134,
           135,
           136,
           137,
           138,
           139,
           140,
           141,
           142,
           143,
           144,
           145,
           146,
           147,
           148,
           149,
           150,
           151,
           152,
           153,
           154,
           155,
           156,
           157,
           158,
           159,
           160,
           161,
           162,
           163,
           164,
           165,
           166,
           167,
           168,
           169,
           170,
           171,
           172,
           173,
           174,
           175,
           176,
           177,
           178,
           179,
           180,
           181,
           182,
           183,
           184,
           185,
           186,
           187,
           188,
           189,
           190,
           191,
           192,
           193,
           194,
           195,
           196,
           197,
           198,
           199
          ],
          "colorbar": {
           "title": {
            "text": "Trial"
           },
           "x": 1,
           "xpad": 40
          },
          "colorscale": [
           [
            0,
            "rgb(247,251,255)"
           ],
           [
            0.125,
            "rgb(222,235,247)"
           ],
           [
            0.25,
            "rgb(198,219,239)"
           ],
           [
            0.375,
            "rgb(158,202,225)"
           ],
           [
            0.5,
            "rgb(107,174,214)"
           ],
           [
            0.625,
            "rgb(66,146,198)"
           ],
           [
            0.75,
            "rgb(33,113,181)"
           ],
           [
            0.875,
            "rgb(8,81,156)"
           ],
           [
            1,
            "rgb(8,48,107)"
           ]
          ],
          "line": {
           "color": "Grey",
           "width": 0.5
          }
         },
         "mode": "markers",
         "name": "Feasible Trial",
         "showlegend": false,
         "type": "scatter",
         "x": [
          true,
          true,
          true,
          false,
          true,
          false,
          false,
          false,
          true,
          true,
          false,
          false,
          false,
          false,
          false,
          false,
          false,
          false,
          false,
          false,
          false,
          false,
          false,
          false,
          false,
          false,
          false,
          false,
          false,
          true,
          false,
          false,
          false,
          false,
          true,
          false,
          true,
          true,
          true,
          true,
          true,
          true,
          true,
          false,
          false,
          true,
          false,
          false,
          false,
          false,
          true,
          true,
          true,
          true,
          true,
          true,
          false,
          false,
          false,
          true,
          false,
          false,
          false,
          false,
          false,
          false,
          false,
          false,
          false,
          false,
          true,
          false,
          false,
          false,
          false,
          false,
          false,
          false,
          true,
          false,
          false,
          false,
          false,
          false,
          false,
          false,
          true,
          false,
          false,
          true,
          false,
          false,
          false,
          false,
          false,
          false,
          true,
          false,
          false,
          false,
          true,
          true,
          true,
          true,
          true,
          true,
          false,
          true,
          false,
          false,
          true,
          false,
          false,
          false,
          false,
          false,
          false,
          false,
          false,
          true,
          false,
          true,
          true,
          true,
          true,
          true,
          false,
          true,
          false,
          false,
          true,
          true,
          true,
          true,
          true,
          true,
          false,
          true,
          false,
          false,
          true,
          true,
          true,
          true,
          true,
          true,
          true,
          true,
          true,
          true,
          true,
          true,
          true,
          true,
          true,
          true,
          true,
          true,
          true,
          true,
          true,
          true,
          true,
          true,
          true,
          true,
          true,
          true,
          true,
          true,
          true,
          true,
          true,
          true,
          true,
          true,
          true,
          true,
          true,
          true,
          false,
          true,
          true,
          true,
          true,
          true,
          true,
          false,
          true,
          false,
          true,
          true,
          true,
          true,
          true,
          true,
          false,
          true,
          true,
          false
         ],
         "y": [
          0.570110228146629,
          0.564373897707231,
          0.576775185849782,
          0.5904471544715447,
          0.5834401435529352,
          0.5879618449649843,
          0.5879063773177018,
          0.5802725516329335,
          0.5742241873413576,
          0.5757526311495472,
          0.5783144839141406,
          0.5800694500524913,
          0.5875296814869402,
          0.5716737671253869,
          0.5793269230769231,
          0.5650330503366332,
          0.5695190139634584,
          0.5864255973286912,
          0.5970528455284553,
          0.5849552007028943,
          0.5800694500524913,
          0.5827315037714653,
          0.5971277399848829,
          0.5812577991051953,
          0.5793269230769231,
          0.5890103614261238,
          0.593042787771432,
          0.5726495726495726,
          0.5800694500524913,
          0.5892357003468114,
          0.5720912331874899,
          0.5757526311495472,
          0.5757526311495472,
          0.5676394778415232,
          0.5901051012560882,
          0.5665740260004682,
          0.6023801579357135,
          0.5548803376315068,
          0.5786744449846054,
          0.5760912427579095,
          0.5640243902439025,
          0.5735080352095615,
          0.5665740260004682,
          0.5691237660112589,
          0.5800694500524913,
          0.5516497422439813,
          0.5742241873413576,
          0.5864255973286912,
          0.593192279738351,
          0.5731912164432093,
          0.5944465298420396,
          0.5650330503366332,
          0.5875296814869402,
          0.583841463414634,
          0.5852576567817209,
          0.583841463414634,
          0.5592948717948718,
          0.5918408685788364,
          0.5931356348085609,
          0.563445270443476,
          0.5918408685788364,
          0.5603852055237019,
          0.5772357723577235,
          0.5864255973286912,
          0.5800694500524913,
          0.5746634337367733,
          0.583841463414634,
          0.5742241873413576,
          0.576775185849782,
          0.5589248095932587,
          0.5777305725127867,
          0.5818795607290991,
          0.5904471544715447,
          0.5793269230769231,
          0.5800694500524913,
          0.5866308648954212,
          0.5603852055237019,
          0.5812577991051953,
          0.5812577991051953,
          0.5808769344141489,
          0.5695190139634584,
          0.5716737671253869,
          0.6048773510691554,
          0.5772357723577235,
          0.5650330503366332,
          0.5818795607290991,
          0.5731912164432093,
          0.563445270443476,
          0.5751896337007647,
          0.560918693195775,
          0.5798084068859501,
          0.5731912164432093,
          0.570630081300813,
          0.5772357723577235,
          0.583841463414634,
          0.5944465298420396,
          0.5875296814869402,
          0.5760912427579095,
          0.5860042735042734,
          0.5786744449846054,
          0.5967700589592412,
          0.5812577991051953,
          0.5915959174916481,
          0.5878521644736174,
          0.5875296814869402,
          0.5915959174916481,
          0.5890103614261238,
          0.5852576567817209,
          0.5484299255874271,
          0.5798084068859501,
          0.5901051012560882,
          0.5786744449846054,
          0.5731912164432093,
          0.5726495726495726,
          0.583841463414634,
          0.5879618449649843,
          0.5777305725127867,
          0.5904471544715447,
          0.5808769344141489,
          0.5905769715293525,
          0.5746634337367733,
          0.5709246661627614,
          0.5680690683683511,
          0.5786744449846054,
          0.570630081300813,
          0.607487922705314,
          0.583841463414634,
          0.5798084068859501,
          0.5866308648954212,
          0.5852576567817209,
          0.5760912427579095,
          0.5774754346182918,
          0.6022680917027006,
          0.5716737671253869,
          0.5834401435529352,
          0.5742241873413576,
          0.5808769344141489,
          0.5716737671253869,
          0.570630081300813,
          0.5629467851690074,
          0.5970528455284553,
          0.5834401435529352,
          0.5901051012560882,
          0.576775185849782,
          0.6010424213153023,
          0.6010408952104618,
          0.5984066866919159,
          0.593042787771432,
          0.5904471544715447,
          0.6100999743655473,
          0.5956392265644121,
          0.5808769344141489,
          0.5684997066724303,
          0.5808769344141489,
          0.5665740260004682,
          0.5665740260004682,
          0.5777305725127867,
          0.5735080352095615,
          0.5860042735042734,
          0.5746634337367733,
          0.5808769344141489,
          0.5599568355577274,
          0.5691237660112589,
          0.5849552007028943,
          0.5601256341113143,
          0.5864255973286912,
          0.5659722222222222,
          0.5691237660112589,
          0.5757526311495472,
          0.5915959174916481,
          0.5746634337367733,
          0.5875296814869402,
          0.5716737671253869,
          0.5866308648954212,
          0.5834401435529352,
          0.5849552007028943,
          0.5542659461229837,
          0.5665740260004682,
          0.5665740260004682,
          0.5915959174916481,
          0.5675714402685663,
          0.5808769344141489,
          0.564373897707231,
          0.5860042735042734,
          0.5849552007028943,
          0.5675714402685663,
          0.5695190139634584,
          0.5878521644736174,
          0.5878521644736174,
          0.5826634715523604,
          0.6036585365853658,
          0.5650330503366332,
          0.5849552007028943,
          0.5774754346182918,
          0.5890103614261238,
          0.5772357723577235,
          0.5786744449846054,
          0.6141406697781053,
          0.5786744449846054,
          0.5793269230769231
         ]
        }
       ],
       "layout": {
        "template": {
         "data": {
          "bar": [
           {
            "error_x": {
             "color": "#2a3f5f"
            },
            "error_y": {
             "color": "#2a3f5f"
            },
            "marker": {
             "line": {
              "color": "#E5ECF6",
              "width": 0.5
             },
             "pattern": {
              "fillmode": "overlay",
              "size": 10,
              "solidity": 0.2
             }
            },
            "type": "bar"
           }
          ],
          "barpolar": [
           {
            "marker": {
             "line": {
              "color": "#E5ECF6",
              "width": 0.5
             },
             "pattern": {
              "fillmode": "overlay",
              "size": 10,
              "solidity": 0.2
             }
            },
            "type": "barpolar"
           }
          ],
          "carpet": [
           {
            "aaxis": {
             "endlinecolor": "#2a3f5f",
             "gridcolor": "white",
             "linecolor": "white",
             "minorgridcolor": "white",
             "startlinecolor": "#2a3f5f"
            },
            "baxis": {
             "endlinecolor": "#2a3f5f",
             "gridcolor": "white",
             "linecolor": "white",
             "minorgridcolor": "white",
             "startlinecolor": "#2a3f5f"
            },
            "type": "carpet"
           }
          ],
          "choropleth": [
           {
            "colorbar": {
             "outlinewidth": 0,
             "ticks": ""
            },
            "type": "choropleth"
           }
          ],
          "contour": [
           {
            "colorbar": {
             "outlinewidth": 0,
             "ticks": ""
            },
            "colorscale": [
             [
              0,
              "#0d0887"
             ],
             [
              0.1111111111111111,
              "#46039f"
             ],
             [
              0.2222222222222222,
              "#7201a8"
             ],
             [
              0.3333333333333333,
              "#9c179e"
             ],
             [
              0.4444444444444444,
              "#bd3786"
             ],
             [
              0.5555555555555556,
              "#d8576b"
             ],
             [
              0.6666666666666666,
              "#ed7953"
             ],
             [
              0.7777777777777778,
              "#fb9f3a"
             ],
             [
              0.8888888888888888,
              "#fdca26"
             ],
             [
              1,
              "#f0f921"
             ]
            ],
            "type": "contour"
           }
          ],
          "contourcarpet": [
           {
            "colorbar": {
             "outlinewidth": 0,
             "ticks": ""
            },
            "type": "contourcarpet"
           }
          ],
          "heatmap": [
           {
            "colorbar": {
             "outlinewidth": 0,
             "ticks": ""
            },
            "colorscale": [
             [
              0,
              "#0d0887"
             ],
             [
              0.1111111111111111,
              "#46039f"
             ],
             [
              0.2222222222222222,
              "#7201a8"
             ],
             [
              0.3333333333333333,
              "#9c179e"
             ],
             [
              0.4444444444444444,
              "#bd3786"
             ],
             [
              0.5555555555555556,
              "#d8576b"
             ],
             [
              0.6666666666666666,
              "#ed7953"
             ],
             [
              0.7777777777777778,
              "#fb9f3a"
             ],
             [
              0.8888888888888888,
              "#fdca26"
             ],
             [
              1,
              "#f0f921"
             ]
            ],
            "type": "heatmap"
           }
          ],
          "heatmapgl": [
           {
            "colorbar": {
             "outlinewidth": 0,
             "ticks": ""
            },
            "colorscale": [
             [
              0,
              "#0d0887"
             ],
             [
              0.1111111111111111,
              "#46039f"
             ],
             [
              0.2222222222222222,
              "#7201a8"
             ],
             [
              0.3333333333333333,
              "#9c179e"
             ],
             [
              0.4444444444444444,
              "#bd3786"
             ],
             [
              0.5555555555555556,
              "#d8576b"
             ],
             [
              0.6666666666666666,
              "#ed7953"
             ],
             [
              0.7777777777777778,
              "#fb9f3a"
             ],
             [
              0.8888888888888888,
              "#fdca26"
             ],
             [
              1,
              "#f0f921"
             ]
            ],
            "type": "heatmapgl"
           }
          ],
          "histogram": [
           {
            "marker": {
             "pattern": {
              "fillmode": "overlay",
              "size": 10,
              "solidity": 0.2
             }
            },
            "type": "histogram"
           }
          ],
          "histogram2d": [
           {
            "colorbar": {
             "outlinewidth": 0,
             "ticks": ""
            },
            "colorscale": [
             [
              0,
              "#0d0887"
             ],
             [
              0.1111111111111111,
              "#46039f"
             ],
             [
              0.2222222222222222,
              "#7201a8"
             ],
             [
              0.3333333333333333,
              "#9c179e"
             ],
             [
              0.4444444444444444,
              "#bd3786"
             ],
             [
              0.5555555555555556,
              "#d8576b"
             ],
             [
              0.6666666666666666,
              "#ed7953"
             ],
             [
              0.7777777777777778,
              "#fb9f3a"
             ],
             [
              0.8888888888888888,
              "#fdca26"
             ],
             [
              1,
              "#f0f921"
             ]
            ],
            "type": "histogram2d"
           }
          ],
          "histogram2dcontour": [
           {
            "colorbar": {
             "outlinewidth": 0,
             "ticks": ""
            },
            "colorscale": [
             [
              0,
              "#0d0887"
             ],
             [
              0.1111111111111111,
              "#46039f"
             ],
             [
              0.2222222222222222,
              "#7201a8"
             ],
             [
              0.3333333333333333,
              "#9c179e"
             ],
             [
              0.4444444444444444,
              "#bd3786"
             ],
             [
              0.5555555555555556,
              "#d8576b"
             ],
             [
              0.6666666666666666,
              "#ed7953"
             ],
             [
              0.7777777777777778,
              "#fb9f3a"
             ],
             [
              0.8888888888888888,
              "#fdca26"
             ],
             [
              1,
              "#f0f921"
             ]
            ],
            "type": "histogram2dcontour"
           }
          ],
          "mesh3d": [
           {
            "colorbar": {
             "outlinewidth": 0,
             "ticks": ""
            },
            "type": "mesh3d"
           }
          ],
          "parcoords": [
           {
            "line": {
             "colorbar": {
              "outlinewidth": 0,
              "ticks": ""
             }
            },
            "type": "parcoords"
           }
          ],
          "pie": [
           {
            "automargin": true,
            "type": "pie"
           }
          ],
          "scatter": [
           {
            "fillpattern": {
             "fillmode": "overlay",
             "size": 10,
             "solidity": 0.2
            },
            "type": "scatter"
           }
          ],
          "scatter3d": [
           {
            "line": {
             "colorbar": {
              "outlinewidth": 0,
              "ticks": ""
             }
            },
            "marker": {
             "colorbar": {
              "outlinewidth": 0,
              "ticks": ""
             }
            },
            "type": "scatter3d"
           }
          ],
          "scattercarpet": [
           {
            "marker": {
             "colorbar": {
              "outlinewidth": 0,
              "ticks": ""
             }
            },
            "type": "scattercarpet"
           }
          ],
          "scattergeo": [
           {
            "marker": {
             "colorbar": {
              "outlinewidth": 0,
              "ticks": ""
             }
            },
            "type": "scattergeo"
           }
          ],
          "scattergl": [
           {
            "marker": {
             "colorbar": {
              "outlinewidth": 0,
              "ticks": ""
             }
            },
            "type": "scattergl"
           }
          ],
          "scattermapbox": [
           {
            "marker": {
             "colorbar": {
              "outlinewidth": 0,
              "ticks": ""
             }
            },
            "type": "scattermapbox"
           }
          ],
          "scatterpolar": [
           {
            "marker": {
             "colorbar": {
              "outlinewidth": 0,
              "ticks": ""
             }
            },
            "type": "scatterpolar"
           }
          ],
          "scatterpolargl": [
           {
            "marker": {
             "colorbar": {
              "outlinewidth": 0,
              "ticks": ""
             }
            },
            "type": "scatterpolargl"
           }
          ],
          "scatterternary": [
           {
            "marker": {
             "colorbar": {
              "outlinewidth": 0,
              "ticks": ""
             }
            },
            "type": "scatterternary"
           }
          ],
          "surface": [
           {
            "colorbar": {
             "outlinewidth": 0,
             "ticks": ""
            },
            "colorscale": [
             [
              0,
              "#0d0887"
             ],
             [
              0.1111111111111111,
              "#46039f"
             ],
             [
              0.2222222222222222,
              "#7201a8"
             ],
             [
              0.3333333333333333,
              "#9c179e"
             ],
             [
              0.4444444444444444,
              "#bd3786"
             ],
             [
              0.5555555555555556,
              "#d8576b"
             ],
             [
              0.6666666666666666,
              "#ed7953"
             ],
             [
              0.7777777777777778,
              "#fb9f3a"
             ],
             [
              0.8888888888888888,
              "#fdca26"
             ],
             [
              1,
              "#f0f921"
             ]
            ],
            "type": "surface"
           }
          ],
          "table": [
           {
            "cells": {
             "fill": {
              "color": "#EBF0F8"
             },
             "line": {
              "color": "white"
             }
            },
            "header": {
             "fill": {
              "color": "#C8D4E3"
             },
             "line": {
              "color": "white"
             }
            },
            "type": "table"
           }
          ]
         },
         "layout": {
          "annotationdefaults": {
           "arrowcolor": "#2a3f5f",
           "arrowhead": 0,
           "arrowwidth": 1
          },
          "autotypenumbers": "strict",
          "coloraxis": {
           "colorbar": {
            "outlinewidth": 0,
            "ticks": ""
           }
          },
          "colorscale": {
           "diverging": [
            [
             0,
             "#8e0152"
            ],
            [
             0.1,
             "#c51b7d"
            ],
            [
             0.2,
             "#de77ae"
            ],
            [
             0.3,
             "#f1b6da"
            ],
            [
             0.4,
             "#fde0ef"
            ],
            [
             0.5,
             "#f7f7f7"
            ],
            [
             0.6,
             "#e6f5d0"
            ],
            [
             0.7,
             "#b8e186"
            ],
            [
             0.8,
             "#7fbc41"
            ],
            [
             0.9,
             "#4d9221"
            ],
            [
             1,
             "#276419"
            ]
           ],
           "sequential": [
            [
             0,
             "#0d0887"
            ],
            [
             0.1111111111111111,
             "#46039f"
            ],
            [
             0.2222222222222222,
             "#7201a8"
            ],
            [
             0.3333333333333333,
             "#9c179e"
            ],
            [
             0.4444444444444444,
             "#bd3786"
            ],
            [
             0.5555555555555556,
             "#d8576b"
            ],
            [
             0.6666666666666666,
             "#ed7953"
            ],
            [
             0.7777777777777778,
             "#fb9f3a"
            ],
            [
             0.8888888888888888,
             "#fdca26"
            ],
            [
             1,
             "#f0f921"
            ]
           ],
           "sequentialminus": [
            [
             0,
             "#0d0887"
            ],
            [
             0.1111111111111111,
             "#46039f"
            ],
            [
             0.2222222222222222,
             "#7201a8"
            ],
            [
             0.3333333333333333,
             "#9c179e"
            ],
            [
             0.4444444444444444,
             "#bd3786"
            ],
            [
             0.5555555555555556,
             "#d8576b"
            ],
            [
             0.6666666666666666,
             "#ed7953"
            ],
            [
             0.7777777777777778,
             "#fb9f3a"
            ],
            [
             0.8888888888888888,
             "#fdca26"
            ],
            [
             1,
             "#f0f921"
            ]
           ]
          },
          "colorway": [
           "#636efa",
           "#EF553B",
           "#00cc96",
           "#ab63fa",
           "#FFA15A",
           "#19d3f3",
           "#FF6692",
           "#B6E880",
           "#FF97FF",
           "#FECB52"
          ],
          "font": {
           "color": "#2a3f5f"
          },
          "geo": {
           "bgcolor": "white",
           "lakecolor": "white",
           "landcolor": "#E5ECF6",
           "showlakes": true,
           "showland": true,
           "subunitcolor": "white"
          },
          "hoverlabel": {
           "align": "left"
          },
          "hovermode": "closest",
          "mapbox": {
           "style": "light"
          },
          "paper_bgcolor": "white",
          "plot_bgcolor": "#E5ECF6",
          "polar": {
           "angularaxis": {
            "gridcolor": "white",
            "linecolor": "white",
            "ticks": ""
           },
           "bgcolor": "#E5ECF6",
           "radialaxis": {
            "gridcolor": "white",
            "linecolor": "white",
            "ticks": ""
           }
          },
          "scene": {
           "xaxis": {
            "backgroundcolor": "#E5ECF6",
            "gridcolor": "white",
            "gridwidth": 2,
            "linecolor": "white",
            "showbackground": true,
            "ticks": "",
            "zerolinecolor": "white"
           },
           "yaxis": {
            "backgroundcolor": "#E5ECF6",
            "gridcolor": "white",
            "gridwidth": 2,
            "linecolor": "white",
            "showbackground": true,
            "ticks": "",
            "zerolinecolor": "white"
           },
           "zaxis": {
            "backgroundcolor": "#E5ECF6",
            "gridcolor": "white",
            "gridwidth": 2,
            "linecolor": "white",
            "showbackground": true,
            "ticks": "",
            "zerolinecolor": "white"
           }
          },
          "shapedefaults": {
           "line": {
            "color": "#2a3f5f"
           }
          },
          "ternary": {
           "aaxis": {
            "gridcolor": "white",
            "linecolor": "white",
            "ticks": ""
           },
           "baxis": {
            "gridcolor": "white",
            "linecolor": "white",
            "ticks": ""
           },
           "bgcolor": "#E5ECF6",
           "caxis": {
            "gridcolor": "white",
            "linecolor": "white",
            "ticks": ""
           }
          },
          "title": {
           "x": 0.05
          },
          "xaxis": {
           "automargin": true,
           "gridcolor": "white",
           "linecolor": "white",
           "ticks": "",
           "title": {
            "standoff": 15
           },
           "zerolinecolor": "white",
           "zerolinewidth": 2
          },
          "yaxis": {
           "automargin": true,
           "gridcolor": "white",
           "linecolor": "white",
           "ticks": "",
           "title": {
            "standoff": 15
           },
           "zerolinecolor": "white",
           "zerolinewidth": 2
          }
         }
        },
        "title": {
         "text": "Slice Plot"
        },
        "xaxis": {
         "categoryarray": [
          true,
          false
         ],
         "categoryorder": "array",
         "title": {
          "text": "is_unbalance"
         },
         "type": "category"
        },
        "yaxis": {
         "title": {
          "text": "Objective Value"
         }
        }
       }
      }
     },
     "metadata": {},
     "output_type": "display_data"
    }
   ],
   "source": [
    "optuna.visualization.plot_slice(study, params=[\"is_unbalance\"])"
   ]
  },
  {
   "cell_type": "code",
   "execution_count": 18,
   "metadata": {},
   "outputs": [
    {
     "data": {
      "application/vnd.plotly.v1+json": {
       "config": {
        "plotlyServerURL": "https://plot.ly"
       },
       "data": [
        {
         "mode": "markers",
         "name": "Objective Value",
         "type": "scatter",
         "x": [
          0,
          1,
          2,
          3,
          4,
          5,
          6,
          7,
          8,
          9,
          10,
          11,
          12,
          13,
          14,
          15,
          16,
          17,
          18,
          19,
          20,
          21,
          22,
          23,
          24,
          25,
          26,
          27,
          28,
          29,
          30,
          31,
          32,
          33,
          34,
          35,
          36,
          37,
          38,
          39,
          40,
          41,
          42,
          43,
          44,
          45,
          46,
          47,
          48,
          49,
          50,
          51,
          52,
          53,
          54,
          55,
          56,
          57,
          58,
          59,
          60,
          61,
          62,
          63,
          64,
          65,
          66,
          67,
          68,
          69,
          70,
          71,
          72,
          73,
          74,
          75,
          76,
          77,
          78,
          79,
          80,
          81,
          82,
          83,
          84,
          85,
          86,
          87,
          88,
          89,
          90,
          91,
          92,
          93,
          94,
          95,
          96,
          97,
          98,
          99,
          100,
          101,
          102,
          103,
          104,
          105,
          106,
          107,
          108,
          109,
          110,
          111,
          112,
          113,
          114,
          115,
          116,
          117,
          118,
          119,
          120,
          121,
          122,
          123,
          124,
          125,
          126,
          127,
          128,
          129,
          130,
          131,
          132,
          133,
          134,
          135,
          136,
          137,
          138,
          139,
          140,
          141,
          142,
          143,
          144,
          145,
          146,
          147,
          148,
          149,
          150,
          151,
          152,
          153,
          154,
          155,
          156,
          157,
          158,
          159,
          160,
          161,
          162,
          163,
          164,
          165,
          166,
          167,
          168,
          169,
          170,
          171,
          172,
          173,
          174,
          175,
          176,
          177,
          178,
          179,
          180,
          181,
          182,
          183,
          184,
          185,
          186,
          187,
          188,
          189,
          190,
          191,
          192,
          193,
          194,
          195,
          196,
          197,
          198,
          199
         ],
         "y": [
          0.570110228146629,
          0.564373897707231,
          0.576775185849782,
          0.5904471544715447,
          0.5834401435529352,
          0.5879618449649843,
          0.5879063773177018,
          0.5802725516329335,
          0.5742241873413576,
          0.5757526311495472,
          0.5783144839141406,
          0.5800694500524913,
          0.5875296814869402,
          0.5716737671253869,
          0.5793269230769231,
          0.5650330503366332,
          0.5695190139634584,
          0.5864255973286912,
          0.5970528455284553,
          0.5849552007028943,
          0.5800694500524913,
          0.5827315037714653,
          0.5971277399848829,
          0.5812577991051953,
          0.5793269230769231,
          0.5890103614261238,
          0.593042787771432,
          0.5726495726495726,
          0.5800694500524913,
          0.5892357003468114,
          0.5720912331874899,
          0.5757526311495472,
          0.5757526311495472,
          0.5676394778415232,
          0.5901051012560882,
          0.5665740260004682,
          0.6023801579357135,
          0.5548803376315068,
          0.5786744449846054,
          0.5760912427579095,
          0.5640243902439025,
          0.5735080352095615,
          0.5665740260004682,
          0.5691237660112589,
          0.5800694500524913,
          0.5516497422439813,
          0.5742241873413576,
          0.5864255973286912,
          0.593192279738351,
          0.5731912164432093,
          0.5944465298420396,
          0.5650330503366332,
          0.5875296814869402,
          0.583841463414634,
          0.5852576567817209,
          0.583841463414634,
          0.5592948717948718,
          0.5918408685788364,
          0.5931356348085609,
          0.563445270443476,
          0.5918408685788364,
          0.5603852055237019,
          0.5772357723577235,
          0.5864255973286912,
          0.5800694500524913,
          0.5746634337367733,
          0.583841463414634,
          0.5742241873413576,
          0.576775185849782,
          0.5589248095932587,
          0.5777305725127867,
          0.5818795607290991,
          0.5904471544715447,
          0.5793269230769231,
          0.5800694500524913,
          0.5866308648954212,
          0.5603852055237019,
          0.5812577991051953,
          0.5812577991051953,
          0.5808769344141489,
          0.5695190139634584,
          0.5716737671253869,
          0.6048773510691554,
          0.5772357723577235,
          0.5650330503366332,
          0.5818795607290991,
          0.5731912164432093,
          0.563445270443476,
          0.5751896337007647,
          0.560918693195775,
          0.5798084068859501,
          0.5731912164432093,
          0.570630081300813,
          0.5772357723577235,
          0.583841463414634,
          0.5944465298420396,
          0.5875296814869402,
          0.5760912427579095,
          0.5860042735042734,
          0.5786744449846054,
          0.5967700589592412,
          0.5812577991051953,
          0.5915959174916481,
          0.5878521644736174,
          0.5875296814869402,
          0.5915959174916481,
          0.5890103614261238,
          0.5852576567817209,
          0.5484299255874271,
          0.5798084068859501,
          0.5901051012560882,
          0.5786744449846054,
          0.5731912164432093,
          0.5726495726495726,
          0.583841463414634,
          0.5879618449649843,
          0.5777305725127867,
          0.5904471544715447,
          0.5808769344141489,
          0.5905769715293525,
          0.5746634337367733,
          0.5709246661627614,
          0.5680690683683511,
          0.5786744449846054,
          0.570630081300813,
          0.607487922705314,
          0.583841463414634,
          0.5798084068859501,
          0.5866308648954212,
          0.5852576567817209,
          0.5760912427579095,
          0.5774754346182918,
          0.6022680917027006,
          0.5716737671253869,
          0.5834401435529352,
          0.5742241873413576,
          0.5808769344141489,
          0.5716737671253869,
          0.570630081300813,
          0.5629467851690074,
          0.5970528455284553,
          0.5834401435529352,
          0.5901051012560882,
          0.576775185849782,
          0.6010424213153023,
          0.6010408952104618,
          0.5984066866919159,
          0.593042787771432,
          0.5904471544715447,
          0.6100999743655473,
          0.5956392265644121,
          0.5808769344141489,
          0.5684997066724303,
          0.5808769344141489,
          0.5665740260004682,
          0.5665740260004682,
          0.5777305725127867,
          0.5735080352095615,
          0.5860042735042734,
          0.5746634337367733,
          0.5808769344141489,
          0.5599568355577274,
          0.5691237660112589,
          0.5849552007028943,
          0.5601256341113143,
          0.5864255973286912,
          0.5659722222222222,
          0.5691237660112589,
          0.5757526311495472,
          0.5915959174916481,
          0.5746634337367733,
          0.5875296814869402,
          0.5716737671253869,
          0.5866308648954212,
          0.5834401435529352,
          0.5849552007028943,
          0.5542659461229837,
          0.5665740260004682,
          0.5665740260004682,
          0.5915959174916481,
          0.5675714402685663,
          0.5808769344141489,
          0.564373897707231,
          0.5860042735042734,
          0.5849552007028943,
          0.5675714402685663,
          0.5695190139634584,
          0.5878521644736174,
          0.5878521644736174,
          0.5826634715523604,
          0.6036585365853658,
          0.5650330503366332,
          0.5849552007028943,
          0.5774754346182918,
          0.5890103614261238,
          0.5772357723577235,
          0.5786744449846054,
          0.6141406697781053,
          0.5786744449846054,
          0.5793269230769231
         ]
        },
        {
         "mode": "lines",
         "name": "Best Value",
         "type": "scatter",
         "x": [
          0,
          1,
          2,
          3,
          4,
          5,
          6,
          7,
          8,
          9,
          10,
          11,
          12,
          13,
          14,
          15,
          16,
          17,
          18,
          19,
          20,
          21,
          22,
          23,
          24,
          25,
          26,
          27,
          28,
          29,
          30,
          31,
          32,
          33,
          34,
          35,
          36,
          37,
          38,
          39,
          40,
          41,
          42,
          43,
          44,
          45,
          46,
          47,
          48,
          49,
          50,
          51,
          52,
          53,
          54,
          55,
          56,
          57,
          58,
          59,
          60,
          61,
          62,
          63,
          64,
          65,
          66,
          67,
          68,
          69,
          70,
          71,
          72,
          73,
          74,
          75,
          76,
          77,
          78,
          79,
          80,
          81,
          82,
          83,
          84,
          85,
          86,
          87,
          88,
          89,
          90,
          91,
          92,
          93,
          94,
          95,
          96,
          97,
          98,
          99,
          100,
          101,
          102,
          103,
          104,
          105,
          106,
          107,
          108,
          109,
          110,
          111,
          112,
          113,
          114,
          115,
          116,
          117,
          118,
          119,
          120,
          121,
          122,
          123,
          124,
          125,
          126,
          127,
          128,
          129,
          130,
          131,
          132,
          133,
          134,
          135,
          136,
          137,
          138,
          139,
          140,
          141,
          142,
          143,
          144,
          145,
          146,
          147,
          148,
          149,
          150,
          151,
          152,
          153,
          154,
          155,
          156,
          157,
          158,
          159,
          160,
          161,
          162,
          163,
          164,
          165,
          166,
          167,
          168,
          169,
          170,
          171,
          172,
          173,
          174,
          175,
          176,
          177,
          178,
          179,
          180,
          181,
          182,
          183,
          184,
          185,
          186,
          187,
          188,
          189,
          190,
          191,
          192,
          193,
          194,
          195,
          196,
          197,
          198,
          199
         ],
         "y": [
          0.570110228146629,
          0.570110228146629,
          0.576775185849782,
          0.5904471544715447,
          0.5904471544715447,
          0.5904471544715447,
          0.5904471544715447,
          0.5904471544715447,
          0.5904471544715447,
          0.5904471544715447,
          0.5904471544715447,
          0.5904471544715447,
          0.5904471544715447,
          0.5904471544715447,
          0.5904471544715447,
          0.5904471544715447,
          0.5904471544715447,
          0.5904471544715447,
          0.5970528455284553,
          0.5970528455284553,
          0.5970528455284553,
          0.5970528455284553,
          0.5971277399848829,
          0.5971277399848829,
          0.5971277399848829,
          0.5971277399848829,
          0.5971277399848829,
          0.5971277399848829,
          0.5971277399848829,
          0.5971277399848829,
          0.5971277399848829,
          0.5971277399848829,
          0.5971277399848829,
          0.5971277399848829,
          0.5971277399848829,
          0.5971277399848829,
          0.6023801579357135,
          0.6023801579357135,
          0.6023801579357135,
          0.6023801579357135,
          0.6023801579357135,
          0.6023801579357135,
          0.6023801579357135,
          0.6023801579357135,
          0.6023801579357135,
          0.6023801579357135,
          0.6023801579357135,
          0.6023801579357135,
          0.6023801579357135,
          0.6023801579357135,
          0.6023801579357135,
          0.6023801579357135,
          0.6023801579357135,
          0.6023801579357135,
          0.6023801579357135,
          0.6023801579357135,
          0.6023801579357135,
          0.6023801579357135,
          0.6023801579357135,
          0.6023801579357135,
          0.6023801579357135,
          0.6023801579357135,
          0.6023801579357135,
          0.6023801579357135,
          0.6023801579357135,
          0.6023801579357135,
          0.6023801579357135,
          0.6023801579357135,
          0.6023801579357135,
          0.6023801579357135,
          0.6023801579357135,
          0.6023801579357135,
          0.6023801579357135,
          0.6023801579357135,
          0.6023801579357135,
          0.6023801579357135,
          0.6023801579357135,
          0.6023801579357135,
          0.6023801579357135,
          0.6023801579357135,
          0.6023801579357135,
          0.6023801579357135,
          0.6048773510691554,
          0.6048773510691554,
          0.6048773510691554,
          0.6048773510691554,
          0.6048773510691554,
          0.6048773510691554,
          0.6048773510691554,
          0.6048773510691554,
          0.6048773510691554,
          0.6048773510691554,
          0.6048773510691554,
          0.6048773510691554,
          0.6048773510691554,
          0.6048773510691554,
          0.6048773510691554,
          0.6048773510691554,
          0.6048773510691554,
          0.6048773510691554,
          0.6048773510691554,
          0.6048773510691554,
          0.6048773510691554,
          0.6048773510691554,
          0.6048773510691554,
          0.6048773510691554,
          0.6048773510691554,
          0.6048773510691554,
          0.6048773510691554,
          0.6048773510691554,
          0.6048773510691554,
          0.6048773510691554,
          0.6048773510691554,
          0.6048773510691554,
          0.6048773510691554,
          0.6048773510691554,
          0.6048773510691554,
          0.6048773510691554,
          0.6048773510691554,
          0.6048773510691554,
          0.6048773510691554,
          0.6048773510691554,
          0.6048773510691554,
          0.6048773510691554,
          0.6048773510691554,
          0.607487922705314,
          0.607487922705314,
          0.607487922705314,
          0.607487922705314,
          0.607487922705314,
          0.607487922705314,
          0.607487922705314,
          0.607487922705314,
          0.607487922705314,
          0.607487922705314,
          0.607487922705314,
          0.607487922705314,
          0.607487922705314,
          0.607487922705314,
          0.607487922705314,
          0.607487922705314,
          0.607487922705314,
          0.607487922705314,
          0.607487922705314,
          0.607487922705314,
          0.607487922705314,
          0.607487922705314,
          0.607487922705314,
          0.607487922705314,
          0.6100999743655473,
          0.6100999743655473,
          0.6100999743655473,
          0.6100999743655473,
          0.6100999743655473,
          0.6100999743655473,
          0.6100999743655473,
          0.6100999743655473,
          0.6100999743655473,
          0.6100999743655473,
          0.6100999743655473,
          0.6100999743655473,
          0.6100999743655473,
          0.6100999743655473,
          0.6100999743655473,
          0.6100999743655473,
          0.6100999743655473,
          0.6100999743655473,
          0.6100999743655473,
          0.6100999743655473,
          0.6100999743655473,
          0.6100999743655473,
          0.6100999743655473,
          0.6100999743655473,
          0.6100999743655473,
          0.6100999743655473,
          0.6100999743655473,
          0.6100999743655473,
          0.6100999743655473,
          0.6100999743655473,
          0.6100999743655473,
          0.6100999743655473,
          0.6100999743655473,
          0.6100999743655473,
          0.6100999743655473,
          0.6100999743655473,
          0.6100999743655473,
          0.6100999743655473,
          0.6100999743655473,
          0.6100999743655473,
          0.6100999743655473,
          0.6100999743655473,
          0.6100999743655473,
          0.6100999743655473,
          0.6100999743655473,
          0.6100999743655473,
          0.6100999743655473,
          0.6100999743655473,
          0.6141406697781053,
          0.6141406697781053,
          0.6141406697781053
         ]
        },
        {
         "marker": {
          "color": "#cccccc"
         },
         "mode": "markers",
         "name": "Infeasible Trial",
         "showlegend": false,
         "type": "scatter",
         "x": [],
         "y": []
        }
       ],
       "layout": {
        "template": {
         "data": {
          "bar": [
           {
            "error_x": {
             "color": "#2a3f5f"
            },
            "error_y": {
             "color": "#2a3f5f"
            },
            "marker": {
             "line": {
              "color": "#E5ECF6",
              "width": 0.5
             },
             "pattern": {
              "fillmode": "overlay",
              "size": 10,
              "solidity": 0.2
             }
            },
            "type": "bar"
           }
          ],
          "barpolar": [
           {
            "marker": {
             "line": {
              "color": "#E5ECF6",
              "width": 0.5
             },
             "pattern": {
              "fillmode": "overlay",
              "size": 10,
              "solidity": 0.2
             }
            },
            "type": "barpolar"
           }
          ],
          "carpet": [
           {
            "aaxis": {
             "endlinecolor": "#2a3f5f",
             "gridcolor": "white",
             "linecolor": "white",
             "minorgridcolor": "white",
             "startlinecolor": "#2a3f5f"
            },
            "baxis": {
             "endlinecolor": "#2a3f5f",
             "gridcolor": "white",
             "linecolor": "white",
             "minorgridcolor": "white",
             "startlinecolor": "#2a3f5f"
            },
            "type": "carpet"
           }
          ],
          "choropleth": [
           {
            "colorbar": {
             "outlinewidth": 0,
             "ticks": ""
            },
            "type": "choropleth"
           }
          ],
          "contour": [
           {
            "colorbar": {
             "outlinewidth": 0,
             "ticks": ""
            },
            "colorscale": [
             [
              0,
              "#0d0887"
             ],
             [
              0.1111111111111111,
              "#46039f"
             ],
             [
              0.2222222222222222,
              "#7201a8"
             ],
             [
              0.3333333333333333,
              "#9c179e"
             ],
             [
              0.4444444444444444,
              "#bd3786"
             ],
             [
              0.5555555555555556,
              "#d8576b"
             ],
             [
              0.6666666666666666,
              "#ed7953"
             ],
             [
              0.7777777777777778,
              "#fb9f3a"
             ],
             [
              0.8888888888888888,
              "#fdca26"
             ],
             [
              1,
              "#f0f921"
             ]
            ],
            "type": "contour"
           }
          ],
          "contourcarpet": [
           {
            "colorbar": {
             "outlinewidth": 0,
             "ticks": ""
            },
            "type": "contourcarpet"
           }
          ],
          "heatmap": [
           {
            "colorbar": {
             "outlinewidth": 0,
             "ticks": ""
            },
            "colorscale": [
             [
              0,
              "#0d0887"
             ],
             [
              0.1111111111111111,
              "#46039f"
             ],
             [
              0.2222222222222222,
              "#7201a8"
             ],
             [
              0.3333333333333333,
              "#9c179e"
             ],
             [
              0.4444444444444444,
              "#bd3786"
             ],
             [
              0.5555555555555556,
              "#d8576b"
             ],
             [
              0.6666666666666666,
              "#ed7953"
             ],
             [
              0.7777777777777778,
              "#fb9f3a"
             ],
             [
              0.8888888888888888,
              "#fdca26"
             ],
             [
              1,
              "#f0f921"
             ]
            ],
            "type": "heatmap"
           }
          ],
          "heatmapgl": [
           {
            "colorbar": {
             "outlinewidth": 0,
             "ticks": ""
            },
            "colorscale": [
             [
              0,
              "#0d0887"
             ],
             [
              0.1111111111111111,
              "#46039f"
             ],
             [
              0.2222222222222222,
              "#7201a8"
             ],
             [
              0.3333333333333333,
              "#9c179e"
             ],
             [
              0.4444444444444444,
              "#bd3786"
             ],
             [
              0.5555555555555556,
              "#d8576b"
             ],
             [
              0.6666666666666666,
              "#ed7953"
             ],
             [
              0.7777777777777778,
              "#fb9f3a"
             ],
             [
              0.8888888888888888,
              "#fdca26"
             ],
             [
              1,
              "#f0f921"
             ]
            ],
            "type": "heatmapgl"
           }
          ],
          "histogram": [
           {
            "marker": {
             "pattern": {
              "fillmode": "overlay",
              "size": 10,
              "solidity": 0.2
             }
            },
            "type": "histogram"
           }
          ],
          "histogram2d": [
           {
            "colorbar": {
             "outlinewidth": 0,
             "ticks": ""
            },
            "colorscale": [
             [
              0,
              "#0d0887"
             ],
             [
              0.1111111111111111,
              "#46039f"
             ],
             [
              0.2222222222222222,
              "#7201a8"
             ],
             [
              0.3333333333333333,
              "#9c179e"
             ],
             [
              0.4444444444444444,
              "#bd3786"
             ],
             [
              0.5555555555555556,
              "#d8576b"
             ],
             [
              0.6666666666666666,
              "#ed7953"
             ],
             [
              0.7777777777777778,
              "#fb9f3a"
             ],
             [
              0.8888888888888888,
              "#fdca26"
             ],
             [
              1,
              "#f0f921"
             ]
            ],
            "type": "histogram2d"
           }
          ],
          "histogram2dcontour": [
           {
            "colorbar": {
             "outlinewidth": 0,
             "ticks": ""
            },
            "colorscale": [
             [
              0,
              "#0d0887"
             ],
             [
              0.1111111111111111,
              "#46039f"
             ],
             [
              0.2222222222222222,
              "#7201a8"
             ],
             [
              0.3333333333333333,
              "#9c179e"
             ],
             [
              0.4444444444444444,
              "#bd3786"
             ],
             [
              0.5555555555555556,
              "#d8576b"
             ],
             [
              0.6666666666666666,
              "#ed7953"
             ],
             [
              0.7777777777777778,
              "#fb9f3a"
             ],
             [
              0.8888888888888888,
              "#fdca26"
             ],
             [
              1,
              "#f0f921"
             ]
            ],
            "type": "histogram2dcontour"
           }
          ],
          "mesh3d": [
           {
            "colorbar": {
             "outlinewidth": 0,
             "ticks": ""
            },
            "type": "mesh3d"
           }
          ],
          "parcoords": [
           {
            "line": {
             "colorbar": {
              "outlinewidth": 0,
              "ticks": ""
             }
            },
            "type": "parcoords"
           }
          ],
          "pie": [
           {
            "automargin": true,
            "type": "pie"
           }
          ],
          "scatter": [
           {
            "fillpattern": {
             "fillmode": "overlay",
             "size": 10,
             "solidity": 0.2
            },
            "type": "scatter"
           }
          ],
          "scatter3d": [
           {
            "line": {
             "colorbar": {
              "outlinewidth": 0,
              "ticks": ""
             }
            },
            "marker": {
             "colorbar": {
              "outlinewidth": 0,
              "ticks": ""
             }
            },
            "type": "scatter3d"
           }
          ],
          "scattercarpet": [
           {
            "marker": {
             "colorbar": {
              "outlinewidth": 0,
              "ticks": ""
             }
            },
            "type": "scattercarpet"
           }
          ],
          "scattergeo": [
           {
            "marker": {
             "colorbar": {
              "outlinewidth": 0,
              "ticks": ""
             }
            },
            "type": "scattergeo"
           }
          ],
          "scattergl": [
           {
            "marker": {
             "colorbar": {
              "outlinewidth": 0,
              "ticks": ""
             }
            },
            "type": "scattergl"
           }
          ],
          "scattermapbox": [
           {
            "marker": {
             "colorbar": {
              "outlinewidth": 0,
              "ticks": ""
             }
            },
            "type": "scattermapbox"
           }
          ],
          "scatterpolar": [
           {
            "marker": {
             "colorbar": {
              "outlinewidth": 0,
              "ticks": ""
             }
            },
            "type": "scatterpolar"
           }
          ],
          "scatterpolargl": [
           {
            "marker": {
             "colorbar": {
              "outlinewidth": 0,
              "ticks": ""
             }
            },
            "type": "scatterpolargl"
           }
          ],
          "scatterternary": [
           {
            "marker": {
             "colorbar": {
              "outlinewidth": 0,
              "ticks": ""
             }
            },
            "type": "scatterternary"
           }
          ],
          "surface": [
           {
            "colorbar": {
             "outlinewidth": 0,
             "ticks": ""
            },
            "colorscale": [
             [
              0,
              "#0d0887"
             ],
             [
              0.1111111111111111,
              "#46039f"
             ],
             [
              0.2222222222222222,
              "#7201a8"
             ],
             [
              0.3333333333333333,
              "#9c179e"
             ],
             [
              0.4444444444444444,
              "#bd3786"
             ],
             [
              0.5555555555555556,
              "#d8576b"
             ],
             [
              0.6666666666666666,
              "#ed7953"
             ],
             [
              0.7777777777777778,
              "#fb9f3a"
             ],
             [
              0.8888888888888888,
              "#fdca26"
             ],
             [
              1,
              "#f0f921"
             ]
            ],
            "type": "surface"
           }
          ],
          "table": [
           {
            "cells": {
             "fill": {
              "color": "#EBF0F8"
             },
             "line": {
              "color": "white"
             }
            },
            "header": {
             "fill": {
              "color": "#C8D4E3"
             },
             "line": {
              "color": "white"
             }
            },
            "type": "table"
           }
          ]
         },
         "layout": {
          "annotationdefaults": {
           "arrowcolor": "#2a3f5f",
           "arrowhead": 0,
           "arrowwidth": 1
          },
          "autotypenumbers": "strict",
          "coloraxis": {
           "colorbar": {
            "outlinewidth": 0,
            "ticks": ""
           }
          },
          "colorscale": {
           "diverging": [
            [
             0,
             "#8e0152"
            ],
            [
             0.1,
             "#c51b7d"
            ],
            [
             0.2,
             "#de77ae"
            ],
            [
             0.3,
             "#f1b6da"
            ],
            [
             0.4,
             "#fde0ef"
            ],
            [
             0.5,
             "#f7f7f7"
            ],
            [
             0.6,
             "#e6f5d0"
            ],
            [
             0.7,
             "#b8e186"
            ],
            [
             0.8,
             "#7fbc41"
            ],
            [
             0.9,
             "#4d9221"
            ],
            [
             1,
             "#276419"
            ]
           ],
           "sequential": [
            [
             0,
             "#0d0887"
            ],
            [
             0.1111111111111111,
             "#46039f"
            ],
            [
             0.2222222222222222,
             "#7201a8"
            ],
            [
             0.3333333333333333,
             "#9c179e"
            ],
            [
             0.4444444444444444,
             "#bd3786"
            ],
            [
             0.5555555555555556,
             "#d8576b"
            ],
            [
             0.6666666666666666,
             "#ed7953"
            ],
            [
             0.7777777777777778,
             "#fb9f3a"
            ],
            [
             0.8888888888888888,
             "#fdca26"
            ],
            [
             1,
             "#f0f921"
            ]
           ],
           "sequentialminus": [
            [
             0,
             "#0d0887"
            ],
            [
             0.1111111111111111,
             "#46039f"
            ],
            [
             0.2222222222222222,
             "#7201a8"
            ],
            [
             0.3333333333333333,
             "#9c179e"
            ],
            [
             0.4444444444444444,
             "#bd3786"
            ],
            [
             0.5555555555555556,
             "#d8576b"
            ],
            [
             0.6666666666666666,
             "#ed7953"
            ],
            [
             0.7777777777777778,
             "#fb9f3a"
            ],
            [
             0.8888888888888888,
             "#fdca26"
            ],
            [
             1,
             "#f0f921"
            ]
           ]
          },
          "colorway": [
           "#636efa",
           "#EF553B",
           "#00cc96",
           "#ab63fa",
           "#FFA15A",
           "#19d3f3",
           "#FF6692",
           "#B6E880",
           "#FF97FF",
           "#FECB52"
          ],
          "font": {
           "color": "#2a3f5f"
          },
          "geo": {
           "bgcolor": "white",
           "lakecolor": "white",
           "landcolor": "#E5ECF6",
           "showlakes": true,
           "showland": true,
           "subunitcolor": "white"
          },
          "hoverlabel": {
           "align": "left"
          },
          "hovermode": "closest",
          "mapbox": {
           "style": "light"
          },
          "paper_bgcolor": "white",
          "plot_bgcolor": "#E5ECF6",
          "polar": {
           "angularaxis": {
            "gridcolor": "white",
            "linecolor": "white",
            "ticks": ""
           },
           "bgcolor": "#E5ECF6",
           "radialaxis": {
            "gridcolor": "white",
            "linecolor": "white",
            "ticks": ""
           }
          },
          "scene": {
           "xaxis": {
            "backgroundcolor": "#E5ECF6",
            "gridcolor": "white",
            "gridwidth": 2,
            "linecolor": "white",
            "showbackground": true,
            "ticks": "",
            "zerolinecolor": "white"
           },
           "yaxis": {
            "backgroundcolor": "#E5ECF6",
            "gridcolor": "white",
            "gridwidth": 2,
            "linecolor": "white",
            "showbackground": true,
            "ticks": "",
            "zerolinecolor": "white"
           },
           "zaxis": {
            "backgroundcolor": "#E5ECF6",
            "gridcolor": "white",
            "gridwidth": 2,
            "linecolor": "white",
            "showbackground": true,
            "ticks": "",
            "zerolinecolor": "white"
           }
          },
          "shapedefaults": {
           "line": {
            "color": "#2a3f5f"
           }
          },
          "ternary": {
           "aaxis": {
            "gridcolor": "white",
            "linecolor": "white",
            "ticks": ""
           },
           "baxis": {
            "gridcolor": "white",
            "linecolor": "white",
            "ticks": ""
           },
           "bgcolor": "#E5ECF6",
           "caxis": {
            "gridcolor": "white",
            "linecolor": "white",
            "ticks": ""
           }
          },
          "title": {
           "x": 0.05
          },
          "xaxis": {
           "automargin": true,
           "gridcolor": "white",
           "linecolor": "white",
           "ticks": "",
           "title": {
            "standoff": 15
           },
           "zerolinecolor": "white",
           "zerolinewidth": 2
          },
          "yaxis": {
           "automargin": true,
           "gridcolor": "white",
           "linecolor": "white",
           "ticks": "",
           "title": {
            "standoff": 15
           },
           "zerolinecolor": "white",
           "zerolinewidth": 2
          }
         }
        },
        "title": {
         "text": "Optimization History Plot"
        },
        "xaxis": {
         "title": {
          "text": "Trial"
         }
        },
        "yaxis": {
         "title": {
          "text": "Objective Value"
         }
        }
       }
      }
     },
     "metadata": {},
     "output_type": "display_data"
    }
   ],
   "source": [
    "optuna.visualization.plot_optimization_history(study)"
   ]
  }
 ],
 "metadata": {
  "kernelspec": {
   "display_name": ".venv",
   "language": "python",
   "name": "python3"
  },
  "language_info": {
   "codemirror_mode": {
    "name": "ipython",
    "version": 3
   },
   "file_extension": ".py",
   "mimetype": "text/x-python",
   "name": "python",
   "nbconvert_exporter": "python",
   "pygments_lexer": "ipython3",
   "version": "3.11.8"
  }
 },
 "nbformat": 4,
 "nbformat_minor": 2
}
